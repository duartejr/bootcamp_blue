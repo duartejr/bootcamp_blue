{
 "cells": [
  {
   "cell_type": "markdown",
   "metadata": {},
   "source": [
    "# Modelo: XGBoost com Tf-Idf"
   ]
  },
  {
   "cell_type": "code",
   "execution_count": 1,
   "metadata": {},
   "outputs": [],
   "source": [
    "import pandas as pd\n",
    "import numpy as np\n",
    "from sklearn.feature_extraction.text import TfidfVectorizer\n",
    "from sklearn import metrics\n",
    "from xgboost import XGBRegressor\n",
    "from sklearn.pipeline import Pipeline"
   ]
  },
  {
   "cell_type": "code",
   "execution_count": 2,
   "metadata": {},
   "outputs": [],
   "source": [
    "def calc_metricas(obs, pred):\n",
    "    r2 = metrics.r2_score(obs, pred).round(3)\n",
    "    mape = (100 * metrics.mean_absolute_percentage_error(obs, pred)).round(3)\n",
    "    mae = metrics.mean_absolute_error(obs, pred).round(2)\n",
    "    rmse = (metrics.mean_squared_error(obs, pred)**0.5).round(2)\n",
    "    msle = metrics.mean_squared_log_error(obs, pred).round(3)\n",
    "    \n",
    "    return [r2, mape, mae, rmse, msle]\n",
    "\n",
    "def print_avaliacao(obs, pred):\n",
    "    print('R² = %.3f' % metrics.r2_score(obs, pred))\n",
    "    print('MAPE = %.3f %%' % (100 * metrics.mean_absolute_percentage_error(obs, pred)))\n",
    "    print('MAE = U$S %.2f' % (metrics.mean_absolute_error(obs, pred)))\n",
    "    print('RMSE = U$S %.2f' % metrics.mean_squared_error(obs, pred)**0.5)\n",
    "    print('MSLE = %.3f' % metrics.mean_squared_log_error(obs, pred))\n"
   ]
  },
  {
   "cell_type": "code",
   "execution_count": 3,
   "metadata": {},
   "outputs": [],
   "source": [
    "from nltk.tokenize import word_tokenize\n",
    "from nltk.corpus import stopwords\n",
    "stop_words = set(stopwords.words('english'))\n",
    "\n",
    "\n",
    "def prep_text(text):\n",
    "    try:\n",
    "        tokens = word_tokenize(text)\n",
    "        words = [word.lower() for word in tokens if word.isalpha()]\n",
    "        words = [word for word in words if not word in stop_words]\n",
    "    except:\n",
    "        return None\n",
    "    return ' '.join(words)"
   ]
  },
  {
   "cell_type": "code",
   "execution_count": 4,
   "metadata": {},
   "outputs": [],
   "source": [
    "dados_treino = pd.read_csv('../data/processed/train_data.csv')\n",
    "dados_teste = pd.read_csv('../data/processed/test_data.csv')"
   ]
  },
  {
   "cell_type": "code",
   "execution_count": 5,
   "metadata": {},
   "outputs": [
    {
     "data": {
      "text/html": [
       "<div>\n",
       "<style scoped>\n",
       "    .dataframe tbody tr th:only-of-type {\n",
       "        vertical-align: middle;\n",
       "    }\n",
       "\n",
       "    .dataframe tbody tr th {\n",
       "        vertical-align: top;\n",
       "    }\n",
       "\n",
       "    .dataframe thead th {\n",
       "        text-align: right;\n",
       "    }\n",
       "</style>\n",
       "<table border=\"1\" class=\"dataframe\">\n",
       "  <thead>\n",
       "    <tr style=\"text-align: right;\">\n",
       "      <th></th>\n",
       "      <th>name</th>\n",
       "      <th>category_1</th>\n",
       "      <th>category_2</th>\n",
       "      <th>category_3</th>\n",
       "      <th>item_condition_id</th>\n",
       "      <th>brand_name</th>\n",
       "      <th>price</th>\n",
       "      <th>shipping</th>\n",
       "      <th>item_description</th>\n",
       "      <th>date</th>\n",
       "      <th>stock</th>\n",
       "    </tr>\n",
       "  </thead>\n",
       "  <tbody>\n",
       "    <tr>\n",
       "      <th>0</th>\n",
       "      <td>iphone 6s plus defender case</td>\n",
       "      <td>Electronics</td>\n",
       "      <td>Cell Phones &amp; Accessories</td>\n",
       "      <td>Cases, Covers &amp; Skins</td>\n",
       "      <td>1</td>\n",
       "      <td>No Brand</td>\n",
       "      <td>10.0</td>\n",
       "      <td>1</td>\n",
       "      <td>protective case for the big iphones 6plus or 6...</td>\n",
       "      <td>15-6-2018</td>\n",
       "      <td>2</td>\n",
       "    </tr>\n",
       "    <tr>\n",
       "      <th>1</th>\n",
       "      <td>beautiful rainbow eye iphone plus case</td>\n",
       "      <td>Electronics</td>\n",
       "      <td>Cell Phones &amp; Accessories</td>\n",
       "      <td>Cases, Covers &amp; Skins</td>\n",
       "      <td>1</td>\n",
       "      <td>No Brand</td>\n",
       "      <td>7.0</td>\n",
       "      <td>1</td>\n",
       "      <td>this soft case is brand new and features a bea...</td>\n",
       "      <td>12-12-2018</td>\n",
       "      <td>1</td>\n",
       "    </tr>\n",
       "    <tr>\n",
       "      <th>2</th>\n",
       "      <td>hold under armour women s t shirt bundle</td>\n",
       "      <td>Women</td>\n",
       "      <td>Athletic Apparel</td>\n",
       "      <td>Shirts &amp; Tops</td>\n",
       "      <td>2</td>\n",
       "      <td>Under Armour</td>\n",
       "      <td>20.0</td>\n",
       "      <td>1</td>\n",
       "      <td>women s under armour t shirts with freedom log...</td>\n",
       "      <td>13-5-2018</td>\n",
       "      <td>11</td>\n",
       "    </tr>\n",
       "    <tr>\n",
       "      <th>3</th>\n",
       "      <td>nike shorts bundle</td>\n",
       "      <td>Women</td>\n",
       "      <td>Athletic Apparel</td>\n",
       "      <td>Shorts</td>\n",
       "      <td>3</td>\n",
       "      <td>Nike</td>\n",
       "      <td>18.0</td>\n",
       "      <td>1</td>\n",
       "      <td>no description yet</td>\n",
       "      <td>24-2-2018</td>\n",
       "      <td>4</td>\n",
       "    </tr>\n",
       "    <tr>\n",
       "      <th>4</th>\n",
       "      <td>bare mineral eye shadow lot</td>\n",
       "      <td>Beauty</td>\n",
       "      <td>Makeup</td>\n",
       "      <td>Eyes</td>\n",
       "      <td>3</td>\n",
       "      <td>No Brand</td>\n",
       "      <td>14.0</td>\n",
       "      <td>0</td>\n",
       "      <td>bare mineral eye shadow verity of colors bare ...</td>\n",
       "      <td>29-10-2018</td>\n",
       "      <td>11</td>\n",
       "    </tr>\n",
       "  </tbody>\n",
       "</table>\n",
       "</div>"
      ],
      "text/plain": [
       "                                       name   category_1  \\\n",
       "0              iphone 6s plus defender case  Electronics   \n",
       "1    beautiful rainbow eye iphone plus case  Electronics   \n",
       "2  hold under armour women s t shirt bundle        Women   \n",
       "3                        nike shorts bundle        Women   \n",
       "4               bare mineral eye shadow lot       Beauty   \n",
       "\n",
       "                  category_2             category_3  item_condition_id  \\\n",
       "0  Cell Phones & Accessories  Cases, Covers & Skins                  1   \n",
       "1  Cell Phones & Accessories  Cases, Covers & Skins                  1   \n",
       "2           Athletic Apparel          Shirts & Tops                  2   \n",
       "3           Athletic Apparel                 Shorts                  3   \n",
       "4                     Makeup                   Eyes                  3   \n",
       "\n",
       "     brand_name  price  shipping  \\\n",
       "0      No Brand   10.0         1   \n",
       "1      No Brand    7.0         1   \n",
       "2  Under Armour   20.0         1   \n",
       "3          Nike   18.0         1   \n",
       "4      No Brand   14.0         0   \n",
       "\n",
       "                                    item_description        date  stock  \n",
       "0  protective case for the big iphones 6plus or 6...   15-6-2018      2  \n",
       "1  this soft case is brand new and features a bea...  12-12-2018      1  \n",
       "2  women s under armour t shirts with freedom log...   13-5-2018     11  \n",
       "3                                 no description yet   24-2-2018      4  \n",
       "4  bare mineral eye shadow verity of colors bare ...  29-10-2018     11  "
      ]
     },
     "execution_count": 5,
     "metadata": {},
     "output_type": "execute_result"
    }
   ],
   "source": [
    "dados_treino.head()"
   ]
  },
  {
   "cell_type": "markdown",
   "metadata": {},
   "source": [
    "## Preparação das colunas de texto"
   ]
  },
  {
   "cell_type": "code",
   "execution_count": 6,
   "metadata": {},
   "outputs": [
    {
     "data": {
      "text/plain": [
       "Index(['name', 'category_1', 'category_2', 'category_3', 'item_condition_id',\n",
       "       'brand_name', 'price', 'shipping', 'item_description', 'date', 'stock'],\n",
       "      dtype='object')"
      ]
     },
     "execution_count": 6,
     "metadata": {},
     "output_type": "execute_result"
    }
   ],
   "source": [
    "dados_treino.columns"
   ]
  },
  {
   "cell_type": "code",
   "execution_count": 7,
   "metadata": {},
   "outputs": [],
   "source": [
    "#dados_treino = dados_treino[['category_1', 'name', 'item_description', 'price']]\n",
    "dados_treino.loc[:, 'name'] = dados_treino.apply(lambda x: prep_text(x['name']), axis=1)\n",
    "dados_treino.loc[:, 'item_description'] = dados_treino.apply(lambda x: prep_text(x['item_description']), axis=1)\n",
    "dados_treino['comb_name_description'] = dados_treino['brand_name'] + ' ' + dados_treino['name'] + ' ' + dados_treino['item_description']\n",
    "# dados_treino.dropna(inplace=True)\n",
    "\n",
    "#dados_teste = dados_teste[['category_1', 'name', 'item_description', 'price']]\n",
    "dados_teste.loc[:, 'name'] = dados_teste.apply(lambda x: prep_text(x['name']), axis=1)\n",
    "dados_teste.loc[:, 'item_description'] = dados_teste.apply(lambda x: prep_text(x['item_description']), axis=1)\n",
    "dados_teste['comb_name_description'] = dados_teste['brand_name'] + ' ' + dados_teste['name'] + ' ' + dados_teste['item_description']"
   ]
  },
  {
   "cell_type": "code",
   "execution_count": null,
   "metadata": {},
   "outputs": [],
   "source": [
    "bdpad"
   ]
  },
  {
   "cell_type": "code",
   "execution_count": null,
   "metadata": {},
   "outputs": [],
   "source": [
    "dados_treino.to_csv('dados_treino_xgboost_categorizado.csv', index=False)\n",
    "dados_teste.to_csv('dados_teste_xgboost_categorizado.csv', index=False)"
   ]
  },
  {
   "cell_type": "markdown",
   "metadata": {},
   "source": [
    "## Modelo geral usando comb_name_description"
   ]
  },
  {
   "cell_type": "code",
   "execution_count": null,
   "metadata": {},
   "outputs": [
    {
     "data": {
      "text/plain": [
       "Index(['name', 'category_1', 'category_2', 'category_3', 'item_condition_id',\n",
       "       'brand_name', 'price', 'shipping', 'item_description', 'date', 'stock',\n",
       "       'comb_name_description'],\n",
       "      dtype='object')"
      ]
     },
     "execution_count": 8,
     "metadata": {},
     "output_type": "execute_result"
    }
   ],
   "source": [
    "dados_treino.columns"
   ]
  },
  {
   "cell_type": "code",
   "execution_count": null,
   "metadata": {},
   "outputs": [
    {
     "name": "stderr",
     "output_type": "stream",
     "text": [
      "/tmp/ipykernel_10125/915829046.py:3: SettingWithCopyWarning: \n",
      "A value is trying to be set on a copy of a slice from a DataFrame\n",
      "\n",
      "See the caveats in the documentation: https://pandas.pydata.org/pandas-docs/stable/user_guide/indexing.html#returning-a-view-versus-a-copy\n",
      "  dados_treino1.dropna(inplace=True)\n",
      "/tmp/ipykernel_10125/915829046.py:7: SettingWithCopyWarning: \n",
      "A value is trying to be set on a copy of a slice from a DataFrame\n",
      "\n",
      "See the caveats in the documentation: https://pandas.pydata.org/pandas-docs/stable/user_guide/indexing.html#returning-a-view-versus-a-copy\n",
      "  dados_teste1.dropna(inplace=True)\n"
     ]
    }
   ],
   "source": [
    "dados_treino['col_att'] = dados_treino['category_1'] + '-' + dados_treino['shipping'].astype(str)\n",
    "dados_treino1 = dados_treino[['col_att', 'comb_name_description', 'price']]\n",
    "dados_treino1.dropna(inplace=True)\n",
    "\n",
    "dados_teste['col_att'] = dados_teste['category_1'] + '-' + dados_teste['shipping'].astype(str)\n",
    "dados_teste1 = dados_teste[['col_att', 'comb_name_description', 'price']]\n",
    "dados_teste1.dropna(inplace=True)\n",
    "\n",
    "dados_treino1.to_csv('dados_treino_xgboost_categorizado.csv', index=False)\n",
    "dados_teste1.to_csv('dados_teste_xgboost_categorizado.csv', index=False)"
   ]
  },
  {
   "cell_type": "markdown",
   "metadata": {},
   "source": [
    "## Modelo por categoria usando comb_name_description"
   ]
  },
  {
   "cell_type": "code",
   "execution_count": null,
   "metadata": {},
   "outputs": [],
   "source": [
    "from sklearn.manifold import TSNE\n",
    "from sklearn.decomposition import TruncatedSVD"
   ]
  },
  {
   "cell_type": "code",
   "execution_count": null,
   "metadata": {},
   "outputs": [
    {
     "data": {
      "text/plain": [
       "Women-0                     282493\n",
       "Women-1                     182319\n",
       "Beauty-1                     88344\n",
       "Kids-0                       70941\n",
       "Beauty-0                     56717\n",
       "Electronics-1                50083\n",
       "Kids-1                       49242\n",
       "Men-0                        42963\n",
       "Electronics-0                35764\n",
       "Home-0                       33922\n",
       "Men-1                        22469\n",
       "Vintage & Collectibles-1     18391\n",
       "Other-1                      17077\n",
       "Other-0                      14690\n",
       "Vintage & Collectibles-0     14428\n",
       "Home-1                       13475\n",
       "Handmade-1                   13308\n",
       "Sports & Outdoors-0           9931\n",
       "Handmade-0                    8405\n",
       "Sports & Outdoors-1           7789\n",
       "No category-0                 2778\n",
       "No category-1                 1633\n",
       "Name: col_att, dtype: int64"
      ]
     },
     "execution_count": 11,
     "metadata": {},
     "output_type": "execute_result"
    }
   ],
   "source": [
    "dados_treino.col_att.value_counts()"
   ]
  },
  {
   "cell_type": "code",
   "execution_count": null,
   "metadata": {},
   "outputs": [
    {
     "data": {
      "text/plain": [
       "Women-0                     121327\n",
       "Women-1                      77851\n",
       "Beauty-1                     38313\n",
       "Kids-0                       30407\n",
       "Beauty-0                     24351\n",
       "Electronics-1                21561\n",
       "Kids-1                       20965\n",
       "Men-0                        18489\n",
       "Electronics-0                15224\n",
       "Home-0                       14598\n",
       "Men-1                         9688\n",
       "Vintage & Collectibles-1      7563\n",
       "Other-1                       7220\n",
       "Other-0                       6342\n",
       "Vintage & Collectibles-0      6137\n",
       "Home-1                        5836\n",
       "Handmade-1                    5567\n",
       "Sports & Outdoors-0           4181\n",
       "Handmade-0                    3555\n",
       "Sports & Outdoors-1           3421\n",
       "No category-0                 1233\n",
       "No category-1                  670\n",
       "Name: col_att, dtype: int64"
      ]
     },
     "execution_count": 12,
     "metadata": {},
     "output_type": "execute_result"
    }
   ],
   "source": [
    "dados_teste.col_att.value_counts()"
   ]
  },
  {
   "cell_type": "code",
   "execution_count": null,
   "metadata": {},
   "outputs": [],
   "source": [
    "import pickle\n",
    "\n",
    "for category in dados_treino.col_att.unique():\n",
    "    X_treino = dados_treino1.query(f'col_att == \"{category}\"')['comb_name_description']\n",
    "    tfidf = TfidfVectorizer(min_df=10,\n",
    "                            max_df=0.6,\n",
    "                            ngram_range=(1,2))\n",
    "    X_treino = tfidf.fit_transform(X_treino)\n",
    "    \n",
    "    with open(f'{category}.pickle', 'wb') as handle:\n",
    "        pickle.dump(X_treino, handle, protocol=pickle.HIGHEST_PROTOCOL)"
   ]
  },
  {
   "cell_type": "code",
   "execution_count": null,
   "metadata": {},
   "outputs": [],
   "source": [
    "dados_treino2 = dados_treino1[dados_treino1.price <= dados_treino1.price.std()*3]"
   ]
  },
  {
   "cell_type": "code",
   "execution_count": null,
   "metadata": {},
   "outputs": [],
   "source": [
    "modelos = {}\n",
    "\n",
    "for category in dados_treino1.col_att.unique():\n",
    "    pipe = Pipeline([('tfidf', TfidfVectorizer(min_df = 10, \n",
    "                                               max_df = 0.6, \n",
    "                                               ngram_range = (1, 2))),\n",
    "                     ('xgboost', XGBRegressor(random_state=101,\n",
    "                                              n_jobs=-1,\n",
    "                                              colsample_bytree=0.8487441436989989,\n",
    "                                              eta=0.08552417816041906,\n",
    "                                              grow_policy='lossguide',\n",
    "                                              max_depth=44,\n",
    "                                              n_estimators=111,\n",
    "                                              subsample=0.3430722072083031))\n",
    "                    ])\n",
    "    modelos[category] = pipe\n",
    "    dados_treino2 = dados_treino1.query(f'col_att == \"{category}\"')\n",
    "    dados_treino2 = dados_treino2[dados_treino2.price <= dados_treino2.price.std()*3]\n",
    "    X_treino = dados_treino2['comb_name_description']\n",
    "    y_treino = np.log(dados_treino2['price'])\n",
    "    modelos[category].fit(X_treino, y_treino)\n",
    "    "
   ]
  },
  {
   "cell_type": "code",
   "execution_count": null,
   "metadata": {},
   "outputs": [],
   "source": [
    "with open(f'modelos_s_outliers_categorias.pickle', 'wb') as handle:\n",
    "    pickle.dump(modelos, handle, protocol=pickle.HIGHEST_PROTOCOL)"
   ]
  },
  {
   "cell_type": "markdown",
   "metadata": {},
   "source": [
    "colsample_bytree=0.8487441436989989,\n",
    "                                              eta=0.08552417816041906,\n",
    "                                              grow_policy='lossguide',\n",
    "                                              max_depth=44,\n",
    "                                              n_estimators=111,\n",
    "                                              subsample=0.3430722072083031"
   ]
  },
  {
   "cell_type": "markdown",
   "metadata": {},
   "source": [
    "Tempo de treino: 8m 46.4s"
   ]
  },
  {
   "cell_type": "code",
   "execution_count": null,
   "metadata": {},
   "outputs": [],
   "source": [
    "dados_teste1 = dados_teste1.assign(pred=0)"
   ]
  },
  {
   "cell_type": "code",
   "execution_count": null,
   "metadata": {},
   "outputs": [],
   "source": [
    "for category in dados_teste1.col_att.unique():\n",
    "    index = dados_teste1.query(f'col_att == \"{category}\"').index\n",
    "    dados_teste1.loc[index, 'pred'] = np.exp(modelos[category].predict(dados_teste1.loc[index]['comb_name_description']))\n",
    "\n",
    "dados_teste1.loc[dados_teste1.pred < 3, 'pred'] = 3"
   ]
  },
  {
   "cell_type": "markdown",
   "metadata": {},
   "source": [
    "Tempo previsão: 25.4s"
   ]
  },
  {
   "cell_type": "markdown",
   "metadata": {},
   "source": [
    "Avaliação geral"
   ]
  },
  {
   "cell_type": "code",
   "execution_count": null,
   "metadata": {},
   "outputs": [],
   "source": [
    "dados"
   ]
  },
  {
   "cell_type": "code",
   "execution_count": null,
   "metadata": {},
   "outputs": [
    {
     "name": "stdout",
     "output_type": "stream",
     "text": [
      "R² = 0.230\n",
      "MAPE = 41.676 %\n",
      "MAE = U$S 11.64\n",
      "RMSE = U$S 33.68\n",
      "MSLE = 0.264\n"
     ]
    }
   ],
   "source": [
    "print_avaliacao(dados_teste1['price'], dados_teste1['pred'])"
   ]
  },
  {
   "cell_type": "markdown",
   "metadata": {},
   "source": [
    "com outliers\n",
    "\n",
    "R² = 0.393\n",
    "MAPE = 43.596 %\n",
    "MAE = U$S 11.18\n",
    "RMSE = U$S 29.90\n",
    "MSLE = 0.249\n",
    "\n",
    "sem outliers\n",
    "\n",
    "R² = 0.207\n",
    "MAPE = 41.908 %\n",
    "MAE = U$S 11.71\n",
    "RMSE = U$S 34.17\n",
    "MSLE = 0.265\n",
    "\n",
    "sem outliers categorizado\n",
    "R² = 0.230\n",
    "MAPE = 41.676 %\n",
    "MAE = U$S 11.64\n",
    "RMSE = U$S 33.68\n",
    "MSLE = 0.264\n"
   ]
  },
  {
   "cell_type": "markdown",
   "metadata": {},
   "source": [
    "Avaliação por categoria principal"
   ]
  },
  {
   "cell_type": "code",
   "execution_count": null,
   "metadata": {},
   "outputs": [
    {
     "data": {
      "text/html": [
       "<div>\n",
       "<style scoped>\n",
       "    .dataframe tbody tr th:only-of-type {\n",
       "        vertical-align: middle;\n",
       "    }\n",
       "\n",
       "    .dataframe tbody tr th {\n",
       "        vertical-align: top;\n",
       "    }\n",
       "\n",
       "    .dataframe thead th {\n",
       "        text-align: right;\n",
       "    }\n",
       "</style>\n",
       "<table border=\"1\" class=\"dataframe\">\n",
       "  <thead>\n",
       "    <tr style=\"text-align: right;\">\n",
       "      <th></th>\n",
       "      <th>col_att</th>\n",
       "      <th>comb_name_description</th>\n",
       "      <th>price</th>\n",
       "      <th>pred</th>\n",
       "    </tr>\n",
       "  </thead>\n",
       "  <tbody>\n",
       "    <tr>\n",
       "      <th>0</th>\n",
       "      <td>Women-1</td>\n",
       "      <td>women motorcycle tshirt xl fits like small</td>\n",
       "      <td>6.0</td>\n",
       "      <td>10.485179</td>\n",
       "    </tr>\n",
       "    <tr>\n",
       "      <th>1</th>\n",
       "      <td>Women-1</td>\n",
       "      <td>alex ani necklace path life alex ani necklace ...</td>\n",
       "      <td>11.0</td>\n",
       "      <td>10.809405</td>\n",
       "    </tr>\n",
       "    <tr>\n",
       "      <th>2</th>\n",
       "      <td>Women-0</td>\n",
       "      <td>steve madden red lace heels never worn true si...</td>\n",
       "      <td>36.0</td>\n",
       "      <td>20.733419</td>\n",
       "    </tr>\n",
       "    <tr>\n",
       "      <th>3</th>\n",
       "      <td>Men-0</td>\n",
       "      <td>men black tuxedo worn times single pleated pan...</td>\n",
       "      <td>54.0</td>\n",
       "      <td>19.085636</td>\n",
       "    </tr>\n",
       "    <tr>\n",
       "      <th>5</th>\n",
       "      <td>Vintage &amp; Collectibles-0</td>\n",
       "      <td>badtz maru funko pop never opened nib great op...</td>\n",
       "      <td>25.0</td>\n",
       "      <td>24.169821</td>\n",
       "    </tr>\n",
       "  </tbody>\n",
       "</table>\n",
       "</div>"
      ],
      "text/plain": [
       "                    col_att  \\\n",
       "0                   Women-1   \n",
       "1                   Women-1   \n",
       "2                   Women-0   \n",
       "3                     Men-0   \n",
       "5  Vintage & Collectibles-0   \n",
       "\n",
       "                               comb_name_description  price       pred  \n",
       "0         women motorcycle tshirt xl fits like small    6.0  10.485179  \n",
       "1  alex ani necklace path life alex ani necklace ...   11.0  10.809405  \n",
       "2  steve madden red lace heels never worn true si...   36.0  20.733419  \n",
       "3  men black tuxedo worn times single pleated pan...   54.0  19.085636  \n",
       "5  badtz maru funko pop never opened nib great op...   25.0  24.169821  "
      ]
     },
     "execution_count": 59,
     "metadata": {},
     "output_type": "execute_result"
    }
   ],
   "source": [
    "dados_teste2 = dados_teste1[dados_teste1.price <= dados_teste1.price.std()*3]\n",
    "dados_teste2.head()"
   ]
  },
  {
   "cell_type": "code",
   "execution_count": null,
   "metadata": {},
   "outputs": [
    {
     "data": {
      "text/plain": [
       "<AxesSubplot:ylabel='Frequency'>"
      ]
     },
     "execution_count": 65,
     "metadata": {},
     "output_type": "execute_result"
    },
    {
     "data": {
      "image/png": "[encoded data removed]",
      "text/plain": [
       "<Figure size 432x288 with 1 Axes>"
      ]
     },
     "metadata": {
      "needs_background": "light"
     },
     "output_type": "display_data"
    }
   ],
   "source": [
    "dados_teste1.price.plot(kind='hist')"
   ]
  },
  {
   "cell_type": "code",
   "execution_count": null,
   "metadata": {},
   "outputs": [
    {
     "data": {
      "text/plain": [
       "<AxesSubplot:ylabel='Frequency'>"
      ]
     },
     "execution_count": 64,
     "metadata": {},
     "output_type": "execute_result"
    },
    {
     "data": {
      "image/png": "[encoded data removed]",
      "text/plain": [
       "<Figure size 432x288 with 1 Axes>"
      ]
     },
     "metadata": {
      "needs_background": "light"
     },
     "output_type": "display_data"
    }
   ],
   "source": [
    "dados_teste2.price.plot(kind='hist')"
   ]
  },
  {
   "cell_type": "code",
   "execution_count": null,
   "metadata": {},
   "outputs": [
    {
     "data": {
      "text/plain": [
       "((444499, 13), (434151, 4))"
      ]
     },
     "execution_count": 60,
     "metadata": {},
     "output_type": "execute_result"
    }
   ],
   "source": [
    "dados_teste.shape, dados_teste2.shape"
   ]
  },
  {
   "cell_type": "code",
   "execution_count": null,
   "metadata": {},
   "outputs": [
    {
     "data": {
      "text/html": [
       "<div>\n",
       "<style scoped>\n",
       "    .dataframe tbody tr th:only-of-type {\n",
       "        vertical-align: middle;\n",
       "    }\n",
       "\n",
       "    .dataframe tbody tr th {\n",
       "        vertical-align: top;\n",
       "    }\n",
       "\n",
       "    .dataframe thead th {\n",
       "        text-align: right;\n",
       "    }\n",
       "</style>\n",
       "<table border=\"1\" class=\"dataframe\">\n",
       "  <thead>\n",
       "    <tr style=\"text-align: right;\">\n",
       "      <th></th>\n",
       "      <th>col_att</th>\n",
       "      <th>comb_name_description</th>\n",
       "      <th>price</th>\n",
       "      <th>pred</th>\n",
       "    </tr>\n",
       "  </thead>\n",
       "  <tbody>\n",
       "    <tr>\n",
       "      <th>0</th>\n",
       "      <td>Women-1</td>\n",
       "      <td>women motorcycle tshirt xl fits like small</td>\n",
       "      <td>6.0</td>\n",
       "      <td>0</td>\n",
       "    </tr>\n",
       "    <tr>\n",
       "      <th>1</th>\n",
       "      <td>Women-1</td>\n",
       "      <td>alex ani necklace path life alex ani necklace ...</td>\n",
       "      <td>11.0</td>\n",
       "      <td>0</td>\n",
       "    </tr>\n",
       "    <tr>\n",
       "      <th>2</th>\n",
       "      <td>Women-0</td>\n",
       "      <td>steve madden red lace heels never worn true si...</td>\n",
       "      <td>36.0</td>\n",
       "      <td>0</td>\n",
       "    </tr>\n",
       "    <tr>\n",
       "      <th>3</th>\n",
       "      <td>Men-0</td>\n",
       "      <td>men black tuxedo worn times single pleated pan...</td>\n",
       "      <td>54.0</td>\n",
       "      <td>0</td>\n",
       "    </tr>\n",
       "    <tr>\n",
       "      <th>5</th>\n",
       "      <td>Vintage &amp; Collectibles-0</td>\n",
       "      <td>badtz maru funko pop never opened nib great op...</td>\n",
       "      <td>25.0</td>\n",
       "      <td>0</td>\n",
       "    </tr>\n",
       "  </tbody>\n",
       "</table>\n",
       "</div>"
      ],
      "text/plain": [
       "                    col_att  \\\n",
       "0                   Women-1   \n",
       "1                   Women-1   \n",
       "2                   Women-0   \n",
       "3                     Men-0   \n",
       "5  Vintage & Collectibles-0   \n",
       "\n",
       "                               comb_name_description  price  pred  \n",
       "0         women motorcycle tshirt xl fits like small    6.0     0  \n",
       "1  alex ani necklace path life alex ani necklace ...   11.0     0  \n",
       "2  steve madden red lace heels never worn true si...   36.0     0  \n",
       "3  men black tuxedo worn times single pleated pan...   54.0     0  \n",
       "5  badtz maru funko pop never opened nib great op...   25.0     0  "
      ]
     },
     "execution_count": 61,
     "metadata": {},
     "output_type": "execute_result"
    }
   ],
   "source": [
    "dados_teste2 = dados_teste2.assign(pred=0)\n",
    "dados_teste2.head()"
   ]
  },
  {
   "cell_type": "code",
   "execution_count": null,
   "metadata": {},
   "outputs": [],
   "source": [
    "for category in dados_teste2.col_att.unique():\n",
    "    index = dados_teste2.query(f'col_att == \"{category}\"').index\n",
    "    dados_teste2.loc[index, 'pred'] = np.exp(modelos[category].predict(dados_teste2.loc[index]['comb_name_description']))\n",
    "\n",
    "dados_teste2.loc[dados_teste2.pred < 3, 'pred'] = 3"
   ]
  },
  {
   "cell_type": "code",
   "execution_count": null,
   "metadata": {},
   "outputs": [
    {
     "name": "stdout",
     "output_type": "stream",
     "text": [
      "R² = 0.424\n",
      "MAPE = 41.025 %\n",
      "MAE = U$S 8.40\n",
      "RMSE = U$S 13.88\n",
      "MSLE = 0.215\n"
     ]
    }
   ],
   "source": [
    "print_avaliacao(dados_teste2['price'], dados_teste2['pred'])"
   ]
  },
  {
   "cell_type": "markdown",
   "metadata": {},
   "source": [
    "sem outliers\n",
    "\n",
    "R² = 0.439\n",
    "MAPE = 41.211 %\n",
    "MAE = U$S 8.36\n",
    "RMSE = U$S 13.70\n",
    "MSLE = 0.213\n",
    "\n",
    "sem ouliers categorizados\n",
    "\n",
    "R² = 0.424\n",
    "MAPE = 41.025 %\n",
    "MAE = U$S 8.40\n",
    "RMSE = U$S 13.88\n",
    "MSLE = 0.215"
   ]
  },
  {
   "cell_type": "code",
   "execution_count": null,
   "metadata": {},
   "outputs": [
    {
     "ename": "AttributeError",
     "evalue": "'DataFrame' object has no attribute 'category_1'",
     "output_type": "error",
     "traceback": [
      "\u001b[0;31m---------------------------------------------------------------------------\u001b[0m",
      "\u001b[0;31mAttributeError\u001b[0m                            Traceback (most recent call last)",
      "\u001b[1;32m/home/duartejunior/bootcamp/notebooks/modelo_tfidf-xgboost_otimizacao.ipynb Cell 28\u001b[0m in \u001b[0;36m<cell line: 3>\u001b[0;34m()\u001b[0m\n\u001b[1;32m      <a href='vscode-notebook-cell:/home/duartejunior/bootcamp/notebooks/modelo_tfidf-xgboost_otimizacao.ipynb#X36sZmlsZQ%3D%3D?line=0'>1</a>\u001b[0m avaliacoes \u001b[39m=\u001b[39m {}\n\u001b[0;32m----> <a href='vscode-notebook-cell:/home/duartejunior/bootcamp/notebooks/modelo_tfidf-xgboost_otimizacao.ipynb#X36sZmlsZQ%3D%3D?line=2'>3</a>\u001b[0m \u001b[39mfor\u001b[39;00m categoria \u001b[39min\u001b[39;00m dados_teste1\u001b[39m.\u001b[39;49mcategory_1\u001b[39m.\u001b[39munique():\n\u001b[1;32m      <a href='vscode-notebook-cell:/home/duartejunior/bootcamp/notebooks/modelo_tfidf-xgboost_otimizacao.ipynb#X36sZmlsZQ%3D%3D?line=3'>4</a>\u001b[0m     dados_cat \u001b[39m=\u001b[39m dados_teste1\u001b[39m.\u001b[39mquery(\u001b[39mf\u001b[39m\u001b[39m'\u001b[39m\u001b[39mcategory_1 == \u001b[39m\u001b[39m\"\u001b[39m\u001b[39m{\u001b[39;00mcategoria\u001b[39m}\u001b[39;00m\u001b[39m\"\u001b[39m\u001b[39m'\u001b[39m)\n\u001b[1;32m      <a href='vscode-notebook-cell:/home/duartejunior/bootcamp/notebooks/modelo_tfidf-xgboost_otimizacao.ipynb#X36sZmlsZQ%3D%3D?line=4'>5</a>\u001b[0m     avaliacoes[categoria] \u001b[39m=\u001b[39m calc_metricas(dados_cat[\u001b[39m'\u001b[39m\u001b[39mprice\u001b[39m\u001b[39m'\u001b[39m], dados_cat[\u001b[39m'\u001b[39m\u001b[39mpred\u001b[39m\u001b[39m'\u001b[39m])\n",
      "File \u001b[0;32m~/anaconda3/lib/python3.9/site-packages/pandas/core/generic.py:5575\u001b[0m, in \u001b[0;36mNDFrame.__getattr__\u001b[0;34m(self, name)\u001b[0m\n\u001b[1;32m   5568\u001b[0m \u001b[39mif\u001b[39;00m (\n\u001b[1;32m   5569\u001b[0m     name \u001b[39mnot\u001b[39;00m \u001b[39min\u001b[39;00m \u001b[39mself\u001b[39m\u001b[39m.\u001b[39m_internal_names_set\n\u001b[1;32m   5570\u001b[0m     \u001b[39mand\u001b[39;00m name \u001b[39mnot\u001b[39;00m \u001b[39min\u001b[39;00m \u001b[39mself\u001b[39m\u001b[39m.\u001b[39m_metadata\n\u001b[1;32m   5571\u001b[0m     \u001b[39mand\u001b[39;00m name \u001b[39mnot\u001b[39;00m \u001b[39min\u001b[39;00m \u001b[39mself\u001b[39m\u001b[39m.\u001b[39m_accessors\n\u001b[1;32m   5572\u001b[0m     \u001b[39mand\u001b[39;00m \u001b[39mself\u001b[39m\u001b[39m.\u001b[39m_info_axis\u001b[39m.\u001b[39m_can_hold_identifiers_and_holds_name(name)\n\u001b[1;32m   5573\u001b[0m ):\n\u001b[1;32m   5574\u001b[0m     \u001b[39mreturn\u001b[39;00m \u001b[39mself\u001b[39m[name]\n\u001b[0;32m-> 5575\u001b[0m \u001b[39mreturn\u001b[39;00m \u001b[39mobject\u001b[39;49m\u001b[39m.\u001b[39;49m\u001b[39m__getattribute__\u001b[39;49m(\u001b[39mself\u001b[39;49m, name)\n",
      "\u001b[0;31mAttributeError\u001b[0m: 'DataFrame' object has no attribute 'category_1'"
     ]
    }
   ],
   "source": [
    "avaliacoes = {}\n",
    "\n",
    "for categoria in dados_teste1.category_1.unique():\n",
    "    dados_cat = dados_teste1.query(f'category_1 == \"{categoria}\"')\n",
    "    avaliacoes[categoria] = calc_metricas(dados_cat['price'], dados_cat['pred'])\n",
    "\n",
    "avaliacoes = pd.DataFrame(avaliacoes, index=['R²', 'MAPE', 'MAE', 'RMSE', 'MSLE'])\n",
    "\n",
    "avaliacoes"
   ]
  },
  {
   "cell_type": "code",
   "execution_count": null,
   "metadata": {},
   "outputs": [],
   "source": []
  }
 ],
 "metadata": {
  "kernelspec": {
   "display_name": "Python 3.9.12 ('base')",
   "language": "python",
   "name": "python3"
  },
  "language_info": {
   "codemirror_mode": {
    "name": "ipython",
    "version": 3
   },
   "file_extension": ".py",
   "mimetype": "text/x-python",
   "name": "python",
   "nbconvert_exporter": "python",
   "pygments_lexer": "ipython3",
   "version": "3.9.12"
  },
  "orig_nbformat": 4,
  "vscode": {
   "interpreter": {
    "hash": "7832355663de3739c43a670b9e0e66b306696971f3c515f01e5590b4e36bbdc6"
   }
  }
 },
 "nbformat": 4,
 "nbformat_minor": 2
}
