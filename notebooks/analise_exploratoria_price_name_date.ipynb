{
 "cells": [
  {
   "cell_type": "markdown",
   "metadata": {},
   "source": [
    "# Análise exploratória\n",
    "# Variáveis avaliadas: preço, name e date"
   ]
  },
  {
   "cell_type": "code",
   "execution_count": 1,
   "metadata": {},
   "outputs": [],
   "source": [
    "import pandas as pd\n",
    "\n",
    "dados = pd.read_csv('../data/processed/train_data_prep02.csv')\n"
   ]
  },
  {
   "cell_type": "code",
   "execution_count": 2,
   "metadata": {},
   "outputs": [
    {
     "data": {
      "text/html": [
       "<div>\n",
       "<style scoped>\n",
       "    .dataframe tbody tr th:only-of-type {\n",
       "        vertical-align: middle;\n",
       "    }\n",
       "\n",
       "    .dataframe tbody tr th {\n",
       "        vertical-align: top;\n",
       "    }\n",
       "\n",
       "    .dataframe thead th {\n",
       "        text-align: right;\n",
       "    }\n",
       "</style>\n",
       "<table border=\"1\" class=\"dataframe\">\n",
       "  <thead>\n",
       "    <tr style=\"text-align: right;\">\n",
       "      <th></th>\n",
       "      <th>name</th>\n",
       "      <th>category_1</th>\n",
       "      <th>category_2</th>\n",
       "      <th>category_3</th>\n",
       "      <th>item_condition_id</th>\n",
       "      <th>brand_name</th>\n",
       "      <th>price</th>\n",
       "      <th>shipping</th>\n",
       "      <th>date</th>\n",
       "      <th>stock</th>\n",
       "      <th>item_description</th>\n",
       "    </tr>\n",
       "  </thead>\n",
       "  <tbody>\n",
       "    <tr>\n",
       "      <th>0</th>\n",
       "      <td>mlb cincinnati reds t shirt size xl</td>\n",
       "      <td>Men</td>\n",
       "      <td>Tops</td>\n",
       "      <td>T-shirts</td>\n",
       "      <td>3</td>\n",
       "      <td>No Brand</td>\n",
       "      <td>10.0</td>\n",
       "      <td>1</td>\n",
       "      <td>18-6-2018</td>\n",
       "      <td>27</td>\n",
       "      <td>no description yet</td>\n",
       "    </tr>\n",
       "    <tr>\n",
       "      <th>1</th>\n",
       "      <td>razer blackwidow chroma keyboard</td>\n",
       "      <td>Electronics</td>\n",
       "      <td>Computers &amp; Tablets</td>\n",
       "      <td>Components &amp; Parts</td>\n",
       "      <td>3</td>\n",
       "      <td>Razer</td>\n",
       "      <td>52.0</td>\n",
       "      <td>0</td>\n",
       "      <td>18-3-2018</td>\n",
       "      <td>15</td>\n",
       "      <td>this keyboard is in great condition and works ...</td>\n",
       "    </tr>\n",
       "    <tr>\n",
       "      <th>2</th>\n",
       "      <td>ava viv blouse</td>\n",
       "      <td>Women</td>\n",
       "      <td>Tops &amp; Blouses</td>\n",
       "      <td>Blouse</td>\n",
       "      <td>1</td>\n",
       "      <td>Target</td>\n",
       "      <td>10.0</td>\n",
       "      <td>1</td>\n",
       "      <td>26-10-2018</td>\n",
       "      <td>14</td>\n",
       "      <td>adorable top with a hint of lace and a key hol...</td>\n",
       "    </tr>\n",
       "    <tr>\n",
       "      <th>3</th>\n",
       "      <td>leather horse statues</td>\n",
       "      <td>Home</td>\n",
       "      <td>Home Décor</td>\n",
       "      <td>Home Décor Accents</td>\n",
       "      <td>1</td>\n",
       "      <td>No Brand</td>\n",
       "      <td>35.0</td>\n",
       "      <td>1</td>\n",
       "      <td>21-2-2018</td>\n",
       "      <td>1</td>\n",
       "      <td>new with tags leather horses retail for each s...</td>\n",
       "    </tr>\n",
       "    <tr>\n",
       "      <th>4</th>\n",
       "      <td>24k gold plated rose</td>\n",
       "      <td>Women</td>\n",
       "      <td>Jewelry</td>\n",
       "      <td>Necklaces</td>\n",
       "      <td>1</td>\n",
       "      <td>No Brand</td>\n",
       "      <td>44.0</td>\n",
       "      <td>0</td>\n",
       "      <td>17-4-2018</td>\n",
       "      <td>13</td>\n",
       "      <td>complete with certificate of authenticity</td>\n",
       "    </tr>\n",
       "  </tbody>\n",
       "</table>\n",
       "</div>"
      ],
      "text/plain": [
       "                                  name   category_1           category_2  \\\n",
       "0  mlb cincinnati reds t shirt size xl          Men                 Tops   \n",
       "1     razer blackwidow chroma keyboard  Electronics  Computers & Tablets   \n",
       "2                       ava viv blouse        Women       Tops & Blouses   \n",
       "3                leather horse statues         Home           Home Décor   \n",
       "4                 24k gold plated rose        Women              Jewelry   \n",
       "\n",
       "           category_3  item_condition_id brand_name  price  shipping  \\\n",
       "0            T-shirts                  3   No Brand   10.0         1   \n",
       "1  Components & Parts                  3      Razer   52.0         0   \n",
       "2              Blouse                  1     Target   10.0         1   \n",
       "3  Home Décor Accents                  1   No Brand   35.0         1   \n",
       "4           Necklaces                  1   No Brand   44.0         0   \n",
       "\n",
       "         date  stock                                   item_description  \n",
       "0   18-6-2018     27                                 no description yet  \n",
       "1   18-3-2018     15  this keyboard is in great condition and works ...  \n",
       "2  26-10-2018     14  adorable top with a hint of lace and a key hol...  \n",
       "3   21-2-2018      1  new with tags leather horses retail for each s...  \n",
       "4   17-4-2018     13          complete with certificate of authenticity  "
      ]
     },
     "execution_count": 2,
     "metadata": {},
     "output_type": "execute_result"
    }
   ],
   "source": [
    "dados.head()"
   ]
  },
  {
   "cell_type": "markdown",
   "metadata": {},
   "source": [
    "Análise da coluna `nome`"
   ]
  },
  {
   "cell_type": "code",
   "execution_count": 3,
   "metadata": {},
   "outputs": [
    {
     "name": "stdout",
     "output_type": "stream",
     "text": [
      "Quantidade de registros do dataset:  1481661\n",
      "Quantidade de itens únicos:  1081584\n",
      "Porcentagem de itens únicos em relação ao total de registros:  72.99807445832751 %\n"
     ]
    }
   ],
   "source": [
    "qtd_itens_unicos = dados.name.nunique()\n",
    "qtd_registros = len(dados)\n",
    "porcetagem_registros_unicos = 100 * qtd_itens_unicos / qtd_registros\n",
    "\n",
    "print('Quantidade de registros do dataset: ', qtd_registros)\n",
    "print('Quantidade de itens únicos: ', qtd_itens_unicos)\n",
    "print('Porcentagem de itens únicos em relação ao total de registros: ', porcetagem_registros_unicos, '%')"
   ]
  },
  {
   "cell_type": "markdown",
   "metadata": {},
   "source": [
    "Top 10 itens que mais aparecem no dataset"
   ]
  },
  {
   "cell_type": "code",
   "execution_count": 4,
   "metadata": {},
   "outputs": [
    {
     "data": {
      "text/plain": [
       "bundle                  3455\n",
       "lularoe tc leggings     1146\n",
       "reserved                 942\n",
       "lularoe os leggings      913\n",
       "miss me jeans            755\n",
       "on hold                  737\n",
       "coach purse              715\n",
       "american eagle jeans     692\n",
       "michael kors purse       569\n",
       "converse                 496\n",
       "Name: name, dtype: int64"
      ]
     },
     "execution_count": 4,
     "metadata": {},
     "output_type": "execute_result"
    }
   ],
   "source": [
    "dados.name.value_counts().head(10)"
   ]
  },
  {
   "cell_type": "markdown",
   "metadata": {},
   "source": [
    "Overview do produto mais comum do dataset `bundle`"
   ]
  },
  {
   "cell_type": "code",
   "execution_count": 5,
   "metadata": {},
   "outputs": [
    {
     "data": {
      "text/html": [
       "<div>\n",
       "<style scoped>\n",
       "    .dataframe tbody tr th:only-of-type {\n",
       "        vertical-align: middle;\n",
       "    }\n",
       "\n",
       "    .dataframe tbody tr th {\n",
       "        vertical-align: top;\n",
       "    }\n",
       "\n",
       "    .dataframe thead th {\n",
       "        text-align: right;\n",
       "    }\n",
       "</style>\n",
       "<table border=\"1\" class=\"dataframe\">\n",
       "  <thead>\n",
       "    <tr style=\"text-align: right;\">\n",
       "      <th></th>\n",
       "      <th>name</th>\n",
       "      <th>category_1</th>\n",
       "      <th>category_2</th>\n",
       "      <th>category_3</th>\n",
       "      <th>item_condition_id</th>\n",
       "      <th>brand_name</th>\n",
       "      <th>price</th>\n",
       "      <th>shipping</th>\n",
       "      <th>date</th>\n",
       "      <th>stock</th>\n",
       "      <th>item_description</th>\n",
       "    </tr>\n",
       "  </thead>\n",
       "  <tbody>\n",
       "    <tr>\n",
       "      <th>122</th>\n",
       "      <td>bundle</td>\n",
       "      <td>No category</td>\n",
       "      <td>No category</td>\n",
       "      <td>No category</td>\n",
       "      <td>3</td>\n",
       "      <td>No Brand</td>\n",
       "      <td>59.0</td>\n",
       "      <td>0</td>\n",
       "      <td>27-9-2018</td>\n",
       "      <td>25</td>\n",
       "      <td>sizes and info of clothes can be found on thei...</td>\n",
       "    </tr>\n",
       "    <tr>\n",
       "      <th>290</th>\n",
       "      <td>bundle</td>\n",
       "      <td>Other</td>\n",
       "      <td>Other</td>\n",
       "      <td>Other</td>\n",
       "      <td>1</td>\n",
       "      <td>No Brand</td>\n",
       "      <td>81.0</td>\n",
       "      <td>0</td>\n",
       "      <td>2-9-2018</td>\n",
       "      <td>8</td>\n",
       "      <td>discounted price</td>\n",
       "    </tr>\n",
       "    <tr>\n",
       "      <th>932</th>\n",
       "      <td>bundle</td>\n",
       "      <td>Women</td>\n",
       "      <td>Sweaters</td>\n",
       "      <td>Poncho</td>\n",
       "      <td>1</td>\n",
       "      <td>No Brand</td>\n",
       "      <td>26.0</td>\n",
       "      <td>0</td>\n",
       "      <td>7-5-2018</td>\n",
       "      <td>13</td>\n",
       "      <td>1pc oversize turtle neck plaid poncho cape 1pc...</td>\n",
       "    </tr>\n",
       "    <tr>\n",
       "      <th>1053</th>\n",
       "      <td>bundle</td>\n",
       "      <td>Electronics</td>\n",
       "      <td>Video Games &amp; Consoles</td>\n",
       "      <td>Games</td>\n",
       "      <td>3</td>\n",
       "      <td>Nintendo</td>\n",
       "      <td>22.0</td>\n",
       "      <td>1</td>\n",
       "      <td>24-1-2018</td>\n",
       "      <td>24</td>\n",
       "      <td>minor play scratches played with condition thanks</td>\n",
       "    </tr>\n",
       "    <tr>\n",
       "      <th>2157</th>\n",
       "      <td>bundle</td>\n",
       "      <td>Women</td>\n",
       "      <td>Skirts</td>\n",
       "      <td>Straight, Pencil</td>\n",
       "      <td>2</td>\n",
       "      <td>No Brand</td>\n",
       "      <td>36.0</td>\n",
       "      <td>1</td>\n",
       "      <td>1-4-2018</td>\n",
       "      <td>21</td>\n",
       "      <td>no description yet</td>\n",
       "    </tr>\n",
       "    <tr>\n",
       "      <th>...</th>\n",
       "      <td>...</td>\n",
       "      <td>...</td>\n",
       "      <td>...</td>\n",
       "      <td>...</td>\n",
       "      <td>...</td>\n",
       "      <td>...</td>\n",
       "      <td>...</td>\n",
       "      <td>...</td>\n",
       "      <td>...</td>\n",
       "      <td>...</td>\n",
       "      <td>...</td>\n",
       "    </tr>\n",
       "    <tr>\n",
       "      <th>1479996</th>\n",
       "      <td>bundle</td>\n",
       "      <td>Women</td>\n",
       "      <td>Swimwear</td>\n",
       "      <td>Two-Piece</td>\n",
       "      <td>2</td>\n",
       "      <td>No Brand</td>\n",
       "      <td>55.0</td>\n",
       "      <td>1</td>\n",
       "      <td>10-8-2018</td>\n",
       "      <td>41</td>\n",
       "      <td>this necklace is stunning in person it has a n...</td>\n",
       "    </tr>\n",
       "    <tr>\n",
       "      <th>1480466</th>\n",
       "      <td>bundle</td>\n",
       "      <td>Women</td>\n",
       "      <td>Dresses</td>\n",
       "      <td>Knee-Length</td>\n",
       "      <td>3</td>\n",
       "      <td>No Brand</td>\n",
       "      <td>59.0</td>\n",
       "      <td>0</td>\n",
       "      <td>3-12-2018</td>\n",
       "      <td>11</td>\n",
       "      <td>months this has a quilted teddy bear on front</td>\n",
       "    </tr>\n",
       "    <tr>\n",
       "      <th>1481519</th>\n",
       "      <td>bundle</td>\n",
       "      <td>Women</td>\n",
       "      <td>Jewelry</td>\n",
       "      <td>Necklaces</td>\n",
       "      <td>1</td>\n",
       "      <td>No Brand</td>\n",
       "      <td>8.0</td>\n",
       "      <td>0</td>\n",
       "      <td>30-5-2018</td>\n",
       "      <td>1</td>\n",
       "      <td>NaN</td>\n",
       "    </tr>\n",
       "    <tr>\n",
       "      <th>1481584</th>\n",
       "      <td>bundle</td>\n",
       "      <td>Women</td>\n",
       "      <td>Dresses</td>\n",
       "      <td>Above Knee, Mini</td>\n",
       "      <td>3</td>\n",
       "      <td>No Brand</td>\n",
       "      <td>11.0</td>\n",
       "      <td>1</td>\n",
       "      <td>5-9-2018</td>\n",
       "      <td>37</td>\n",
       "      <td>NaN</td>\n",
       "    </tr>\n",
       "    <tr>\n",
       "      <th>1481629</th>\n",
       "      <td>bundle</td>\n",
       "      <td>Women</td>\n",
       "      <td>Jeans</td>\n",
       "      <td>Slim, Skinny</td>\n",
       "      <td>2</td>\n",
       "      <td>Abercrombie &amp; Fitch</td>\n",
       "      <td>19.0</td>\n",
       "      <td>0</td>\n",
       "      <td>5-10-2018</td>\n",
       "      <td>5</td>\n",
       "      <td>NaN</td>\n",
       "    </tr>\n",
       "  </tbody>\n",
       "</table>\n",
       "<p>3455 rows × 11 columns</p>\n",
       "</div>"
      ],
      "text/plain": [
       "           name   category_1              category_2        category_3  \\\n",
       "122      bundle  No category             No category       No category   \n",
       "290      bundle        Other                   Other             Other   \n",
       "932      bundle        Women                Sweaters            Poncho   \n",
       "1053     bundle  Electronics  Video Games & Consoles             Games   \n",
       "2157     bundle        Women                  Skirts  Straight, Pencil   \n",
       "...         ...          ...                     ...               ...   \n",
       "1479996  bundle        Women                Swimwear         Two-Piece   \n",
       "1480466  bundle        Women                 Dresses       Knee-Length   \n",
       "1481519  bundle        Women                 Jewelry         Necklaces   \n",
       "1481584  bundle        Women                 Dresses  Above Knee, Mini   \n",
       "1481629  bundle        Women                   Jeans      Slim, Skinny   \n",
       "\n",
       "         item_condition_id           brand_name  price  shipping       date  \\\n",
       "122                      3             No Brand   59.0         0  27-9-2018   \n",
       "290                      1             No Brand   81.0         0   2-9-2018   \n",
       "932                      1             No Brand   26.0         0   7-5-2018   \n",
       "1053                     3             Nintendo   22.0         1  24-1-2018   \n",
       "2157                     2             No Brand   36.0         1   1-4-2018   \n",
       "...                    ...                  ...    ...       ...        ...   \n",
       "1479996                  2             No Brand   55.0         1  10-8-2018   \n",
       "1480466                  3             No Brand   59.0         0  3-12-2018   \n",
       "1481519                  1             No Brand    8.0         0  30-5-2018   \n",
       "1481584                  3             No Brand   11.0         1   5-9-2018   \n",
       "1481629                  2  Abercrombie & Fitch   19.0         0  5-10-2018   \n",
       "\n",
       "         stock                                   item_description  \n",
       "122         25  sizes and info of clothes can be found on thei...  \n",
       "290          8                                   discounted price  \n",
       "932         13  1pc oversize turtle neck plaid poncho cape 1pc...  \n",
       "1053        24  minor play scratches played with condition thanks  \n",
       "2157        21                                 no description yet  \n",
       "...        ...                                                ...  \n",
       "1479996     41  this necklace is stunning in person it has a n...  \n",
       "1480466     11      months this has a quilted teddy bear on front  \n",
       "1481519      1                                                NaN  \n",
       "1481584     37                                                NaN  \n",
       "1481629      5                                                NaN  \n",
       "\n",
       "[3455 rows x 11 columns]"
      ]
     },
     "execution_count": 5,
     "metadata": {},
     "output_type": "execute_result"
    }
   ],
   "source": [
    "dados.query('name == \"bundle\"')"
   ]
  },
  {
   "cell_type": "markdown",
   "metadata": {},
   "source": [
    "Análise das colunas de categorias"
   ]
  },
  {
   "cell_type": "markdown",
   "metadata": {},
   "source": [
    "Frequências das categorias principais dos produtos."
   ]
  },
  {
   "cell_type": "code",
   "execution_count": 6,
   "metadata": {},
   "outputs": [
    {
     "data": {
      "text/plain": [
       "Women                     0.448139\n",
       "Beauty                    0.140197\n",
       "Kids                      0.115786\n",
       "Electronics               0.082767\n",
       "Men                       0.063178\n",
       "Home                      0.045780\n",
       "Vintage & Collectibles    0.031397\n",
       "Other                     0.030593\n",
       "Handmade                  0.020811\n",
       "Sports & Outdoors         0.017090\n",
       "No category               0.004261\n",
       "Name: category_1, dtype: float64"
      ]
     },
     "execution_count": 6,
     "metadata": {},
     "output_type": "execute_result"
    }
   ],
   "source": [
    "dados.category_1.value_counts(normalize=True)"
   ]
  },
  {
   "cell_type": "markdown",
   "metadata": {},
   "source": [
    "Quantidade de categorias únicas na primeira sub-categoria dos anúncios."
   ]
  },
  {
   "cell_type": "code",
   "execution_count": 7,
   "metadata": {},
   "outputs": [
    {
     "data": {
      "text/plain": [
       "114"
      ]
     },
     "execution_count": 7,
     "metadata": {},
     "output_type": "execute_result"
    }
   ],
   "source": [
    "dados.category_2.nunique()"
   ]
  },
  {
   "cell_type": "markdown",
   "metadata": {},
   "source": [
    "Frequência das 10 principais categorias em `category_2`"
   ]
  },
  {
   "cell_type": "code",
   "execution_count": 8,
   "metadata": {},
   "outputs": [
    {
     "data": {
      "text/plain": [
       "Athletic Apparel             0.090656\n",
       "Makeup                       0.084073\n",
       "Tops & Blouses               0.072143\n",
       "Shoes                        0.067751\n",
       "Jewelry                      0.041663\n",
       "Toys                         0.039223\n",
       "Cell Phones & Accessories    0.035955\n",
       "Women's Handbags             0.030930\n",
       "Dresses                      0.030864\n",
       "Women's Accessories          0.028567\n",
       "Name: category_2, dtype: float64"
      ]
     },
     "execution_count": 8,
     "metadata": {},
     "output_type": "execute_result"
    }
   ],
   "source": [
    "dados.category_2.value_counts(normalize=True).head(10)"
   ]
  },
  {
   "cell_type": "markdown",
   "metadata": {},
   "source": [
    "Quantidade de categorias em `category_3`"
   ]
  },
  {
   "cell_type": "code",
   "execution_count": 9,
   "metadata": {},
   "outputs": [
    {
     "data": {
      "text/plain": [
       "871"
      ]
     },
     "execution_count": 9,
     "metadata": {},
     "output_type": "execute_result"
    }
   ],
   "source": [
    "dados.category_3.nunique()"
   ]
  },
  {
   "cell_type": "markdown",
   "metadata": {},
   "source": [
    "Frequência das 10 categorias mais frequentes em `category_3`"
   ]
  },
  {
   "cell_type": "code",
   "execution_count": 10,
   "metadata": {},
   "outputs": [
    {
     "data": {
      "text/plain": [
       "Pants, Tights, Leggings    0.040598\n",
       "Other                      0.033880\n",
       "Face                       0.033844\n",
       "T-Shirts                   0.031282\n",
       "Shoes                      0.021691\n",
       "Games                      0.020851\n",
       "Lips                       0.020829\n",
       "Athletic                   0.018248\n",
       "Eyes                       0.017562\n",
       "Cases, Covers & Skins      0.016649\n",
       "Name: category_3, dtype: float64"
      ]
     },
     "execution_count": 10,
     "metadata": {},
     "output_type": "execute_result"
    }
   ],
   "source": [
    "dados.category_3.value_counts(normalize=True).head(10)"
   ]
  },
  {
   "cell_type": "markdown",
   "metadata": {},
   "source": [
    "Descrição dos preços dos produtos de acordo com a `category_1`"
   ]
  },
  {
   "cell_type": "code",
   "execution_count": 11,
   "metadata": {},
   "outputs": [
    {
     "data": {
      "text/html": [
       "<div>\n",
       "<style scoped>\n",
       "    .dataframe tbody tr th:only-of-type {\n",
       "        vertical-align: middle;\n",
       "    }\n",
       "\n",
       "    .dataframe tbody tr th {\n",
       "        vertical-align: top;\n",
       "    }\n",
       "\n",
       "    .dataframe thead th {\n",
       "        text-align: right;\n",
       "    }\n",
       "</style>\n",
       "<table border=\"1\" class=\"dataframe\">\n",
       "  <thead>\n",
       "    <tr style=\"text-align: right;\">\n",
       "      <th></th>\n",
       "      <th>count</th>\n",
       "      <th>mean</th>\n",
       "      <th>std</th>\n",
       "      <th>min</th>\n",
       "      <th>25%</th>\n",
       "      <th>50%</th>\n",
       "      <th>75%</th>\n",
       "      <th>max</th>\n",
       "    </tr>\n",
       "    <tr>\n",
       "      <th>category_1</th>\n",
       "      <th></th>\n",
       "      <th></th>\n",
       "      <th></th>\n",
       "      <th></th>\n",
       "      <th></th>\n",
       "      <th></th>\n",
       "      <th></th>\n",
       "      <th></th>\n",
       "    </tr>\n",
       "  </thead>\n",
       "  <tbody>\n",
       "    <tr>\n",
       "      <th>Beauty</th>\n",
       "      <td>207725.0</td>\n",
       "      <td>19.681290</td>\n",
       "      <td>21.360937</td>\n",
       "      <td>3.0</td>\n",
       "      <td>10.0</td>\n",
       "      <td>15.0</td>\n",
       "      <td>24.0</td>\n",
       "      <td>2000.0</td>\n",
       "    </tr>\n",
       "    <tr>\n",
       "      <th>Electronics</th>\n",
       "      <td>122632.0</td>\n",
       "      <td>35.190558</td>\n",
       "      <td>65.430780</td>\n",
       "      <td>3.0</td>\n",
       "      <td>9.0</td>\n",
       "      <td>15.0</td>\n",
       "      <td>31.0</td>\n",
       "      <td>1909.0</td>\n",
       "    </tr>\n",
       "    <tr>\n",
       "      <th>Handmade</th>\n",
       "      <td>30835.0</td>\n",
       "      <td>18.160694</td>\n",
       "      <td>27.760091</td>\n",
       "      <td>3.0</td>\n",
       "      <td>6.0</td>\n",
       "      <td>12.0</td>\n",
       "      <td>20.0</td>\n",
       "      <td>1750.0</td>\n",
       "    </tr>\n",
       "    <tr>\n",
       "      <th>Home</th>\n",
       "      <td>67831.0</td>\n",
       "      <td>24.551068</td>\n",
       "      <td>24.416986</td>\n",
       "      <td>3.0</td>\n",
       "      <td>12.0</td>\n",
       "      <td>18.0</td>\n",
       "      <td>29.0</td>\n",
       "      <td>848.0</td>\n",
       "    </tr>\n",
       "    <tr>\n",
       "      <th>Kids</th>\n",
       "      <td>171555.0</td>\n",
       "      <td>20.658439</td>\n",
       "      <td>22.732427</td>\n",
       "      <td>3.0</td>\n",
       "      <td>10.0</td>\n",
       "      <td>14.0</td>\n",
       "      <td>24.0</td>\n",
       "      <td>809.0</td>\n",
       "    </tr>\n",
       "    <tr>\n",
       "      <th>Men</th>\n",
       "      <td>93609.0</td>\n",
       "      <td>34.734940</td>\n",
       "      <td>41.244610</td>\n",
       "      <td>3.0</td>\n",
       "      <td>14.0</td>\n",
       "      <td>21.0</td>\n",
       "      <td>40.0</td>\n",
       "      <td>1309.0</td>\n",
       "    </tr>\n",
       "    <tr>\n",
       "      <th>No category</th>\n",
       "      <td>6314.0</td>\n",
       "      <td>25.446943</td>\n",
       "      <td>34.130040</td>\n",
       "      <td>3.0</td>\n",
       "      <td>10.0</td>\n",
       "      <td>16.5</td>\n",
       "      <td>28.0</td>\n",
       "      <td>1000.0</td>\n",
       "    </tr>\n",
       "    <tr>\n",
       "      <th>Other</th>\n",
       "      <td>45329.0</td>\n",
       "      <td>20.819917</td>\n",
       "      <td>29.851479</td>\n",
       "      <td>3.0</td>\n",
       "      <td>9.0</td>\n",
       "      <td>14.0</td>\n",
       "      <td>23.0</td>\n",
       "      <td>1400.0</td>\n",
       "    </tr>\n",
       "    <tr>\n",
       "      <th>Sports &amp; Outdoors</th>\n",
       "      <td>25322.0</td>\n",
       "      <td>25.552385</td>\n",
       "      <td>29.305013</td>\n",
       "      <td>3.0</td>\n",
       "      <td>11.0</td>\n",
       "      <td>16.0</td>\n",
       "      <td>28.0</td>\n",
       "      <td>915.0</td>\n",
       "    </tr>\n",
       "    <tr>\n",
       "      <th>Vintage &amp; Collectibles</th>\n",
       "      <td>46519.0</td>\n",
       "      <td>27.345891</td>\n",
       "      <td>53.512169</td>\n",
       "      <td>3.0</td>\n",
       "      <td>10.0</td>\n",
       "      <td>16.0</td>\n",
       "      <td>27.0</td>\n",
       "      <td>1709.0</td>\n",
       "    </tr>\n",
       "    <tr>\n",
       "      <th>Women</th>\n",
       "      <td>663990.0</td>\n",
       "      <td>28.902679</td>\n",
       "      <td>39.449289</td>\n",
       "      <td>3.0</td>\n",
       "      <td>12.0</td>\n",
       "      <td>19.0</td>\n",
       "      <td>34.0</td>\n",
       "      <td>2009.0</td>\n",
       "    </tr>\n",
       "  </tbody>\n",
       "</table>\n",
       "</div>"
      ],
      "text/plain": [
       "                           count       mean        std  min   25%   50%   75%  \\\n",
       "category_1                                                                      \n",
       "Beauty                  207725.0  19.681290  21.360937  3.0  10.0  15.0  24.0   \n",
       "Electronics             122632.0  35.190558  65.430780  3.0   9.0  15.0  31.0   \n",
       "Handmade                 30835.0  18.160694  27.760091  3.0   6.0  12.0  20.0   \n",
       "Home                     67831.0  24.551068  24.416986  3.0  12.0  18.0  29.0   \n",
       "Kids                    171555.0  20.658439  22.732427  3.0  10.0  14.0  24.0   \n",
       "Men                      93609.0  34.734940  41.244610  3.0  14.0  21.0  40.0   \n",
       "No category               6314.0  25.446943  34.130040  3.0  10.0  16.5  28.0   \n",
       "Other                    45329.0  20.819917  29.851479  3.0   9.0  14.0  23.0   \n",
       "Sports & Outdoors        25322.0  25.552385  29.305013  3.0  11.0  16.0  28.0   \n",
       "Vintage & Collectibles   46519.0  27.345891  53.512169  3.0  10.0  16.0  27.0   \n",
       "Women                   663990.0  28.902679  39.449289  3.0  12.0  19.0  34.0   \n",
       "\n",
       "                           max  \n",
       "category_1                      \n",
       "Beauty                  2000.0  \n",
       "Electronics             1909.0  \n",
       "Handmade                1750.0  \n",
       "Home                     848.0  \n",
       "Kids                     809.0  \n",
       "Men                     1309.0  \n",
       "No category             1000.0  \n",
       "Other                   1400.0  \n",
       "Sports & Outdoors        915.0  \n",
       "Vintage & Collectibles  1709.0  \n",
       "Women                   2009.0  "
      ]
     },
     "execution_count": 11,
     "metadata": {},
     "output_type": "execute_result"
    }
   ],
   "source": [
    "dados.groupby('category_1')['price'].describe()"
   ]
  },
  {
   "cell_type": "markdown",
   "metadata": {},
   "source": [
    "Análise dos preços"
   ]
  },
  {
   "cell_type": "code",
   "execution_count": 12,
   "metadata": {},
   "outputs": [
    {
     "data": {
      "text/plain": [
       "count    1481661.00\n",
       "mean          26.75\n",
       "std           38.59\n",
       "min            3.00\n",
       "25%           10.00\n",
       "50%           17.00\n",
       "75%           29.00\n",
       "max         2009.00\n",
       "Name: price, dtype: float64"
      ]
     },
     "execution_count": 12,
     "metadata": {},
     "output_type": "execute_result"
    }
   ],
   "source": [
    "dados.price.describe().round(2)"
   ]
  },
  {
   "cell_type": "markdown",
   "metadata": {},
   "source": [
    "Análise dos preços em função da data do anúncio."
   ]
  },
  {
   "cell_type": "markdown",
   "metadata": {},
   "source": [
    "Passando a coluna date para o tipo de `datetime`"
   ]
  },
  {
   "cell_type": "code",
   "execution_count": 13,
   "metadata": {},
   "outputs": [],
   "source": [
    "dados.date = pd.to_datetime(dados.date, dayfirst=True)"
   ]
  },
  {
   "cell_type": "code",
   "execution_count": 14,
   "metadata": {},
   "outputs": [
    {
     "data": {
      "text/plain": [
       "<AxesSubplot:xlabel='date', ylabel='price'>"
      ]
     },
     "execution_count": 14,
     "metadata": {},
     "output_type": "execute_result"
    },
    {
     "data": {
      "image/png": "[encoded data removed]",
      "text/plain": [
       "<Figure size 432x288 with 1 Axes>"
      ]
     },
     "metadata": {
      "needs_background": "light"
     },
     "output_type": "display_data"
    }
   ],
   "source": [
    "import seaborn as sns\n",
    "import matplotlib.pyplot as plt\n",
    "\n",
    "\n",
    "sns.lineplot(data=dados, x='date', y='price')"
   ]
  },
  {
   "cell_type": "markdown",
   "metadata": {},
   "source": [
    "Existe bastante ruído na série. Não se observa um sinal de tendência na série seria necessário investigar se existe algum padrão de sazonalidade. Mas, a príncipio, os valores aparentam ser puramente randomicos."
   ]
  },
  {
   "cell_type": "markdown",
   "metadata": {},
   "source": [
    "Definição da coluna `date` como índice do DataFrame."
   ]
  },
  {
   "cell_type": "code",
   "execution_count": 21,
   "metadata": {},
   "outputs": [
    {
     "data": {
      "text/html": [
       "<div>\n",
       "<style scoped>\n",
       "    .dataframe tbody tr th:only-of-type {\n",
       "        vertical-align: middle;\n",
       "    }\n",
       "\n",
       "    .dataframe tbody tr th {\n",
       "        vertical-align: top;\n",
       "    }\n",
       "\n",
       "    .dataframe thead th {\n",
       "        text-align: right;\n",
       "    }\n",
       "</style>\n",
       "<table border=\"1\" class=\"dataframe\">\n",
       "  <thead>\n",
       "    <tr style=\"text-align: right;\">\n",
       "      <th></th>\n",
       "      <th>name</th>\n",
       "      <th>category_1</th>\n",
       "      <th>category_2</th>\n",
       "      <th>category_3</th>\n",
       "      <th>item_condition_id</th>\n",
       "      <th>brand_name</th>\n",
       "      <th>price</th>\n",
       "      <th>shipping</th>\n",
       "      <th>stock</th>\n",
       "      <th>item_description</th>\n",
       "    </tr>\n",
       "    <tr>\n",
       "      <th>date</th>\n",
       "      <th></th>\n",
       "      <th></th>\n",
       "      <th></th>\n",
       "      <th></th>\n",
       "      <th></th>\n",
       "      <th></th>\n",
       "      <th></th>\n",
       "      <th></th>\n",
       "      <th></th>\n",
       "      <th></th>\n",
       "    </tr>\n",
       "  </thead>\n",
       "  <tbody>\n",
       "    <tr>\n",
       "      <th>2018-06-18</th>\n",
       "      <td>mlb cincinnati reds t shirt size xl</td>\n",
       "      <td>Men</td>\n",
       "      <td>Tops</td>\n",
       "      <td>T-shirts</td>\n",
       "      <td>3</td>\n",
       "      <td>No Brand</td>\n",
       "      <td>10.0</td>\n",
       "      <td>1</td>\n",
       "      <td>27</td>\n",
       "      <td>no description yet</td>\n",
       "    </tr>\n",
       "    <tr>\n",
       "      <th>2018-03-18</th>\n",
       "      <td>razer blackwidow chroma keyboard</td>\n",
       "      <td>Electronics</td>\n",
       "      <td>Computers &amp; Tablets</td>\n",
       "      <td>Components &amp; Parts</td>\n",
       "      <td>3</td>\n",
       "      <td>Razer</td>\n",
       "      <td>52.0</td>\n",
       "      <td>0</td>\n",
       "      <td>15</td>\n",
       "      <td>this keyboard is in great condition and works ...</td>\n",
       "    </tr>\n",
       "    <tr>\n",
       "      <th>2018-10-26</th>\n",
       "      <td>ava viv blouse</td>\n",
       "      <td>Women</td>\n",
       "      <td>Tops &amp; Blouses</td>\n",
       "      <td>Blouse</td>\n",
       "      <td>1</td>\n",
       "      <td>Target</td>\n",
       "      <td>10.0</td>\n",
       "      <td>1</td>\n",
       "      <td>14</td>\n",
       "      <td>adorable top with a hint of lace and a key hol...</td>\n",
       "    </tr>\n",
       "    <tr>\n",
       "      <th>2018-02-21</th>\n",
       "      <td>leather horse statues</td>\n",
       "      <td>Home</td>\n",
       "      <td>Home Décor</td>\n",
       "      <td>Home Décor Accents</td>\n",
       "      <td>1</td>\n",
       "      <td>No Brand</td>\n",
       "      <td>35.0</td>\n",
       "      <td>1</td>\n",
       "      <td>1</td>\n",
       "      <td>new with tags leather horses retail for each s...</td>\n",
       "    </tr>\n",
       "    <tr>\n",
       "      <th>2018-04-17</th>\n",
       "      <td>24k gold plated rose</td>\n",
       "      <td>Women</td>\n",
       "      <td>Jewelry</td>\n",
       "      <td>Necklaces</td>\n",
       "      <td>1</td>\n",
       "      <td>No Brand</td>\n",
       "      <td>44.0</td>\n",
       "      <td>0</td>\n",
       "      <td>13</td>\n",
       "      <td>complete with certificate of authenticity</td>\n",
       "    </tr>\n",
       "  </tbody>\n",
       "</table>\n",
       "</div>"
      ],
      "text/plain": [
       "                                           name   category_1  \\\n",
       "date                                                           \n",
       "2018-06-18  mlb cincinnati reds t shirt size xl          Men   \n",
       "2018-03-18     razer blackwidow chroma keyboard  Electronics   \n",
       "2018-10-26                       ava viv blouse        Women   \n",
       "2018-02-21                leather horse statues         Home   \n",
       "2018-04-17                 24k gold plated rose        Women   \n",
       "\n",
       "                     category_2          category_3  item_condition_id  \\\n",
       "date                                                                     \n",
       "2018-06-18                 Tops            T-shirts                  3   \n",
       "2018-03-18  Computers & Tablets  Components & Parts                  3   \n",
       "2018-10-26       Tops & Blouses              Blouse                  1   \n",
       "2018-02-21           Home Décor  Home Décor Accents                  1   \n",
       "2018-04-17              Jewelry           Necklaces                  1   \n",
       "\n",
       "           brand_name  price  shipping  stock  \\\n",
       "date                                            \n",
       "2018-06-18   No Brand   10.0         1     27   \n",
       "2018-03-18      Razer   52.0         0     15   \n",
       "2018-10-26     Target   10.0         1     14   \n",
       "2018-02-21   No Brand   35.0         1      1   \n",
       "2018-04-17   No Brand   44.0         0     13   \n",
       "\n",
       "                                             item_description  \n",
       "date                                                           \n",
       "2018-06-18                                 no description yet  \n",
       "2018-03-18  this keyboard is in great condition and works ...  \n",
       "2018-10-26  adorable top with a hint of lace and a key hol...  \n",
       "2018-02-21  new with tags leather horses retail for each s...  \n",
       "2018-04-17          complete with certificate of authenticity  "
      ]
     },
     "execution_count": 21,
     "metadata": {},
     "output_type": "execute_result"
    }
   ],
   "source": [
    "dados.index = dados.date\n",
    "dados.drop('date', axis=1, inplace=True)\n",
    "dados.head()"
   ]
  },
  {
   "cell_type": "markdown",
   "metadata": {},
   "source": [
    "Média mensal de preços da categoria `Women`, que é a com maior quantidade de anúncios."
   ]
  },
  {
   "cell_type": "code",
   "execution_count": 23,
   "metadata": {},
   "outputs": [
    {
     "data": {
      "text/plain": [
       "(0.0, 30.0)"
      ]
     },
     "execution_count": 23,
     "metadata": {},
     "output_type": "execute_result"
    },
    {
     "data": {
      "image/png": "[encoded data removed]",
      "text/plain": [
       "<Figure size 432x288 with 1 Axes>"
      ]
     },
     "metadata": {
      "needs_background": "light"
     },
     "output_type": "display_data"
    }
   ],
   "source": [
    "produtos_femininos = dados.query('category_1 == \"Women\"')\n",
    "\n",
    "produtos_femininos.resample('M').mean().price.plot()\n",
    "plt.title('Média mensal de preços dos anúncios da categoria Women')\n",
    "plt.ylabel('Preço (em dólares)')\n",
    "plt.ylim(0, 30)"
   ]
  },
  {
   "cell_type": "markdown",
   "metadata": {},
   "source": [
    "Mesmo que o anterior mas para a categoria Beauty."
   ]
  },
  {
   "cell_type": "code",
   "execution_count": 29,
   "metadata": {},
   "outputs": [
    {
     "data": {
      "text/plain": [
       "(0.0, 30.0)"
      ]
     },
     "execution_count": 29,
     "metadata": {},
     "output_type": "execute_result"
    },
    {
     "data": {
      "image/png": "[encoded data removed]",
      "text/plain": [
       "<Figure size 432x288 with 1 Axes>"
      ]
     },
     "metadata": {
      "needs_background": "light"
     },
     "output_type": "display_data"
    }
   ],
   "source": [
    "produtos_beleza = dados.query('category_1 == \"Beauty\"')\n",
    "\n",
    "produtos_beleza.resample('M').mean().price.plot()\n",
    "plt.title('Média mensal de preços dos anúncios da categoria Beauty')\n",
    "plt.ylabel('Preço (em dólares)')\n",
    "plt.ylim(0, 30)"
   ]
  },
  {
   "cell_type": "markdown",
   "metadata": {},
   "source": [
    "Mesmo que o anterior mas para a categoria Kids."
   ]
  },
  {
   "cell_type": "code",
   "execution_count": 34,
   "metadata": {},
   "outputs": [
    {
     "data": {
      "text/plain": [
       "(0.0, 30.0)"
      ]
     },
     "execution_count": 34,
     "metadata": {},
     "output_type": "execute_result"
    },
    {
     "data": {
      "image/png": "[encoded data removed]",
      "text/plain": [
       "<Figure size 432x288 with 1 Axes>"
      ]
     },
     "metadata": {
      "needs_background": "light"
     },
     "output_type": "display_data"
    }
   ],
   "source": [
    "produtos_infantis = dados.query('category_1 == \"Kids\"')\n",
    "\n",
    "produtos_infantis.resample('M').mean().price.plot()\n",
    "plt.title('Média mensal de preços dos anúncios da categoria Kids')\n",
    "plt.ylabel('Preço (em dólares)')\n",
    "plt.ylim(0, 30)"
   ]
  },
  {
   "cell_type": "markdown",
   "metadata": {},
   "source": [
    "Não se observam variações significativas dos preços em função do mês de anúncio."
   ]
  },
  {
   "cell_type": "markdown",
   "metadata": {},
   "source": [
    "Série diária de preços para a categoria Kids."
   ]
  },
  {
   "cell_type": "code",
   "execution_count": 38,
   "metadata": {},
   "outputs": [
    {
     "data": {
      "text/plain": [
       "(0.0, 2500.0)"
      ]
     },
     "execution_count": 38,
     "metadata": {},
     "output_type": "execute_result"
    },
    {
     "data": {
      "image/png": "[encoded data removed]",
      "text/plain": [
       "<Figure size 432x288 with 1 Axes>"
      ]
     },
     "metadata": {
      "needs_background": "light"
     },
     "output_type": "display_data"
    }
   ],
   "source": [
    "produtos_infantis = dados.query('category_1 == \"Kids\"')\n",
    "\n",
    "produtos_beleza.price.plot()\n",
    "plt.title('Média mensal de preços dos anúncios da categoria Kids')\n",
    "plt.ylabel('Preço (em dólares)')\n",
    "plt.ylim(0, 2500)"
   ]
  },
  {
   "cell_type": "markdown",
   "metadata": {},
   "source": [
    "A série apresenta alguns picos mas nada que indique dependencia temporal dos preços os anúncios."
   ]
  },
  {
   "cell_type": "code",
   "execution_count": null,
   "metadata": {},
   "outputs": [],
   "source": []
  }
 ],
 "metadata": {
  "kernelspec": {
   "display_name": "Python 3.9.12 ('base')",
   "language": "python",
   "name": "python3"
  },
  "language_info": {
   "codemirror_mode": {
    "name": "ipython",
    "version": 3
   },
   "file_extension": ".py",
   "mimetype": "text/x-python",
   "name": "python",
   "nbconvert_exporter": "python",
   "pygments_lexer": "ipython3",
   "version": "3.9.12"
  },
  "orig_nbformat": 4,
  "vscode": {
   "interpreter": {
    "hash": "7832355663de3739c43a670b9e0e66b306696971f3c515f01e5590b4e36bbdc6"
   }
  }
 },
 "nbformat": 4,
 "nbformat_minor": 2
}
