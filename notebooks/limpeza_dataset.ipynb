{
 "cells": [
  {
   "cell_type": "markdown",
   "metadata": {},
   "source": [
    "# Leitura da base de dados original"
   ]
  },
  {
   "cell_type": "code",
   "execution_count": 1,
   "metadata": {},
   "outputs": [
    {
     "data": {
      "text/html": [
       "<div>\n",
       "<style scoped>\n",
       "    .dataframe tbody tr th:only-of-type {\n",
       "        vertical-align: middle;\n",
       "    }\n",
       "\n",
       "    .dataframe tbody tr th {\n",
       "        vertical-align: top;\n",
       "    }\n",
       "\n",
       "    .dataframe thead th {\n",
       "        text-align: right;\n",
       "    }\n",
       "</style>\n",
       "<table border=\"1\" class=\"dataframe\">\n",
       "  <thead>\n",
       "    <tr style=\"text-align: right;\">\n",
       "      <th></th>\n",
       "      <th>train_id</th>\n",
       "      <th>name</th>\n",
       "      <th>item_condition_id</th>\n",
       "      <th>category_name</th>\n",
       "      <th>brand_name</th>\n",
       "      <th>price</th>\n",
       "      <th>shipping</th>\n",
       "      <th>item_description</th>\n",
       "    </tr>\n",
       "  </thead>\n",
       "  <tbody>\n",
       "    <tr>\n",
       "      <th>0</th>\n",
       "      <td>0</td>\n",
       "      <td>MLB Cincinnati Reds T Shirt Size XL</td>\n",
       "      <td>3</td>\n",
       "      <td>Men/Tops/T-shirts</td>\n",
       "      <td>NaN</td>\n",
       "      <td>10.0</td>\n",
       "      <td>1</td>\n",
       "      <td>No description yet</td>\n",
       "    </tr>\n",
       "    <tr>\n",
       "      <th>1</th>\n",
       "      <td>1</td>\n",
       "      <td>Razer BlackWidow Chroma Keyboard</td>\n",
       "      <td>3</td>\n",
       "      <td>Electronics/Computers &amp; Tablets/Components &amp; P...</td>\n",
       "      <td>Razer</td>\n",
       "      <td>52.0</td>\n",
       "      <td>0</td>\n",
       "      <td>This keyboard is in great condition and works ...</td>\n",
       "    </tr>\n",
       "    <tr>\n",
       "      <th>2</th>\n",
       "      <td>2</td>\n",
       "      <td>AVA-VIV Blouse</td>\n",
       "      <td>1</td>\n",
       "      <td>Women/Tops &amp; Blouses/Blouse</td>\n",
       "      <td>Target</td>\n",
       "      <td>10.0</td>\n",
       "      <td>1</td>\n",
       "      <td>Adorable top with a hint of lace and a key hol...</td>\n",
       "    </tr>\n",
       "    <tr>\n",
       "      <th>3</th>\n",
       "      <td>3</td>\n",
       "      <td>Leather Horse Statues</td>\n",
       "      <td>1</td>\n",
       "      <td>Home/Home Décor/Home Décor Accents</td>\n",
       "      <td>NaN</td>\n",
       "      <td>35.0</td>\n",
       "      <td>1</td>\n",
       "      <td>New with tags. Leather horses. Retail for [rm]...</td>\n",
       "    </tr>\n",
       "    <tr>\n",
       "      <th>4</th>\n",
       "      <td>4</td>\n",
       "      <td>24K GOLD plated rose</td>\n",
       "      <td>1</td>\n",
       "      <td>Women/Jewelry/Necklaces</td>\n",
       "      <td>NaN</td>\n",
       "      <td>44.0</td>\n",
       "      <td>0</td>\n",
       "      <td>Complete with certificate of authenticity</td>\n",
       "    </tr>\n",
       "  </tbody>\n",
       "</table>\n",
       "</div>"
      ],
      "text/plain": [
       "   train_id                                 name  item_condition_id  \\\n",
       "0         0  MLB Cincinnati Reds T Shirt Size XL                  3   \n",
       "1         1     Razer BlackWidow Chroma Keyboard                  3   \n",
       "2         2                       AVA-VIV Blouse                  1   \n",
       "3         3                Leather Horse Statues                  1   \n",
       "4         4                 24K GOLD plated rose                  1   \n",
       "\n",
       "                                       category_name brand_name  price  \\\n",
       "0                                  Men/Tops/T-shirts        NaN   10.0   \n",
       "1  Electronics/Computers & Tablets/Components & P...      Razer   52.0   \n",
       "2                        Women/Tops & Blouses/Blouse     Target   10.0   \n",
       "3                 Home/Home Décor/Home Décor Accents        NaN   35.0   \n",
       "4                            Women/Jewelry/Necklaces        NaN   44.0   \n",
       "\n",
       "   shipping                                   item_description  \n",
       "0         1                                 No description yet  \n",
       "1         0  This keyboard is in great condition and works ...  \n",
       "2         1  Adorable top with a hint of lace and a key hol...  \n",
       "3         1  New with tags. Leather horses. Retail for [rm]...  \n",
       "4         0          Complete with certificate of authenticity  "
      ]
     },
     "execution_count": 1,
     "metadata": {},
     "output_type": "execute_result"
    }
   ],
   "source": [
    "import pandas as pd\n",
    "\n",
    "dados = pd.read_csv('../data/raw/train.tsv', sep='\\t')\n",
    "\n",
    "dados.head()"
   ]
  },
  {
   "cell_type": "markdown",
   "metadata": {},
   "source": [
    "Quantidade de registros"
   ]
  },
  {
   "cell_type": "code",
   "execution_count": 2,
   "metadata": {},
   "outputs": [
    {
     "name": "stdout",
     "output_type": "stream",
     "text": [
      "Quantidade de registros =  1482535\n",
      "Quantidade de registros únicos =  1225273\n",
      "Porcentagem de registros únicos =  82.64715504187085\n"
     ]
    }
   ],
   "source": [
    "print('Quantidade de registros = ', len(dados))\n",
    "print('Quantidade de registros únicos = ', dados.name.nunique())\n",
    "print('Porcentagem de registros únicos = ', 100 * dados.name.nunique()/len(dados))"
   ]
  },
  {
   "cell_type": "markdown",
   "metadata": {},
   "source": [
    "Quantidade de categorias do dataset"
   ]
  },
  {
   "cell_type": "code",
   "execution_count": 3,
   "metadata": {},
   "outputs": [
    {
     "name": "stdout",
     "output_type": "stream",
     "text": [
      "Números de categorias: 1288\n"
     ]
    }
   ],
   "source": [
    "print('Números de categorias:', dados.category_name.unique().size)"
   ]
  },
  {
   "cell_type": "markdown",
   "metadata": {},
   "source": [
    "Descrição da coluna `price`"
   ]
  },
  {
   "cell_type": "markdown",
   "metadata": {},
   "source": [
    "Quantidade de produtos com preço de anúncio igual a zero."
   ]
  },
  {
   "cell_type": "code",
   "execution_count": 4,
   "metadata": {},
   "outputs": [
    {
     "data": {
      "text/plain": [
       "6992"
      ]
     },
     "execution_count": 4,
     "metadata": {},
     "output_type": "execute_result"
    }
   ],
   "source": [
    "dados[dados.price == 0].size"
   ]
  },
  {
   "cell_type": "markdown",
   "metadata": {},
   "source": [
    "Quantidad de produtos com preço de anúncio nulo."
   ]
  },
  {
   "cell_type": "code",
   "execution_count": 5,
   "metadata": {},
   "outputs": [
    {
     "data": {
      "text/plain": [
       "0"
      ]
     },
     "execution_count": 5,
     "metadata": {},
     "output_type": "execute_result"
    }
   ],
   "source": [
    "dados.price.isna().sum()"
   ]
  },
  {
   "cell_type": "markdown",
   "metadata": {},
   "source": [
    "# Separação das categorias em diversas colunas"
   ]
  },
  {
   "cell_type": "code",
   "execution_count": 6,
   "metadata": {},
   "outputs": [],
   "source": [
    "colunas = dados.category_name.str.split('/', expand=True)"
   ]
  },
  {
   "cell_type": "code",
   "execution_count": 7,
   "metadata": {},
   "outputs": [
    {
     "data": {
      "text/html": [
       "<div>\n",
       "<style scoped>\n",
       "    .dataframe tbody tr th:only-of-type {\n",
       "        vertical-align: middle;\n",
       "    }\n",
       "\n",
       "    .dataframe tbody tr th {\n",
       "        vertical-align: top;\n",
       "    }\n",
       "\n",
       "    .dataframe thead th {\n",
       "        text-align: right;\n",
       "    }\n",
       "</style>\n",
       "<table border=\"1\" class=\"dataframe\">\n",
       "  <thead>\n",
       "    <tr style=\"text-align: right;\">\n",
       "      <th></th>\n",
       "      <th>0</th>\n",
       "      <th>1</th>\n",
       "      <th>2</th>\n",
       "      <th>3</th>\n",
       "      <th>4</th>\n",
       "    </tr>\n",
       "  </thead>\n",
       "  <tbody>\n",
       "    <tr>\n",
       "      <th>0</th>\n",
       "      <td>Men</td>\n",
       "      <td>Tops</td>\n",
       "      <td>T-shirts</td>\n",
       "      <td>None</td>\n",
       "      <td>None</td>\n",
       "    </tr>\n",
       "    <tr>\n",
       "      <th>1</th>\n",
       "      <td>Electronics</td>\n",
       "      <td>Computers &amp; Tablets</td>\n",
       "      <td>Components &amp; Parts</td>\n",
       "      <td>None</td>\n",
       "      <td>None</td>\n",
       "    </tr>\n",
       "    <tr>\n",
       "      <th>2</th>\n",
       "      <td>Women</td>\n",
       "      <td>Tops &amp; Blouses</td>\n",
       "      <td>Blouse</td>\n",
       "      <td>None</td>\n",
       "      <td>None</td>\n",
       "    </tr>\n",
       "    <tr>\n",
       "      <th>3</th>\n",
       "      <td>Home</td>\n",
       "      <td>Home Décor</td>\n",
       "      <td>Home Décor Accents</td>\n",
       "      <td>None</td>\n",
       "      <td>None</td>\n",
       "    </tr>\n",
       "    <tr>\n",
       "      <th>4</th>\n",
       "      <td>Women</td>\n",
       "      <td>Jewelry</td>\n",
       "      <td>Necklaces</td>\n",
       "      <td>None</td>\n",
       "      <td>None</td>\n",
       "    </tr>\n",
       "    <tr>\n",
       "      <th>...</th>\n",
       "      <td>...</td>\n",
       "      <td>...</td>\n",
       "      <td>...</td>\n",
       "      <td>...</td>\n",
       "      <td>...</td>\n",
       "    </tr>\n",
       "    <tr>\n",
       "      <th>1482530</th>\n",
       "      <td>Women</td>\n",
       "      <td>Dresses</td>\n",
       "      <td>Mid-Calf</td>\n",
       "      <td>None</td>\n",
       "      <td>None</td>\n",
       "    </tr>\n",
       "    <tr>\n",
       "      <th>1482531</th>\n",
       "      <td>Kids</td>\n",
       "      <td>Girls 2T-5T</td>\n",
       "      <td>Dresses</td>\n",
       "      <td>None</td>\n",
       "      <td>None</td>\n",
       "    </tr>\n",
       "    <tr>\n",
       "      <th>1482532</th>\n",
       "      <td>Sports &amp; Outdoors</td>\n",
       "      <td>Exercise</td>\n",
       "      <td>Fitness accessories</td>\n",
       "      <td>None</td>\n",
       "      <td>None</td>\n",
       "    </tr>\n",
       "    <tr>\n",
       "      <th>1482533</th>\n",
       "      <td>Home</td>\n",
       "      <td>Home Décor</td>\n",
       "      <td>Home Décor Accents</td>\n",
       "      <td>None</td>\n",
       "      <td>None</td>\n",
       "    </tr>\n",
       "    <tr>\n",
       "      <th>1482534</th>\n",
       "      <td>Women</td>\n",
       "      <td>Women's Accessories</td>\n",
       "      <td>Wallets</td>\n",
       "      <td>None</td>\n",
       "      <td>None</td>\n",
       "    </tr>\n",
       "  </tbody>\n",
       "</table>\n",
       "<p>1482535 rows × 5 columns</p>\n",
       "</div>"
      ],
      "text/plain": [
       "                         0                    1                    2     3  \\\n",
       "0                      Men                 Tops             T-shirts  None   \n",
       "1              Electronics  Computers & Tablets   Components & Parts  None   \n",
       "2                    Women       Tops & Blouses               Blouse  None   \n",
       "3                     Home           Home Décor   Home Décor Accents  None   \n",
       "4                    Women              Jewelry            Necklaces  None   \n",
       "...                    ...                  ...                  ...   ...   \n",
       "1482530              Women              Dresses             Mid-Calf  None   \n",
       "1482531               Kids          Girls 2T-5T              Dresses  None   \n",
       "1482532  Sports & Outdoors             Exercise  Fitness accessories  None   \n",
       "1482533               Home           Home Décor   Home Décor Accents  None   \n",
       "1482534              Women  Women's Accessories              Wallets  None   \n",
       "\n",
       "            4  \n",
       "0        None  \n",
       "1        None  \n",
       "2        None  \n",
       "3        None  \n",
       "4        None  \n",
       "...       ...  \n",
       "1482530  None  \n",
       "1482531  None  \n",
       "1482532  None  \n",
       "1482533  None  \n",
       "1482534  None  \n",
       "\n",
       "[1482535 rows x 5 columns]"
      ]
     },
     "execution_count": 7,
     "metadata": {},
     "output_type": "execute_result"
    }
   ],
   "source": [
    "colunas"
   ]
  },
  {
   "cell_type": "markdown",
   "metadata": {},
   "source": [
    "Quantidade de valores nulos na coluna de índice 3"
   ]
  },
  {
   "cell_type": "code",
   "execution_count": 8,
   "metadata": {},
   "outputs": [
    {
     "data": {
      "text/plain": [
       "0.997039530264041"
      ]
     },
     "execution_count": 8,
     "metadata": {},
     "output_type": "execute_result"
    }
   ],
   "source": [
    "colunas[3].isnull().sum() / len(colunas)"
   ]
  },
  {
   "cell_type": "markdown",
   "metadata": {},
   "source": [
    "Quantidade de valores nulos na coluna de índice 4"
   ]
  },
  {
   "cell_type": "code",
   "execution_count": 9,
   "metadata": {},
   "outputs": [
    {
     "data": {
      "text/plain": [
       "0.9979366423052407"
      ]
     },
     "execution_count": 9,
     "metadata": {},
     "output_type": "execute_result"
    }
   ],
   "source": [
    "colunas[4].isnull().sum() / len(colunas)"
   ]
  },
  {
   "cell_type": "markdown",
   "metadata": {},
   "source": [
    "# Tratamento de inconsistências"
   ]
  },
  {
   "cell_type": "markdown",
   "metadata": {},
   "source": [
    "Remoção de preços com valor igual a zero.\n",
    "\n",
    "Padronização do nome dos anúncios para apenas minúsculas."
   ]
  },
  {
   "cell_type": "code",
   "execution_count": 10,
   "metadata": {},
   "outputs": [
    {
     "name": "stderr",
     "output_type": "stream",
     "text": [
      "/tmp/ipykernel_53400/1047763570.py:2: SettingWithCopyWarning: \n",
      "A value is trying to be set on a copy of a slice from a DataFrame.\n",
      "Try using .loc[row_indexer,col_indexer] = value instead\n",
      "\n",
      "See the caveats in the documentation: https://pandas.pydata.org/pandas-docs/stable/user_guide/indexing.html#returning-a-view-versus-a-copy\n",
      "  dados2.loc[:, 'name'] = dados2.name.str.lower()\n"
     ]
    },
    {
     "data": {
      "text/plain": [
       "(1481661, 8)"
      ]
     },
     "execution_count": 10,
     "metadata": {},
     "output_type": "execute_result"
    }
   ],
   "source": [
    "dados2 = dados.query('price > 0')\n",
    "dados2.loc[:, 'name'] = dados2.name.str.lower()\n",
    "dados2.shape"
   ]
  },
  {
   "cell_type": "markdown",
   "metadata": {},
   "source": [
    "Função para remover caracteres especiais dos nomes."
   ]
  },
  {
   "cell_type": "code",
   "execution_count": 11,
   "metadata": {},
   "outputs": [],
   "source": [
    "from nltk.tokenize import RegexpTokenizer\n",
    "import numpy as np\n",
    "\n",
    "def clean_names(name):\n",
    "    tokenizer = RegexpTokenizer(r'\\w+')\n",
    "    \n",
    "    token = tokenizer.tokenize(name)\n",
    "    name = ''\n",
    "    \n",
    "    for n in token:\n",
    "        if not n.isdigit() and not n == 'rm':\n",
    "            name += n\n",
    "            name += ' '\n",
    "\n",
    "    name = name.strip()\n",
    "    \n",
    "    return name"
   ]
  },
  {
   "cell_type": "markdown",
   "metadata": {},
   "source": [
    "Remoção de caracters especiais da coluna nome."
   ]
  },
  {
   "cell_type": "code",
   "execution_count": 12,
   "metadata": {},
   "outputs": [
    {
     "name": "stderr",
     "output_type": "stream",
     "text": [
      "/tmp/ipykernel_53400/363506873.py:1: SettingWithCopyWarning: \n",
      "A value is trying to be set on a copy of a slice from a DataFrame.\n",
      "Try using .loc[row_indexer,col_indexer] = value instead\n",
      "\n",
      "See the caveats in the documentation: https://pandas.pydata.org/pandas-docs/stable/user_guide/indexing.html#returning-a-view-versus-a-copy\n",
      "  dados2.loc[:, 'name'] = [clean_names(name) for name in dados2.name]\n"
     ]
    }
   ],
   "source": [
    "dados2.loc[:, 'name'] = [clean_names(name) for name in dados2.name]"
   ]
  },
  {
   "cell_type": "markdown",
   "metadata": {},
   "source": [
    "Contagem das marcas com valores nulos."
   ]
  },
  {
   "cell_type": "code",
   "execution_count": 13,
   "metadata": {},
   "outputs": [
    {
     "data": {
      "text/plain": [
       "0.426775085529011"
      ]
     },
     "execution_count": 13,
     "metadata": {},
     "output_type": "execute_result"
    }
   ],
   "source": [
    "dados2.brand_name.isna().sum()/len(dados2)"
   ]
  },
  {
   "cell_type": "markdown",
   "metadata": {},
   "source": [
    "Função para preencher valores nulos."
   ]
  },
  {
   "cell_type": "code",
   "execution_count": 14,
   "metadata": {},
   "outputs": [],
   "source": [
    "def preecher_nans(dado, fill=''):\n",
    "    dado[dado.isna()] = fill\n",
    "    return dado "
   ]
  },
  {
   "cell_type": "markdown",
   "metadata": {},
   "source": [
    "Substituição dos valores nulos em `brand_name` por \"No brand\""
   ]
  },
  {
   "cell_type": "code",
   "execution_count": 15,
   "metadata": {},
   "outputs": [
    {
     "name": "stderr",
     "output_type": "stream",
     "text": [
      "/tmp/ipykernel_53400/2153944234.py:2: SettingWithCopyWarning: \n",
      "A value is trying to be set on a copy of a slice from a DataFrame\n",
      "\n",
      "See the caveats in the documentation: https://pandas.pydata.org/pandas-docs/stable/user_guide/indexing.html#returning-a-view-versus-a-copy\n",
      "  dado[dado.isna()] = fill\n",
      "/tmp/ipykernel_53400/2153944234.py:2: SettingWithCopyWarning: \n",
      "A value is trying to be set on a copy of a slice from a DataFrame\n",
      "\n",
      "See the caveats in the documentation: https://pandas.pydata.org/pandas-docs/stable/user_guide/indexing.html#returning-a-view-versus-a-copy\n",
      "  dado[dado.isna()] = fill\n",
      "/tmp/ipykernel_53400/1767990248.py:1: SettingWithCopyWarning: \n",
      "A value is trying to be set on a copy of a slice from a DataFrame.\n",
      "Try using .loc[row_indexer,col_indexer] = value instead\n",
      "\n",
      "See the caveats in the documentation: https://pandas.pydata.org/pandas-docs/stable/user_guide/indexing.html#returning-a-view-versus-a-copy\n",
      "  dados2.loc[:,'brand_name'] = preecher_nans(dados2['brand_name'], fill='No Brand')\n"
     ]
    }
   ],
   "source": [
    "dados2.loc[:,'brand_name'] = preecher_nans(dados2['brand_name'], fill='No Brand')"
   ]
  },
  {
   "cell_type": "markdown",
   "metadata": {},
   "source": [
    "Separação da coluna `category` em sub-categorias."
   ]
  },
  {
   "cell_type": "code",
   "execution_count": 16,
   "metadata": {},
   "outputs": [
    {
     "name": "stderr",
     "output_type": "stream",
     "text": [
      "/tmp/ipykernel_53400/1381730164.py:1: SettingWithCopyWarning: \n",
      "A value is trying to be set on a copy of a slice from a DataFrame.\n",
      "Try using .loc[row_indexer,col_indexer] = value instead\n",
      "\n",
      "See the caveats in the documentation: https://pandas.pydata.org/pandas-docs/stable/user_guide/indexing.html#returning-a-view-versus-a-copy\n",
      "  dados2.loc[:,'category_1'] = colunas[0]\n",
      "/tmp/ipykernel_53400/1381730164.py:2: SettingWithCopyWarning: \n",
      "A value is trying to be set on a copy of a slice from a DataFrame.\n",
      "Try using .loc[row_indexer,col_indexer] = value instead\n",
      "\n",
      "See the caveats in the documentation: https://pandas.pydata.org/pandas-docs/stable/user_guide/indexing.html#returning-a-view-versus-a-copy\n",
      "  dados2.loc[:,'category_2'] = colunas[1]\n",
      "/tmp/ipykernel_53400/1381730164.py:3: SettingWithCopyWarning: \n",
      "A value is trying to be set on a copy of a slice from a DataFrame.\n",
      "Try using .loc[row_indexer,col_indexer] = value instead\n",
      "\n",
      "See the caveats in the documentation: https://pandas.pydata.org/pandas-docs/stable/user_guide/indexing.html#returning-a-view-versus-a-copy\n",
      "  dados2.loc[:,'category_3'] = colunas[2]\n",
      "/tmp/ipykernel_53400/1381730164.py:4: SettingWithCopyWarning: \n",
      "A value is trying to be set on a copy of a slice from a DataFrame\n",
      "\n",
      "See the caveats in the documentation: https://pandas.pydata.org/pandas-docs/stable/user_guide/indexing.html#returning-a-view-versus-a-copy\n",
      "  dados2.drop('category_name', axis=1, inplace=True)\n"
     ]
    }
   ],
   "source": [
    "dados2.loc[:,'category_1'] = colunas[0]\n",
    "dados2.loc[:,'category_2'] = colunas[1]\n",
    "dados2.loc[:,'category_3'] = colunas[2]\n",
    "dados2.drop('category_name', axis=1, inplace=True)\n",
    "dados2 = dados2[['name', 'category_1', 'category_2',\n",
    "       'category_3', 'item_condition_id', 'brand_name', 'price',\n",
    "       'shipping', 'item_description']]"
   ]
  },
  {
   "cell_type": "markdown",
   "metadata": {},
   "source": [
    "Contagem de valores nulos em `category_1`, `category_2` e `category_3`"
   ]
  },
  {
   "cell_type": "code",
   "execution_count": 17,
   "metadata": {},
   "outputs": [
    {
     "data": {
      "text/plain": [
       "0.0042614336207810015"
      ]
     },
     "execution_count": 17,
     "metadata": {},
     "output_type": "execute_result"
    }
   ],
   "source": [
    "dados2.category_1.isna().sum()/len(dados2)"
   ]
  },
  {
   "cell_type": "code",
   "execution_count": 18,
   "metadata": {},
   "outputs": [
    {
     "data": {
      "text/plain": [
       "0.0042614336207810015"
      ]
     },
     "execution_count": 18,
     "metadata": {},
     "output_type": "execute_result"
    }
   ],
   "source": [
    "dados2.category_2.isna().sum()/len(dados2)"
   ]
  },
  {
   "cell_type": "code",
   "execution_count": 19,
   "metadata": {},
   "outputs": [
    {
     "data": {
      "text/plain": [
       "0.0042614336207810015"
      ]
     },
     "execution_count": 19,
     "metadata": {},
     "output_type": "execute_result"
    }
   ],
   "source": [
    "dados2.category_3.isna().sum()/len(dados2)"
   ]
  },
  {
   "cell_type": "code",
   "execution_count": 20,
   "metadata": {},
   "outputs": [
    {
     "name": "stderr",
     "output_type": "stream",
     "text": [
      "/tmp/ipykernel_53400/2153944234.py:2: SettingWithCopyWarning: \n",
      "A value is trying to be set on a copy of a slice from a DataFrame\n",
      "\n",
      "See the caveats in the documentation: https://pandas.pydata.org/pandas-docs/stable/user_guide/indexing.html#returning-a-view-versus-a-copy\n",
      "  dado[dado.isna()] = fill\n",
      "/tmp/ipykernel_53400/2153944234.py:2: SettingWithCopyWarning: \n",
      "A value is trying to be set on a copy of a slice from a DataFrame\n",
      "\n",
      "See the caveats in the documentation: https://pandas.pydata.org/pandas-docs/stable/user_guide/indexing.html#returning-a-view-versus-a-copy\n",
      "  dado[dado.isna()] = fill\n",
      "/tmp/ipykernel_53400/169768902.py:1: SettingWithCopyWarning: \n",
      "A value is trying to be set on a copy of a slice from a DataFrame.\n",
      "Try using .loc[row_indexer,col_indexer] = value instead\n",
      "\n",
      "See the caveats in the documentation: https://pandas.pydata.org/pandas-docs/stable/user_guide/indexing.html#returning-a-view-versus-a-copy\n",
      "  dados2.loc[:, 'category_1'] = preecher_nans(dados2['category_1'], fill='No category')\n",
      "/tmp/ipykernel_53400/2153944234.py:2: SettingWithCopyWarning: \n",
      "A value is trying to be set on a copy of a slice from a DataFrame\n",
      "\n",
      "See the caveats in the documentation: https://pandas.pydata.org/pandas-docs/stable/user_guide/indexing.html#returning-a-view-versus-a-copy\n",
      "  dado[dado.isna()] = fill\n"
     ]
    }
   ],
   "source": [
    "dados2.loc[:, 'category_1'] = preecher_nans(dados2['category_1'], fill='No category')\n",
    "dados2.loc[:,'category_2'] = preecher_nans(dados2['category_2'], fill='No category')\n",
    "dados2.loc[:,'category_3'] = preecher_nans(dados2['category_3'], fill='No category')"
   ]
  },
  {
   "cell_type": "markdown",
   "metadata": {},
   "source": [
    "Função para geração de datas e estoques."
   ]
  },
  {
   "cell_type": "code",
   "execution_count": 21,
   "metadata": {},
   "outputs": [],
   "source": [
    "import random\n",
    "import numpy as np\n",
    "\n",
    "\n",
    "def data(n, seed):\n",
    "\n",
    "    datas = []\n",
    "    \n",
    "    random.seed(seed)\n",
    "    for i in range(n):\n",
    "        dia_maximo = 32\n",
    "        dia_minimo = 1\n",
    "        mes_maximo = 13\n",
    "        mes_minimo = 1\n",
    "        \n",
    "        dia = int(random.random() * (dia_maximo - dia_minimo) + dia_minimo)\n",
    "        mes = int(random.random() * (mes_maximo - mes_minimo) + mes_minimo)\n",
    "        \n",
    "        if mes == 2:\n",
    "            while dia > 28:\n",
    "                dia = int(random.random() * (dia_maximo - dia_minimo) + dia_minimo)\n",
    "        \n",
    "        if mes in [4, 6, 9, 11]:\n",
    "            while dia > 30:\n",
    "                dia = int(random.random() * (dia_maximo - dia_minimo) + dia_minimo)\n",
    "        \n",
    "        datas.append(str(dia)+'-'+str(mes)+'-2018')\n",
    "        \n",
    "    return datas\n",
    "\n",
    "def estoque(n, seed):\n",
    "\n",
    "    np.random.seed(seed)\n",
    "    mu, sigma = 1, 20\n",
    "    s = np.random.normal(mu, sigma, n)\n",
    "    s[s < 0] = s[s < 0] * -0.5\n",
    "    s = s.astype(int)\n",
    "    s[s < 1] = 1\n",
    "    \n",
    "    return s\n",
    "\n",
    "dados2['date']  = data(n = dados2.shape[0], seed = 10)\n",
    "dados2['stock'] = estoque(n = dados2.shape[0], seed = 10)"
   ]
  },
  {
   "cell_type": "markdown",
   "metadata": {},
   "source": [
    "Padronização das descrições dos itens\n",
    "\n",
    "Nomes para apenas minúsculas.\n",
    "\n",
    "Remoção de caracteres especiais.\n",
    "\n",
    "Preenchimento de nulos por \"No comment yet.\""
   ]
  },
  {
   "cell_type": "code",
   "execution_count": 22,
   "metadata": {},
   "outputs": [],
   "source": [
    "import numpy as np\n",
    "descriptions = []\n",
    "for name in dados.item_description:\n",
    "    if type(name) == float:\n",
    "        if np.isnan(name):\n",
    "            descriptions.append('no description yet')\n",
    "    else:\n",
    "        descriptions.append(clean_names(name.lower()))\n"
   ]
  },
  {
   "cell_type": "code",
   "execution_count": 23,
   "metadata": {},
   "outputs": [
    {
     "data": {
      "text/html": [
       "<div>\n",
       "<style scoped>\n",
       "    .dataframe tbody tr th:only-of-type {\n",
       "        vertical-align: middle;\n",
       "    }\n",
       "\n",
       "    .dataframe tbody tr th {\n",
       "        vertical-align: top;\n",
       "    }\n",
       "\n",
       "    .dataframe thead th {\n",
       "        text-align: right;\n",
       "    }\n",
       "</style>\n",
       "<table border=\"1\" class=\"dataframe\">\n",
       "  <thead>\n",
       "    <tr style=\"text-align: right;\">\n",
       "      <th></th>\n",
       "      <th>train_id</th>\n",
       "      <th>name</th>\n",
       "      <th>item_condition_id</th>\n",
       "      <th>category_name</th>\n",
       "      <th>brand_name</th>\n",
       "      <th>price</th>\n",
       "      <th>shipping</th>\n",
       "    </tr>\n",
       "  </thead>\n",
       "  <tbody>\n",
       "    <tr>\n",
       "      <th>0</th>\n",
       "      <td>0</td>\n",
       "      <td>MLB Cincinnati Reds T Shirt Size XL</td>\n",
       "      <td>3</td>\n",
       "      <td>Men/Tops/T-shirts</td>\n",
       "      <td>NaN</td>\n",
       "      <td>10.0</td>\n",
       "      <td>1</td>\n",
       "    </tr>\n",
       "    <tr>\n",
       "      <th>1</th>\n",
       "      <td>1</td>\n",
       "      <td>Razer BlackWidow Chroma Keyboard</td>\n",
       "      <td>3</td>\n",
       "      <td>Electronics/Computers &amp; Tablets/Components &amp; P...</td>\n",
       "      <td>Razer</td>\n",
       "      <td>52.0</td>\n",
       "      <td>0</td>\n",
       "    </tr>\n",
       "    <tr>\n",
       "      <th>2</th>\n",
       "      <td>2</td>\n",
       "      <td>AVA-VIV Blouse</td>\n",
       "      <td>1</td>\n",
       "      <td>Women/Tops &amp; Blouses/Blouse</td>\n",
       "      <td>Target</td>\n",
       "      <td>10.0</td>\n",
       "      <td>1</td>\n",
       "    </tr>\n",
       "    <tr>\n",
       "      <th>3</th>\n",
       "      <td>3</td>\n",
       "      <td>Leather Horse Statues</td>\n",
       "      <td>1</td>\n",
       "      <td>Home/Home Décor/Home Décor Accents</td>\n",
       "      <td>NaN</td>\n",
       "      <td>35.0</td>\n",
       "      <td>1</td>\n",
       "    </tr>\n",
       "    <tr>\n",
       "      <th>4</th>\n",
       "      <td>4</td>\n",
       "      <td>24K GOLD plated rose</td>\n",
       "      <td>1</td>\n",
       "      <td>Women/Jewelry/Necklaces</td>\n",
       "      <td>NaN</td>\n",
       "      <td>44.0</td>\n",
       "      <td>0</td>\n",
       "    </tr>\n",
       "  </tbody>\n",
       "</table>\n",
       "</div>"
      ],
      "text/plain": [
       "   train_id                                 name  item_condition_id  \\\n",
       "0         0  MLB Cincinnati Reds T Shirt Size XL                  3   \n",
       "1         1     Razer BlackWidow Chroma Keyboard                  3   \n",
       "2         2                       AVA-VIV Blouse                  1   \n",
       "3         3                Leather Horse Statues                  1   \n",
       "4         4                 24K GOLD plated rose                  1   \n",
       "\n",
       "                                       category_name brand_name  price  \\\n",
       "0                                  Men/Tops/T-shirts        NaN   10.0   \n",
       "1  Electronics/Computers & Tablets/Components & P...      Razer   52.0   \n",
       "2                        Women/Tops & Blouses/Blouse     Target   10.0   \n",
       "3                 Home/Home Décor/Home Décor Accents        NaN   35.0   \n",
       "4                            Women/Jewelry/Necklaces        NaN   44.0   \n",
       "\n",
       "   shipping  \n",
       "0         1  \n",
       "1         0  \n",
       "2         1  \n",
       "3         1  \n",
       "4         0  "
      ]
     },
     "execution_count": 23,
     "metadata": {},
     "output_type": "execute_result"
    }
   ],
   "source": [
    "dados.drop('item_description', axis=1, inplace=True)\n",
    "dados.head()"
   ]
  },
  {
   "cell_type": "code",
   "execution_count": 24,
   "metadata": {},
   "outputs": [
    {
     "data": {
      "text/html": [
       "<div>\n",
       "<style scoped>\n",
       "    .dataframe tbody tr th:only-of-type {\n",
       "        vertical-align: middle;\n",
       "    }\n",
       "\n",
       "    .dataframe tbody tr th {\n",
       "        vertical-align: top;\n",
       "    }\n",
       "\n",
       "    .dataframe thead th {\n",
       "        text-align: right;\n",
       "    }\n",
       "</style>\n",
       "<table border=\"1\" class=\"dataframe\">\n",
       "  <thead>\n",
       "    <tr style=\"text-align: right;\">\n",
       "      <th></th>\n",
       "      <th>0</th>\n",
       "    </tr>\n",
       "  </thead>\n",
       "  <tbody>\n",
       "    <tr>\n",
       "      <th>0</th>\n",
       "      <td>no description yet</td>\n",
       "    </tr>\n",
       "    <tr>\n",
       "      <th>1</th>\n",
       "      <td>this keyboard is in great condition and works ...</td>\n",
       "    </tr>\n",
       "    <tr>\n",
       "      <th>2</th>\n",
       "      <td>adorable top with a hint of lace and a key hol...</td>\n",
       "    </tr>\n",
       "    <tr>\n",
       "      <th>3</th>\n",
       "      <td>new with tags leather horses retail for each s...</td>\n",
       "    </tr>\n",
       "    <tr>\n",
       "      <th>4</th>\n",
       "      <td>complete with certificate of authenticity</td>\n",
       "    </tr>\n",
       "  </tbody>\n",
       "</table>\n",
       "</div>"
      ],
      "text/plain": [
       "                                                   0\n",
       "0                                 no description yet\n",
       "1  this keyboard is in great condition and works ...\n",
       "2  adorable top with a hint of lace and a key hol...\n",
       "3  new with tags leather horses retail for each s...\n",
       "4          complete with certificate of authenticity"
      ]
     },
     "execution_count": 24,
     "metadata": {},
     "output_type": "execute_result"
    }
   ],
   "source": [
    "descriptions = pd.DataFrame(descriptions)\n",
    "descriptions.head()"
   ]
  },
  {
   "cell_type": "code",
   "execution_count": 25,
   "metadata": {},
   "outputs": [
    {
     "data": {
      "text/html": [
       "<div>\n",
       "<style scoped>\n",
       "    .dataframe tbody tr th:only-of-type {\n",
       "        vertical-align: middle;\n",
       "    }\n",
       "\n",
       "    .dataframe tbody tr th {\n",
       "        vertical-align: top;\n",
       "    }\n",
       "\n",
       "    .dataframe thead th {\n",
       "        text-align: right;\n",
       "    }\n",
       "</style>\n",
       "<table border=\"1\" class=\"dataframe\">\n",
       "  <thead>\n",
       "    <tr style=\"text-align: right;\">\n",
       "      <th></th>\n",
       "      <th>train_id</th>\n",
       "      <th>name</th>\n",
       "      <th>item_condition_id</th>\n",
       "      <th>category_name</th>\n",
       "      <th>brand_name</th>\n",
       "      <th>price</th>\n",
       "      <th>shipping</th>\n",
       "    </tr>\n",
       "  </thead>\n",
       "  <tbody>\n",
       "    <tr>\n",
       "      <th>0</th>\n",
       "      <td>0</td>\n",
       "      <td>MLB Cincinnati Reds T Shirt Size XL</td>\n",
       "      <td>3</td>\n",
       "      <td>Men/Tops/T-shirts</td>\n",
       "      <td>NaN</td>\n",
       "      <td>10.0</td>\n",
       "      <td>1</td>\n",
       "    </tr>\n",
       "    <tr>\n",
       "      <th>1</th>\n",
       "      <td>1</td>\n",
       "      <td>Razer BlackWidow Chroma Keyboard</td>\n",
       "      <td>3</td>\n",
       "      <td>Electronics/Computers &amp; Tablets/Components &amp; P...</td>\n",
       "      <td>Razer</td>\n",
       "      <td>52.0</td>\n",
       "      <td>0</td>\n",
       "    </tr>\n",
       "    <tr>\n",
       "      <th>2</th>\n",
       "      <td>2</td>\n",
       "      <td>AVA-VIV Blouse</td>\n",
       "      <td>1</td>\n",
       "      <td>Women/Tops &amp; Blouses/Blouse</td>\n",
       "      <td>Target</td>\n",
       "      <td>10.0</td>\n",
       "      <td>1</td>\n",
       "    </tr>\n",
       "    <tr>\n",
       "      <th>3</th>\n",
       "      <td>3</td>\n",
       "      <td>Leather Horse Statues</td>\n",
       "      <td>1</td>\n",
       "      <td>Home/Home Décor/Home Décor Accents</td>\n",
       "      <td>NaN</td>\n",
       "      <td>35.0</td>\n",
       "      <td>1</td>\n",
       "    </tr>\n",
       "    <tr>\n",
       "      <th>4</th>\n",
       "      <td>4</td>\n",
       "      <td>24K GOLD plated rose</td>\n",
       "      <td>1</td>\n",
       "      <td>Women/Jewelry/Necklaces</td>\n",
       "      <td>NaN</td>\n",
       "      <td>44.0</td>\n",
       "      <td>0</td>\n",
       "    </tr>\n",
       "    <tr>\n",
       "      <th>...</th>\n",
       "      <td>...</td>\n",
       "      <td>...</td>\n",
       "      <td>...</td>\n",
       "      <td>...</td>\n",
       "      <td>...</td>\n",
       "      <td>...</td>\n",
       "      <td>...</td>\n",
       "    </tr>\n",
       "    <tr>\n",
       "      <th>1482530</th>\n",
       "      <td>1482530</td>\n",
       "      <td>Free People Inspired Dress</td>\n",
       "      <td>2</td>\n",
       "      <td>Women/Dresses/Mid-Calf</td>\n",
       "      <td>Free People</td>\n",
       "      <td>20.0</td>\n",
       "      <td>1</td>\n",
       "    </tr>\n",
       "    <tr>\n",
       "      <th>1482531</th>\n",
       "      <td>1482531</td>\n",
       "      <td>Little mermaid handmade dress</td>\n",
       "      <td>2</td>\n",
       "      <td>Kids/Girls 2T-5T/Dresses</td>\n",
       "      <td>Disney</td>\n",
       "      <td>14.0</td>\n",
       "      <td>0</td>\n",
       "    </tr>\n",
       "    <tr>\n",
       "      <th>1482532</th>\n",
       "      <td>1482532</td>\n",
       "      <td>21 day fix containers and eating plan</td>\n",
       "      <td>2</td>\n",
       "      <td>Sports &amp; Outdoors/Exercise/Fitness accessories</td>\n",
       "      <td>NaN</td>\n",
       "      <td>12.0</td>\n",
       "      <td>0</td>\n",
       "    </tr>\n",
       "    <tr>\n",
       "      <th>1482533</th>\n",
       "      <td>1482533</td>\n",
       "      <td>World markets lanterns</td>\n",
       "      <td>3</td>\n",
       "      <td>Home/Home Décor/Home Décor Accents</td>\n",
       "      <td>NaN</td>\n",
       "      <td>45.0</td>\n",
       "      <td>1</td>\n",
       "    </tr>\n",
       "    <tr>\n",
       "      <th>1482534</th>\n",
       "      <td>1482534</td>\n",
       "      <td>Brand new lux de ville wallet</td>\n",
       "      <td>1</td>\n",
       "      <td>Women/Women's Accessories/Wallets</td>\n",
       "      <td>NaN</td>\n",
       "      <td>22.0</td>\n",
       "      <td>0</td>\n",
       "    </tr>\n",
       "  </tbody>\n",
       "</table>\n",
       "<p>1482535 rows × 7 columns</p>\n",
       "</div>"
      ],
      "text/plain": [
       "         train_id                                   name  item_condition_id  \\\n",
       "0               0    MLB Cincinnati Reds T Shirt Size XL                  3   \n",
       "1               1       Razer BlackWidow Chroma Keyboard                  3   \n",
       "2               2                         AVA-VIV Blouse                  1   \n",
       "3               3                  Leather Horse Statues                  1   \n",
       "4               4                   24K GOLD plated rose                  1   \n",
       "...           ...                                    ...                ...   \n",
       "1482530   1482530             Free People Inspired Dress                  2   \n",
       "1482531   1482531          Little mermaid handmade dress                  2   \n",
       "1482532   1482532  21 day fix containers and eating plan                  2   \n",
       "1482533   1482533                 World markets lanterns                  3   \n",
       "1482534   1482534          Brand new lux de ville wallet                  1   \n",
       "\n",
       "                                             category_name   brand_name  \\\n",
       "0                                        Men/Tops/T-shirts          NaN   \n",
       "1        Electronics/Computers & Tablets/Components & P...        Razer   \n",
       "2                              Women/Tops & Blouses/Blouse       Target   \n",
       "3                       Home/Home Décor/Home Décor Accents          NaN   \n",
       "4                                  Women/Jewelry/Necklaces          NaN   \n",
       "...                                                    ...          ...   \n",
       "1482530                             Women/Dresses/Mid-Calf  Free People   \n",
       "1482531                           Kids/Girls 2T-5T/Dresses       Disney   \n",
       "1482532     Sports & Outdoors/Exercise/Fitness accessories          NaN   \n",
       "1482533                 Home/Home Décor/Home Décor Accents          NaN   \n",
       "1482534                  Women/Women's Accessories/Wallets          NaN   \n",
       "\n",
       "         price  shipping  \n",
       "0         10.0         1  \n",
       "1         52.0         0  \n",
       "2         10.0         1  \n",
       "3         35.0         1  \n",
       "4         44.0         0  \n",
       "...        ...       ...  \n",
       "1482530   20.0         1  \n",
       "1482531   14.0         0  \n",
       "1482532   12.0         0  \n",
       "1482533   45.0         1  \n",
       "1482534   22.0         0  \n",
       "\n",
       "[1482535 rows x 7 columns]"
      ]
     },
     "execution_count": 25,
     "metadata": {},
     "output_type": "execute_result"
    }
   ],
   "source": [
    "dados"
   ]
  },
  {
   "cell_type": "code",
   "execution_count": 26,
   "metadata": {},
   "outputs": [
    {
     "data": {
      "text/plain": [
       "1482535"
      ]
     },
     "execution_count": 26,
     "metadata": {},
     "output_type": "execute_result"
    }
   ],
   "source": [
    "len(descriptions)"
   ]
  },
  {
   "cell_type": "code",
   "execution_count": 27,
   "metadata": {},
   "outputs": [
    {
     "data": {
      "text/plain": [
       "1481661"
      ]
     },
     "execution_count": 27,
     "metadata": {},
     "output_type": "execute_result"
    }
   ],
   "source": [
    "len(dados2)"
   ]
  },
  {
   "cell_type": "code",
   "execution_count": 28,
   "metadata": {},
   "outputs": [
    {
     "data": {
      "text/html": [
       "<div>\n",
       "<style scoped>\n",
       "    .dataframe tbody tr th:only-of-type {\n",
       "        vertical-align: middle;\n",
       "    }\n",
       "\n",
       "    .dataframe tbody tr th {\n",
       "        vertical-align: top;\n",
       "    }\n",
       "\n",
       "    .dataframe thead th {\n",
       "        text-align: right;\n",
       "    }\n",
       "</style>\n",
       "<table border=\"1\" class=\"dataframe\">\n",
       "  <thead>\n",
       "    <tr style=\"text-align: right;\">\n",
       "      <th></th>\n",
       "      <th>train_id</th>\n",
       "      <th>name</th>\n",
       "      <th>item_condition_id</th>\n",
       "      <th>category_name</th>\n",
       "      <th>brand_name</th>\n",
       "      <th>price</th>\n",
       "      <th>shipping</th>\n",
       "      <th>item_description</th>\n",
       "    </tr>\n",
       "  </thead>\n",
       "  <tbody>\n",
       "    <tr>\n",
       "      <th>0</th>\n",
       "      <td>0</td>\n",
       "      <td>MLB Cincinnati Reds T Shirt Size XL</td>\n",
       "      <td>3</td>\n",
       "      <td>Men/Tops/T-shirts</td>\n",
       "      <td>NaN</td>\n",
       "      <td>10.0</td>\n",
       "      <td>1</td>\n",
       "      <td>no description yet</td>\n",
       "    </tr>\n",
       "    <tr>\n",
       "      <th>1</th>\n",
       "      <td>1</td>\n",
       "      <td>Razer BlackWidow Chroma Keyboard</td>\n",
       "      <td>3</td>\n",
       "      <td>Electronics/Computers &amp; Tablets/Components &amp; P...</td>\n",
       "      <td>Razer</td>\n",
       "      <td>52.0</td>\n",
       "      <td>0</td>\n",
       "      <td>this keyboard is in great condition and works ...</td>\n",
       "    </tr>\n",
       "    <tr>\n",
       "      <th>2</th>\n",
       "      <td>2</td>\n",
       "      <td>AVA-VIV Blouse</td>\n",
       "      <td>1</td>\n",
       "      <td>Women/Tops &amp; Blouses/Blouse</td>\n",
       "      <td>Target</td>\n",
       "      <td>10.0</td>\n",
       "      <td>1</td>\n",
       "      <td>adorable top with a hint of lace and a key hol...</td>\n",
       "    </tr>\n",
       "    <tr>\n",
       "      <th>3</th>\n",
       "      <td>3</td>\n",
       "      <td>Leather Horse Statues</td>\n",
       "      <td>1</td>\n",
       "      <td>Home/Home Décor/Home Décor Accents</td>\n",
       "      <td>NaN</td>\n",
       "      <td>35.0</td>\n",
       "      <td>1</td>\n",
       "      <td>new with tags leather horses retail for each s...</td>\n",
       "    </tr>\n",
       "    <tr>\n",
       "      <th>4</th>\n",
       "      <td>4</td>\n",
       "      <td>24K GOLD plated rose</td>\n",
       "      <td>1</td>\n",
       "      <td>Women/Jewelry/Necklaces</td>\n",
       "      <td>NaN</td>\n",
       "      <td>44.0</td>\n",
       "      <td>0</td>\n",
       "      <td>complete with certificate of authenticity</td>\n",
       "    </tr>\n",
       "  </tbody>\n",
       "</table>\n",
       "</div>"
      ],
      "text/plain": [
       "   train_id                                 name  item_condition_id  \\\n",
       "0         0  MLB Cincinnati Reds T Shirt Size XL                  3   \n",
       "1         1     Razer BlackWidow Chroma Keyboard                  3   \n",
       "2         2                       AVA-VIV Blouse                  1   \n",
       "3         3                Leather Horse Statues                  1   \n",
       "4         4                 24K GOLD plated rose                  1   \n",
       "\n",
       "                                       category_name brand_name  price  \\\n",
       "0                                  Men/Tops/T-shirts        NaN   10.0   \n",
       "1  Electronics/Computers & Tablets/Components & P...      Razer   52.0   \n",
       "2                        Women/Tops & Blouses/Blouse     Target   10.0   \n",
       "3                 Home/Home Décor/Home Décor Accents        NaN   35.0   \n",
       "4                            Women/Jewelry/Necklaces        NaN   44.0   \n",
       "\n",
       "   shipping                                   item_description  \n",
       "0         1                                 no description yet  \n",
       "1         0  this keyboard is in great condition and works ...  \n",
       "2         1  adorable top with a hint of lace and a key hol...  \n",
       "3         1  new with tags leather horses retail for each s...  \n",
       "4         0          complete with certificate of authenticity  "
      ]
     },
     "execution_count": 28,
     "metadata": {},
     "output_type": "execute_result"
    }
   ],
   "source": [
    "dados['item_description'] = descriptions[0]\n",
    "dados.head()"
   ]
  },
  {
   "cell_type": "markdown",
   "metadata": {},
   "source": [
    "Salva arquivo com dados tratatados."
   ]
  },
  {
   "cell_type": "code",
   "execution_count": 29,
   "metadata": {},
   "outputs": [],
   "source": [
    "dados2.to_csv('train_data_prep02.csv', index=False)"
   ]
  },
  {
   "cell_type": "code",
   "execution_count": 31,
   "metadata": {},
   "outputs": [
    {
     "data": {
      "text/html": [
       "<div>\n",
       "<style scoped>\n",
       "    .dataframe tbody tr th:only-of-type {\n",
       "        vertical-align: middle;\n",
       "    }\n",
       "\n",
       "    .dataframe tbody tr th {\n",
       "        vertical-align: top;\n",
       "    }\n",
       "\n",
       "    .dataframe thead th {\n",
       "        text-align: right;\n",
       "    }\n",
       "</style>\n",
       "<table border=\"1\" class=\"dataframe\">\n",
       "  <thead>\n",
       "    <tr style=\"text-align: right;\">\n",
       "      <th></th>\n",
       "      <th>name</th>\n",
       "      <th>category_1</th>\n",
       "      <th>category_2</th>\n",
       "      <th>category_3</th>\n",
       "      <th>item_condition_id</th>\n",
       "      <th>brand_name</th>\n",
       "      <th>price</th>\n",
       "      <th>shipping</th>\n",
       "      <th>item_description</th>\n",
       "      <th>date</th>\n",
       "      <th>stock</th>\n",
       "    </tr>\n",
       "  </thead>\n",
       "  <tbody>\n",
       "    <tr>\n",
       "      <th>0</th>\n",
       "      <td>mlb cincinnati reds t shirt size xl</td>\n",
       "      <td>Men</td>\n",
       "      <td>Tops</td>\n",
       "      <td>T-shirts</td>\n",
       "      <td>3</td>\n",
       "      <td>No Brand</td>\n",
       "      <td>10.0</td>\n",
       "      <td>1</td>\n",
       "      <td>No description yet</td>\n",
       "      <td>18-6-2018</td>\n",
       "      <td>27</td>\n",
       "    </tr>\n",
       "    <tr>\n",
       "      <th>1</th>\n",
       "      <td>razer blackwidow chroma keyboard</td>\n",
       "      <td>Electronics</td>\n",
       "      <td>Computers &amp; Tablets</td>\n",
       "      <td>Components &amp; Parts</td>\n",
       "      <td>3</td>\n",
       "      <td>Razer</td>\n",
       "      <td>52.0</td>\n",
       "      <td>0</td>\n",
       "      <td>This keyboard is in great condition and works ...</td>\n",
       "      <td>18-3-2018</td>\n",
       "      <td>15</td>\n",
       "    </tr>\n",
       "    <tr>\n",
       "      <th>2</th>\n",
       "      <td>ava viv blouse</td>\n",
       "      <td>Women</td>\n",
       "      <td>Tops &amp; Blouses</td>\n",
       "      <td>Blouse</td>\n",
       "      <td>1</td>\n",
       "      <td>Target</td>\n",
       "      <td>10.0</td>\n",
       "      <td>1</td>\n",
       "      <td>Adorable top with a hint of lace and a key hol...</td>\n",
       "      <td>26-10-2018</td>\n",
       "      <td>14</td>\n",
       "    </tr>\n",
       "    <tr>\n",
       "      <th>3</th>\n",
       "      <td>leather horse statues</td>\n",
       "      <td>Home</td>\n",
       "      <td>Home Décor</td>\n",
       "      <td>Home Décor Accents</td>\n",
       "      <td>1</td>\n",
       "      <td>No Brand</td>\n",
       "      <td>35.0</td>\n",
       "      <td>1</td>\n",
       "      <td>New with tags. Leather horses. Retail for [rm]...</td>\n",
       "      <td>21-2-2018</td>\n",
       "      <td>1</td>\n",
       "    </tr>\n",
       "    <tr>\n",
       "      <th>4</th>\n",
       "      <td>24k gold plated rose</td>\n",
       "      <td>Women</td>\n",
       "      <td>Jewelry</td>\n",
       "      <td>Necklaces</td>\n",
       "      <td>1</td>\n",
       "      <td>No Brand</td>\n",
       "      <td>44.0</td>\n",
       "      <td>0</td>\n",
       "      <td>Complete with certificate of authenticity</td>\n",
       "      <td>17-4-2018</td>\n",
       "      <td>13</td>\n",
       "    </tr>\n",
       "  </tbody>\n",
       "</table>\n",
       "</div>"
      ],
      "text/plain": [
       "                                  name   category_1           category_2  \\\n",
       "0  mlb cincinnati reds t shirt size xl          Men                 Tops   \n",
       "1     razer blackwidow chroma keyboard  Electronics  Computers & Tablets   \n",
       "2                       ava viv blouse        Women       Tops & Blouses   \n",
       "3                leather horse statues         Home           Home Décor   \n",
       "4                 24k gold plated rose        Women              Jewelry   \n",
       "\n",
       "           category_3  item_condition_id brand_name  price  shipping  \\\n",
       "0            T-shirts                  3   No Brand   10.0         1   \n",
       "1  Components & Parts                  3      Razer   52.0         0   \n",
       "2              Blouse                  1     Target   10.0         1   \n",
       "3  Home Décor Accents                  1   No Brand   35.0         1   \n",
       "4           Necklaces                  1   No Brand   44.0         0   \n",
       "\n",
       "                                    item_description        date  stock  \n",
       "0                                 No description yet   18-6-2018     27  \n",
       "1  This keyboard is in great condition and works ...   18-3-2018     15  \n",
       "2  Adorable top with a hint of lace and a key hol...  26-10-2018     14  \n",
       "3  New with tags. Leather horses. Retail for [rm]...   21-2-2018      1  \n",
       "4          Complete with certificate of authenticity   17-4-2018     13  "
      ]
     },
     "execution_count": 31,
     "metadata": {},
     "output_type": "execute_result"
    }
   ],
   "source": [
    "dados2.head()"
   ]
  },
  {
   "cell_type": "code",
   "execution_count": 33,
   "metadata": {},
   "outputs": [],
   "source": [
    "from sklearn.model_selection import train_test_split\n",
    "\n",
    "base, validacao = train_test_split(dados2, test_size=0.1, stratify=dados2.category_1)\n",
    "\n",
    "validacao.to_csv('dados_validacao.csv', index=False)\n",
    "\n"
   ]
  },
  {
   "cell_type": "code",
   "execution_count": 34,
   "metadata": {},
   "outputs": [
    {
     "data": {
      "text/html": [
       "<div>\n",
       "<style scoped>\n",
       "    .dataframe tbody tr th:only-of-type {\n",
       "        vertical-align: middle;\n",
       "    }\n",
       "\n",
       "    .dataframe tbody tr th {\n",
       "        vertical-align: top;\n",
       "    }\n",
       "\n",
       "    .dataframe thead th {\n",
       "        text-align: right;\n",
       "    }\n",
       "</style>\n",
       "<table border=\"1\" class=\"dataframe\">\n",
       "  <thead>\n",
       "    <tr style=\"text-align: right;\">\n",
       "      <th></th>\n",
       "      <th>name</th>\n",
       "      <th>category_1</th>\n",
       "      <th>category_2</th>\n",
       "      <th>category_3</th>\n",
       "      <th>item_condition_id</th>\n",
       "      <th>brand_name</th>\n",
       "      <th>price</th>\n",
       "      <th>shipping</th>\n",
       "      <th>item_description</th>\n",
       "      <th>date</th>\n",
       "      <th>stock</th>\n",
       "    </tr>\n",
       "  </thead>\n",
       "  <tbody>\n",
       "    <tr>\n",
       "      <th>1395518</th>\n",
       "      <td>nwt nike power dri fit leggings m</td>\n",
       "      <td>Women</td>\n",
       "      <td>Athletic Apparel</td>\n",
       "      <td>Pants, Tights, Leggings</td>\n",
       "      <td>1</td>\n",
       "      <td>Nike</td>\n",
       "      <td>53.0</td>\n",
       "      <td>0</td>\n",
       "      <td>brand new with tag size M black/white comes fr...</td>\n",
       "      <td>14-3-2018</td>\n",
       "      <td>8</td>\n",
       "    </tr>\n",
       "    <tr>\n",
       "      <th>924011</th>\n",
       "      <td>merrell backpack</td>\n",
       "      <td>Men</td>\n",
       "      <td>Men's Accessories</td>\n",
       "      <td>Backpacks, Bags &amp; Briefcases</td>\n",
       "      <td>2</td>\n",
       "      <td>No Brand</td>\n",
       "      <td>19.0</td>\n",
       "      <td>0</td>\n",
       "      <td>Small merrell daypack</td>\n",
       "      <td>8-5-2018</td>\n",
       "      <td>10</td>\n",
       "    </tr>\n",
       "    <tr>\n",
       "      <th>978246</th>\n",
       "      <td>adidas boy athletic pants size</td>\n",
       "      <td>Kids</td>\n",
       "      <td>Boys (4+)</td>\n",
       "      <td>Bottoms</td>\n",
       "      <td>3</td>\n",
       "      <td>No Brand</td>\n",
       "      <td>8.0</td>\n",
       "      <td>1</td>\n",
       "      <td>Good condition, no tears or obvious spots Blac...</td>\n",
       "      <td>9-1-2018</td>\n",
       "      <td>13</td>\n",
       "    </tr>\n",
       "    <tr>\n",
       "      <th>337101</th>\n",
       "      <td>love pink blanket</td>\n",
       "      <td>Home</td>\n",
       "      <td>Bedding</td>\n",
       "      <td>Blankets &amp; Throws</td>\n",
       "      <td>1</td>\n",
       "      <td>No Brand</td>\n",
       "      <td>33.0</td>\n",
       "      <td>0</td>\n",
       "      <td>51x62\" Super soft and comfy blanket. Brand new...</td>\n",
       "      <td>8-2-2018</td>\n",
       "      <td>20</td>\n",
       "    </tr>\n",
       "    <tr>\n",
       "      <th>811087</th>\n",
       "      <td>42d pk lace bras</td>\n",
       "      <td>Women</td>\n",
       "      <td>Underwear</td>\n",
       "      <td>Bras</td>\n",
       "      <td>1</td>\n",
       "      <td>No Brand</td>\n",
       "      <td>14.0</td>\n",
       "      <td>0</td>\n",
       "      <td>Size: 42D Brand: Chiara Vicci Color: black and...</td>\n",
       "      <td>3-5-2018</td>\n",
       "      <td>5</td>\n",
       "    </tr>\n",
       "  </tbody>\n",
       "</table>\n",
       "</div>"
      ],
      "text/plain": [
       "                                      name category_1         category_2  \\\n",
       "1395518  nwt nike power dri fit leggings m      Women   Athletic Apparel   \n",
       "924011                    merrell backpack        Men  Men's Accessories   \n",
       "978246      adidas boy athletic pants size       Kids          Boys (4+)   \n",
       "337101                   love pink blanket       Home            Bedding   \n",
       "811087                    42d pk lace bras      Women          Underwear   \n",
       "\n",
       "                           category_3  item_condition_id brand_name  price  \\\n",
       "1395518       Pants, Tights, Leggings                  1       Nike   53.0   \n",
       "924011   Backpacks, Bags & Briefcases                  2   No Brand   19.0   \n",
       "978246                        Bottoms                  3   No Brand    8.0   \n",
       "337101              Blankets & Throws                  1   No Brand   33.0   \n",
       "811087                           Bras                  1   No Brand   14.0   \n",
       "\n",
       "         shipping                                   item_description  \\\n",
       "1395518         0  brand new with tag size M black/white comes fr...   \n",
       "924011          0                              Small merrell daypack   \n",
       "978246          1  Good condition, no tears or obvious spots Blac...   \n",
       "337101          0  51x62\" Super soft and comfy blanket. Brand new...   \n",
       "811087          0  Size: 42D Brand: Chiara Vicci Color: black and...   \n",
       "\n",
       "              date  stock  \n",
       "1395518  14-3-2018      8  \n",
       "924011    8-5-2018     10  \n",
       "978246    9-1-2018     13  \n",
       "337101    8-2-2018     20  \n",
       "811087    3-5-2018      5  "
      ]
     },
     "execution_count": 34,
     "metadata": {},
     "output_type": "execute_result"
    }
   ],
   "source": [
    "base.head()"
   ]
  },
  {
   "cell_type": "code",
   "execution_count": 35,
   "metadata": {},
   "outputs": [],
   "source": [
    "treino, teste = train_test_split(base, test_size=0.3, stratify=base.category_1)\n",
    "\n",
    "treino.to_csv('dados_treino.csv', index=False)\n",
    "teste.to_csv('dados_teste.csv', index=False)"
   ]
  },
  {
   "cell_type": "markdown",
   "metadata": {},
   "source": [
    "## Limpeza dos datasets de treino, teste e validação\n",
    "\n",
    "Ações realizadas para remoção de stopwords e lemmatização"
   ]
  },
  {
   "cell_type": "code",
   "execution_count": 36,
   "metadata": {},
   "outputs": [],
   "source": [
    "import pandas as pd\n",
    "import nltk\n",
    "from nltk import tokenize\n",
    "from nltk import word_tokenize\n",
    "from nltk.tokenize import regexp_tokenize\n",
    "from nltk.corpus import stopwords\n",
    "stemmer = nltk.stem.RSLPStemmer()\n"
   ]
  },
  {
   "cell_type": "code",
   "execution_count": 147,
   "metadata": {},
   "outputs": [
    {
     "data": {
      "text/html": [
       "<div>\n",
       "<style scoped>\n",
       "    .dataframe tbody tr th:only-of-type {\n",
       "        vertical-align: middle;\n",
       "    }\n",
       "\n",
       "    .dataframe tbody tr th {\n",
       "        vertical-align: top;\n",
       "    }\n",
       "\n",
       "    .dataframe thead th {\n",
       "        text-align: right;\n",
       "    }\n",
       "</style>\n",
       "<table border=\"1\" class=\"dataframe\">\n",
       "  <thead>\n",
       "    <tr style=\"text-align: right;\">\n",
       "      <th></th>\n",
       "      <th>name</th>\n",
       "      <th>category_1</th>\n",
       "      <th>category_2</th>\n",
       "      <th>category_3</th>\n",
       "      <th>item_condition_id</th>\n",
       "      <th>brand_name</th>\n",
       "      <th>price</th>\n",
       "      <th>shipping</th>\n",
       "      <th>item_description</th>\n",
       "      <th>date</th>\n",
       "      <th>stock</th>\n",
       "    </tr>\n",
       "  </thead>\n",
       "  <tbody>\n",
       "    <tr>\n",
       "      <th>0</th>\n",
       "      <td>two headed dragon figure</td>\n",
       "      <td>Kids</td>\n",
       "      <td>Toys</td>\n",
       "      <td>Action Figures &amp; Statues</td>\n",
       "      <td>3</td>\n",
       "      <td>Imperial</td>\n",
       "      <td>14.0</td>\n",
       "      <td>0</td>\n",
       "      <td>Vintage Imperial 1983 double headed green drag...</td>\n",
       "      <td>16-10-2018</td>\n",
       "      <td>18</td>\n",
       "    </tr>\n",
       "    <tr>\n",
       "      <th>1</th>\n",
       "      <td>strapless backless push up lace up cupd</td>\n",
       "      <td>Women</td>\n",
       "      <td>Underwear</td>\n",
       "      <td>Bras</td>\n",
       "      <td>1</td>\n",
       "      <td>No Brand</td>\n",
       "      <td>11.0</td>\n",
       "      <td>1</td>\n",
       "      <td>❤️All sizes are Available. Color(Beige,Black):...</td>\n",
       "      <td>9-7-2018</td>\n",
       "      <td>3</td>\n",
       "    </tr>\n",
       "    <tr>\n",
       "      <th>2</th>\n",
       "      <td>nike starter yankee romper</td>\n",
       "      <td>Kids</td>\n",
       "      <td>Boys 0-24 Mos</td>\n",
       "      <td>One-Pieces</td>\n",
       "      <td>2</td>\n",
       "      <td>Nike</td>\n",
       "      <td>7.0</td>\n",
       "      <td>1</td>\n",
       "      <td>Nike- New York Yankee romper. Size 6/9 months ...</td>\n",
       "      <td>16-4-2018</td>\n",
       "      <td>37</td>\n",
       "    </tr>\n",
       "    <tr>\n",
       "      <th>3</th>\n",
       "      <td>dermalogica gift set</td>\n",
       "      <td>Beauty</td>\n",
       "      <td>Makeup</td>\n",
       "      <td>Makeup Sets</td>\n",
       "      <td>1</td>\n",
       "      <td>No Brand</td>\n",
       "      <td>19.0</td>\n",
       "      <td>1</td>\n",
       "      <td>Brand new Authentic Includes: special cleansin...</td>\n",
       "      <td>9-9-2018</td>\n",
       "      <td>8</td>\n",
       "    </tr>\n",
       "    <tr>\n",
       "      <th>4</th>\n",
       "      <td>reserved for monica only</td>\n",
       "      <td>Women</td>\n",
       "      <td>Shoes</td>\n",
       "      <td>Athletic</td>\n",
       "      <td>2</td>\n",
       "      <td>Nike</td>\n",
       "      <td>12.0</td>\n",
       "      <td>0</td>\n",
       "      <td>DO NOT PURCHASE THIS LISTING UNLESS YOU ARE MO...</td>\n",
       "      <td>3-8-2018</td>\n",
       "      <td>14</td>\n",
       "    </tr>\n",
       "  </tbody>\n",
       "</table>\n",
       "</div>"
      ],
      "text/plain": [
       "                                      name category_1     category_2  \\\n",
       "0                 two headed dragon figure       Kids           Toys   \n",
       "1  strapless backless push up lace up cupd      Women      Underwear   \n",
       "2               nike starter yankee romper       Kids  Boys 0-24 Mos   \n",
       "3                     dermalogica gift set     Beauty         Makeup   \n",
       "4                 reserved for monica only      Women          Shoes   \n",
       "\n",
       "                 category_3  item_condition_id brand_name  price  shipping  \\\n",
       "0  Action Figures & Statues                  3   Imperial   14.0         0   \n",
       "1                      Bras                  1   No Brand   11.0         1   \n",
       "2                One-Pieces                  2       Nike    7.0         1   \n",
       "3               Makeup Sets                  1   No Brand   19.0         1   \n",
       "4                  Athletic                  2       Nike   12.0         0   \n",
       "\n",
       "                                    item_description        date  stock  \n",
       "0  Vintage Imperial 1983 double headed green drag...  16-10-2018     18  \n",
       "1  ❤️All sizes are Available. Color(Beige,Black):...    9-7-2018      3  \n",
       "2  Nike- New York Yankee romper. Size 6/9 months ...   16-4-2018     37  \n",
       "3  Brand new Authentic Includes: special cleansin...    9-9-2018      8  \n",
       "4  DO NOT PURCHASE THIS LISTING UNLESS YOU ARE MO...    3-8-2018     14  "
      ]
     },
     "execution_count": 147,
     "metadata": {},
     "output_type": "execute_result"
    }
   ],
   "source": [
    "dados_treino = pd.read_csv('../data/dados_teste.csv')\n",
    "dados_treino.head()"
   ]
  },
  {
   "cell_type": "code",
   "execution_count": 136,
   "metadata": {},
   "outputs": [],
   "source": [
    "cachedStopWords = stopwords.words(\"english\")\n",
    "def prep_data(name, no_name='no name'):\n",
    "    try:\n",
    "        name = name.lower()\n",
    "        token = regexp_tokenize(name, r'\\b[^\\W\\d_]+\\b')\n",
    "        token = [word for word in token if not word in cachedStopWords]\n",
    "        return ' '.join(token)\n",
    "    except:\n",
    "        print(name)\n",
    "        return no_name\n"
   ]
  },
  {
   "cell_type": "code",
   "execution_count": 148,
   "metadata": {},
   "outputs": [
    {
     "name": "stdout",
     "output_type": "stream",
     "text": [
      "nan\n"
     ]
    }
   ],
   "source": [
    "results = dados_treino.item_description.apply(prep_data, no_name='no description')"
   ]
  },
  {
   "cell_type": "code",
   "execution_count": 149,
   "metadata": {},
   "outputs": [],
   "source": [
    "dados_treino.item_description = results"
   ]
  },
  {
   "cell_type": "code",
   "execution_count": 150,
   "metadata": {},
   "outputs": [
    {
     "name": "stdout",
     "output_type": "stream",
     "text": [
      "nan\n",
      "nan\n",
      "nan\n",
      "nan\n",
      "nan\n",
      "nan\n",
      "nan\n",
      "nan\n",
      "nan\n",
      "nan\n",
      "nan\n",
      "nan\n",
      "nan\n",
      "nan\n",
      "nan\n",
      "nan\n",
      "nan\n",
      "nan\n",
      "nan\n"
     ]
    }
   ],
   "source": [
    "results = dados_treino.name.apply(prep_data)\n",
    "dados_treino.name = results"
   ]
  },
  {
   "cell_type": "code",
   "execution_count": 151,
   "metadata": {},
   "outputs": [],
   "source": [
    "dados_treino.to_csv('dados_teste_stem.csv', index=False)"
   ]
  },
  {
   "cell_type": "code",
   "execution_count": null,
   "metadata": {},
   "outputs": [],
   "source": []
  }
 ],
 "metadata": {
  "kernelspec": {
   "display_name": "Python 3.10.8 64-bit (microsoft store)",
   "language": "python",
   "name": "python3"
  },
  "language_info": {
   "codemirror_mode": {
    "name": "ipython",
    "version": 3
   },
   "file_extension": ".py",
   "mimetype": "text/x-python",
   "name": "python",
   "nbconvert_exporter": "python",
   "pygments_lexer": "ipython3",
   "version": "3.10.8"
  },
  "orig_nbformat": 4,
  "vscode": {
   "interpreter": {
    "hash": "73faed565a3fd087a4ba790022032202d38d1d35134060918681fd67d4052d26"
   }
  }
 },
 "nbformat": 4,
 "nbformat_minor": 2
}
