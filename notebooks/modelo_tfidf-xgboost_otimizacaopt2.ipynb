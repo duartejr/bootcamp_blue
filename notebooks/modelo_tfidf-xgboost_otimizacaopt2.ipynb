{
 "cells": [
  {
   "cell_type": "markdown",
   "metadata": {},
   "source": [
    "# Modelo: XGBoost com Tf-Idf"
   ]
  },
  {
   "cell_type": "code",
   "execution_count": 1,
   "metadata": {},
   "outputs": [],
   "source": [
    "import pandas as pd\n",
    "import numpy as np\n",
    "from sklearn.feature_extraction.text import TfidfVectorizer\n",
    "from sklearn import metrics\n",
    "from xgboost import XGBRegressor\n",
    "from sklearn.pipeline import Pipeline"
   ]
  },
  {
   "cell_type": "code",
   "execution_count": 2,
   "metadata": {},
   "outputs": [],
   "source": [
    "def calc_metricas(obs, pred):\n",
    "    r2 = metrics.r2_score(obs, pred).round(3)\n",
    "    mape = (100 * metrics.mean_absolute_percentage_error(obs, pred)).round(3)\n",
    "    mae = metrics.mean_absolute_error(obs, pred).round(2)\n",
    "    rmse = (metrics.mean_squared_error(obs, pred)**0.5).round(2)\n",
    "    msle = metrics.mean_squared_log_error(obs, pred).round(3)\n",
    "\n",
    "    return [r2, mape, mae, rmse, msle]\n",
    "\n",
    "def print_avaliacao(obs, pred):\n",
    "    print('R² = %.3f' % metrics.r2_score(obs, pred))\n",
    "    print('MAPE = %.3f %%' % (100 * metrics.mean_absolute_percentage_error(obs, pred)))\n",
    "    print('MAE = U$S %.2f' % (metrics.mean_absolute_error(obs, pred)))\n",
    "    print('RMSE = U$S %.2f' % metrics.mean_squared_error(obs, pred)**0.5)\n",
    "    print('MSLE = %.3f' % metrics.mean_squared_log_error(obs, pred))\n"
   ]
  },
  {
   "cell_type": "code",
   "execution_count": 3,
   "metadata": {},
   "outputs": [],
   "source": [
    "dados_treino = pd.read_csv('dados_treino_xgboost_categorizado.csv')\n",
    "dados_teste = pd.read_csv('dados_teste_xgboost_categorizado.csv')"
   ]
  },
  {
   "cell_type": "code",
   "execution_count": 17,
   "metadata": {},
   "outputs": [
    {
     "name": "stdout",
     "output_type": "stream",
     "text": [
      "38.37208546812446\n",
      "26.724370519793954\n",
      "1.4358461854023237\n"
     ]
    }
   ],
   "source": [
    "print(dados_teste.price.std())\n",
    "print(dados_teste.price.mean())\n",
    "print(dados_teste.price.std()/dados_teste.price.mean())\n"
   ]
  },
  {
   "cell_type": "code",
   "execution_count": 5,
   "metadata": {},
   "outputs": [],
   "source": [
    "import pickle\n",
    "\n",
    "dados_teste = dados_teste.assign(pred=0)\n",
    "\n",
    "\n",
    "for category in dados_treino.col_att.unique():\n",
    "    treino = dados_treino.query(f'col_att == \"{category}\"')\n",
    "    treino = treino[treino.price < treino.price.std()*3]\n",
    "    X_treino = treino['comb_name_description']\n",
    "    tfidf = TfidfVectorizer(min_df=10,\n",
    "                            max_df=0.6,\n",
    "                            ngram_range=(1,2))\n",
    "    tfidf = tfidf.fit(X_treino)\n",
    "    X_treino = tfidf.transform(X_treino)\n",
    "    df = dados_teste.query(f'col_att == \"{category}\"')\n",
    "    index = df.index\n",
    "    X_teste = tfidf.transform(df['comb_name_description'])\n",
    "    \n",
    "    with open(f'../models/modelo_{category}.pickle', 'rb') as handle:\n",
    "        model = pickle.load(handle)\n",
    "    if type(model) == dict:\n",
    "        model = model[category]\n",
    "        \n",
    "    model = model.best_estimator_\n",
    "    \n",
    "    model.fit(X_treino, np.log(treino.price))\n",
    "    \n",
    "    dados_teste.loc[index, 'pred'] = np.exp(model.predict(X_teste))\n",
    "    "
   ]
  },
  {
   "cell_type": "code",
   "execution_count": 8,
   "metadata": {},
   "outputs": [],
   "source": [
    "dados_teste.loc[dados_teste.pred < 3, 'pred'] = 3"
   ]
  },
  {
   "cell_type": "code",
   "execution_count": 9,
   "metadata": {},
   "outputs": [
    {
     "name": "stdout",
     "output_type": "stream",
     "text": [
      "R² = 0.193\n",
      "MAPE = 43.003 %\n",
      "MAE = U$S 12.05\n",
      "RMSE = U$S 34.47\n",
      "MSLE = 0.283\n"
     ]
    }
   ],
   "source": [
    "print_avaliacao(dados_teste['price'], dados_teste['pred'])"
   ]
  },
  {
   "cell_type": "markdown",
   "metadata": {},
   "source": [
    "com outliers\n",
    "\n",
    "R² = 0.393\n",
    "MAPE = 43.596 %\n",
    "MAE = U$S 11.18\n",
    "RMSE = U$S 29.90\n",
    "MSLE = 0.249\n",
    "\n",
    "sem outliers\n",
    "\n",
    "R² = 0.207\n",
    "MAPE = 41.908 %\n",
    "MAE = U$S 11.71\n",
    "RMSE = U$S 34.17\n",
    "MSLE = 0.265\n",
    "\n",
    "sem outliers categorizado\n",
    "R² = 0.230\n",
    "MAPE = 41.676 %\n",
    "MAE = U$S 11.64\n",
    "RMSE = U$S 33.68\n",
    "MSLE = 0.264\n"
   ]
  },
  {
   "cell_type": "markdown",
   "metadata": {},
   "source": [
    "Avaliação por categoria principal"
   ]
  },
  {
   "cell_type": "code",
   "execution_count": 14,
   "metadata": {},
   "outputs": [
    {
     "data": {
      "text/html": [
       "<div>\n",
       "<style scoped>\n",
       "    .dataframe tbody tr th:only-of-type {\n",
       "        vertical-align: middle;\n",
       "    }\n",
       "\n",
       "    .dataframe tbody tr th {\n",
       "        vertical-align: top;\n",
       "    }\n",
       "\n",
       "    .dataframe thead th {\n",
       "        text-align: right;\n",
       "    }\n",
       "</style>\n",
       "<table border=\"1\" class=\"dataframe\">\n",
       "  <thead>\n",
       "    <tr style=\"text-align: right;\">\n",
       "      <th></th>\n",
       "      <th>col_att</th>\n",
       "      <th>comb_name_description</th>\n",
       "      <th>price</th>\n",
       "      <th>pred</th>\n",
       "    </tr>\n",
       "  </thead>\n",
       "  <tbody>\n",
       "    <tr>\n",
       "      <th>0</th>\n",
       "      <td>Women-1</td>\n",
       "      <td>women motorcycle tshirt xl fits like small</td>\n",
       "      <td>6.0</td>\n",
       "      <td>8.194081</td>\n",
       "    </tr>\n",
       "    <tr>\n",
       "      <th>1</th>\n",
       "      <td>Women-1</td>\n",
       "      <td>alex ani necklace path life alex ani necklace ...</td>\n",
       "      <td>11.0</td>\n",
       "      <td>10.059308</td>\n",
       "    </tr>\n",
       "    <tr>\n",
       "      <th>2</th>\n",
       "      <td>Women-0</td>\n",
       "      <td>steve madden red lace heels never worn true si...</td>\n",
       "      <td>36.0</td>\n",
       "      <td>20.577404</td>\n",
       "    </tr>\n",
       "    <tr>\n",
       "      <th>3</th>\n",
       "      <td>Men-0</td>\n",
       "      <td>men black tuxedo worn times single pleated pan...</td>\n",
       "      <td>54.0</td>\n",
       "      <td>21.995853</td>\n",
       "    </tr>\n",
       "    <tr>\n",
       "      <th>5</th>\n",
       "      <td>Vintage &amp; Collectibles-0</td>\n",
       "      <td>badtz maru funko pop never opened nib great op...</td>\n",
       "      <td>25.0</td>\n",
       "      <td>30.340559</td>\n",
       "    </tr>\n",
       "  </tbody>\n",
       "</table>\n",
       "</div>"
      ],
      "text/plain": [
       "                    col_att  \\\n",
       "0                   Women-1   \n",
       "1                   Women-1   \n",
       "2                   Women-0   \n",
       "3                     Men-0   \n",
       "5  Vintage & Collectibles-0   \n",
       "\n",
       "                               comb_name_description  price       pred  \n",
       "0         women motorcycle tshirt xl fits like small    6.0   8.194081  \n",
       "1  alex ani necklace path life alex ani necklace ...   11.0  10.059308  \n",
       "2  steve madden red lace heels never worn true si...   36.0  20.577404  \n",
       "3  men black tuxedo worn times single pleated pan...   54.0  21.995853  \n",
       "5  badtz maru funko pop never opened nib great op...   25.0  30.340559  "
      ]
     },
     "execution_count": 14,
     "metadata": {},
     "output_type": "execute_result"
    }
   ],
   "source": [
    "dados_teste2 = dados_teste[dados_teste.price <= dados_teste.price.std()*3]\n",
    "dados_teste2.head()"
   ]
  },
  {
   "cell_type": "code",
   "execution_count": 37,
   "metadata": {},
   "outputs": [
    {
     "data": {
      "text/html": [
       "<div>\n",
       "<style scoped>\n",
       "    .dataframe tbody tr th:only-of-type {\n",
       "        vertical-align: middle;\n",
       "    }\n",
       "\n",
       "    .dataframe tbody tr th {\n",
       "        vertical-align: top;\n",
       "    }\n",
       "\n",
       "    .dataframe thead th {\n",
       "        text-align: right;\n",
       "    }\n",
       "</style>\n",
       "<table border=\"1\" class=\"dataframe\">\n",
       "  <thead>\n",
       "    <tr style=\"text-align: right;\">\n",
       "      <th></th>\n",
       "      <th>col_att</th>\n",
       "      <th>comb_name_description</th>\n",
       "      <th>price</th>\n",
       "      <th>pred</th>\n",
       "    </tr>\n",
       "  </thead>\n",
       "  <tbody>\n",
       "    <tr>\n",
       "      <th>0</th>\n",
       "      <td>Women-1</td>\n",
       "      <td>women motorcycle tshirt xl fits like small</td>\n",
       "      <td>6.0</td>\n",
       "      <td>0</td>\n",
       "    </tr>\n",
       "    <tr>\n",
       "      <th>1</th>\n",
       "      <td>Women-1</td>\n",
       "      <td>alex ani necklace path life alex ani necklace ...</td>\n",
       "      <td>11.0</td>\n",
       "      <td>0</td>\n",
       "    </tr>\n",
       "    <tr>\n",
       "      <th>2</th>\n",
       "      <td>Women-0</td>\n",
       "      <td>steve madden red lace heels never worn true si...</td>\n",
       "      <td>36.0</td>\n",
       "      <td>0</td>\n",
       "    </tr>\n",
       "    <tr>\n",
       "      <th>3</th>\n",
       "      <td>Men-0</td>\n",
       "      <td>men black tuxedo worn times single pleated pan...</td>\n",
       "      <td>54.0</td>\n",
       "      <td>0</td>\n",
       "    </tr>\n",
       "    <tr>\n",
       "      <th>5</th>\n",
       "      <td>Vintage &amp; Collectibles-0</td>\n",
       "      <td>badtz maru funko pop never opened nib great op...</td>\n",
       "      <td>25.0</td>\n",
       "      <td>0</td>\n",
       "    </tr>\n",
       "  </tbody>\n",
       "</table>\n",
       "</div>"
      ],
      "text/plain": [
       "                    col_att  \\\n",
       "0                   Women-1   \n",
       "1                   Women-1   \n",
       "2                   Women-0   \n",
       "3                     Men-0   \n",
       "5  Vintage & Collectibles-0   \n",
       "\n",
       "                               comb_name_description  price  pred  \n",
       "0         women motorcycle tshirt xl fits like small    6.0     0  \n",
       "1  alex ani necklace path life alex ani necklace ...   11.0     0  \n",
       "2  steve madden red lace heels never worn true si...   36.0     0  \n",
       "3  men black tuxedo worn times single pleated pan...   54.0     0  \n",
       "5  badtz maru funko pop never opened nib great op...   25.0     0  "
      ]
     },
     "execution_count": 37,
     "metadata": {},
     "output_type": "execute_result"
    }
   ],
   "source": [
    "# dados_teste2 = dados_teste2.assign(pred=0)\n",
    "# dados_teste2.head()"
   ]
  },
  {
   "cell_type": "code",
   "execution_count": 15,
   "metadata": {},
   "outputs": [
    {
     "name": "stdout",
     "output_type": "stream",
     "text": [
      "R² = 0.391\n",
      "MAPE = 42.311 %\n",
      "MAE = U$S 8.68\n",
      "RMSE = U$S 14.28\n",
      "MSLE = 0.229\n"
     ]
    }
   ],
   "source": [
    "print_avaliacao(dados_teste2['price'], dados_teste2['pred'])"
   ]
  },
  {
   "cell_type": "code",
   "execution_count": null,
   "metadata": {},
   "outputs": [],
   "source": []
  },
  {
   "cell_type": "code",
   "execution_count": 62,
   "metadata": {},
   "outputs": [],
   "source": [
    "for category in dados_teste2.col_att.unique():\n",
    "    index = dados_teste2.query(f'col_att == \"{category}\"').index\n",
    "    dados_teste2.loc[index, 'pred'] = np.exp(modelos[category].predict(dados_teste2.loc[index]['comb_name_description']))\n",
    "\n",
    "dados_teste2.loc[dados_teste2.pred < 3, 'pred'] = 3"
   ]
  },
  {
   "cell_type": "code",
   "execution_count": 16,
   "metadata": {},
   "outputs": [
    {
     "name": "stdout",
     "output_type": "stream",
     "text": [
      "18.28703815039701\n",
      "22.629095637232208\n",
      "0.8081205914525764\n"
     ]
    }
   ],
   "source": [
    "print(dados_teste2.price.std())\n",
    "print(dados_teste2.price.mean())\n",
    "print(dados_teste2.price.std()/dados_teste2.price.mean())\n"
   ]
  },
  {
   "cell_type": "code",
   "execution_count": 63,
   "metadata": {},
   "outputs": [
    {
     "name": "stdout",
     "output_type": "stream",
     "text": [
      "R² = 0.424\n",
      "MAPE = 41.025 %\n",
      "MAE = U$S 8.40\n",
      "RMSE = U$S 13.88\n",
      "MSLE = 0.215\n"
     ]
    }
   ],
   "source": [
    "print_avaliacao(dados_teste2['price'], dados_teste2['pred'])"
   ]
  },
  {
   "cell_type": "markdown",
   "metadata": {},
   "source": [
    "sem outliers\n",
    "\n",
    "R² = 0.439\n",
    "MAPE = 41.211 %\n",
    "MAE = U$S 8.36\n",
    "RMSE = U$S 13.70\n",
    "MSLE = 0.213\n",
    "\n",
    "sem ouliers categorizados\n",
    "\n",
    "R² = 0.424\n",
    "MAPE = 41.025 %\n",
    "MAE = U$S 8.40\n",
    "RMSE = U$S 13.88\n",
    "MSLE = 0.215"
   ]
  },
  {
   "cell_type": "code",
   "execution_count": 18,
   "metadata": {},
   "outputs": [
    {
     "ename": "AttributeError",
     "evalue": "'DataFrame' object has no attribute 'category_1'",
     "output_type": "error",
     "traceback": [
      "\u001b[0;31m---------------------------------------------------------------------------\u001b[0m",
      "\u001b[0;31mAttributeError\u001b[0m                            Traceback (most recent call last)",
      "\u001b[1;32m/home/duartejunior/bootcamp/notebooks/modelo_tfidf-xgboost_otimizacao.ipynb Cell 28\u001b[0m in \u001b[0;36m<cell line: 3>\u001b[0;34m()\u001b[0m\n\u001b[1;32m      <a href='vscode-notebook-cell:/home/duartejunior/bootcamp/notebooks/modelo_tfidf-xgboost_otimizacao.ipynb#X36sZmlsZQ%3D%3D?line=0'>1</a>\u001b[0m avaliacoes \u001b[39m=\u001b[39m {}\n\u001b[0;32m----> <a href='vscode-notebook-cell:/home/duartejunior/bootcamp/notebooks/modelo_tfidf-xgboost_otimizacao.ipynb#X36sZmlsZQ%3D%3D?line=2'>3</a>\u001b[0m \u001b[39mfor\u001b[39;00m categoria \u001b[39min\u001b[39;00m dados_teste1\u001b[39m.\u001b[39;49mcategory_1\u001b[39m.\u001b[39munique():\n\u001b[1;32m      <a href='vscode-notebook-cell:/home/duartejunior/bootcamp/notebooks/modelo_tfidf-xgboost_otimizacao.ipynb#X36sZmlsZQ%3D%3D?line=3'>4</a>\u001b[0m     dados_cat \u001b[39m=\u001b[39m dados_teste1\u001b[39m.\u001b[39mquery(\u001b[39mf\u001b[39m\u001b[39m'\u001b[39m\u001b[39mcategory_1 == \u001b[39m\u001b[39m\"\u001b[39m\u001b[39m{\u001b[39;00mcategoria\u001b[39m}\u001b[39;00m\u001b[39m\"\u001b[39m\u001b[39m'\u001b[39m)\n\u001b[1;32m      <a href='vscode-notebook-cell:/home/duartejunior/bootcamp/notebooks/modelo_tfidf-xgboost_otimizacao.ipynb#X36sZmlsZQ%3D%3D?line=4'>5</a>\u001b[0m     avaliacoes[categoria] \u001b[39m=\u001b[39m calc_metricas(dados_cat[\u001b[39m'\u001b[39m\u001b[39mprice\u001b[39m\u001b[39m'\u001b[39m], dados_cat[\u001b[39m'\u001b[39m\u001b[39mpred\u001b[39m\u001b[39m'\u001b[39m])\n",
      "File \u001b[0;32m~/anaconda3/lib/python3.9/site-packages/pandas/core/generic.py:5575\u001b[0m, in \u001b[0;36mNDFrame.__getattr__\u001b[0;34m(self, name)\u001b[0m\n\u001b[1;32m   5568\u001b[0m \u001b[39mif\u001b[39;00m (\n\u001b[1;32m   5569\u001b[0m     name \u001b[39mnot\u001b[39;00m \u001b[39min\u001b[39;00m \u001b[39mself\u001b[39m\u001b[39m.\u001b[39m_internal_names_set\n\u001b[1;32m   5570\u001b[0m     \u001b[39mand\u001b[39;00m name \u001b[39mnot\u001b[39;00m \u001b[39min\u001b[39;00m \u001b[39mself\u001b[39m\u001b[39m.\u001b[39m_metadata\n\u001b[1;32m   5571\u001b[0m     \u001b[39mand\u001b[39;00m name \u001b[39mnot\u001b[39;00m \u001b[39min\u001b[39;00m \u001b[39mself\u001b[39m\u001b[39m.\u001b[39m_accessors\n\u001b[1;32m   5572\u001b[0m     \u001b[39mand\u001b[39;00m \u001b[39mself\u001b[39m\u001b[39m.\u001b[39m_info_axis\u001b[39m.\u001b[39m_can_hold_identifiers_and_holds_name(name)\n\u001b[1;32m   5573\u001b[0m ):\n\u001b[1;32m   5574\u001b[0m     \u001b[39mreturn\u001b[39;00m \u001b[39mself\u001b[39m[name]\n\u001b[0;32m-> 5575\u001b[0m \u001b[39mreturn\u001b[39;00m \u001b[39mobject\u001b[39;49m\u001b[39m.\u001b[39;49m\u001b[39m__getattribute__\u001b[39;49m(\u001b[39mself\u001b[39;49m, name)\n",
      "\u001b[0;31mAttributeError\u001b[0m: 'DataFrame' object has no attribute 'category_1'"
     ]
    }
   ],
   "source": [
    "avaliacoes = {}\n",
    "\n",
    "for categoria in dados_teste1.category_1.unique():\n",
    "    dados_cat = dados_teste1.query(f'category_1 == \"{categoria}\"')\n",
    "    avaliacoes[categoria] = calc_metricas(dados_cat['price'], dados_cat['pred'])\n",
    "\n",
    "avaliacoes = pd.DataFrame(avaliacoes, index=['R²', 'MAPE', 'MAE', 'RMSE', 'MSLE'])\n",
    "\n",
    "avaliacoes"
   ]
  },
  {
   "cell_type": "code",
   "execution_count": null,
   "metadata": {},
   "outputs": [],
   "source": []
  }
 ],
 "metadata": {
  "kernelspec": {
   "display_name": "Python 3.9.12 ('base')",
   "language": "python",
   "name": "python3"
  },
  "language_info": {
   "codemirror_mode": {
    "name": "ipython",
    "version": 3
   },
   "file_extension": ".py",
   "mimetype": "text/x-python",
   "name": "python",
   "nbconvert_exporter": "python",
   "pygments_lexer": "ipython3",
   "version": "3.9.12"
  },
  "orig_nbformat": 4,
  "vscode": {
   "interpreter": {
    "hash": "7832355663de3739c43a670b9e0e66b306696971f3c515f01e5590b4e36bbdc6"
   }
  }
 },
 "nbformat": 4,
 "nbformat_minor": 2
}
