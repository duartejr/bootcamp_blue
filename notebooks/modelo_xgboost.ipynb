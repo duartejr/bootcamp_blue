{
 "cells": [
  {
   "cell_type": "code",
   "execution_count": 1,
   "metadata": {},
   "outputs": [],
   "source": [
    "import pandas as pd\n",
    "import numpy as np\n",
    "from sklearn.ensemble import RandomForestRegressor\n",
    "from sklearn.preprocessing import LabelEncoder\n",
    "from sklearn.metrics import r2_score, mean_absolute_error, mean_squared_error\n",
    "from sklearn.model_selection import train_test_split"
   ]
  },
  {
   "cell_type": "code",
   "execution_count": 2,
   "metadata": {},
   "outputs": [],
   "source": [
    "dados_treino = pd.read_csv('../data/processed/train_data.csv')\n",
    "dados_teste = pd.read_csv('../data/processed/test_data.csv')"
   ]
  },
  {
   "cell_type": "code",
   "execution_count": 3,
   "metadata": {},
   "outputs": [],
   "source": [
    "le_cat1 = LabelEncoder()\n",
    "le_cat2 = LabelEncoder()\n",
    "le_cat3 = LabelEncoder()\n",
    "le_brand = LabelEncoder()\n",
    "\n",
    "le_cat1 = le_cat1.fit(dados_treino.category_1)\n",
    "le_cat2 = le_cat2.fit(dados_treino.category_2)\n",
    "le_cat3 = le_cat3.fit(dados_treino.category_3)\n",
    "le_brand = le_brand.fit(dados_treino.brand_name)\n",
    "\n",
    "dados_treino['category_1'] = le_cat1.transform(dados_treino.category_1)\n",
    "dados_treino['category_2'] = le_cat2.transform(dados_treino.category_2)\n",
    "dados_treino['category_3'] = le_cat3.transform(dados_treino.category_3)\n",
    "dados_treino['brand_name'] = le_brand.transform(dados_treino.brand_name)"
   ]
  },
  {
   "cell_type": "code",
   "execution_count": 4,
   "metadata": {},
   "outputs": [],
   "source": [
    "dic_cat1 = dict(zip(le_cat1.classes_, le_cat1.transform(le_cat1.classes_)))\n",
    "dic_cat2 = dict(zip(le_cat2.classes_, le_cat2.transform(le_cat2.classes_)))\n",
    "dic_cat3 = dict(zip(le_cat3.classes_, le_cat3.transform(le_cat3.classes_)))\n",
    "dic_brand = dict(zip(le_brand.classes_, le_brand.transform(le_brand.classes_)))\n"
   ]
  },
  {
   "cell_type": "code",
   "execution_count": 5,
   "metadata": {},
   "outputs": [
    {
     "data": {
      "text/html": [
       "<div>\n",
       "<style scoped>\n",
       "    .dataframe tbody tr th:only-of-type {\n",
       "        vertical-align: middle;\n",
       "    }\n",
       "\n",
       "    .dataframe tbody tr th {\n",
       "        vertical-align: top;\n",
       "    }\n",
       "\n",
       "    .dataframe thead th {\n",
       "        text-align: right;\n",
       "    }\n",
       "</style>\n",
       "<table border=\"1\" class=\"dataframe\">\n",
       "  <thead>\n",
       "    <tr style=\"text-align: right;\">\n",
       "      <th></th>\n",
       "      <th>name</th>\n",
       "      <th>category_1</th>\n",
       "      <th>category_2</th>\n",
       "      <th>category_3</th>\n",
       "      <th>item_condition_id</th>\n",
       "      <th>brand_name</th>\n",
       "      <th>price</th>\n",
       "      <th>shipping</th>\n",
       "      <th>item_description</th>\n",
       "      <th>date</th>\n",
       "      <th>stock</th>\n",
       "    </tr>\n",
       "  </thead>\n",
       "  <tbody>\n",
       "    <tr>\n",
       "      <th>0</th>\n",
       "      <td>women s motorcycle tshirt</td>\n",
       "      <td>10</td>\n",
       "      <td>104</td>\n",
       "      <td>751.0</td>\n",
       "      <td>3</td>\n",
       "      <td>1709.0</td>\n",
       "      <td>6.0</td>\n",
       "      <td>1</td>\n",
       "      <td>xl fits like a small</td>\n",
       "      <td>9-4-2018</td>\n",
       "      <td>8</td>\n",
       "    </tr>\n",
       "    <tr>\n",
       "      <th>1</th>\n",
       "      <td>alex and ani necklace</td>\n",
       "      <td>10</td>\n",
       "      <td>58</td>\n",
       "      <td>530.0</td>\n",
       "      <td>2</td>\n",
       "      <td>47.0</td>\n",
       "      <td>11.0</td>\n",
       "      <td>1</td>\n",
       "      <td>path of life alex and ani necklace in gold has...</td>\n",
       "      <td>25-1-2018</td>\n",
       "      <td>8</td>\n",
       "    </tr>\n",
       "    <tr>\n",
       "      <th>2</th>\n",
       "      <td>steve madden red lace up heels</td>\n",
       "      <td>10</td>\n",
       "      <td>88</td>\n",
       "      <td>629.0</td>\n",
       "      <td>2</td>\n",
       "      <td>3682.0</td>\n",
       "      <td>36.0</td>\n",
       "      <td>0</td>\n",
       "      <td>never been worn isn t true to size runs small</td>\n",
       "      <td>30-11-2018</td>\n",
       "      <td>9</td>\n",
       "    </tr>\n",
       "    <tr>\n",
       "      <th>3</th>\n",
       "      <td>men s black tuxedo</td>\n",
       "      <td>5</td>\n",
       "      <td>94</td>\n",
       "      <td>811.0</td>\n",
       "      <td>3</td>\n",
       "      <td>2795.0</td>\n",
       "      <td>54.0</td>\n",
       "      <td>0</td>\n",
       "      <td>worn a few times single pleated pants pants ar...</td>\n",
       "      <td>30-7-2018</td>\n",
       "      <td>7</td>\n",
       "    </tr>\n",
       "    <tr>\n",
       "      <th>4</th>\n",
       "      <td>red open back mermaid style dress xs</td>\n",
       "      <td>10</td>\n",
       "      <td>35</td>\n",
       "      <td>334.0</td>\n",
       "      <td>1</td>\n",
       "      <td>2795.0</td>\n",
       "      <td>316.0</td>\n",
       "      <td>0</td>\n",
       "      <td>this full length wine red mermaid style backle...</td>\n",
       "      <td>29-7-2018</td>\n",
       "      <td>34</td>\n",
       "    </tr>\n",
       "    <tr>\n",
       "      <th>...</th>\n",
       "      <td>...</td>\n",
       "      <td>...</td>\n",
       "      <td>...</td>\n",
       "      <td>...</td>\n",
       "      <td>...</td>\n",
       "      <td>...</td>\n",
       "      <td>...</td>\n",
       "      <td>...</td>\n",
       "      <td>...</td>\n",
       "      <td>...</td>\n",
       "      <td>...</td>\n",
       "    </tr>\n",
       "    <tr>\n",
       "      <th>444494</th>\n",
       "      <td>pink vs sleep shorts</td>\n",
       "      <td>10</td>\n",
       "      <td>5</td>\n",
       "      <td>687.0</td>\n",
       "      <td>3</td>\n",
       "      <td>2928.0</td>\n",
       "      <td>12.0</td>\n",
       "      <td>0</td>\n",
       "      <td>size small great condition barely ever worn to...</td>\n",
       "      <td>16-12-2018</td>\n",
       "      <td>7</td>\n",
       "    </tr>\n",
       "    <tr>\n",
       "      <th>444495</th>\n",
       "      <td>coach hand bag</td>\n",
       "      <td>10</td>\n",
       "      <td>112</td>\n",
       "      <td>392.0</td>\n",
       "      <td>3</td>\n",
       "      <td>926.0</td>\n",
       "      <td>86.0</td>\n",
       "      <td>0</td>\n",
       "      <td>this large black hobo coach is in a very good ...</td>\n",
       "      <td>15-11-2018</td>\n",
       "      <td>3</td>\n",
       "    </tr>\n",
       "    <tr>\n",
       "      <th>444496</th>\n",
       "      <td>waffle knit sweater forever</td>\n",
       "      <td>10</td>\n",
       "      <td>97</td>\n",
       "      <td>226.0</td>\n",
       "      <td>3</td>\n",
       "      <td>1384.0</td>\n",
       "      <td>14.0</td>\n",
       "      <td>0</td>\n",
       "      <td>great condition tags forever american apparel ...</td>\n",
       "      <td>2-3-2018</td>\n",
       "      <td>4</td>\n",
       "    </tr>\n",
       "    <tr>\n",
       "      <th>444497</th>\n",
       "      <td>dr dre beats solo</td>\n",
       "      <td>1</td>\n",
       "      <td>100</td>\n",
       "      <td>381.0</td>\n",
       "      <td>3</td>\n",
       "      <td>457.0</td>\n",
       "      <td>69.0</td>\n",
       "      <td>0</td>\n",
       "      <td>blue fits any head amazing sound no longer in use</td>\n",
       "      <td>19-3-2018</td>\n",
       "      <td>6</td>\n",
       "    </tr>\n",
       "    <tr>\n",
       "      <th>444498</th>\n",
       "      <td>grey nike sb shoes</td>\n",
       "      <td>5</td>\n",
       "      <td>88</td>\n",
       "      <td>303.0</td>\n",
       "      <td>2</td>\n",
       "      <td>2780.0</td>\n",
       "      <td>30.0</td>\n",
       "      <td>0</td>\n",
       "      <td>never been worn dark grey nike sb shoes</td>\n",
       "      <td>7-12-2018</td>\n",
       "      <td>1</td>\n",
       "    </tr>\n",
       "  </tbody>\n",
       "</table>\n",
       "<p>444499 rows × 11 columns</p>\n",
       "</div>"
      ],
      "text/plain": [
       "                                        name  category_1  category_2  \\\n",
       "0                  women s motorcycle tshirt          10         104   \n",
       "1                      alex and ani necklace          10          58   \n",
       "2             steve madden red lace up heels          10          88   \n",
       "3                         men s black tuxedo           5          94   \n",
       "4       red open back mermaid style dress xs          10          35   \n",
       "...                                      ...         ...         ...   \n",
       "444494                  pink vs sleep shorts          10           5   \n",
       "444495                        coach hand bag          10         112   \n",
       "444496           waffle knit sweater forever          10          97   \n",
       "444497                     dr dre beats solo           1         100   \n",
       "444498                    grey nike sb shoes           5          88   \n",
       "\n",
       "        category_3  item_condition_id  brand_name  price  shipping  \\\n",
       "0            751.0                  3      1709.0    6.0         1   \n",
       "1            530.0                  2        47.0   11.0         1   \n",
       "2            629.0                  2      3682.0   36.0         0   \n",
       "3            811.0                  3      2795.0   54.0         0   \n",
       "4            334.0                  1      2795.0  316.0         0   \n",
       "...            ...                ...         ...    ...       ...   \n",
       "444494       687.0                  3      2928.0   12.0         0   \n",
       "444495       392.0                  3       926.0   86.0         0   \n",
       "444496       226.0                  3      1384.0   14.0         0   \n",
       "444497       381.0                  3       457.0   69.0         0   \n",
       "444498       303.0                  2      2780.0   30.0         0   \n",
       "\n",
       "                                         item_description        date  stock  \n",
       "0                                    xl fits like a small    9-4-2018      8  \n",
       "1       path of life alex and ani necklace in gold has...   25-1-2018      8  \n",
       "2           never been worn isn t true to size runs small  30-11-2018      9  \n",
       "3       worn a few times single pleated pants pants ar...   30-7-2018      7  \n",
       "4       this full length wine red mermaid style backle...   29-7-2018     34  \n",
       "...                                                   ...         ...    ...  \n",
       "444494  size small great condition barely ever worn to...  16-12-2018      7  \n",
       "444495  this large black hobo coach is in a very good ...  15-11-2018      3  \n",
       "444496  great condition tags forever american apparel ...    2-3-2018      4  \n",
       "444497  blue fits any head amazing sound no longer in use   19-3-2018      6  \n",
       "444498            never been worn dark grey nike sb shoes   7-12-2018      1  \n",
       "\n",
       "[444499 rows x 11 columns]"
      ]
     },
     "execution_count": 5,
     "metadata": {},
     "output_type": "execute_result"
    }
   ],
   "source": [
    "dados_teste = pd.read_csv('../data/processed/test_data.csv')\n",
    "dados_teste['category_1'] = dados_teste['category_1'].map(dic_cat1).fillna(-1)\n",
    "dados_teste['category_2'] = dados_teste['category_2'].map(dic_cat2).fillna(-1)\n",
    "dados_teste['category_3'] = dados_teste['category_3'].map(dic_cat3).fillna(-1)\n",
    "dados_teste['brand_name'] = dados_teste['brand_name'].map(dic_brand).fillna(-1)\n",
    "dados_teste"
   ]
  },
  {
   "cell_type": "code",
   "execution_count": 6,
   "metadata": {},
   "outputs": [],
   "source": [
    "from xgboost import XGBRegressor"
   ]
  },
  {
   "cell_type": "code",
   "execution_count": 32,
   "metadata": {},
   "outputs": [
    {
     "name": "stdout",
     "output_type": "stream",
     "text": [
      "R² = 0.3601393113616167\n",
      "RMSE = 30.688015361099747\n",
      "MAE = 13.141685174350767\n"
     ]
    }
   ],
   "source": [
    "# model = xgboost.XGBRegressor(random_state=101, n_jobs=-1)\n",
    "model = XGBRegressor(n_estimators=1000, \n",
    "                     max_depth=7,\n",
    "                     grow_policy='lossguide', \n",
    "                     eta=0.1, \n",
    "                     subsample=0.7, \n",
    "                     colsample_bytree=0.8, \n",
    "                     random_state=101, \n",
    "                     n_jobs=-1)\n",
    "X_treino = dados_treino[['category_1', 'category_2', 'category_3', 'brand_name', 'item_condition_id', 'shipping']]\n",
    "y_treino = dados_treino['price']\n",
    "model.fit(X_treino, y_treino)\n",
    "\n",
    "pred = model.predict(dados_teste[['category_1', 'category_2', 'category_3', 'brand_name', 'item_condition_id', 'shipping']])\n",
    "for i in range(len(pred)):\n",
    "    if pred[i] < 3:\n",
    "        pred[i] = 3\n",
    "print('R² =', r2_score(dados_teste.price, pred))\n",
    "print('RMSE =', mean_squared_error(dados_teste.price, pred)**0.5)\n",
    "print('MAE =', mean_absolute_error(dados_teste.price, pred))"
   ]
  },
  {
   "cell_type": "markdown",
   "metadata": {},
   "source": [
    "R² = 0.3601393113616167\n",
    "\n",
    "RMSE = 30.688015361099747\n",
    "\n",
    "MAE = 13.141685174350767"
   ]
  },
  {
   "cell_type": "code",
   "execution_count": 31,
   "metadata": {},
   "outputs": [
    {
     "data": {
      "text/plain": [
       "3.0"
      ]
     },
     "execution_count": 31,
     "metadata": {},
     "output_type": "execute_result"
    }
   ],
   "source": [
    "dados_teste.price.min()"
   ]
  },
  {
   "cell_type": "code",
   "execution_count": 27,
   "metadata": {},
   "outputs": [
    {
     "name": "stdout",
     "output_type": "stream",
     "text": [
      "R² = 0.35529784555820054\n",
      "RMSE = 30.803896045771896\n",
      "MAE = 13.022280064591879\n"
     ]
    }
   ],
   "source": [
    "print('R² =', r2_score(dados_teste.price, pred))\n",
    "print('RMSE =', mean_squared_error(dados_teste.price, pred)**0.5)\n",
    "print('MAE =', mean_absolute_error(dados_teste.price, pred))"
   ]
  },
  {
   "cell_type": "code",
   "execution_count": 33,
   "metadata": {},
   "outputs": [
    {
     "name": "stdout",
     "output_type": "stream",
     "text": [
      "RMSE = 0.35022052533453957\n"
     ]
    }
   ],
   "source": [
    "from sklearn.metrics import mean_squared_log_error\n",
    "\n",
    "print('RMSE =', mean_squared_log_error(dados_teste.price, pred))"
   ]
  },
  {
   "cell_type": "code",
   "execution_count": 34,
   "metadata": {},
   "outputs": [],
   "source": [
    "amostra = train_test_split(dados_teste,\n",
    "                           test_size=1000,\n",
    "                           random_state=101,\n",
    "                           stratify=dados_teste[['category_1', 'item_condition_id']])[1]"
   ]
  },
  {
   "cell_type": "code",
   "execution_count": 35,
   "metadata": {},
   "outputs": [],
   "source": [
    "pred = model.predict(amostra[['category_1', 'category_2', 'category_3', 'brand_name', 'item_condition_id', 'shipping']])\n",
    "for i in range(len(pred)):\n",
    "    if pred[i] < 3:\n",
    "        pred[i] = 3"
   ]
  },
  {
   "cell_type": "code",
   "execution_count": 36,
   "metadata": {},
   "outputs": [
    {
     "name": "stdout",
     "output_type": "stream",
     "text": [
      "R² = 0.5149590048671143\n",
      "RMSE = 29.101584640830595\n",
      "MAE = 13.81266304206848\n"
     ]
    }
   ],
   "source": [
    "print('R² =', r2_score(amostra.price, pred))\n",
    "print('RMSE =', mean_squared_error(amostra.price, pred)**0.5)\n",
    "print('MAE =', mean_absolute_error(amostra.price, pred))"
   ]
  },
  {
   "cell_type": "code",
   "execution_count": 17,
   "metadata": {},
   "outputs": [
    {
     "data": {
      "text/plain": [
       "961"
      ]
     },
     "execution_count": 17,
     "metadata": {},
     "output_type": "execute_result"
    }
   ],
   "source": [
    "31**2"
   ]
  },
  {
   "cell_type": "code",
   "execution_count": 37,
   "metadata": {},
   "outputs": [
    {
     "data": {
      "text/plain": [
       "<matplotlib.collections.PathCollection at 0x7fce0652b2e0>"
      ]
     },
     "execution_count": 37,
     "metadata": {},
     "output_type": "execute_result"
    },
    {
     "data": {
      "image/png": "[encoded data removed]",
      "text/plain": [
       "<Figure size 432x288 with 1 Axes>"
      ]
     },
     "metadata": {
      "needs_background": "light"
     },
     "output_type": "display_data"
    }
   ],
   "source": [
    "import matplotlib.pyplot as plt\n",
    "\n",
    "\n",
    "plt.scatter(amostra.price, pred)"
   ]
  },
  {
   "cell_type": "code",
   "execution_count": null,
   "metadata": {},
   "outputs": [],
   "source": []
  }
 ],
 "metadata": {
  "kernelspec": {
   "display_name": "Python 3.9.12 ('base')",
   "language": "python",
   "name": "python3"
  },
  "language_info": {
   "codemirror_mode": {
    "name": "ipython",
    "version": 3
   },
   "file_extension": ".py",
   "mimetype": "text/x-python",
   "name": "python",
   "nbconvert_exporter": "python",
   "pygments_lexer": "ipython3",
   "version": "3.9.12"
  },
  "orig_nbformat": 4,
  "vscode": {
   "interpreter": {
    "hash": "7832355663de3739c43a670b9e0e66b306696971f3c515f01e5590b4e36bbdc6"
   }
  }
 },
 "nbformat": 4,
 "nbformat_minor": 2
}
