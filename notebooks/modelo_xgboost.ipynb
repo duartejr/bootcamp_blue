{
 "cells": [
  {
   "cell_type": "markdown",
   "metadata": {},
   "source": [
    "# Modelo: XGBoost"
   ]
  },
  {
   "cell_type": "code",
   "execution_count": 1,
   "metadata": {},
   "outputs": [],
   "source": [
    "import pandas as pd\n",
    "import numpy as np\n",
    "from sklearn.preprocessing import LabelEncoder\n",
    "from sklearn import metrics\n",
    "from xgboost import XGBRegressor"
   ]
  },
  {
   "cell_type": "code",
   "execution_count": 8,
   "metadata": {},
   "outputs": [],
   "source": [
    "def calc_metricas(obs, pred):\n",
    "    r2 = metrics.r2_score(obs, pred).round(3)\n",
    "    mape = (100 * metrics.mean_absolute_percentage_error(obs, pred)).round(3)\n",
    "    mae = metrics.mean_absolute_error(obs, pred).round(2)\n",
    "    rmse = (metrics.mean_squared_error(obs, pred)**0.5).round(2)\n",
    "    msle = metrics.mean_squared_log_error(obs, pred).round(3)\n",
    "    \n",
    "    return [r2, mape, mae, rmse, msle]\n",
    "\n",
    "def print_avaliacao(obs, pred):\n",
    "    print('R² = %.3f' % metrics.r2_score(obs, pred))\n",
    "    print('MAPE = %.3f %%' % (100 * metrics.mean_absolute_percentage_error(obs, pred)))\n",
    "    print('MAE = U$S %.2f' % (metrics.mean_absolute_error(obs, pred)))\n",
    "    print('RMSE = U$S %.2f' % metrics.mean_squared_error(obs, pred)**0.5)\n",
    "    print('MSLE = %.3f' % metrics.mean_squared_log_error(obs, pred))\n"
   ]
  },
  {
   "cell_type": "code",
   "execution_count": 2,
   "metadata": {},
   "outputs": [],
   "source": [
    "dados_treino = pd.read_csv('../data/processed/train_data.csv')\n",
    "dados_teste = pd.read_csv('../data/processed/test_data.csv')"
   ]
  },
  {
   "cell_type": "code",
   "execution_count": 3,
   "metadata": {},
   "outputs": [],
   "source": [
    "le_cat1 = LabelEncoder()\n",
    "le_cat2 = LabelEncoder()\n",
    "le_cat3 = LabelEncoder()\n",
    "le_brand = LabelEncoder()\n",
    "\n",
    "le_cat1 = le_cat1.fit(dados_treino.category_1)\n",
    "le_cat2 = le_cat2.fit(dados_treino.category_2)\n",
    "le_cat3 = le_cat3.fit(dados_treino.category_3)\n",
    "le_brand = le_brand.fit(dados_treino.brand_name)\n",
    "\n",
    "dados_treino['category_1'] = le_cat1.transform(dados_treino.category_1)\n",
    "dados_treino['category_2'] = le_cat2.transform(dados_treino.category_2)\n",
    "dados_treino['category_3'] = le_cat3.transform(dados_treino.category_3)\n",
    "dados_treino['brand_name'] = le_brand.transform(dados_treino.brand_name)"
   ]
  },
  {
   "cell_type": "code",
   "execution_count": 4,
   "metadata": {},
   "outputs": [],
   "source": [
    "dic_cat1 = dict(zip(le_cat1.classes_, le_cat1.transform(le_cat1.classes_)))\n",
    "dic_cat2 = dict(zip(le_cat2.classes_, le_cat2.transform(le_cat2.classes_)))\n",
    "dic_cat3 = dict(zip(le_cat3.classes_, le_cat3.transform(le_cat3.classes_)))\n",
    "dic_brand = dict(zip(le_brand.classes_, le_brand.transform(le_brand.classes_)))\n"
   ]
  },
  {
   "cell_type": "code",
   "execution_count": 5,
   "metadata": {},
   "outputs": [
    {
     "data": {
      "text/html": [
       "<div>\n",
       "<style scoped>\n",
       "    .dataframe tbody tr th:only-of-type {\n",
       "        vertical-align: middle;\n",
       "    }\n",
       "\n",
       "    .dataframe tbody tr th {\n",
       "        vertical-align: top;\n",
       "    }\n",
       "\n",
       "    .dataframe thead th {\n",
       "        text-align: right;\n",
       "    }\n",
       "</style>\n",
       "<table border=\"1\" class=\"dataframe\">\n",
       "  <thead>\n",
       "    <tr style=\"text-align: right;\">\n",
       "      <th></th>\n",
       "      <th>name</th>\n",
       "      <th>category_1</th>\n",
       "      <th>category_2</th>\n",
       "      <th>category_3</th>\n",
       "      <th>item_condition_id</th>\n",
       "      <th>brand_name</th>\n",
       "      <th>price</th>\n",
       "      <th>shipping</th>\n",
       "      <th>item_description</th>\n",
       "      <th>date</th>\n",
       "      <th>stock</th>\n",
       "    </tr>\n",
       "  </thead>\n",
       "  <tbody>\n",
       "    <tr>\n",
       "      <th>0</th>\n",
       "      <td>women s motorcycle tshirt</td>\n",
       "      <td>10</td>\n",
       "      <td>104</td>\n",
       "      <td>751.0</td>\n",
       "      <td>3</td>\n",
       "      <td>1709.0</td>\n",
       "      <td>6.0</td>\n",
       "      <td>1</td>\n",
       "      <td>xl fits like a small</td>\n",
       "      <td>9-4-2018</td>\n",
       "      <td>8</td>\n",
       "    </tr>\n",
       "    <tr>\n",
       "      <th>1</th>\n",
       "      <td>alex and ani necklace</td>\n",
       "      <td>10</td>\n",
       "      <td>58</td>\n",
       "      <td>530.0</td>\n",
       "      <td>2</td>\n",
       "      <td>47.0</td>\n",
       "      <td>11.0</td>\n",
       "      <td>1</td>\n",
       "      <td>path of life alex and ani necklace in gold has...</td>\n",
       "      <td>25-1-2018</td>\n",
       "      <td>8</td>\n",
       "    </tr>\n",
       "    <tr>\n",
       "      <th>2</th>\n",
       "      <td>steve madden red lace up heels</td>\n",
       "      <td>10</td>\n",
       "      <td>88</td>\n",
       "      <td>629.0</td>\n",
       "      <td>2</td>\n",
       "      <td>3682.0</td>\n",
       "      <td>36.0</td>\n",
       "      <td>0</td>\n",
       "      <td>never been worn isn t true to size runs small</td>\n",
       "      <td>30-11-2018</td>\n",
       "      <td>9</td>\n",
       "    </tr>\n",
       "    <tr>\n",
       "      <th>3</th>\n",
       "      <td>men s black tuxedo</td>\n",
       "      <td>5</td>\n",
       "      <td>94</td>\n",
       "      <td>811.0</td>\n",
       "      <td>3</td>\n",
       "      <td>2795.0</td>\n",
       "      <td>54.0</td>\n",
       "      <td>0</td>\n",
       "      <td>worn a few times single pleated pants pants ar...</td>\n",
       "      <td>30-7-2018</td>\n",
       "      <td>7</td>\n",
       "    </tr>\n",
       "    <tr>\n",
       "      <th>4</th>\n",
       "      <td>red open back mermaid style dress xs</td>\n",
       "      <td>10</td>\n",
       "      <td>35</td>\n",
       "      <td>334.0</td>\n",
       "      <td>1</td>\n",
       "      <td>2795.0</td>\n",
       "      <td>316.0</td>\n",
       "      <td>0</td>\n",
       "      <td>this full length wine red mermaid style backle...</td>\n",
       "      <td>29-7-2018</td>\n",
       "      <td>34</td>\n",
       "    </tr>\n",
       "    <tr>\n",
       "      <th>...</th>\n",
       "      <td>...</td>\n",
       "      <td>...</td>\n",
       "      <td>...</td>\n",
       "      <td>...</td>\n",
       "      <td>...</td>\n",
       "      <td>...</td>\n",
       "      <td>...</td>\n",
       "      <td>...</td>\n",
       "      <td>...</td>\n",
       "      <td>...</td>\n",
       "      <td>...</td>\n",
       "    </tr>\n",
       "    <tr>\n",
       "      <th>444494</th>\n",
       "      <td>pink vs sleep shorts</td>\n",
       "      <td>10</td>\n",
       "      <td>5</td>\n",
       "      <td>687.0</td>\n",
       "      <td>3</td>\n",
       "      <td>2928.0</td>\n",
       "      <td>12.0</td>\n",
       "      <td>0</td>\n",
       "      <td>size small great condition barely ever worn to...</td>\n",
       "      <td>16-12-2018</td>\n",
       "      <td>7</td>\n",
       "    </tr>\n",
       "    <tr>\n",
       "      <th>444495</th>\n",
       "      <td>coach hand bag</td>\n",
       "      <td>10</td>\n",
       "      <td>112</td>\n",
       "      <td>392.0</td>\n",
       "      <td>3</td>\n",
       "      <td>926.0</td>\n",
       "      <td>86.0</td>\n",
       "      <td>0</td>\n",
       "      <td>this large black hobo coach is in a very good ...</td>\n",
       "      <td>15-11-2018</td>\n",
       "      <td>3</td>\n",
       "    </tr>\n",
       "    <tr>\n",
       "      <th>444496</th>\n",
       "      <td>waffle knit sweater forever</td>\n",
       "      <td>10</td>\n",
       "      <td>97</td>\n",
       "      <td>226.0</td>\n",
       "      <td>3</td>\n",
       "      <td>1384.0</td>\n",
       "      <td>14.0</td>\n",
       "      <td>0</td>\n",
       "      <td>great condition tags forever american apparel ...</td>\n",
       "      <td>2-3-2018</td>\n",
       "      <td>4</td>\n",
       "    </tr>\n",
       "    <tr>\n",
       "      <th>444497</th>\n",
       "      <td>dr dre beats solo</td>\n",
       "      <td>1</td>\n",
       "      <td>100</td>\n",
       "      <td>381.0</td>\n",
       "      <td>3</td>\n",
       "      <td>457.0</td>\n",
       "      <td>69.0</td>\n",
       "      <td>0</td>\n",
       "      <td>blue fits any head amazing sound no longer in use</td>\n",
       "      <td>19-3-2018</td>\n",
       "      <td>6</td>\n",
       "    </tr>\n",
       "    <tr>\n",
       "      <th>444498</th>\n",
       "      <td>grey nike sb shoes</td>\n",
       "      <td>5</td>\n",
       "      <td>88</td>\n",
       "      <td>303.0</td>\n",
       "      <td>2</td>\n",
       "      <td>2780.0</td>\n",
       "      <td>30.0</td>\n",
       "      <td>0</td>\n",
       "      <td>never been worn dark grey nike sb shoes</td>\n",
       "      <td>7-12-2018</td>\n",
       "      <td>1</td>\n",
       "    </tr>\n",
       "  </tbody>\n",
       "</table>\n",
       "<p>444499 rows × 11 columns</p>\n",
       "</div>"
      ],
      "text/plain": [
       "                                        name  category_1  ...        date  stock\n",
       "0                  women s motorcycle tshirt          10  ...    9-4-2018      8\n",
       "1                      alex and ani necklace          10  ...   25-1-2018      8\n",
       "2             steve madden red lace up heels          10  ...  30-11-2018      9\n",
       "3                         men s black tuxedo           5  ...   30-7-2018      7\n",
       "4       red open back mermaid style dress xs          10  ...   29-7-2018     34\n",
       "...                                      ...         ...  ...         ...    ...\n",
       "444494                  pink vs sleep shorts          10  ...  16-12-2018      7\n",
       "444495                        coach hand bag          10  ...  15-11-2018      3\n",
       "444496           waffle knit sweater forever          10  ...    2-3-2018      4\n",
       "444497                     dr dre beats solo           1  ...   19-3-2018      6\n",
       "444498                    grey nike sb shoes           5  ...   7-12-2018      1\n",
       "\n",
       "[444499 rows x 11 columns]"
      ]
     },
     "execution_count": 5,
     "metadata": {},
     "output_type": "execute_result"
    }
   ],
   "source": [
    "dados_teste = pd.read_csv('../data/processed/test_data.csv')\n",
    "dados_teste['category_1'] = dados_teste['category_1'].map(dic_cat1).fillna(-1)\n",
    "dados_teste['category_2'] = dados_teste['category_2'].map(dic_cat2).fillna(-1)\n",
    "dados_teste['category_3'] = dados_teste['category_3'].map(dic_cat3).fillna(-1)\n",
    "dados_teste['brand_name'] = dados_teste['brand_name'].map(dic_brand).fillna(-1)\n",
    "dados_teste"
   ]
  },
  {
   "cell_type": "markdown",
   "metadata": {},
   "source": [
    "## Modelo geral usando apenas coluna name"
   ]
  },
  {
   "cell_type": "code",
   "execution_count": 6,
   "metadata": {},
   "outputs": [
    {
     "data": {
      "text/html": [
       "<style>#sk-container-id-1 {color: black;background-color: white;}#sk-container-id-1 pre{padding: 0;}#sk-container-id-1 div.sk-toggleable {background-color: white;}#sk-container-id-1 label.sk-toggleable__label {cursor: pointer;display: block;width: 100%;margin-bottom: 0;padding: 0.3em;box-sizing: border-box;text-align: center;}#sk-container-id-1 label.sk-toggleable__label-arrow:before {content: \"▸\";float: left;margin-right: 0.25em;color: #696969;}#sk-container-id-1 label.sk-toggleable__label-arrow:hover:before {color: black;}#sk-container-id-1 div.sk-estimator:hover label.sk-toggleable__label-arrow:before {color: black;}#sk-container-id-1 div.sk-toggleable__content {max-height: 0;max-width: 0;overflow: hidden;text-align: left;background-color: #f0f8ff;}#sk-container-id-1 div.sk-toggleable__content pre {margin: 0.2em;color: black;border-radius: 0.25em;background-color: #f0f8ff;}#sk-container-id-1 input.sk-toggleable__control:checked~div.sk-toggleable__content {max-height: 200px;max-width: 100%;overflow: auto;}#sk-container-id-1 input.sk-toggleable__control:checked~label.sk-toggleable__label-arrow:before {content: \"▾\";}#sk-container-id-1 div.sk-estimator input.sk-toggleable__control:checked~label.sk-toggleable__label {background-color: #d4ebff;}#sk-container-id-1 div.sk-label input.sk-toggleable__control:checked~label.sk-toggleable__label {background-color: #d4ebff;}#sk-container-id-1 input.sk-hidden--visually {border: 0;clip: rect(1px 1px 1px 1px);clip: rect(1px, 1px, 1px, 1px);height: 1px;margin: -1px;overflow: hidden;padding: 0;position: absolute;width: 1px;}#sk-container-id-1 div.sk-estimator {font-family: monospace;background-color: #f0f8ff;border: 1px dotted black;border-radius: 0.25em;box-sizing: border-box;margin-bottom: 0.5em;}#sk-container-id-1 div.sk-estimator:hover {background-color: #d4ebff;}#sk-container-id-1 div.sk-parallel-item::after {content: \"\";width: 100%;border-bottom: 1px solid gray;flex-grow: 1;}#sk-container-id-1 div.sk-label:hover label.sk-toggleable__label {background-color: #d4ebff;}#sk-container-id-1 div.sk-serial::before {content: \"\";position: absolute;border-left: 1px solid gray;box-sizing: border-box;top: 0;bottom: 0;left: 50%;z-index: 0;}#sk-container-id-1 div.sk-serial {display: flex;flex-direction: column;align-items: center;background-color: white;padding-right: 0.2em;padding-left: 0.2em;position: relative;}#sk-container-id-1 div.sk-item {position: relative;z-index: 1;}#sk-container-id-1 div.sk-parallel {display: flex;align-items: stretch;justify-content: center;background-color: white;position: relative;}#sk-container-id-1 div.sk-item::before, #sk-container-id-1 div.sk-parallel-item::before {content: \"\";position: absolute;border-left: 1px solid gray;box-sizing: border-box;top: 0;bottom: 0;left: 50%;z-index: -1;}#sk-container-id-1 div.sk-parallel-item {display: flex;flex-direction: column;z-index: 1;position: relative;background-color: white;}#sk-container-id-1 div.sk-parallel-item:first-child::after {align-self: flex-end;width: 50%;}#sk-container-id-1 div.sk-parallel-item:last-child::after {align-self: flex-start;width: 50%;}#sk-container-id-1 div.sk-parallel-item:only-child::after {width: 0;}#sk-container-id-1 div.sk-dashed-wrapped {border: 1px dashed gray;margin: 0 0.4em 0.5em 0.4em;box-sizing: border-box;padding-bottom: 0.4em;background-color: white;}#sk-container-id-1 div.sk-label label {font-family: monospace;font-weight: bold;display: inline-block;line-height: 1.2em;}#sk-container-id-1 div.sk-label-container {text-align: center;}#sk-container-id-1 div.sk-container {/* jupyter's `normalize.less` sets `[hidden] { display: none; }` but bootstrap.min.css set `[hidden] { display: none !important; }` so we also need the `!important` here to be able to override the default hidden behavior on the sphinx rendered scikit-learn.org. See: https://github.com/scikit-learn/scikit-learn/issues/21755 */display: inline-block !important;position: relative;}#sk-container-id-1 div.sk-text-repr-fallback {display: none;}</style><div id=\"sk-container-id-1\" class=\"sk-top-container\"><div class=\"sk-text-repr-fallback\"><pre>XGBRegressor(base_score=0.5, booster=&#x27;gbtree&#x27;, callbacks=None,\n",
       "             colsample_bylevel=1, colsample_bynode=1, colsample_bytree=1,\n",
       "             early_stopping_rounds=None, enable_categorical=False,\n",
       "             eval_metric=None, gamma=0, gpu_id=-1, grow_policy=&#x27;depthwise&#x27;,\n",
       "             importance_type=None, interaction_constraints=&#x27;&#x27;,\n",
       "             learning_rate=0.300000012, max_bin=256, max_cat_to_onehot=4,\n",
       "             max_delta_step=0, max_depth=6, max_leaves=0, min_child_weight=1,\n",
       "             missing=nan, monotone_constraints=&#x27;()&#x27;, n_estimators=100,\n",
       "             n_jobs=-1, num_parallel_tree=1, predictor=&#x27;auto&#x27;, random_state=101,\n",
       "             reg_alpha=0, reg_lambda=1, ...)</pre><b>In a Jupyter environment, please rerun this cell to show the HTML representation or trust the notebook. <br />On GitHub, the HTML representation is unable to render, please try loading this page with nbviewer.org.</b></div><div class=\"sk-container\" hidden><div class=\"sk-item\"><div class=\"sk-estimator sk-toggleable\"><input class=\"sk-toggleable__control sk-hidden--visually\" id=\"sk-estimator-id-1\" type=\"checkbox\" checked><label for=\"sk-estimator-id-1\" class=\"sk-toggleable__label sk-toggleable__label-arrow\">XGBRegressor</label><div class=\"sk-toggleable__content\"><pre>XGBRegressor(base_score=0.5, booster=&#x27;gbtree&#x27;, callbacks=None,\n",
       "             colsample_bylevel=1, colsample_bynode=1, colsample_bytree=1,\n",
       "             early_stopping_rounds=None, enable_categorical=False,\n",
       "             eval_metric=None, gamma=0, gpu_id=-1, grow_policy=&#x27;depthwise&#x27;,\n",
       "             importance_type=None, interaction_constraints=&#x27;&#x27;,\n",
       "             learning_rate=0.300000012, max_bin=256, max_cat_to_onehot=4,\n",
       "             max_delta_step=0, max_depth=6, max_leaves=0, min_child_weight=1,\n",
       "             missing=nan, monotone_constraints=&#x27;()&#x27;, n_estimators=100,\n",
       "             n_jobs=-1, num_parallel_tree=1, predictor=&#x27;auto&#x27;, random_state=101,\n",
       "             reg_alpha=0, reg_lambda=1, ...)</pre></div></div></div></div></div>"
      ],
      "text/plain": [
       "XGBRegressor(base_score=0.5, booster='gbtree', callbacks=None,\n",
       "             colsample_bylevel=1, colsample_bynode=1, colsample_bytree=1,\n",
       "             early_stopping_rounds=None, enable_categorical=False,\n",
       "             eval_metric=None, gamma=0, gpu_id=-1, grow_policy='depthwise',\n",
       "             importance_type=None, interaction_constraints='',\n",
       "             learning_rate=0.300000012, max_bin=256, max_cat_to_onehot=4,\n",
       "             max_delta_step=0, max_depth=6, max_leaves=0, min_child_weight=1,\n",
       "             missing=nan, monotone_constraints='()', n_estimators=100,\n",
       "             n_jobs=-1, num_parallel_tree=1, predictor='auto', random_state=101,\n",
       "             reg_alpha=0, reg_lambda=1, ...)"
      ]
     },
     "execution_count": 6,
     "metadata": {},
     "output_type": "execute_result"
    }
   ],
   "source": [
    "model = XGBRegressor(random_state=101, n_jobs=-1)\n",
    "# model = XGBRegressor(n_estimators=1000, \n",
    "#                      max_depth=7,\n",
    "#                      grow_policy='lossguide', \n",
    "#                      eta=0.1, \n",
    "#                      subsample=0.7, \n",
    "#                      colsample_bytree=0.8, \n",
    "#                      random_state=101, \n",
    "#                      n_jobs=-1)\n",
    "X_treino = dados_treino[['category_1', 'category_2', 'category_3', 'brand_name', 'item_condition_id', 'shipping']]\n",
    "y_treino = dados_treino['price']\n",
    "model.fit(X_treino, y_treino)"
   ]
  },
  {
   "cell_type": "markdown",
   "metadata": {},
   "source": [
    "Tempo de treino: 57.2s"
   ]
  },
  {
   "cell_type": "code",
   "execution_count": 7,
   "metadata": {},
   "outputs": [],
   "source": [
    "pred = model.predict(dados_teste[['category_1', 'category_2', 'category_3', 'brand_name', 'item_condition_id', 'shipping']])\n",
    "for i in range(len(pred)):\n",
    "    if pred[i] < 3:\n",
    "        pred[i] = 3"
   ]
  },
  {
   "cell_type": "markdown",
   "metadata": {},
   "source": [
    "Tempo de previsão: 1.5s"
   ]
  },
  {
   "cell_type": "code",
   "execution_count": 9,
   "metadata": {},
   "outputs": [
    {
     "name": "stdout",
     "output_type": "stream",
     "text": [
      "R² = 0.340\n",
      "MAPE = 70.232 %\n",
      "MAE = U$S 13.59\n",
      "RMSE = U$S 31.18\n",
      "MSLE = 0.374\n"
     ]
    }
   ],
   "source": [
    "print_avaliacao(dados_teste['price'], pred)"
   ]
  },
  {
   "cell_type": "markdown",
   "metadata": {},
   "source": [
    "## Modelo por categorias: name como atributo"
   ]
  },
  {
   "cell_type": "code",
   "execution_count": 10,
   "metadata": {},
   "outputs": [],
   "source": [
    "modelos = {}\n",
    "\n",
    "for category in dados_treino.category_1.unique():\n",
    "    model = XGBRegressor(n_jobs=-1, random_state=101)\n",
    "    modelos[category] = model\n",
    "    X_treino = dados_treino.query(f'category_1 == {category}')[['category_1', 'category_2', 'category_3', 'brand_name', 'item_condition_id', 'shipping']]\n",
    "    y_treino = dados_treino.query(f'category_1 == {category}')['price']\n",
    "    modelos[category].fit(X_treino, y_treino)"
   ]
  },
  {
   "cell_type": "markdown",
   "metadata": {},
   "source": [
    "Tempo treinamento: 38.7s"
   ]
  },
  {
   "cell_type": "code",
   "execution_count": 34,
   "metadata": {},
   "outputs": [],
   "source": [
    "dados_teste = dados_teste.assign(pred=0)\n",
    "for category in dados_teste.category_1.unique():\n",
    "    index = dados_teste.query(f'category_1 == {category}').index\n",
    "    dados_teste.loc[index, 'pred'] = modelos[category].predict(dados_teste.loc[index][['category_1', 'category_2',\n",
    "                                                                                       'category_3', 'brand_name',\n",
    "                                                                                       'item_condition_id', 'shipping']])\n",
    "\n",
    "dados_teste.loc[dados_teste.pred < 3, 'pred'] = 3"
   ]
  },
  {
   "cell_type": "markdown",
   "metadata": {},
   "source": [
    "Tempo previsão: 0.7s"
   ]
  },
  {
   "cell_type": "markdown",
   "metadata": {},
   "source": [
    "Resultado geral:"
   ]
  },
  {
   "cell_type": "code",
   "execution_count": 36,
   "metadata": {},
   "outputs": [
    {
     "name": "stdout",
     "output_type": "stream",
     "text": [
      "R² = 0.340\n",
      "MAPE = 70.232 %\n",
      "MAE = U$S 13.59\n",
      "RMSE = U$S 31.18\n",
      "MSLE = 0.374\n"
     ]
    }
   ],
   "source": [
    "print_avaliacao(dados_teste['price'], pred)"
   ]
  },
  {
   "cell_type": "markdown",
   "metadata": {},
   "source": [
    "Resultado por categoria"
   ]
  },
  {
   "cell_type": "code",
   "execution_count": 35,
   "metadata": {},
   "outputs": [
    {
     "data": {
      "text/html": [
       "<div>\n",
       "<style scoped>\n",
       "    .dataframe tbody tr th:only-of-type {\n",
       "        vertical-align: middle;\n",
       "    }\n",
       "\n",
       "    .dataframe tbody tr th {\n",
       "        vertical-align: top;\n",
       "    }\n",
       "\n",
       "    .dataframe thead th {\n",
       "        text-align: right;\n",
       "    }\n",
       "</style>\n",
       "<table border=\"1\" class=\"dataframe\">\n",
       "  <thead>\n",
       "    <tr style=\"text-align: right;\">\n",
       "      <th></th>\n",
       "      <th>Women</th>\n",
       "      <th>Men</th>\n",
       "      <th>Vintage &amp; Collectibles</th>\n",
       "      <th>Electronics</th>\n",
       "      <th>Beauty</th>\n",
       "      <th>Kids</th>\n",
       "      <th>Other</th>\n",
       "      <th>Home</th>\n",
       "      <th>Sports &amp; Outdoors</th>\n",
       "      <th>Handmade</th>\n",
       "      <th>No category</th>\n",
       "    </tr>\n",
       "  </thead>\n",
       "  <tbody>\n",
       "    <tr>\n",
       "      <th>R²</th>\n",
       "      <td>0.359</td>\n",
       "      <td>0.477</td>\n",
       "      <td>0.239</td>\n",
       "      <td>0.410</td>\n",
       "      <td>0.081</td>\n",
       "      <td>0.251</td>\n",
       "      <td>0.111</td>\n",
       "      <td>0.184</td>\n",
       "      <td>0.221</td>\n",
       "      <td>0.189</td>\n",
       "      <td>-0.020</td>\n",
       "    </tr>\n",
       "    <tr>\n",
       "      <th>MAPE</th>\n",
       "      <td>59.772</td>\n",
       "      <td>58.537</td>\n",
       "      <td>96.078</td>\n",
       "      <td>91.415</td>\n",
       "      <td>64.904</td>\n",
       "      <td>64.290</td>\n",
       "      <td>81.098</td>\n",
       "      <td>65.163</td>\n",
       "      <td>74.737</td>\n",
       "      <td>72.265</td>\n",
       "      <td>91.578</td>\n",
       "    </tr>\n",
       "    <tr>\n",
       "      <th>MAE</th>\n",
       "      <td>13.110</td>\n",
       "      <td>15.470</td>\n",
       "      <td>17.600</td>\n",
       "      <td>21.350</td>\n",
       "      <td>9.790</td>\n",
       "      <td>10.220</td>\n",
       "      <td>12.120</td>\n",
       "      <td>12.150</td>\n",
       "      <td>13.690</td>\n",
       "      <td>10.150</td>\n",
       "      <td>15.730</td>\n",
       "    </tr>\n",
       "    <tr>\n",
       "      <th>RMSE</th>\n",
       "      <td>31.330</td>\n",
       "      <td>28.970</td>\n",
       "      <td>44.210</td>\n",
       "      <td>50.550</td>\n",
       "      <td>23.220</td>\n",
       "      <td>19.250</td>\n",
       "      <td>25.870</td>\n",
       "      <td>21.040</td>\n",
       "      <td>26.210</td>\n",
       "      <td>22.580</td>\n",
       "      <td>30.580</td>\n",
       "    </tr>\n",
       "    <tr>\n",
       "      <th>MSLE</th>\n",
       "      <td>0.309</td>\n",
       "      <td>0.302</td>\n",
       "      <td>0.554</td>\n",
       "      <td>0.509</td>\n",
       "      <td>0.341</td>\n",
       "      <td>0.332</td>\n",
       "      <td>0.446</td>\n",
       "      <td>0.351</td>\n",
       "      <td>0.416</td>\n",
       "      <td>0.379</td>\n",
       "      <td>0.557</td>\n",
       "    </tr>\n",
       "  </tbody>\n",
       "</table>\n",
       "</div>"
      ],
      "text/plain": [
       "       Women     Men  ...  Handmade  No category\n",
       "R²     0.359   0.477  ...     0.189       -0.020\n",
       "MAPE  59.772  58.537  ...    72.265       91.578\n",
       "MAE   13.110  15.470  ...    10.150       15.730\n",
       "RMSE  31.330  28.970  ...    22.580       30.580\n",
       "MSLE   0.309   0.302  ...     0.379        0.557\n",
       "\n",
       "[5 rows x 11 columns]"
      ]
     },
     "execution_count": 35,
     "metadata": {},
     "output_type": "execute_result"
    }
   ],
   "source": [
    "avaliacoes = {}\n",
    "\n",
    "for categoria in dados_teste.category_1.unique():\n",
    "    dados_cat = dados_teste.query(f'category_1 == {categoria}')\n",
    "    avaliacoes[categoria] = calc_metricas(dados_cat['price'], dados_cat['pred'])\n",
    "\n",
    "avaliacoes = pd.DataFrame(avaliacoes, index=['R²', 'MAPE', 'MAE', 'RMSE', 'MSLE'],\n",
    "                          )\n",
    "avaliacoes.columns = ['Women', 'Men', 'Vintage & Collectibles', 'Electronics',\n",
    "                      'Beauty', 'Kids', 'Other', 'Home', 'Sports & Outdoors',\n",
    "                      'Handmade', 'No category']\n",
    "avaliacoes"
   ]
  },
  {
   "cell_type": "code",
   "execution_count": null,
   "metadata": {},
   "outputs": [],
   "source": []
  }
 ],
 "metadata": {
  "kernelspec": {
   "display_name": "Python 3.9.12 ('base')",
   "language": "python",
   "name": "python3"
  },
  "language_info": {
   "codemirror_mode": {
    "name": "ipython",
    "version": 3
   },
   "file_extension": ".py",
   "mimetype": "text/x-python",
   "name": "python",
   "nbconvert_exporter": "python",
   "pygments_lexer": "ipython3",
   "version": "3.9.12"
  },
  "orig_nbformat": 4,
  "vscode": {
   "interpreter": {
    "hash": "7832355663de3739c43a670b9e0e66b306696971f3c515f01e5590b4e36bbdc6"
   }
  }
 },
 "nbformat": 4,
 "nbformat_minor": 2
}
