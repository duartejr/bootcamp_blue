{
 "cells": [
  {
   "cell_type": "markdown",
   "metadata": {},
   "source": [
    "# Análise da Hipótese: preço x marca "
   ]
  },
  {
   "cell_type": "markdown",
   "metadata": {},
   "source": [
    "Nesta notebook é avaliado se há relação significativa entre o preço dos produtos e a marca a marca dos mesmos.\n",
    "\n",
    "O objetivo é verificar se há marcas que tendem a ter maiores ou menores preços que outras em uma determinada categoria que as demais marcas do mesmo grupo de produtos."
   ]
  },
  {
   "cell_type": "markdown",
   "metadata": {},
   "source": [
    "## Preparação do ambiente de trabalho"
   ]
  },
  {
   "cell_type": "code",
   "execution_count": 1,
   "metadata": {},
   "outputs": [],
   "source": [
    "import pandas as pd\n",
    "import seaborn as sns\n",
    "import matplotlib.pyplot as plt"
   ]
  },
  {
   "cell_type": "code",
   "execution_count": 2,
   "metadata": {},
   "outputs": [],
   "source": [
    "arquivo_dados = '../data/processed/train_data_prep02.csv'\n",
    "dados = pd.read_csv(arquivo_dados)"
   ]
  },
  {
   "cell_type": "code",
   "execution_count": 3,
   "metadata": {},
   "outputs": [
    {
     "data": {
      "text/html": [
       "<div>\n",
       "<style scoped>\n",
       "    .dataframe tbody tr th:only-of-type {\n",
       "        vertical-align: middle;\n",
       "    }\n",
       "\n",
       "    .dataframe tbody tr th {\n",
       "        vertical-align: top;\n",
       "    }\n",
       "\n",
       "    .dataframe thead th {\n",
       "        text-align: right;\n",
       "    }\n",
       "</style>\n",
       "<table border=\"1\" class=\"dataframe\">\n",
       "  <thead>\n",
       "    <tr style=\"text-align: right;\">\n",
       "      <th></th>\n",
       "      <th>name</th>\n",
       "      <th>category_1</th>\n",
       "      <th>category_2</th>\n",
       "      <th>category_3</th>\n",
       "      <th>item_condition_id</th>\n",
       "      <th>brand_name</th>\n",
       "      <th>price</th>\n",
       "      <th>shipping</th>\n",
       "      <th>item_description</th>\n",
       "      <th>date</th>\n",
       "      <th>stock</th>\n",
       "    </tr>\n",
       "  </thead>\n",
       "  <tbody>\n",
       "    <tr>\n",
       "      <th>0</th>\n",
       "      <td>mlb cincinnati reds t shirt size xl</td>\n",
       "      <td>Men</td>\n",
       "      <td>Tops</td>\n",
       "      <td>T-shirts</td>\n",
       "      <td>3</td>\n",
       "      <td>No Brand</td>\n",
       "      <td>10.0</td>\n",
       "      <td>1</td>\n",
       "      <td>no description yet</td>\n",
       "      <td>18-6-2018</td>\n",
       "      <td>27</td>\n",
       "    </tr>\n",
       "    <tr>\n",
       "      <th>1</th>\n",
       "      <td>razer blackwidow chroma keyboard</td>\n",
       "      <td>Electronics</td>\n",
       "      <td>Computers &amp; Tablets</td>\n",
       "      <td>Components &amp; Parts</td>\n",
       "      <td>3</td>\n",
       "      <td>Razer</td>\n",
       "      <td>52.0</td>\n",
       "      <td>0</td>\n",
       "      <td>this keyboard is in great condition and works ...</td>\n",
       "      <td>18-3-2018</td>\n",
       "      <td>15</td>\n",
       "    </tr>\n",
       "    <tr>\n",
       "      <th>2</th>\n",
       "      <td>ava viv blouse</td>\n",
       "      <td>Women</td>\n",
       "      <td>Tops &amp; Blouses</td>\n",
       "      <td>Blouse</td>\n",
       "      <td>1</td>\n",
       "      <td>Target</td>\n",
       "      <td>10.0</td>\n",
       "      <td>1</td>\n",
       "      <td>adorable top with a hint of lace and a key hol...</td>\n",
       "      <td>26-10-2018</td>\n",
       "      <td>14</td>\n",
       "    </tr>\n",
       "    <tr>\n",
       "      <th>3</th>\n",
       "      <td>leather horse statues</td>\n",
       "      <td>Home</td>\n",
       "      <td>Home Décor</td>\n",
       "      <td>Home Décor Accents</td>\n",
       "      <td>1</td>\n",
       "      <td>No Brand</td>\n",
       "      <td>35.0</td>\n",
       "      <td>1</td>\n",
       "      <td>new with tags leather horses retail for each s...</td>\n",
       "      <td>21-2-2018</td>\n",
       "      <td>1</td>\n",
       "    </tr>\n",
       "    <tr>\n",
       "      <th>4</th>\n",
       "      <td>24k gold plated rose</td>\n",
       "      <td>Women</td>\n",
       "      <td>Jewelry</td>\n",
       "      <td>Necklaces</td>\n",
       "      <td>1</td>\n",
       "      <td>No Brand</td>\n",
       "      <td>44.0</td>\n",
       "      <td>0</td>\n",
       "      <td>complete with certificate of authenticity</td>\n",
       "      <td>17-4-2018</td>\n",
       "      <td>13</td>\n",
       "    </tr>\n",
       "  </tbody>\n",
       "</table>\n",
       "</div>"
      ],
      "text/plain": [
       "                                  name   category_1           category_2  \\\n",
       "0  mlb cincinnati reds t shirt size xl          Men                 Tops   \n",
       "1     razer blackwidow chroma keyboard  Electronics  Computers & Tablets   \n",
       "2                       ava viv blouse        Women       Tops & Blouses   \n",
       "3                leather horse statues         Home           Home Décor   \n",
       "4                 24k gold plated rose        Women              Jewelry   \n",
       "\n",
       "           category_3  item_condition_id brand_name  price  shipping  \\\n",
       "0            T-shirts                  3   No Brand   10.0         1   \n",
       "1  Components & Parts                  3      Razer   52.0         0   \n",
       "2              Blouse                  1     Target   10.0         1   \n",
       "3  Home Décor Accents                  1   No Brand   35.0         1   \n",
       "4           Necklaces                  1   No Brand   44.0         0   \n",
       "\n",
       "                                    item_description        date  stock  \n",
       "0                                 no description yet   18-6-2018     27  \n",
       "1  this keyboard is in great condition and works ...   18-3-2018     15  \n",
       "2  adorable top with a hint of lace and a key hol...  26-10-2018     14  \n",
       "3  new with tags leather horses retail for each s...   21-2-2018      1  \n",
       "4          complete with certificate of authenticity   17-4-2018     13  "
      ]
     },
     "execution_count": 3,
     "metadata": {},
     "output_type": "execute_result"
    }
   ],
   "source": [
    "dados.head()"
   ]
  },
  {
   "cell_type": "markdown",
   "metadata": {},
   "source": [
    "## Avaliação"
   ]
  },
  {
   "cell_type": "markdown",
   "metadata": {},
   "source": [
    "Número de marcas do dataset."
   ]
  },
  {
   "cell_type": "code",
   "execution_count": 4,
   "metadata": {},
   "outputs": [
    {
     "data": {
      "text/plain": [
       "4808"
      ]
     },
     "execution_count": 4,
     "metadata": {},
     "output_type": "execute_result"
    }
   ],
   "source": [
    "dados.brand_name.nunique()"
   ]
  },
  {
   "cell_type": "markdown",
   "metadata": {},
   "source": [
    "Como há 4.808 marcas diferentes no dataset a avaliação que se segue será feita considerando-se apenas as 10 marcas com a maior quantidade de anúncios do dataset."
   ]
  },
  {
   "cell_type": "markdown",
   "metadata": {},
   "source": [
    "Listagem das 10 marcas com maior quantidade de anúncios."
   ]
  },
  {
   "cell_type": "code",
   "execution_count": 5,
   "metadata": {},
   "outputs": [
    {
     "data": {
      "text/plain": [
       "No Brand             632336\n",
       "PINK                  54072\n",
       "Nike                  54006\n",
       "Victoria's Secret     48011\n",
       "LuLaRoe               30995\n",
       "Apple                 17314\n",
       "FOREVER 21            15178\n",
       "Nintendo              14998\n",
       "Lululemon             14550\n",
       "Michael Kors          13916\n",
       "Name: brand_name, dtype: int64"
      ]
     },
     "execution_count": 5,
     "metadata": {},
     "output_type": "execute_result"
    }
   ],
   "source": [
    "dados.brand_name.value_counts().head(10)"
   ]
  },
  {
   "cell_type": "code",
   "execution_count": 16,
   "metadata": {},
   "outputs": [
    {
     "data": {
      "text/plain": [
       "No Brand             0.686634\n",
       "PINK                 0.058715\n",
       "Nike                 0.058643\n",
       "Victoria's Secret    0.052134\n",
       "LuLaRoe              0.033657\n",
       "Apple                0.018801\n",
       "FOREVER 21           0.016481\n",
       "Nintendo             0.016286\n",
       "Lululemon            0.015799\n",
       "Michael Kors         0.015111\n",
       "Name: brand_name, dtype: float64"
      ]
     },
     "execution_count": 16,
     "metadata": {},
     "output_type": "execute_result"
    }
   ],
   "source": [
    "dados.brand_name.value_counts(normalize=True).head(10)"
   ]
  },
  {
   "cell_type": "code",
   "execution_count": 17,
   "metadata": {},
   "outputs": [],
   "source": [
    "brands = sorted(dados.brand_name.value_counts(normalize=True).head(10).index.to_numpy())"
   ]
  },
  {
   "cell_type": "markdown",
   "metadata": {},
   "source": [
    "Seleção dos anúncios pertencentes as 10 marcas mais frequentes do dataset."
   ]
  },
  {
   "cell_type": "code",
   "execution_count": 18,
   "metadata": {},
   "outputs": [
    {
     "data": {
      "text/html": [
       "<div>\n",
       "<style scoped>\n",
       "    .dataframe tbody tr th:only-of-type {\n",
       "        vertical-align: middle;\n",
       "    }\n",
       "\n",
       "    .dataframe tbody tr th {\n",
       "        vertical-align: top;\n",
       "    }\n",
       "\n",
       "    .dataframe thead th {\n",
       "        text-align: right;\n",
       "    }\n",
       "</style>\n",
       "<table border=\"1\" class=\"dataframe\">\n",
       "  <thead>\n",
       "    <tr style=\"text-align: right;\">\n",
       "      <th></th>\n",
       "      <th>name</th>\n",
       "      <th>category_1</th>\n",
       "      <th>category_2</th>\n",
       "      <th>category_3</th>\n",
       "      <th>item_condition_id</th>\n",
       "      <th>brand_name</th>\n",
       "      <th>price</th>\n",
       "      <th>shipping</th>\n",
       "      <th>item_description</th>\n",
       "      <th>date</th>\n",
       "      <th>stock</th>\n",
       "    </tr>\n",
       "  </thead>\n",
       "  <tbody>\n",
       "    <tr>\n",
       "      <th>0</th>\n",
       "      <td>mlb cincinnati reds t shirt size xl</td>\n",
       "      <td>Men</td>\n",
       "      <td>Tops</td>\n",
       "      <td>T-shirts</td>\n",
       "      <td>3</td>\n",
       "      <td>No Brand</td>\n",
       "      <td>10.0</td>\n",
       "      <td>1</td>\n",
       "      <td>no description yet</td>\n",
       "      <td>18-6-2018</td>\n",
       "      <td>27</td>\n",
       "    </tr>\n",
       "    <tr>\n",
       "      <th>3</th>\n",
       "      <td>leather horse statues</td>\n",
       "      <td>Home</td>\n",
       "      <td>Home Décor</td>\n",
       "      <td>Home Décor Accents</td>\n",
       "      <td>1</td>\n",
       "      <td>No Brand</td>\n",
       "      <td>35.0</td>\n",
       "      <td>1</td>\n",
       "      <td>new with tags leather horses retail for each s...</td>\n",
       "      <td>21-2-2018</td>\n",
       "      <td>1</td>\n",
       "    </tr>\n",
       "    <tr>\n",
       "      <th>4</th>\n",
       "      <td>24k gold plated rose</td>\n",
       "      <td>Women</td>\n",
       "      <td>Jewelry</td>\n",
       "      <td>Necklaces</td>\n",
       "      <td>1</td>\n",
       "      <td>No Brand</td>\n",
       "      <td>44.0</td>\n",
       "      <td>0</td>\n",
       "      <td>complete with certificate of authenticity</td>\n",
       "      <td>17-4-2018</td>\n",
       "      <td>13</td>\n",
       "    </tr>\n",
       "    <tr>\n",
       "      <th>5</th>\n",
       "      <td>bundled items requested for ruie</td>\n",
       "      <td>Women</td>\n",
       "      <td>Other</td>\n",
       "      <td>Other</td>\n",
       "      <td>3</td>\n",
       "      <td>No Brand</td>\n",
       "      <td>59.0</td>\n",
       "      <td>0</td>\n",
       "      <td>banana republic bottoms candies skirt with mat...</td>\n",
       "      <td>8-12-2018</td>\n",
       "      <td>6</td>\n",
       "    </tr>\n",
       "    <tr>\n",
       "      <th>8</th>\n",
       "      <td>girls nike pro shorts</td>\n",
       "      <td>Sports &amp; Outdoors</td>\n",
       "      <td>Apparel</td>\n",
       "      <td>Girls</td>\n",
       "      <td>3</td>\n",
       "      <td>Nike</td>\n",
       "      <td>19.0</td>\n",
       "      <td>0</td>\n",
       "      <td>girls size small plus green three shorts total</td>\n",
       "      <td>12-4-2018</td>\n",
       "      <td>1</td>\n",
       "    </tr>\n",
       "    <tr>\n",
       "      <th>...</th>\n",
       "      <td>...</td>\n",
       "      <td>...</td>\n",
       "      <td>...</td>\n",
       "      <td>...</td>\n",
       "      <td>...</td>\n",
       "      <td>...</td>\n",
       "      <td>...</td>\n",
       "      <td>...</td>\n",
       "      <td>...</td>\n",
       "      <td>...</td>\n",
       "      <td>...</td>\n",
       "    </tr>\n",
       "    <tr>\n",
       "      <th>1481653</th>\n",
       "      <td>blk white ribbed mock neck bodysuit m</td>\n",
       "      <td>Women</td>\n",
       "      <td>Tops &amp; Blouses</td>\n",
       "      <td>Blouse</td>\n",
       "      <td>1</td>\n",
       "      <td>No Brand</td>\n",
       "      <td>10.0</td>\n",
       "      <td>1</td>\n",
       "      <td>brand new black and white ribbed mock neck bod...</td>\n",
       "      <td>18-12-2018</td>\n",
       "      <td>1</td>\n",
       "    </tr>\n",
       "    <tr>\n",
       "      <th>1481654</th>\n",
       "      <td>victoria s secret tankini sz large</td>\n",
       "      <td>Women</td>\n",
       "      <td>Athletic Apparel</td>\n",
       "      <td>Sports Bras</td>\n",
       "      <td>2</td>\n",
       "      <td>Victoria's Secret</td>\n",
       "      <td>18.0</td>\n",
       "      <td>1</td>\n",
       "      <td>purple and paisley victoria s secret tankini s...</td>\n",
       "      <td>9-11-2018</td>\n",
       "      <td>33</td>\n",
       "    </tr>\n",
       "    <tr>\n",
       "      <th>1481658</th>\n",
       "      <td>day fix containers and eating plan</td>\n",
       "      <td>Sports &amp; Outdoors</td>\n",
       "      <td>Exercise</td>\n",
       "      <td>Fitness accessories</td>\n",
       "      <td>2</td>\n",
       "      <td>No Brand</td>\n",
       "      <td>12.0</td>\n",
       "      <td>0</td>\n",
       "      <td>used once or twice still in great shape</td>\n",
       "      <td>7-10-2018</td>\n",
       "      <td>4</td>\n",
       "    </tr>\n",
       "    <tr>\n",
       "      <th>1481659</th>\n",
       "      <td>world markets lanterns</td>\n",
       "      <td>Home</td>\n",
       "      <td>Home Décor</td>\n",
       "      <td>Home Décor Accents</td>\n",
       "      <td>3</td>\n",
       "      <td>No Brand</td>\n",
       "      <td>45.0</td>\n",
       "      <td>1</td>\n",
       "      <td>there is of each one that you see so red orang...</td>\n",
       "      <td>21-5-2018</td>\n",
       "      <td>3</td>\n",
       "    </tr>\n",
       "    <tr>\n",
       "      <th>1481660</th>\n",
       "      <td>brand new lux de ville wallet</td>\n",
       "      <td>Women</td>\n",
       "      <td>Women's Accessories</td>\n",
       "      <td>Wallets</td>\n",
       "      <td>1</td>\n",
       "      <td>No Brand</td>\n",
       "      <td>22.0</td>\n",
       "      <td>0</td>\n",
       "      <td>new with tag red with sparkle firm price no fr...</td>\n",
       "      <td>3-11-2018</td>\n",
       "      <td>31</td>\n",
       "    </tr>\n",
       "  </tbody>\n",
       "</table>\n",
       "<p>895376 rows × 11 columns</p>\n",
       "</div>"
      ],
      "text/plain": [
       "                                          name         category_1  \\\n",
       "0          mlb cincinnati reds t shirt size xl                Men   \n",
       "3                        leather horse statues               Home   \n",
       "4                         24k gold plated rose              Women   \n",
       "5             bundled items requested for ruie              Women   \n",
       "8                        girls nike pro shorts  Sports & Outdoors   \n",
       "...                                        ...                ...   \n",
       "1481653  blk white ribbed mock neck bodysuit m              Women   \n",
       "1481654     victoria s secret tankini sz large              Women   \n",
       "1481658     day fix containers and eating plan  Sports & Outdoors   \n",
       "1481659                 world markets lanterns               Home   \n",
       "1481660          brand new lux de ville wallet              Women   \n",
       "\n",
       "                  category_2           category_3  item_condition_id  \\\n",
       "0                       Tops             T-shirts                  3   \n",
       "3                 Home Décor   Home Décor Accents                  1   \n",
       "4                    Jewelry            Necklaces                  1   \n",
       "5                      Other                Other                  3   \n",
       "8                    Apparel                Girls                  3   \n",
       "...                      ...                  ...                ...   \n",
       "1481653       Tops & Blouses               Blouse                  1   \n",
       "1481654     Athletic Apparel          Sports Bras                  2   \n",
       "1481658             Exercise  Fitness accessories                  2   \n",
       "1481659           Home Décor   Home Décor Accents                  3   \n",
       "1481660  Women's Accessories              Wallets                  1   \n",
       "\n",
       "                brand_name  price  shipping  \\\n",
       "0                 No Brand   10.0         1   \n",
       "3                 No Brand   35.0         1   \n",
       "4                 No Brand   44.0         0   \n",
       "5                 No Brand   59.0         0   \n",
       "8                     Nike   19.0         0   \n",
       "...                    ...    ...       ...   \n",
       "1481653           No Brand   10.0         1   \n",
       "1481654  Victoria's Secret   18.0         1   \n",
       "1481658           No Brand   12.0         0   \n",
       "1481659           No Brand   45.0         1   \n",
       "1481660           No Brand   22.0         0   \n",
       "\n",
       "                                          item_description        date  stock  \n",
       "0                                       no description yet   18-6-2018     27  \n",
       "3        new with tags leather horses retail for each s...   21-2-2018      1  \n",
       "4                complete with certificate of authenticity   17-4-2018     13  \n",
       "5        banana republic bottoms candies skirt with mat...   8-12-2018      6  \n",
       "8           girls size small plus green three shorts total   12-4-2018      1  \n",
       "...                                                    ...         ...    ...  \n",
       "1481653  brand new black and white ribbed mock neck bod...  18-12-2018      1  \n",
       "1481654  purple and paisley victoria s secret tankini s...   9-11-2018     33  \n",
       "1481658            used once or twice still in great shape   7-10-2018      4  \n",
       "1481659  there is of each one that you see so red orang...   21-5-2018      3  \n",
       "1481660  new with tag red with sparkle firm price no fr...   3-11-2018     31  \n",
       "\n",
       "[895376 rows x 11 columns]"
      ]
     },
     "execution_count": 18,
     "metadata": {},
     "output_type": "execute_result"
    }
   ],
   "source": [
    "dados = dados[dados.brand_name.isin(brands)]\n",
    "dados"
   ]
  },
  {
   "cell_type": "markdown",
   "metadata": {},
   "source": [
    "## Distribuição de preços entre as principais marcas"
   ]
  },
  {
   "cell_type": "code",
   "execution_count": 21,
   "metadata": {},
   "outputs": [
    {
     "data": {
      "text/plain": [
       "Text(0.5, 1.0, 'Distribuição dos preços por marca')"
      ]
     },
     "execution_count": 21,
     "metadata": {},
     "output_type": "execute_result"
    },
    {
     "data": {
      "image/png": "[encoded data removed]",
      "text/plain": [
       "<Figure size 1000x600 with 1 Axes>"
      ]
     },
     "metadata": {
      "needs_background": "light"
     },
     "output_type": "display_data"
    }
   ],
   "source": [
    "fig, ax = plt.subplots(1, figsize=(10, 6), dpi=100)\n",
    "sns.boxplot(data=dados, y='brand_name', x='price', color='c', ax=ax)\n",
    "plt.title('Distribuição dos preços por marca')"
   ]
  },
  {
   "cell_type": "markdown",
   "metadata": {},
   "source": [
    "O gráfico a seguir mostra o mesmo conteúdo do gráfico anterior, porém sem a exibição do outliers. O que permite ver melhor a distribuição dos dos registros da maioria dos anúncios."
   ]
  },
  {
   "cell_type": "code",
   "execution_count": 22,
   "metadata": {},
   "outputs": [
    {
     "data": {
      "text/plain": [
       "Text(0.5, 1.0, 'Distribuição dos preços por marca')"
      ]
     },
     "execution_count": 22,
     "metadata": {},
     "output_type": "execute_result"
    },
    {
     "data": {
      "image/png": "[encoded data removed]",
      "text/plain": [
       "<Figure size 1000x600 with 1 Axes>"
      ]
     },
     "metadata": {
      "needs_background": "light"
     },
     "output_type": "display_data"
    }
   ],
   "source": [
    "fig, ax = plt.subplots(1, figsize=(10, 6), dpi=100)\n",
    "sns.boxplot(data=dados, y='brand_name', x='price', showfliers=False, color='c', ax=ax)\n",
    "plt.title('Distribuição dos preços por marca')"
   ]
  },
  {
   "cell_type": "markdown",
   "metadata": {},
   "source": [
    "É observado que as marcas notadamente artigos de luxo como `Apple` e `Michael Kors` apresentam maiores preços que as demais. Marcas como a `FOREVER 21` que trabalham com linhas de produtos mais populares apresentam, como esperado, os menores preços. \n",
    "\n",
    "Estes gráficos mostram que o peso do nome da marca pode influenciar no preço final dos produtos. Entretanto, parte desta diferença é devida a categorias dos produtos. Por exemplo, a `Apple` produz aparelhos teleônicos que, em geral, são mais caros que artigos do lar e vestuário. É necessário portanto, realizar uma análise mais detalhada sobre a influencia do nome da marca em produtos de mesmas categorias."
   ]
  },
  {
   "cell_type": "markdown",
   "metadata": {},
   "source": [
    "## Peso do nome da marca por categorias de produtos"
   ]
  },
  {
   "cell_type": "markdown",
   "metadata": {},
   "source": [
    "Aqui serão avaliadas algumas categorias específicas que fornecem uma visão da característica geral dos produtos anúnciados. Esta escolha foi feita devido a grande quantidade de categorias existentes. As categorias utilizadas na análise a seguir foram escolhidas por serem as mais representativas das principais marcas listadas anteriormente."
   ]
  },
  {
   "cell_type": "markdown",
   "metadata": {},
   "source": [
    "### Preços das categoria Smartphones"
   ]
  },
  {
   "cell_type": "code",
   "execution_count": 23,
   "metadata": {},
   "outputs": [
    {
     "data": {
      "text/plain": [
       "Text(0.5, 1.0, 'Distribuição dos preços por marca para smartphones')"
      ]
     },
     "execution_count": 23,
     "metadata": {},
     "output_type": "execute_result"
    },
    {
     "data": {
      "image/png": "[encoded data removed]",
      "text/plain": [
       "<Figure size 1000x600 with 1 Axes>"
      ]
     },
     "metadata": {
      "needs_background": "light"
     },
     "output_type": "display_data"
    }
   ],
   "source": [
    "smartphones = dados.query('category_3 == \"Cell Phones & Smartphones\"')\n",
    "fig, ax = plt.subplots(1, figsize=(10, 6), dpi=100)\n",
    "sns.boxplot(data=smartphones, y='brand_name', x='price', showfliers=False, color='c', ax=ax)\n",
    "plt.title('Distribuição dos preços por marca para smartphones')"
   ]
  },
  {
   "cell_type": "markdown",
   "metadata": {},
   "source": [
    "Produtos da Apple, notadamente, têm preços maiores que outras categorias. A aparição da marca `Nintendo`, que não produz modelos de smartphone, mostra qe existem produtos no dataset erroneamente classificados em determinada categoria."
   ]
  },
  {
   "cell_type": "code",
   "execution_count": 24,
   "metadata": {},
   "outputs": [
    {
     "data": {
      "text/html": [
       "<div>\n",
       "<style scoped>\n",
       "    .dataframe tbody tr th:only-of-type {\n",
       "        vertical-align: middle;\n",
       "    }\n",
       "\n",
       "    .dataframe tbody tr th {\n",
       "        vertical-align: top;\n",
       "    }\n",
       "\n",
       "    .dataframe thead th {\n",
       "        text-align: right;\n",
       "    }\n",
       "</style>\n",
       "<table border=\"1\" class=\"dataframe\">\n",
       "  <thead>\n",
       "    <tr style=\"text-align: right;\">\n",
       "      <th></th>\n",
       "      <th>name</th>\n",
       "      <th>category_1</th>\n",
       "      <th>category_2</th>\n",
       "      <th>category_3</th>\n",
       "      <th>item_condition_id</th>\n",
       "      <th>brand_name</th>\n",
       "      <th>price</th>\n",
       "      <th>shipping</th>\n",
       "      <th>item_description</th>\n",
       "      <th>date</th>\n",
       "      <th>stock</th>\n",
       "    </tr>\n",
       "  </thead>\n",
       "  <tbody>\n",
       "    <tr>\n",
       "      <th>1409450</th>\n",
       "      <td>like new</td>\n",
       "      <td>Electronics</td>\n",
       "      <td>Cell Phones &amp; Accessories</td>\n",
       "      <td>Cell Phones &amp; Smartphones</td>\n",
       "      <td>2</td>\n",
       "      <td>Nintendo</td>\n",
       "      <td>80.0</td>\n",
       "      <td>1</td>\n",
       "      <td>taking offers</td>\n",
       "      <td>21-7-2018</td>\n",
       "      <td>1</td>\n",
       "    </tr>\n",
       "  </tbody>\n",
       "</table>\n",
       "</div>"
      ],
      "text/plain": [
       "             name   category_1                 category_2  \\\n",
       "1409450  like new  Electronics  Cell Phones & Accessories   \n",
       "\n",
       "                        category_3  item_condition_id brand_name  price  \\\n",
       "1409450  Cell Phones & Smartphones                  2   Nintendo   80.0   \n",
       "\n",
       "         shipping item_description       date  stock  \n",
       "1409450         1    taking offers  21-7-2018      1  "
      ]
     },
     "execution_count": 24,
     "metadata": {},
     "output_type": "execute_result"
    }
   ],
   "source": [
    "nintendo = dados.query('category_3 == \"Cell Phones & Smartphones\" & brand_name == \"Nintendo\"')\n",
    "nintendo"
   ]
  },
  {
   "cell_type": "markdown",
   "metadata": {},
   "source": [
    "### Preços da categoria `Shoulder Bag` de produtos femininos"
   ]
  },
  {
   "cell_type": "code",
   "execution_count": 25,
   "metadata": {},
   "outputs": [
    {
     "data": {
      "text/plain": [
       "Text(0.5, 1.0, 'Distribuição de preços para bolsas de ombro femininas')"
      ]
     },
     "execution_count": 25,
     "metadata": {},
     "output_type": "execute_result"
    },
    {
     "data": {
      "image/png": "[encoded data removed]",
      "text/plain": [
       "<Figure size 1000x600 with 1 Axes>"
      ]
     },
     "metadata": {
      "needs_background": "light"
     },
     "output_type": "display_data"
    }
   ],
   "source": [
    "shoulder_bags = dados.query('category_1 == \"Women\" & category_3 == \"Shoulder Bag\"')\n",
    "fig, ax = plt.subplots(1, figsize=(10, 6), dpi=100)\n",
    "sns.boxplot(data=shoulder_bags, y='brand_name', x='price', showfliers=False, color='c', ax=ax)\n",
    "plt.title('Distribuição de preços para bolsas de ombro femininas')"
   ]
  },
  {
   "cell_type": "markdown",
   "metadata": {},
   "source": [
    "Como esperado, já que no primeiro gráfico a `Michael Kors` se destaca como uma marca de preços elevados a mesma é a de maiores preços nesta sub-categoria de produtos. Outra marca também de altos preços é a `Lululemon`. Novamente `Forever 21` aparece como a marca de menores preços médios."
   ]
  },
  {
   "cell_type": "markdown",
   "metadata": {},
   "source": [
    "### Preços para Tops e Bluses femininos"
   ]
  },
  {
   "cell_type": "code",
   "execution_count": 26,
   "metadata": {},
   "outputs": [
    {
     "data": {
      "text/plain": [
       "Text(0.5, 1.0, 'Distribuição dos preços para tops e blusas femininos')"
      ]
     },
     "execution_count": 26,
     "metadata": {},
     "output_type": "execute_result"
    },
    {
     "data": {
      "image/png": "[encoded data removed]",
      "text/plain": [
       "<Figure size 1000x600 with 1 Axes>"
      ]
     },
     "metadata": {
      "needs_background": "light"
     },
     "output_type": "display_data"
    }
   ],
   "source": [
    "tops_blouses = dados.query('category_1 == \"Women\" & category_2 ==\"Tops & Blouses\"')\n",
    "fig, ax = plt.subplots(1, figsize=(10, 6), dpi=100)\n",
    "sns.boxplot(data=tops_blouses, y='brand_name', x='price', showfliers=False, color='c', ax=ax)\n",
    "plt.title('Distribuição dos preços para tops e blusas femininos')"
   ]
  },
  {
   "cell_type": "markdown",
   "metadata": {},
   "source": [
    "A marca `Nintendo` aparece nesta categoria pois existem alguns produtos de vestuário que estampam o nome da marca, apenas 2 registros foram encontrados para este caso. Neste caso várias marcas apresentam distribuições similares de preços. Novamente a `FOREVER 21` apresrnta a distribuição de preços com os menores valores. "
   ]
  },
  {
   "cell_type": "markdown",
   "metadata": {},
   "source": [
    "### Preços para consoles de vídeo game"
   ]
  },
  {
   "cell_type": "code",
   "execution_count": 27,
   "metadata": {},
   "outputs": [
    {
     "data": {
      "text/plain": [
       "Text(0.5, 1.0, 'Distribuição dos preços para consoles de vídeo game')"
      ]
     },
     "execution_count": 27,
     "metadata": {},
     "output_type": "execute_result"
    },
    {
     "data": {
      "image/png": "[encoded data removed]",
      "text/plain": [
       "<Figure size 1000x600 with 1 Axes>"
      ]
     },
     "metadata": {
      "needs_background": "light"
     },
     "output_type": "display_data"
    }
   ],
   "source": [
    "consoles = dados.query('category_3 == \"Consoles\"')\n",
    "fig, ax = plt.subplots(1, figsize=(10, 6), dpi=100)\n",
    "sns.boxplot(data=consoles, y='brand_name', x='price', showfliers=False, color='c', ax=ax)\n",
    "plt.title('Distribuição dos preços para consoles de vídeo game')"
   ]
  },
  {
   "cell_type": "code",
   "execution_count": 28,
   "metadata": {},
   "outputs": [
    {
     "data": {
      "text/html": [
       "<div>\n",
       "<style scoped>\n",
       "    .dataframe tbody tr th:only-of-type {\n",
       "        vertical-align: middle;\n",
       "    }\n",
       "\n",
       "    .dataframe tbody tr th {\n",
       "        vertical-align: top;\n",
       "    }\n",
       "\n",
       "    .dataframe thead th {\n",
       "        text-align: right;\n",
       "    }\n",
       "</style>\n",
       "<table border=\"1\" class=\"dataframe\">\n",
       "  <thead>\n",
       "    <tr style=\"text-align: right;\">\n",
       "      <th></th>\n",
       "      <th>name</th>\n",
       "      <th>category_1</th>\n",
       "      <th>category_2</th>\n",
       "      <th>category_3</th>\n",
       "      <th>item_condition_id</th>\n",
       "      <th>brand_name</th>\n",
       "      <th>price</th>\n",
       "      <th>shipping</th>\n",
       "      <th>item_description</th>\n",
       "      <th>date</th>\n",
       "      <th>stock</th>\n",
       "    </tr>\n",
       "  </thead>\n",
       "  <tbody>\n",
       "    <tr>\n",
       "      <th>130211</th>\n",
       "      <td>chromecast</td>\n",
       "      <td>Electronics</td>\n",
       "      <td>Video Games &amp; Consoles</td>\n",
       "      <td>Consoles</td>\n",
       "      <td>2</td>\n",
       "      <td>Apple</td>\n",
       "      <td>26.0</td>\n",
       "      <td>1</td>\n",
       "      <td>cast over shows easy setup box hasn t been ope...</td>\n",
       "      <td>10-6-2018</td>\n",
       "      <td>34</td>\n",
       "    </tr>\n",
       "    <tr>\n",
       "      <th>719341</th>\n",
       "      <td>brand new apple tv 32gb</td>\n",
       "      <td>Electronics</td>\n",
       "      <td>Video Games &amp; Consoles</td>\n",
       "      <td>Consoles</td>\n",
       "      <td>1</td>\n",
       "      <td>Apple</td>\n",
       "      <td>66.0</td>\n",
       "      <td>0</td>\n",
       "      <td>only used for a couple days my dad doesn t hav...</td>\n",
       "      <td>22-4-2018</td>\n",
       "      <td>2</td>\n",
       "    </tr>\n",
       "  </tbody>\n",
       "</table>\n",
       "</div>"
      ],
      "text/plain": [
       "                           name   category_1              category_2  \\\n",
       "130211               chromecast  Electronics  Video Games & Consoles   \n",
       "719341  brand new apple tv 32gb  Electronics  Video Games & Consoles   \n",
       "\n",
       "       category_3  item_condition_id brand_name  price  shipping  \\\n",
       "130211   Consoles                  2      Apple   26.0         1   \n",
       "719341   Consoles                  1      Apple   66.0         0   \n",
       "\n",
       "                                         item_description       date  stock  \n",
       "130211  cast over shows easy setup box hasn t been ope...  10-6-2018     34  \n",
       "719341  only used for a couple days my dad doesn t hav...  22-4-2018      2  "
      ]
     },
     "execution_count": 28,
     "metadata": {},
     "output_type": "execute_result"
    }
   ],
   "source": [
    "consoles_apple = dados.query('category_3 == \"Consoles\" & brand_name == \"Apple\"')\n",
    "consoles_apple"
   ]
  },
  {
   "cell_type": "markdown",
   "metadata": {},
   "source": [
    "Nesta categoria apenas a marca `Nintendo` se apresenta. Produtos marcados como `No brand` também têm frequência significativa mas, neste caso é possível que existam produtos classificados erroneamente como é o caso do produtos `Apple`. Neste caso existem dois registros da Apple marcados como consoles de vídeo game. Porém, lendo-se as descrições mostradas acima, vê-se que estes produtos na verdade foram classificados erroneamente."
   ]
  },
  {
   "cell_type": "markdown",
   "metadata": {},
   "source": [
    "## Conclusões"
   ]
  },
  {
   "cell_type": "markdown",
   "metadata": {},
   "source": [
    "A análise realiza mostrou que o peso do nome da marca realmente é significante para a definição do preço dos produtos. Notadamente existem marcas que, geralmente, produzem produtos com preços muito mais elevados que a média dos produtos produzidos por outras marcas da mesma categoria.\n",
    "\n",
    "Esta análise também permitiu identificar que existem alguns anúncios de produtos cujas classes foram atribuidas erroneamente."
   ]
  },
  {
   "cell_type": "markdown",
   "metadata": {},
   "source": []
  }
 ],
 "metadata": {
  "kernelspec": {
   "display_name": "Python 3.9.12 ('base')",
   "language": "python",
   "name": "python3"
  },
  "language_info": {
   "codemirror_mode": {
    "name": "ipython",
    "version": 3
   },
   "file_extension": ".py",
   "mimetype": "text/x-python",
   "name": "python",
   "nbconvert_exporter": "python",
   "pygments_lexer": "ipython3",
   "version": "3.9.12"
  },
  "orig_nbformat": 4,
  "vscode": {
   "interpreter": {
    "hash": "7832355663de3739c43a670b9e0e66b306696971f3c515f01e5590b4e36bbdc6"
   }
  }
 },
 "nbformat": 4,
 "nbformat_minor": 2
}
