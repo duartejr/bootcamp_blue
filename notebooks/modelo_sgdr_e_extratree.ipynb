{
  "nbformat": 4,
  "nbformat_minor": 0,
  "metadata": {
    "colab": {
      "provenance": [],
      "collapsed_sections": [],
      "mount_file_id": "1fjK0aEZ9VACILorghp1X8Arh9OG_MzA2",
      "authorship_tag": "ABX9TyOZDft9Gckzp7DU7WV5AOFK",
      "include_colab_link": true
    },
    "kernelspec": {
      "name": "python3",
      "display_name": "Python 3"
    },
    "language_info": {
      "name": "python"
    }
  },
  "cells": [
    {
      "cell_type": "markdown",
      "metadata": {
        "id": "view-in-github",
        "colab_type": "text"
      },
      "source": [
        "<a href=\"https://colab.research.google.com/github/duartejr/bootcamp_blue/blob/Gustavo/notebooks/modelo_sgdr_e_extratree.ipynb\" target=\"_parent\"><img src=\"https://colab.research.google.com/assets/colab-badge.svg\" alt=\"Open In Colab\"/></a>"
      ]
    },
    {
      "cell_type": "markdown",
      "source": [
        "# Modelo SDGRegressor e Extratreeregressor"
      ],
      "metadata": {
        "id": "BeADQGYbZ3uh"
      }
    },
    {
      "cell_type": "code",
      "execution_count": null,
      "metadata": {
        "id": "MkSYHrtNrkTO"
      },
      "outputs": [],
      "source": [
        "import pandas as pd\n",
        "import numpy as np\n",
        "from sklearn.preprocessing import LabelEncoder\n",
        "from sklearn.linear_model import SGDRegressor\n",
        "from sklearn.ensemble import ExtraTreesRegressor\n",
        "from sklearn.svm import SVR\n",
        "from sklearn import metrics"
      ]
    },
    {
      "cell_type": "code",
      "source": [
        "def calc_metricas(obs, pred):\n",
        "    r2 = metrics.r2_score(obs, pred).round(3)\n",
        "    mape = (100 * metrics.mean_absolute_percentage_error(obs, pred)).round(3)\n",
        "    mae = metrics.mean_absolute_error(obs, pred).round(2)\n",
        "    rmse = (metrics.mean_squared_error(obs, pred)**0.5).round(2)\n",
        "    msle = metrics.mean_squared_log_error(obs, pred).round(3)\n",
        "    \n",
        "    return [r2, mape, mae, rmse, msle]\n",
        "\n",
        "def print_avaliacao(obs, pred):\n",
        "    print('R² = %.3f' % metrics.r2_score(obs, pred))\n",
        "    print('MAPE = %.3f %%' % (100 * metrics.mean_absolute_percentage_error(obs, pred)))\n",
        "    print('MAE = U$S %.2f' % (metrics.mean_absolute_error(obs, pred)))\n",
        "    print('RMSE = U$S %.2f' % metrics.mean_squared_error(obs, pred)**0.5)\n",
        "    print('MSLE = %.3f' % metrics.mean_squared_log_error(obs, pred))"
      ],
      "metadata": {
        "id": "XjbX9ipBaazh"
      },
      "execution_count": null,
      "outputs": []
    },
    {
      "cell_type": "code",
      "source": [
        "dados_treino = pd.read_csv('/content/drive/MyDrive/Datasets/Cópia de train_data.csv')\n",
        "dados_teste = pd.read_csv('/content/drive/MyDrive/Datasets/Cópia de test_data.csv')"
      ],
      "metadata": {
        "id": "EYyS0lasafXk"
      },
      "execution_count": null,
      "outputs": []
    },
    {
      "cell_type": "code",
      "source": [
        "le_cat1 = LabelEncoder()\n",
        "le_cat2 = LabelEncoder()\n",
        "le_cat3 = LabelEncoder()\n",
        "le_brand = LabelEncoder()\n",
        "\n",
        "le_cat1 = le_cat1.fit(dados_treino.category_1)\n",
        "le_cat2 = le_cat2.fit(dados_treino.category_2)\n",
        "le_cat3 = le_cat3.fit(dados_treino.category_3)\n",
        "le_brand = le_brand.fit(dados_treino.brand_name)\n",
        "\n",
        "dados_treino['category_1'] = le_cat1.transform(dados_treino.category_1)\n",
        "dados_treino['category_2'] = le_cat2.transform(dados_treino.category_2)\n",
        "dados_treino['category_3'] = le_cat3.transform(dados_treino.category_3)\n",
        "dados_treino['brand_name'] = le_brand.transform(dados_treino.brand_name)"
      ],
      "metadata": {
        "id": "MsUFIP3UbDlA"
      },
      "execution_count": null,
      "outputs": []
    },
    {
      "cell_type": "code",
      "source": [
        "dic_cat1 = dict(zip(le_cat1.classes_, le_cat1.transform(le_cat1.classes_)))\n",
        "dic_cat2 = dict(zip(le_cat2.classes_, le_cat2.transform(le_cat2.classes_)))\n",
        "dic_cat3 = dict(zip(le_cat3.classes_, le_cat3.transform(le_cat3.classes_)))\n",
        "dic_brand = dict(zip(le_brand.classes_, le_brand.transform(le_brand.classes_)))\n",
        "\n"
      ],
      "metadata": {
        "id": "ru2CTGCTbHyd"
      },
      "execution_count": null,
      "outputs": []
    },
    {
      "cell_type": "code",
      "source": [
        "dados_teste = pd.read_csv('/content/drive/MyDrive/Datasets/Cópia de test_data.csv')\n",
        "dados_teste['category_1'] = dados_teste['category_1'].map(dic_cat1).fillna(-1)\n",
        "dados_teste['category_2'] = dados_teste['category_2'].map(dic_cat2).fillna(-1)\n",
        "dados_teste['category_3'] = dados_teste['category_3'].map(dic_cat3).fillna(-1)\n",
        "dados_teste['brand_name'] = dados_teste['brand_name'].map(dic_brand).fillna(-1)\n",
        "dados_teste"
      ],
      "metadata": {
        "colab": {
          "base_uri": "https://localhost:8080/",
          "height": 589
        },
        "id": "wRP4CPukbMdt",
        "outputId": "15338c24-4c35-412b-9cc4-8b7c39c100f9"
      },
      "execution_count": null,
      "outputs": [
        {
          "output_type": "execute_result",
          "data": {
            "text/plain": [
              "                                        name  category_1  category_2  \\\n",
              "0                  women s motorcycle tshirt          10         104   \n",
              "1                      alex and ani necklace          10          58   \n",
              "2             steve madden red lace up heels          10          88   \n",
              "3                         men s black tuxedo           5          94   \n",
              "4       red open back mermaid style dress xs          10          35   \n",
              "...                                      ...         ...         ...   \n",
              "444494                  pink vs sleep shorts          10           5   \n",
              "444495                        coach hand bag          10         112   \n",
              "444496           waffle knit sweater forever          10          97   \n",
              "444497                     dr dre beats solo           1         100   \n",
              "444498                    grey nike sb shoes           5          88   \n",
              "\n",
              "        category_3  item_condition_id  brand_name  price  shipping  \\\n",
              "0            751.0                  3      1709.0    6.0         1   \n",
              "1            530.0                  2        47.0   11.0         1   \n",
              "2            629.0                  2      3682.0   36.0         0   \n",
              "3            811.0                  3      2795.0   54.0         0   \n",
              "4            334.0                  1      2795.0  316.0         0   \n",
              "...            ...                ...         ...    ...       ...   \n",
              "444494       687.0                  3      2928.0   12.0         0   \n",
              "444495       392.0                  3       926.0   86.0         0   \n",
              "444496       226.0                  3      1384.0   14.0         0   \n",
              "444497       381.0                  3       457.0   69.0         0   \n",
              "444498       303.0                  2      2780.0   30.0         0   \n",
              "\n",
              "              date  stock                                   item_description  \n",
              "0         9-4-2018      8                                    new in box pack  \n",
              "1        25-1-2018      8  laura mercier matte translucent lightly used g...  \n",
              "2       30-11-2018      9      size large nwot aztec print ultimate leggings  \n",
              "3        30-7-2018      7                      runs smoothly great condition  \n",
              "4        29-7-2018     34  size dark wash denim black skinny jeans excell...  \n",
              "...            ...    ...                                                ...  \n",
              "444494  16-12-2018      7                                              brown  \n",
              "444495  15-11-2018      3                                 no description yet  \n",
              "444496    2-3-2018      4     untested parts only found in a clean out i did  \n",
              "444497   19-3-2018      6  listing reserved please read full description ...  \n",
              "444498   7-12-2018      1                         includes case instructions  \n",
              "\n",
              "[444499 rows x 11 columns]"
            ],
            "text/html": [
              "\n",
              "  <div id=\"df-91560f57-ee22-42b9-a38f-5e5b0fff58df\">\n",
              "    <div class=\"colab-df-container\">\n",
              "      <div>\n",
              "<style scoped>\n",
              "    .dataframe tbody tr th:only-of-type {\n",
              "        vertical-align: middle;\n",
              "    }\n",
              "\n",
              "    .dataframe tbody tr th {\n",
              "        vertical-align: top;\n",
              "    }\n",
              "\n",
              "    .dataframe thead th {\n",
              "        text-align: right;\n",
              "    }\n",
              "</style>\n",
              "<table border=\"1\" class=\"dataframe\">\n",
              "  <thead>\n",
              "    <tr style=\"text-align: right;\">\n",
              "      <th></th>\n",
              "      <th>name</th>\n",
              "      <th>category_1</th>\n",
              "      <th>category_2</th>\n",
              "      <th>category_3</th>\n",
              "      <th>item_condition_id</th>\n",
              "      <th>brand_name</th>\n",
              "      <th>price</th>\n",
              "      <th>shipping</th>\n",
              "      <th>date</th>\n",
              "      <th>stock</th>\n",
              "      <th>item_description</th>\n",
              "    </tr>\n",
              "  </thead>\n",
              "  <tbody>\n",
              "    <tr>\n",
              "      <th>0</th>\n",
              "      <td>women s motorcycle tshirt</td>\n",
              "      <td>10</td>\n",
              "      <td>104</td>\n",
              "      <td>751.0</td>\n",
              "      <td>3</td>\n",
              "      <td>1709.0</td>\n",
              "      <td>6.0</td>\n",
              "      <td>1</td>\n",
              "      <td>9-4-2018</td>\n",
              "      <td>8</td>\n",
              "      <td>new in box pack</td>\n",
              "    </tr>\n",
              "    <tr>\n",
              "      <th>1</th>\n",
              "      <td>alex and ani necklace</td>\n",
              "      <td>10</td>\n",
              "      <td>58</td>\n",
              "      <td>530.0</td>\n",
              "      <td>2</td>\n",
              "      <td>47.0</td>\n",
              "      <td>11.0</td>\n",
              "      <td>1</td>\n",
              "      <td>25-1-2018</td>\n",
              "      <td>8</td>\n",
              "      <td>laura mercier matte translucent lightly used g...</td>\n",
              "    </tr>\n",
              "    <tr>\n",
              "      <th>2</th>\n",
              "      <td>steve madden red lace up heels</td>\n",
              "      <td>10</td>\n",
              "      <td>88</td>\n",
              "      <td>629.0</td>\n",
              "      <td>2</td>\n",
              "      <td>3682.0</td>\n",
              "      <td>36.0</td>\n",
              "      <td>0</td>\n",
              "      <td>30-11-2018</td>\n",
              "      <td>9</td>\n",
              "      <td>size large nwot aztec print ultimate leggings</td>\n",
              "    </tr>\n",
              "    <tr>\n",
              "      <th>3</th>\n",
              "      <td>men s black tuxedo</td>\n",
              "      <td>5</td>\n",
              "      <td>94</td>\n",
              "      <td>811.0</td>\n",
              "      <td>3</td>\n",
              "      <td>2795.0</td>\n",
              "      <td>54.0</td>\n",
              "      <td>0</td>\n",
              "      <td>30-7-2018</td>\n",
              "      <td>7</td>\n",
              "      <td>runs smoothly great condition</td>\n",
              "    </tr>\n",
              "    <tr>\n",
              "      <th>4</th>\n",
              "      <td>red open back mermaid style dress xs</td>\n",
              "      <td>10</td>\n",
              "      <td>35</td>\n",
              "      <td>334.0</td>\n",
              "      <td>1</td>\n",
              "      <td>2795.0</td>\n",
              "      <td>316.0</td>\n",
              "      <td>0</td>\n",
              "      <td>29-7-2018</td>\n",
              "      <td>34</td>\n",
              "      <td>size dark wash denim black skinny jeans excell...</td>\n",
              "    </tr>\n",
              "    <tr>\n",
              "      <th>...</th>\n",
              "      <td>...</td>\n",
              "      <td>...</td>\n",
              "      <td>...</td>\n",
              "      <td>...</td>\n",
              "      <td>...</td>\n",
              "      <td>...</td>\n",
              "      <td>...</td>\n",
              "      <td>...</td>\n",
              "      <td>...</td>\n",
              "      <td>...</td>\n",
              "      <td>...</td>\n",
              "    </tr>\n",
              "    <tr>\n",
              "      <th>444494</th>\n",
              "      <td>pink vs sleep shorts</td>\n",
              "      <td>10</td>\n",
              "      <td>5</td>\n",
              "      <td>687.0</td>\n",
              "      <td>3</td>\n",
              "      <td>2928.0</td>\n",
              "      <td>12.0</td>\n",
              "      <td>0</td>\n",
              "      <td>16-12-2018</td>\n",
              "      <td>7</td>\n",
              "      <td>brown</td>\n",
              "    </tr>\n",
              "    <tr>\n",
              "      <th>444495</th>\n",
              "      <td>coach hand bag</td>\n",
              "      <td>10</td>\n",
              "      <td>112</td>\n",
              "      <td>392.0</td>\n",
              "      <td>3</td>\n",
              "      <td>926.0</td>\n",
              "      <td>86.0</td>\n",
              "      <td>0</td>\n",
              "      <td>15-11-2018</td>\n",
              "      <td>3</td>\n",
              "      <td>no description yet</td>\n",
              "    </tr>\n",
              "    <tr>\n",
              "      <th>444496</th>\n",
              "      <td>waffle knit sweater forever</td>\n",
              "      <td>10</td>\n",
              "      <td>97</td>\n",
              "      <td>226.0</td>\n",
              "      <td>3</td>\n",
              "      <td>1384.0</td>\n",
              "      <td>14.0</td>\n",
              "      <td>0</td>\n",
              "      <td>2-3-2018</td>\n",
              "      <td>4</td>\n",
              "      <td>untested parts only found in a clean out i did</td>\n",
              "    </tr>\n",
              "    <tr>\n",
              "      <th>444497</th>\n",
              "      <td>dr dre beats solo</td>\n",
              "      <td>1</td>\n",
              "      <td>100</td>\n",
              "      <td>381.0</td>\n",
              "      <td>3</td>\n",
              "      <td>457.0</td>\n",
              "      <td>69.0</td>\n",
              "      <td>0</td>\n",
              "      <td>19-3-2018</td>\n",
              "      <td>6</td>\n",
              "      <td>listing reserved please read full description ...</td>\n",
              "    </tr>\n",
              "    <tr>\n",
              "      <th>444498</th>\n",
              "      <td>grey nike sb shoes</td>\n",
              "      <td>5</td>\n",
              "      <td>88</td>\n",
              "      <td>303.0</td>\n",
              "      <td>2</td>\n",
              "      <td>2780.0</td>\n",
              "      <td>30.0</td>\n",
              "      <td>0</td>\n",
              "      <td>7-12-2018</td>\n",
              "      <td>1</td>\n",
              "      <td>includes case instructions</td>\n",
              "    </tr>\n",
              "  </tbody>\n",
              "</table>\n",
              "<p>444499 rows × 11 columns</p>\n",
              "</div>\n",
              "      <button class=\"colab-df-convert\" onclick=\"convertToInteractive('df-91560f57-ee22-42b9-a38f-5e5b0fff58df')\"\n",
              "              title=\"Convert this dataframe to an interactive table.\"\n",
              "              style=\"display:none;\">\n",
              "        \n",
              "  <svg xmlns=\"http://www.w3.org/2000/svg\" height=\"24px\"viewBox=\"0 0 24 24\"\n",
              "       width=\"24px\">\n",
              "    <path d=\"M0 0h24v24H0V0z\" fill=\"none\"/>\n",
              "    <path d=\"M18.56 5.44l.94 2.06.94-2.06 2.06-.94-2.06-.94-.94-2.06-.94 2.06-2.06.94zm-11 1L8.5 8.5l.94-2.06 2.06-.94-2.06-.94L8.5 2.5l-.94 2.06-2.06.94zm10 10l.94 2.06.94-2.06 2.06-.94-2.06-.94-.94-2.06-.94 2.06-2.06.94z\"/><path d=\"M17.41 7.96l-1.37-1.37c-.4-.4-.92-.59-1.43-.59-.52 0-1.04.2-1.43.59L10.3 9.45l-7.72 7.72c-.78.78-.78 2.05 0 2.83L4 21.41c.39.39.9.59 1.41.59.51 0 1.02-.2 1.41-.59l7.78-7.78 2.81-2.81c.8-.78.8-2.07 0-2.86zM5.41 20L4 18.59l7.72-7.72 1.47 1.35L5.41 20z\"/>\n",
              "  </svg>\n",
              "      </button>\n",
              "      \n",
              "  <style>\n",
              "    .colab-df-container {\n",
              "      display:flex;\n",
              "      flex-wrap:wrap;\n",
              "      gap: 12px;\n",
              "    }\n",
              "\n",
              "    .colab-df-convert {\n",
              "      background-color: #E8F0FE;\n",
              "      border: none;\n",
              "      border-radius: 50%;\n",
              "      cursor: pointer;\n",
              "      display: none;\n",
              "      fill: #1967D2;\n",
              "      height: 32px;\n",
              "      padding: 0 0 0 0;\n",
              "      width: 32px;\n",
              "    }\n",
              "\n",
              "    .colab-df-convert:hover {\n",
              "      background-color: #E2EBFA;\n",
              "      box-shadow: 0px 1px 2px rgba(60, 64, 67, 0.3), 0px 1px 3px 1px rgba(60, 64, 67, 0.15);\n",
              "      fill: #174EA6;\n",
              "    }\n",
              "\n",
              "    [theme=dark] .colab-df-convert {\n",
              "      background-color: #3B4455;\n",
              "      fill: #D2E3FC;\n",
              "    }\n",
              "\n",
              "    [theme=dark] .colab-df-convert:hover {\n",
              "      background-color: #434B5C;\n",
              "      box-shadow: 0px 1px 3px 1px rgba(0, 0, 0, 0.15);\n",
              "      filter: drop-shadow(0px 1px 2px rgba(0, 0, 0, 0.3));\n",
              "      fill: #FFFFFF;\n",
              "    }\n",
              "  </style>\n",
              "\n",
              "      <script>\n",
              "        const buttonEl =\n",
              "          document.querySelector('#df-91560f57-ee22-42b9-a38f-5e5b0fff58df button.colab-df-convert');\n",
              "        buttonEl.style.display =\n",
              "          google.colab.kernel.accessAllowed ? 'block' : 'none';\n",
              "\n",
              "        async function convertToInteractive(key) {\n",
              "          const element = document.querySelector('#df-91560f57-ee22-42b9-a38f-5e5b0fff58df');\n",
              "          const dataTable =\n",
              "            await google.colab.kernel.invokeFunction('convertToInteractive',\n",
              "                                                     [key], {});\n",
              "          if (!dataTable) return;\n",
              "\n",
              "          const docLinkHtml = 'Like what you see? Visit the ' +\n",
              "            '<a target=\"_blank\" href=https://colab.research.google.com/notebooks/data_table.ipynb>data table notebook</a>'\n",
              "            + ' to learn more about interactive tables.';\n",
              "          element.innerHTML = '';\n",
              "          dataTable['output_type'] = 'display_data';\n",
              "          await google.colab.output.renderOutput(dataTable, element);\n",
              "          const docLink = document.createElement('div');\n",
              "          docLink.innerHTML = docLinkHtml;\n",
              "          element.appendChild(docLink);\n",
              "        }\n",
              "      </script>\n",
              "    </div>\n",
              "  </div>\n",
              "  "
            ]
          },
          "metadata": {},
          "execution_count": 6
        }
      ]
    },
    {
      "cell_type": "markdown",
      "source": [
        "O SGDRegressor foi desconsiderando pois não faz boas estimativas"
      ],
      "metadata": {
        "id": "qP-LbXAxK4y1"
      }
    },
    {
      "cell_type": "code",
      "source": [
        "#model = SGDRegressor()\n",
        "X_treino = dados_treino[['category_1', 'category_2', 'category_3', 'brand_name', 'item_condition_id', 'shipping']]\n",
        "y_treino = np.log(dados_treino['price'])\n",
        "#model.fit(X_treino, y_treino)"
      ],
      "metadata": {
        "colab": {
          "base_uri": "https://localhost:8080/"
        },
        "id": "zVriao7nbhsD",
        "outputId": "25c671b7-ddaf-4b9c-d039-7798aa773dc4"
      },
      "execution_count": null,
      "outputs": [
        {
          "output_type": "stream",
          "name": "stderr",
          "text": [
            "/usr/local/lib/python3.7/dist-packages/sklearn/linear_model/_stochastic_gradient.py:1507: ConvergenceWarning: Maximum number of iteration reached before convergence. Consider increasing max_iter to improve the fit.\n",
            "  ConvergenceWarning,\n"
          ]
        },
        {
          "output_type": "execute_result",
          "data": {
            "text/plain": [
              "SGDRegressor()"
            ]
          },
          "metadata": {},
          "execution_count": 15
        }
      ]
    },
    {
      "cell_type": "markdown",
      "source": [
        "tempo de treinamento 4 minutos e 51 segundos"
      ],
      "metadata": {
        "id": "dzUg_ebd8I7u"
      }
    },
    {
      "cell_type": "code",
      "source": [
        "#dados_teste['pred'] =  np.exp(model.predict(dados_teste[['category_1', \n",
        "                                                 #'category_2', \n",
        "                                                 #'category_3', \n",
        "                                                 #'brand_name', \n",
        "                                                 #'item_condition_id', \n",
        "                                                 #'shipping']]))\n",
        "#dados_teste.loc[dados_teste.pred < 3, 'pred'] = 3\n"
      ],
      "metadata": {
        "colab": {
          "base_uri": "https://localhost:8080/"
        },
        "id": "n_45coM_8OZl",
        "outputId": "a8d55f27-76b1-4d8e-b8fe-1a3c56ce0e98"
      },
      "execution_count": null,
      "outputs": [
        {
          "output_type": "stream",
          "name": "stderr",
          "text": [
            "/usr/local/lib/python3.7/dist-packages/ipykernel_launcher.py:6: RuntimeWarning: overflow encountered in exp\n",
            "  \n"
          ]
        }
      ]
    },
    {
      "cell_type": "markdown",
      "source": [
        "tempo de execução em 0,61 s"
      ],
      "metadata": {
        "id": "IfLWUcDd8kdm"
      }
    },
    {
      "cell_type": "code",
      "source": [
        "#print_avaliacao(dados_teste['price'], dados_teste['pred'])"
      ],
      "metadata": {
        "colab": {
          "base_uri": "https://localhost:8080/",
          "height": 314
        },
        "id": "tTB4-v-V-4da",
        "outputId": "9d786201-51b7-4497-afce-bd6fdacb8da5"
      },
      "execution_count": null,
      "outputs": [
        {
          "output_type": "error",
          "ename": "ValueError",
          "evalue": "ignored",
          "traceback": [
            "\u001b[0;31m---------------------------------------------------------------------------\u001b[0m",
            "\u001b[0;31mValueError\u001b[0m                                Traceback (most recent call last)",
            "\u001b[0;32m<ipython-input-55-09009f722d9c>\u001b[0m in \u001b[0;36m<module>\u001b[0;34m\u001b[0m\n\u001b[0;32m----> 1\u001b[0;31m \u001b[0mprint_avaliacao\u001b[0m\u001b[0;34m(\u001b[0m\u001b[0mdados_teste\u001b[0m\u001b[0;34m[\u001b[0m\u001b[0;34m'price'\u001b[0m\u001b[0;34m]\u001b[0m\u001b[0;34m,\u001b[0m \u001b[0mdados_teste\u001b[0m\u001b[0;34m[\u001b[0m\u001b[0;34m'pred'\u001b[0m\u001b[0;34m]\u001b[0m\u001b[0;34m)\u001b[0m\u001b[0;34m\u001b[0m\u001b[0;34m\u001b[0m\u001b[0m\n\u001b[0m",
            "\u001b[0;32m<ipython-input-2-0431abce7503>\u001b[0m in \u001b[0;36mprint_avaliacao\u001b[0;34m(obs, pred)\u001b[0m\n\u001b[1;32m      9\u001b[0m \u001b[0;34m\u001b[0m\u001b[0m\n\u001b[1;32m     10\u001b[0m \u001b[0;32mdef\u001b[0m \u001b[0mprint_avaliacao\u001b[0m\u001b[0;34m(\u001b[0m\u001b[0mobs\u001b[0m\u001b[0;34m,\u001b[0m \u001b[0mpred\u001b[0m\u001b[0;34m)\u001b[0m\u001b[0;34m:\u001b[0m\u001b[0;34m\u001b[0m\u001b[0;34m\u001b[0m\u001b[0m\n\u001b[0;32m---> 11\u001b[0;31m     \u001b[0mprint\u001b[0m\u001b[0;34m(\u001b[0m\u001b[0;34m'R² = %.3f'\u001b[0m \u001b[0;34m%\u001b[0m \u001b[0mmetrics\u001b[0m\u001b[0;34m.\u001b[0m\u001b[0mr2_score\u001b[0m\u001b[0;34m(\u001b[0m\u001b[0mobs\u001b[0m\u001b[0;34m,\u001b[0m \u001b[0mpred\u001b[0m\u001b[0;34m)\u001b[0m\u001b[0;34m)\u001b[0m\u001b[0;34m\u001b[0m\u001b[0;34m\u001b[0m\u001b[0m\n\u001b[0m\u001b[1;32m     12\u001b[0m     \u001b[0mprint\u001b[0m\u001b[0;34m(\u001b[0m\u001b[0;34m'MAPE = %.3f %%'\u001b[0m \u001b[0;34m%\u001b[0m \u001b[0;34m(\u001b[0m\u001b[0;36m100\u001b[0m \u001b[0;34m*\u001b[0m \u001b[0mmetrics\u001b[0m\u001b[0;34m.\u001b[0m\u001b[0mmean_absolute_percentage_error\u001b[0m\u001b[0;34m(\u001b[0m\u001b[0mobs\u001b[0m\u001b[0;34m,\u001b[0m \u001b[0mpred\u001b[0m\u001b[0;34m)\u001b[0m\u001b[0;34m)\u001b[0m\u001b[0;34m)\u001b[0m\u001b[0;34m\u001b[0m\u001b[0;34m\u001b[0m\u001b[0m\n\u001b[1;32m     13\u001b[0m     \u001b[0mprint\u001b[0m\u001b[0;34m(\u001b[0m\u001b[0;34m'MAE = U$S %.2f'\u001b[0m \u001b[0;34m%\u001b[0m \u001b[0;34m(\u001b[0m\u001b[0mmetrics\u001b[0m\u001b[0;34m.\u001b[0m\u001b[0mmean_absolute_error\u001b[0m\u001b[0;34m(\u001b[0m\u001b[0mobs\u001b[0m\u001b[0;34m,\u001b[0m \u001b[0mpred\u001b[0m\u001b[0;34m)\u001b[0m\u001b[0;34m)\u001b[0m\u001b[0;34m)\u001b[0m\u001b[0;34m\u001b[0m\u001b[0;34m\u001b[0m\u001b[0m\n",
            "\u001b[0;32m/usr/local/lib/python3.7/dist-packages/sklearn/metrics/_regression.py\u001b[0m in \u001b[0;36mr2_score\u001b[0;34m(y_true, y_pred, sample_weight, multioutput)\u001b[0m\n\u001b[1;32m    788\u001b[0m     \"\"\"\n\u001b[1;32m    789\u001b[0m     y_type, y_true, y_pred, multioutput = _check_reg_targets(\n\u001b[0;32m--> 790\u001b[0;31m         \u001b[0my_true\u001b[0m\u001b[0;34m,\u001b[0m \u001b[0my_pred\u001b[0m\u001b[0;34m,\u001b[0m \u001b[0mmultioutput\u001b[0m\u001b[0;34m\u001b[0m\u001b[0;34m\u001b[0m\u001b[0m\n\u001b[0m\u001b[1;32m    791\u001b[0m     )\n\u001b[1;32m    792\u001b[0m     \u001b[0mcheck_consistent_length\u001b[0m\u001b[0;34m(\u001b[0m\u001b[0my_true\u001b[0m\u001b[0;34m,\u001b[0m \u001b[0my_pred\u001b[0m\u001b[0;34m,\u001b[0m \u001b[0msample_weight\u001b[0m\u001b[0;34m)\u001b[0m\u001b[0;34m\u001b[0m\u001b[0;34m\u001b[0m\u001b[0m\n",
            "\u001b[0;32m/usr/local/lib/python3.7/dist-packages/sklearn/metrics/_regression.py\u001b[0m in \u001b[0;36m_check_reg_targets\u001b[0;34m(y_true, y_pred, multioutput, dtype)\u001b[0m\n\u001b[1;32m     94\u001b[0m     \u001b[0mcheck_consistent_length\u001b[0m\u001b[0;34m(\u001b[0m\u001b[0my_true\u001b[0m\u001b[0;34m,\u001b[0m \u001b[0my_pred\u001b[0m\u001b[0;34m)\u001b[0m\u001b[0;34m\u001b[0m\u001b[0;34m\u001b[0m\u001b[0m\n\u001b[1;32m     95\u001b[0m     \u001b[0my_true\u001b[0m \u001b[0;34m=\u001b[0m \u001b[0mcheck_array\u001b[0m\u001b[0;34m(\u001b[0m\u001b[0my_true\u001b[0m\u001b[0;34m,\u001b[0m \u001b[0mensure_2d\u001b[0m\u001b[0;34m=\u001b[0m\u001b[0;32mFalse\u001b[0m\u001b[0;34m,\u001b[0m \u001b[0mdtype\u001b[0m\u001b[0;34m=\u001b[0m\u001b[0mdtype\u001b[0m\u001b[0;34m)\u001b[0m\u001b[0;34m\u001b[0m\u001b[0;34m\u001b[0m\u001b[0m\n\u001b[0;32m---> 96\u001b[0;31m     \u001b[0my_pred\u001b[0m \u001b[0;34m=\u001b[0m \u001b[0mcheck_array\u001b[0m\u001b[0;34m(\u001b[0m\u001b[0my_pred\u001b[0m\u001b[0;34m,\u001b[0m \u001b[0mensure_2d\u001b[0m\u001b[0;34m=\u001b[0m\u001b[0;32mFalse\u001b[0m\u001b[0;34m,\u001b[0m \u001b[0mdtype\u001b[0m\u001b[0;34m=\u001b[0m\u001b[0mdtype\u001b[0m\u001b[0;34m)\u001b[0m\u001b[0;34m\u001b[0m\u001b[0;34m\u001b[0m\u001b[0m\n\u001b[0m\u001b[1;32m     97\u001b[0m \u001b[0;34m\u001b[0m\u001b[0m\n\u001b[1;32m     98\u001b[0m     \u001b[0;32mif\u001b[0m \u001b[0my_true\u001b[0m\u001b[0;34m.\u001b[0m\u001b[0mndim\u001b[0m \u001b[0;34m==\u001b[0m \u001b[0;36m1\u001b[0m\u001b[0;34m:\u001b[0m\u001b[0;34m\u001b[0m\u001b[0;34m\u001b[0m\u001b[0m\n",
            "\u001b[0;32m/usr/local/lib/python3.7/dist-packages/sklearn/utils/validation.py\u001b[0m in \u001b[0;36mcheck_array\u001b[0;34m(array, accept_sparse, accept_large_sparse, dtype, order, copy, force_all_finite, ensure_2d, allow_nd, ensure_min_samples, ensure_min_features, estimator)\u001b[0m\n\u001b[1;32m    798\u001b[0m \u001b[0;34m\u001b[0m\u001b[0m\n\u001b[1;32m    799\u001b[0m         \u001b[0;32mif\u001b[0m \u001b[0mforce_all_finite\u001b[0m\u001b[0;34m:\u001b[0m\u001b[0;34m\u001b[0m\u001b[0;34m\u001b[0m\u001b[0m\n\u001b[0;32m--> 800\u001b[0;31m             \u001b[0m_assert_all_finite\u001b[0m\u001b[0;34m(\u001b[0m\u001b[0marray\u001b[0m\u001b[0;34m,\u001b[0m \u001b[0mallow_nan\u001b[0m\u001b[0;34m=\u001b[0m\u001b[0mforce_all_finite\u001b[0m \u001b[0;34m==\u001b[0m \u001b[0;34m\"allow-nan\"\u001b[0m\u001b[0;34m)\u001b[0m\u001b[0;34m\u001b[0m\u001b[0;34m\u001b[0m\u001b[0m\n\u001b[0m\u001b[1;32m    801\u001b[0m \u001b[0;34m\u001b[0m\u001b[0m\n\u001b[1;32m    802\u001b[0m     \u001b[0;32mif\u001b[0m \u001b[0mensure_min_samples\u001b[0m \u001b[0;34m>\u001b[0m \u001b[0;36m0\u001b[0m\u001b[0;34m:\u001b[0m\u001b[0;34m\u001b[0m\u001b[0;34m\u001b[0m\u001b[0m\n",
            "\u001b[0;32m/usr/local/lib/python3.7/dist-packages/sklearn/utils/validation.py\u001b[0m in \u001b[0;36m_assert_all_finite\u001b[0;34m(X, allow_nan, msg_dtype)\u001b[0m\n\u001b[1;32m    114\u001b[0m             raise ValueError(\n\u001b[1;32m    115\u001b[0m                 msg_err.format(\n\u001b[0;32m--> 116\u001b[0;31m                     \u001b[0mtype_err\u001b[0m\u001b[0;34m,\u001b[0m \u001b[0mmsg_dtype\u001b[0m \u001b[0;32mif\u001b[0m \u001b[0mmsg_dtype\u001b[0m \u001b[0;32mis\u001b[0m \u001b[0;32mnot\u001b[0m \u001b[0;32mNone\u001b[0m \u001b[0;32melse\u001b[0m \u001b[0mX\u001b[0m\u001b[0;34m.\u001b[0m\u001b[0mdtype\u001b[0m\u001b[0;34m\u001b[0m\u001b[0;34m\u001b[0m\u001b[0m\n\u001b[0m\u001b[1;32m    117\u001b[0m                 )\n\u001b[1;32m    118\u001b[0m             )\n",
            "\u001b[0;31mValueError\u001b[0m: Input contains NaN, infinity or a value too large for dtype('float64')."
          ]
        }
      ]
    },
    {
      "cell_type": "code",
      "source": [
        "model2 = ExtraTreesRegressor()\n",
        "model2.fit(X_treino, y_treino)"
      ],
      "metadata": {
        "colab": {
          "base_uri": "https://localhost:8080/"
        },
        "id": "0vD4VPzHGjON",
        "outputId": "84c3089b-8b5b-4d12-918c-8f9623c69adf"
      },
      "execution_count": null,
      "outputs": [
        {
          "output_type": "execute_result",
          "data": {
            "text/plain": [
              "ExtraTreesRegressor()"
            ]
          },
          "metadata": {},
          "execution_count": 41
        }
      ]
    },
    {
      "cell_type": "markdown",
      "source": [
        "tempo de execução 2 min e 6 segundos"
      ],
      "metadata": {
        "id": "_Gzr4sgxHXZa"
      }
    },
    {
      "cell_type": "code",
      "source": [
        "dados_teste['pred2'] =  np.exp(model2.predict(dados_teste[['category_1', \n",
        "                                                 'category_2', \n",
        "                                                 'category_3', \n",
        "                                                 'brand_name', \n",
        "                                                 'item_condition_id', \n",
        "                                                 'shipping']]))\n",
        "dados_teste.loc[dados_teste.pred < 3, 'pred2'] = 3\n"
      ],
      "metadata": {
        "id": "Lu3YRCxIHR2q"
      },
      "execution_count": null,
      "outputs": []
    },
    {
      "cell_type": "markdown",
      "source": [
        "tempo de execução 18s"
      ],
      "metadata": {
        "id": "0Wy-WO1QHd4j"
      }
    },
    {
      "cell_type": "code",
      "source": [
        "print_avaliacao(dados_teste['price'], dados_teste['pred2'])"
      ],
      "metadata": {
        "colab": {
          "base_uri": "https://localhost:8080/"
        },
        "id": "kpadC6mFHizW",
        "outputId": "3d654b4b-ed67-4d1b-eb00-dd3057f571d1"
      },
      "execution_count": null,
      "outputs": [
        {
          "output_type": "stream",
          "name": "stdout",
          "text": [
            "R² = 0.298\n",
            "MAPE = 49.286 %\n",
            "MAE = U$S 12.29\n",
            "RMSE = U$S 32.17\n",
            "MSLE = 0.312\n"
          ]
        }
      ]
    },
    {
      "cell_type": "code",
      "source": [
        "\n",
        "avaliacoes = {}\n",
        "\n",
        "for categoria in dados_teste.category_1.unique():\n",
        "    dados_cat = dados_teste.query(f'category_1 == {categoria}')\n",
        "    avaliacoes[categoria] = calc_metricas(dados_cat['price'], dados_cat['pred2'])\n",
        "\n",
        "avaliacoes = pd.DataFrame(avaliacoes, index=['R²', 'MAPE', 'MAE', 'RMSE', 'MSLE'])\n",
        "\n",
        "avaliacoes.columns = ['Women', 'Men', 'Vintage & Collectibles', 'Electronics',\n",
        "                      'Beauty', 'Kids', 'Other', 'Home', 'Sports & Outdoors',\n",
        "                      'Handmade', 'No category']\n",
        "\n",
        "avaliacoes\n",
        "\n"
      ],
      "metadata": {
        "colab": {
          "base_uri": "https://localhost:8080/",
          "height": 206
        },
        "id": "YAudK-3RLZU5",
        "outputId": "73facf08-c58b-4311-fa46-8331ef53e6ce"
      },
      "execution_count": null,
      "outputs": [
        {
          "output_type": "execute_result",
          "data": {
            "text/plain": [
              "       Women     Men  Vintage & Collectibles  Electronics  Beauty    Kids  \\\n",
              "R²     0.298   0.419                   0.192        0.344   0.052   0.199   \n",
              "MAPE  45.197  48.317                  63.156       61.720  49.423  49.143   \n",
              "MAE   12.280  15.120                  15.750       19.740   9.120   9.510   \n",
              "RMSE  32.800  30.550                  45.590       53.330  23.600  19.910   \n",
              "MSLE   0.274   0.293                   0.473        0.431   0.309   0.304   \n",
              "\n",
              "       Other    Home  Sports & Outdoors  Handmade  No category  \n",
              "R²     0.092   0.145              0.163     0.158       -0.040  \n",
              "MAPE  55.923  50.112             54.922    50.858       64.544  \n",
              "MAE   10.910  11.340             12.880     9.110       14.610  \n",
              "RMSE  26.150  21.550             27.190    23.010       30.900  \n",
              "MSLE   0.382   0.322              0.378     0.331        0.524  "
            ],
            "text/html": [
              "\n",
              "  <div id=\"df-ff022f56-25e5-4afe-91f1-dd9d0c9cc8ed\">\n",
              "    <div class=\"colab-df-container\">\n",
              "      <div>\n",
              "<style scoped>\n",
              "    .dataframe tbody tr th:only-of-type {\n",
              "        vertical-align: middle;\n",
              "    }\n",
              "\n",
              "    .dataframe tbody tr th {\n",
              "        vertical-align: top;\n",
              "    }\n",
              "\n",
              "    .dataframe thead th {\n",
              "        text-align: right;\n",
              "    }\n",
              "</style>\n",
              "<table border=\"1\" class=\"dataframe\">\n",
              "  <thead>\n",
              "    <tr style=\"text-align: right;\">\n",
              "      <th></th>\n",
              "      <th>Women</th>\n",
              "      <th>Men</th>\n",
              "      <th>Vintage &amp; Collectibles</th>\n",
              "      <th>Electronics</th>\n",
              "      <th>Beauty</th>\n",
              "      <th>Kids</th>\n",
              "      <th>Other</th>\n",
              "      <th>Home</th>\n",
              "      <th>Sports &amp; Outdoors</th>\n",
              "      <th>Handmade</th>\n",
              "      <th>No category</th>\n",
              "    </tr>\n",
              "  </thead>\n",
              "  <tbody>\n",
              "    <tr>\n",
              "      <th>R²</th>\n",
              "      <td>0.298</td>\n",
              "      <td>0.419</td>\n",
              "      <td>0.192</td>\n",
              "      <td>0.344</td>\n",
              "      <td>0.052</td>\n",
              "      <td>0.199</td>\n",
              "      <td>0.092</td>\n",
              "      <td>0.145</td>\n",
              "      <td>0.163</td>\n",
              "      <td>0.158</td>\n",
              "      <td>-0.040</td>\n",
              "    </tr>\n",
              "    <tr>\n",
              "      <th>MAPE</th>\n",
              "      <td>45.197</td>\n",
              "      <td>48.317</td>\n",
              "      <td>63.156</td>\n",
              "      <td>61.720</td>\n",
              "      <td>49.423</td>\n",
              "      <td>49.143</td>\n",
              "      <td>55.923</td>\n",
              "      <td>50.112</td>\n",
              "      <td>54.922</td>\n",
              "      <td>50.858</td>\n",
              "      <td>64.544</td>\n",
              "    </tr>\n",
              "    <tr>\n",
              "      <th>MAE</th>\n",
              "      <td>12.280</td>\n",
              "      <td>15.120</td>\n",
              "      <td>15.750</td>\n",
              "      <td>19.740</td>\n",
              "      <td>9.120</td>\n",
              "      <td>9.510</td>\n",
              "      <td>10.910</td>\n",
              "      <td>11.340</td>\n",
              "      <td>12.880</td>\n",
              "      <td>9.110</td>\n",
              "      <td>14.610</td>\n",
              "    </tr>\n",
              "    <tr>\n",
              "      <th>RMSE</th>\n",
              "      <td>32.800</td>\n",
              "      <td>30.550</td>\n",
              "      <td>45.590</td>\n",
              "      <td>53.330</td>\n",
              "      <td>23.600</td>\n",
              "      <td>19.910</td>\n",
              "      <td>26.150</td>\n",
              "      <td>21.550</td>\n",
              "      <td>27.190</td>\n",
              "      <td>23.010</td>\n",
              "      <td>30.900</td>\n",
              "    </tr>\n",
              "    <tr>\n",
              "      <th>MSLE</th>\n",
              "      <td>0.274</td>\n",
              "      <td>0.293</td>\n",
              "      <td>0.473</td>\n",
              "      <td>0.431</td>\n",
              "      <td>0.309</td>\n",
              "      <td>0.304</td>\n",
              "      <td>0.382</td>\n",
              "      <td>0.322</td>\n",
              "      <td>0.378</td>\n",
              "      <td>0.331</td>\n",
              "      <td>0.524</td>\n",
              "    </tr>\n",
              "  </tbody>\n",
              "</table>\n",
              "</div>\n",
              "      <button class=\"colab-df-convert\" onclick=\"convertToInteractive('df-ff022f56-25e5-4afe-91f1-dd9d0c9cc8ed')\"\n",
              "              title=\"Convert this dataframe to an interactive table.\"\n",
              "              style=\"display:none;\">\n",
              "        \n",
              "  <svg xmlns=\"http://www.w3.org/2000/svg\" height=\"24px\"viewBox=\"0 0 24 24\"\n",
              "       width=\"24px\">\n",
              "    <path d=\"M0 0h24v24H0V0z\" fill=\"none\"/>\n",
              "    <path d=\"M18.56 5.44l.94 2.06.94-2.06 2.06-.94-2.06-.94-.94-2.06-.94 2.06-2.06.94zm-11 1L8.5 8.5l.94-2.06 2.06-.94-2.06-.94L8.5 2.5l-.94 2.06-2.06.94zm10 10l.94 2.06.94-2.06 2.06-.94-2.06-.94-.94-2.06-.94 2.06-2.06.94z\"/><path d=\"M17.41 7.96l-1.37-1.37c-.4-.4-.92-.59-1.43-.59-.52 0-1.04.2-1.43.59L10.3 9.45l-7.72 7.72c-.78.78-.78 2.05 0 2.83L4 21.41c.39.39.9.59 1.41.59.51 0 1.02-.2 1.41-.59l7.78-7.78 2.81-2.81c.8-.78.8-2.07 0-2.86zM5.41 20L4 18.59l7.72-7.72 1.47 1.35L5.41 20z\"/>\n",
              "  </svg>\n",
              "      </button>\n",
              "      \n",
              "  <style>\n",
              "    .colab-df-container {\n",
              "      display:flex;\n",
              "      flex-wrap:wrap;\n",
              "      gap: 12px;\n",
              "    }\n",
              "\n",
              "    .colab-df-convert {\n",
              "      background-color: #E8F0FE;\n",
              "      border: none;\n",
              "      border-radius: 50%;\n",
              "      cursor: pointer;\n",
              "      display: none;\n",
              "      fill: #1967D2;\n",
              "      height: 32px;\n",
              "      padding: 0 0 0 0;\n",
              "      width: 32px;\n",
              "    }\n",
              "\n",
              "    .colab-df-convert:hover {\n",
              "      background-color: #E2EBFA;\n",
              "      box-shadow: 0px 1px 2px rgba(60, 64, 67, 0.3), 0px 1px 3px 1px rgba(60, 64, 67, 0.15);\n",
              "      fill: #174EA6;\n",
              "    }\n",
              "\n",
              "    [theme=dark] .colab-df-convert {\n",
              "      background-color: #3B4455;\n",
              "      fill: #D2E3FC;\n",
              "    }\n",
              "\n",
              "    [theme=dark] .colab-df-convert:hover {\n",
              "      background-color: #434B5C;\n",
              "      box-shadow: 0px 1px 3px 1px rgba(0, 0, 0, 0.15);\n",
              "      filter: drop-shadow(0px 1px 2px rgba(0, 0, 0, 0.3));\n",
              "      fill: #FFFFFF;\n",
              "    }\n",
              "  </style>\n",
              "\n",
              "      <script>\n",
              "        const buttonEl =\n",
              "          document.querySelector('#df-ff022f56-25e5-4afe-91f1-dd9d0c9cc8ed button.colab-df-convert');\n",
              "        buttonEl.style.display =\n",
              "          google.colab.kernel.accessAllowed ? 'block' : 'none';\n",
              "\n",
              "        async function convertToInteractive(key) {\n",
              "          const element = document.querySelector('#df-ff022f56-25e5-4afe-91f1-dd9d0c9cc8ed');\n",
              "          const dataTable =\n",
              "            await google.colab.kernel.invokeFunction('convertToInteractive',\n",
              "                                                     [key], {});\n",
              "          if (!dataTable) return;\n",
              "\n",
              "          const docLinkHtml = 'Like what you see? Visit the ' +\n",
              "            '<a target=\"_blank\" href=https://colab.research.google.com/notebooks/data_table.ipynb>data table notebook</a>'\n",
              "            + ' to learn more about interactive tables.';\n",
              "          element.innerHTML = '';\n",
              "          dataTable['output_type'] = 'display_data';\n",
              "          await google.colab.output.renderOutput(dataTable, element);\n",
              "          const docLink = document.createElement('div');\n",
              "          docLink.innerHTML = docLinkHtml;\n",
              "          element.appendChild(docLink);\n",
              "        }\n",
              "      </script>\n",
              "    </div>\n",
              "  </div>\n",
              "  "
            ]
          },
          "metadata": {},
          "execution_count": 58
        }
      ]
    },
    {
      "cell_type": "markdown",
      "source": [
        "## Modelo por Categorias"
      ],
      "metadata": {
        "id": "Xnvxy2yFMUys"
      }
    },
    {
      "cell_type": "code",
      "source": [
        "modelos = {}\n",
        "\n",
        "for category in dados_treino.category_1.unique():\n",
        "    model = ExtraTreesRegressor()\n",
        "    modelos[category] = model\n",
        "    X_treino = dados_treino.query(f'category_1 == {category}')[['category_2', 'category_3', 'brand_name', 'item_condition_id', 'shipping']]\n",
        "    y_treino = np.log(dados_treino.query(f'category_1 == {category}')['price'])\n",
        "    # pipe.fit(X_treino, y_treino)\n",
        "    modelos[category].fit(X_treino, y_treino)\n"
      ],
      "metadata": {
        "id": "QCgITxq9MGa7"
      },
      "execution_count": null,
      "outputs": []
    },
    {
      "cell_type": "markdown",
      "source": [
        "tempo de processamento 1 minuto e 13 segundos"
      ],
      "metadata": {
        "id": "mOCAM8juMhNU"
      }
    },
    {
      "cell_type": "code",
      "source": [
        "dados_teste = dados_teste.assign(pred=0)\n",
        "for category in dados_teste.category_1.unique():\n",
        "    index = dados_teste.query(f'category_1 == {category}').index\n",
        "    dados_teste.loc[index, 'pred'] = np.exp(modelos[category].predict(dados_teste.loc[index][['category_2', \n",
        "                                                                                              'category_3', \n",
        "                                                                                              'brand_name', \n",
        "                                                                                              'item_condition_id',\n",
        "                                                                                              'shipping']]))"
      ],
      "metadata": {
        "id": "3s6JWw3AMlci"
      },
      "execution_count": null,
      "outputs": []
    },
    {
      "cell_type": "markdown",
      "source": [
        "tempo de processamento 10 s"
      ],
      "metadata": {
        "id": "3hQ96_UtMuRJ"
      }
    },
    {
      "cell_type": "markdown",
      "source": [
        "Avakiação Geral"
      ],
      "metadata": {
        "id": "-osGLS9vMzSM"
      }
    },
    {
      "cell_type": "code",
      "source": [
        "print_avaliacao(dados_teste['price'], dados_teste['pred'])\n",
        "\n"
      ],
      "metadata": {
        "colab": {
          "base_uri": "https://localhost:8080/"
        },
        "id": "J3AzLktpM1sS",
        "outputId": "5735c178-7799-4c28-97d8-5568d19ea719"
      },
      "execution_count": null,
      "outputs": [
        {
          "output_type": "stream",
          "name": "stdout",
          "text": [
            "R² = 0.296\n",
            "MAPE = 49.365 %\n",
            "MAE = U$S 12.30\n",
            "RMSE = U$S 32.19\n",
            "MSLE = 0.313\n"
          ]
        }
      ]
    },
    {
      "cell_type": "code",
      "source": [
        "# Avaliação por categoria\n",
        "avaliacoes = {}\n",
        "\n",
        "for categoria in dados_teste.category_1.unique():\n",
        "    dados_cat = dados_teste.query(f'category_1 == {categoria}')\n",
        "    avaliacoes[categoria] = calc_metricas(dados_cat['price'], dados_cat['pred'])\n",
        "\n",
        "avaliacoes = pd.DataFrame(avaliacoes, index=['R²', 'MAPE', 'MAE', 'RMSE', 'MSLE'],\n",
        "                          )\n",
        "avaliacoes.columns = ['Women', 'Men', 'Vintage & Collectibles', 'Electronics',\n",
        "                      'Beauty', 'Kids', 'Other', 'Home', 'Sports & Outdoors',\n",
        "                      'Handmade', 'No category']\n",
        "avaliacoes"
      ],
      "metadata": {
        "colab": {
          "base_uri": "https://localhost:8080/",
          "height": 206
        },
        "id": "7QR9Ch-9M7sX",
        "outputId": "7f49f368-a0b3-4582-ff9a-bb2ab08f6ee8"
      },
      "execution_count": null,
      "outputs": [
        {
          "output_type": "execute_result",
          "data": {
            "text/plain": [
              "       Women     Men  Vintage & Collectibles  Electronics  Beauty    Kids  \\\n",
              "R²     0.297   0.414                   0.184        0.344   0.052   0.199   \n",
              "MAPE  45.271  48.686                  63.347       61.737  49.448  49.195   \n",
              "MAE   12.300  15.190                  15.800       19.750   9.120   9.510   \n",
              "RMSE  32.820  30.670                  45.830       53.330  23.600  19.910   \n",
              "MSLE   0.275   0.297                   0.475        0.431   0.309   0.304   \n",
              "\n",
              "       Other    Home  Sports & Outdoors  Handmade  No category  \n",
              "R²     0.091   0.144              0.163     0.159       -0.045  \n",
              "MAPE  55.942  50.151             54.977    50.898       65.015  \n",
              "MAE   10.910  11.340             12.880     9.120       14.690  \n",
              "RMSE  26.160  21.560             27.180    23.000       30.970  \n",
              "MSLE   0.383   0.323              0.379     0.331        0.528  "
            ],
            "text/html": [
              "\n",
              "  <div id=\"df-508a0d92-212d-4ed6-a34c-e9a42a35ed94\">\n",
              "    <div class=\"colab-df-container\">\n",
              "      <div>\n",
              "<style scoped>\n",
              "    .dataframe tbody tr th:only-of-type {\n",
              "        vertical-align: middle;\n",
              "    }\n",
              "\n",
              "    .dataframe tbody tr th {\n",
              "        vertical-align: top;\n",
              "    }\n",
              "\n",
              "    .dataframe thead th {\n",
              "        text-align: right;\n",
              "    }\n",
              "</style>\n",
              "<table border=\"1\" class=\"dataframe\">\n",
              "  <thead>\n",
              "    <tr style=\"text-align: right;\">\n",
              "      <th></th>\n",
              "      <th>Women</th>\n",
              "      <th>Men</th>\n",
              "      <th>Vintage &amp; Collectibles</th>\n",
              "      <th>Electronics</th>\n",
              "      <th>Beauty</th>\n",
              "      <th>Kids</th>\n",
              "      <th>Other</th>\n",
              "      <th>Home</th>\n",
              "      <th>Sports &amp; Outdoors</th>\n",
              "      <th>Handmade</th>\n",
              "      <th>No category</th>\n",
              "    </tr>\n",
              "  </thead>\n",
              "  <tbody>\n",
              "    <tr>\n",
              "      <th>R²</th>\n",
              "      <td>0.297</td>\n",
              "      <td>0.414</td>\n",
              "      <td>0.184</td>\n",
              "      <td>0.344</td>\n",
              "      <td>0.052</td>\n",
              "      <td>0.199</td>\n",
              "      <td>0.091</td>\n",
              "      <td>0.144</td>\n",
              "      <td>0.163</td>\n",
              "      <td>0.159</td>\n",
              "      <td>-0.045</td>\n",
              "    </tr>\n",
              "    <tr>\n",
              "      <th>MAPE</th>\n",
              "      <td>45.271</td>\n",
              "      <td>48.686</td>\n",
              "      <td>63.347</td>\n",
              "      <td>61.737</td>\n",
              "      <td>49.448</td>\n",
              "      <td>49.195</td>\n",
              "      <td>55.942</td>\n",
              "      <td>50.151</td>\n",
              "      <td>54.977</td>\n",
              "      <td>50.898</td>\n",
              "      <td>65.015</td>\n",
              "    </tr>\n",
              "    <tr>\n",
              "      <th>MAE</th>\n",
              "      <td>12.300</td>\n",
              "      <td>15.190</td>\n",
              "      <td>15.800</td>\n",
              "      <td>19.750</td>\n",
              "      <td>9.120</td>\n",
              "      <td>9.510</td>\n",
              "      <td>10.910</td>\n",
              "      <td>11.340</td>\n",
              "      <td>12.880</td>\n",
              "      <td>9.120</td>\n",
              "      <td>14.690</td>\n",
              "    </tr>\n",
              "    <tr>\n",
              "      <th>RMSE</th>\n",
              "      <td>32.820</td>\n",
              "      <td>30.670</td>\n",
              "      <td>45.830</td>\n",
              "      <td>53.330</td>\n",
              "      <td>23.600</td>\n",
              "      <td>19.910</td>\n",
              "      <td>26.160</td>\n",
              "      <td>21.560</td>\n",
              "      <td>27.180</td>\n",
              "      <td>23.000</td>\n",
              "      <td>30.970</td>\n",
              "    </tr>\n",
              "    <tr>\n",
              "      <th>MSLE</th>\n",
              "      <td>0.275</td>\n",
              "      <td>0.297</td>\n",
              "      <td>0.475</td>\n",
              "      <td>0.431</td>\n",
              "      <td>0.309</td>\n",
              "      <td>0.304</td>\n",
              "      <td>0.383</td>\n",
              "      <td>0.323</td>\n",
              "      <td>0.379</td>\n",
              "      <td>0.331</td>\n",
              "      <td>0.528</td>\n",
              "    </tr>\n",
              "  </tbody>\n",
              "</table>\n",
              "</div>\n",
              "      <button class=\"colab-df-convert\" onclick=\"convertToInteractive('df-508a0d92-212d-4ed6-a34c-e9a42a35ed94')\"\n",
              "              title=\"Convert this dataframe to an interactive table.\"\n",
              "              style=\"display:none;\">\n",
              "        \n",
              "  <svg xmlns=\"http://www.w3.org/2000/svg\" height=\"24px\"viewBox=\"0 0 24 24\"\n",
              "       width=\"24px\">\n",
              "    <path d=\"M0 0h24v24H0V0z\" fill=\"none\"/>\n",
              "    <path d=\"M18.56 5.44l.94 2.06.94-2.06 2.06-.94-2.06-.94-.94-2.06-.94 2.06-2.06.94zm-11 1L8.5 8.5l.94-2.06 2.06-.94-2.06-.94L8.5 2.5l-.94 2.06-2.06.94zm10 10l.94 2.06.94-2.06 2.06-.94-2.06-.94-.94-2.06-.94 2.06-2.06.94z\"/><path d=\"M17.41 7.96l-1.37-1.37c-.4-.4-.92-.59-1.43-.59-.52 0-1.04.2-1.43.59L10.3 9.45l-7.72 7.72c-.78.78-.78 2.05 0 2.83L4 21.41c.39.39.9.59 1.41.59.51 0 1.02-.2 1.41-.59l7.78-7.78 2.81-2.81c.8-.78.8-2.07 0-2.86zM5.41 20L4 18.59l7.72-7.72 1.47 1.35L5.41 20z\"/>\n",
              "  </svg>\n",
              "      </button>\n",
              "      \n",
              "  <style>\n",
              "    .colab-df-container {\n",
              "      display:flex;\n",
              "      flex-wrap:wrap;\n",
              "      gap: 12px;\n",
              "    }\n",
              "\n",
              "    .colab-df-convert {\n",
              "      background-color: #E8F0FE;\n",
              "      border: none;\n",
              "      border-radius: 50%;\n",
              "      cursor: pointer;\n",
              "      display: none;\n",
              "      fill: #1967D2;\n",
              "      height: 32px;\n",
              "      padding: 0 0 0 0;\n",
              "      width: 32px;\n",
              "    }\n",
              "\n",
              "    .colab-df-convert:hover {\n",
              "      background-color: #E2EBFA;\n",
              "      box-shadow: 0px 1px 2px rgba(60, 64, 67, 0.3), 0px 1px 3px 1px rgba(60, 64, 67, 0.15);\n",
              "      fill: #174EA6;\n",
              "    }\n",
              "\n",
              "    [theme=dark] .colab-df-convert {\n",
              "      background-color: #3B4455;\n",
              "      fill: #D2E3FC;\n",
              "    }\n",
              "\n",
              "    [theme=dark] .colab-df-convert:hover {\n",
              "      background-color: #434B5C;\n",
              "      box-shadow: 0px 1px 3px 1px rgba(0, 0, 0, 0.15);\n",
              "      filter: drop-shadow(0px 1px 2px rgba(0, 0, 0, 0.3));\n",
              "      fill: #FFFFFF;\n",
              "    }\n",
              "  </style>\n",
              "\n",
              "      <script>\n",
              "        const buttonEl =\n",
              "          document.querySelector('#df-508a0d92-212d-4ed6-a34c-e9a42a35ed94 button.colab-df-convert');\n",
              "        buttonEl.style.display =\n",
              "          google.colab.kernel.accessAllowed ? 'block' : 'none';\n",
              "\n",
              "        async function convertToInteractive(key) {\n",
              "          const element = document.querySelector('#df-508a0d92-212d-4ed6-a34c-e9a42a35ed94');\n",
              "          const dataTable =\n",
              "            await google.colab.kernel.invokeFunction('convertToInteractive',\n",
              "                                                     [key], {});\n",
              "          if (!dataTable) return;\n",
              "\n",
              "          const docLinkHtml = 'Like what you see? Visit the ' +\n",
              "            '<a target=\"_blank\" href=https://colab.research.google.com/notebooks/data_table.ipynb>data table notebook</a>'\n",
              "            + ' to learn more about interactive tables.';\n",
              "          element.innerHTML = '';\n",
              "          dataTable['output_type'] = 'display_data';\n",
              "          await google.colab.output.renderOutput(dataTable, element);\n",
              "          const docLink = document.createElement('div');\n",
              "          docLink.innerHTML = docLinkHtml;\n",
              "          element.appendChild(docLink);\n",
              "        }\n",
              "      </script>\n",
              "    </div>\n",
              "  </div>\n",
              "  "
            ]
          },
          "metadata": {},
          "execution_count": 64
        }
      ]
    }
  ]
}