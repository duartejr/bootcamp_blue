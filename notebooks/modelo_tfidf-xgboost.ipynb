{
 "cells": [
  {
   "cell_type": "code",
   "execution_count": 2,
   "metadata": {},
   "outputs": [],
   "source": [
    "import pandas as pd\n",
    "import numpy as np\n",
    "from sklearn.feature_extraction.text import TfidfVectorizer\n",
    "from sklearn.preprocessing import LabelEncoder\n",
    "from sklearn.metrics import r2_score, mean_absolute_error, mean_squared_error\n",
    "from sklearn.model_selection import train_test_split\n",
    "from sklearn.preprocessing import MinMaxScaler\n",
    "from xgboost import XGBRegressor\n",
    "from sklearn.pipeline import Pipeline"
   ]
  },
  {
   "cell_type": "code",
   "execution_count": 3,
   "metadata": {},
   "outputs": [],
   "source": [
    "#dados_teste = pd.read_csv('../data/processed/test_data.csv')"
   ]
  },
  {
   "cell_type": "code",
   "execution_count": 4,
   "metadata": {},
   "outputs": [],
   "source": [
    "from nltk.tokenize import word_tokenize\n",
    "from nltk.corpus import stopwords\n",
    "stop_words = set(stopwords.words('english'))\n",
    "\n",
    "\n",
    "def prep_text(text):\n",
    "    try:\n",
    "        tokens = word_tokenize(text)\n",
    "        words = [word.lower() for word in tokens if word.isalpha()]\n",
    "        words = [word for word in words if not word in stop_words]\n",
    "    except:\n",
    "        print(text)\n",
    "        return None\n",
    "    return ' '.join(words)"
   ]
  },
  {
   "cell_type": "code",
   "execution_count": 5,
   "metadata": {},
   "outputs": [
    {
     "data": {
      "text/plain": [
       "Index(['name', 'category_1', 'category_2', 'category_3', 'item_condition_id',\n",
       "       'brand_name', 'price', 'shipping', 'item_description', 'date', 'stock'],\n",
       "      dtype='object')"
      ]
     },
     "execution_count": 5,
     "metadata": {},
     "output_type": "execute_result"
    }
   ],
   "source": [
    "dados_treino = pd.read_csv('../data/processed/train_data.csv')\n",
    "dados_treino.columns"
   ]
  },
  {
   "cell_type": "code",
   "execution_count": 6,
   "metadata": {},
   "outputs": [],
   "source": [
    "dados_treino = pd.read_csv('../data/processed/train_data.csv')\n",
    "dados_treino = dados_treino[['category_1', 'item_description', 'price']]\n",
    "dados_treino.dropna(inplace=True)\n",
    "dados_treino['item_description'] = dados_treino.apply(lambda x: prep_text(x['item_description']), axis=1)\n",
    "#dados_teste = dados_teste[['name', 'price']]"
   ]
  },
  {
   "cell_type": "code",
   "execution_count": null,
   "metadata": {},
   "outputs": [],
   "source": [
    "modelos = {}\n",
    "\n",
    "for category in dados_treino.category_1.unique():\n",
    "    pipe = Pipeline([('tiidf', TfidfVectorizer(min_df = 2, max_df = 0.5, ngram_range = (1, 2))),\n",
    "                    ('xgboost', XGBRegressor(random_state=101, n_jobs=-1))])\n",
    "    modelos[category] = pipe\n",
    "    X_treino = dados_treino.query(f'category_1 == \"{category}\"')['item_description']\n",
    "    y_treino = dados_treino.query(f'category_1 == \"{category}\"')['price']\n",
    "    # pipe.fit(X_treino, y_treino)\n",
    "    modelos[category].fit(X_treino, y_treino)\n"
   ]
  },
  {
   "cell_type": "code",
   "execution_count": null,
   "metadata": {},
   "outputs": [],
   "source": [
    "dados_teste = pd.read_csv('../data/processed/test_data.csv')\n",
    "dados_teste = dados_teste[['category_1', 'item_description', 'price']]\n",
    "dados_teste.dropna(inplace=True)\n",
    "dados_teste['item_description'] = dados_teste.apply(lambda x: prep_text(x['item_description']), axis=1)\n",
    "#dados_teste = dados_teste.query('category_1 == \"Electronics\"')\n",
    "# teste_features = tfidf.transform(dados_teste['item_description'])\n",
    "dados_teste = dados_teste.assign(pred=0)"
   ]
  },
  {
   "cell_type": "code",
   "execution_count": null,
   "metadata": {},
   "outputs": [],
   "source": [
    "for category in dados_teste.category_1.unique():\n",
    "    index = dados_teste.query(f'category_1 == \"{category}\"').index\n",
    "    dados_teste.loc[index, 'pred'] = modelos[category].predict(dados_teste.loc[index]['item_description'])"
   ]
  },
  {
   "cell_type": "code",
   "execution_count": null,
   "metadata": {},
   "outputs": [
    {
     "name": "stdout",
     "output_type": "stream",
     "text": [
      "R² = 0.2930297131806632\n",
      "MAE = 14.787244064681808\n",
      "RMSE = 32.26328297148539\n"
     ]
    }
   ],
   "source": [
    "from sklearn.metrics import r2_score, mean_absolute_error, mean_squared_error, mean_squared_log_error\n",
    "\n",
    "print('R² =', r2_score(dados_teste['price'], dados_teste['pred']))\n",
    "print('MAE =', mean_absolute_error(dados_teste['price'], dados_teste['pred']))\n",
    "print('RMSE =', mean_squared_error(dados_teste['price'], dados_teste['pred'])**0.5)"
   ]
  },
  {
   "cell_type": "markdown",
   "metadata": {},
   "source": [
    "R² = 0.2873256500595014\n",
    "\n",
    "MAE = 15.112203329937804\n",
    "\n",
    "RMSE = 32.387622596149676\n",
    "\n",
    "MSLE = 1048.9580974306252"
   ]
  },
  {
   "cell_type": "code",
   "execution_count": null,
   "metadata": {},
   "outputs": [
    {
     "ename": "NameError",
     "evalue": "name 'dados_teste' is not defined",
     "output_type": "error",
     "traceback": [
      "\u001b[0;31m---------------------------------------------------------------------------\u001b[0m",
      "\u001b[0;31mNameError\u001b[0m                                 Traceback (most recent call last)",
      "\u001b[1;32m/home/duartejunior/bootcamp/notebooks/modelo_tfidf-xgboost.ipynb Cell 11\u001b[0m in \u001b[0;36m<cell line: 2>\u001b[0;34m()\u001b[0m\n\u001b[1;32m      <a href='vscode-notebook-cell:/home/duartejunior/bootcamp/notebooks/modelo_tfidf-xgboost.ipynb#X13sZmlsZQ%3D%3D?line=0'>1</a>\u001b[0m \u001b[39mfrom\u001b[39;00m \u001b[39msklearn\u001b[39;00m\u001b[39m.\u001b[39;00m\u001b[39mmetrics\u001b[39;00m \u001b[39mimport\u001b[39;00m mean_absolute_percentage_error\n\u001b[0;32m----> <a href='vscode-notebook-cell:/home/duartejunior/bootcamp/notebooks/modelo_tfidf-xgboost.ipynb#X13sZmlsZQ%3D%3D?line=1'>2</a>\u001b[0m \u001b[39mfor\u001b[39;00m category \u001b[39min\u001b[39;00m dados_teste\u001b[39m.\u001b[39mcategory_1\u001b[39m.\u001b[39munique():\n\u001b[1;32m      <a href='vscode-notebook-cell:/home/duartejunior/bootcamp/notebooks/modelo_tfidf-xgboost.ipynb#X13sZmlsZQ%3D%3D?line=2'>3</a>\u001b[0m     tt \u001b[39m=\u001b[39m dados_teste\u001b[39m.\u001b[39mquery(\u001b[39mf\u001b[39m\u001b[39m'\u001b[39m\u001b[39mcategory_1 == \u001b[39m\u001b[39m\"\u001b[39m\u001b[39m{\u001b[39;00mcategory\u001b[39m}\u001b[39;00m\u001b[39m\"\u001b[39m\u001b[39m'\u001b[39m)\n\u001b[1;32m      <a href='vscode-notebook-cell:/home/duartejunior/bootcamp/notebooks/modelo_tfidf-xgboost.ipynb#X13sZmlsZQ%3D%3D?line=3'>4</a>\u001b[0m     \u001b[39mprint\u001b[39m(\u001b[39m'\u001b[39m\u001b[39m=\u001b[39m\u001b[39m'\u001b[39m\u001b[39m*\u001b[39m\u001b[39m30\u001b[39m)\n",
      "\u001b[0;31mNameError\u001b[0m: name 'dados_teste' is not defined"
     ]
    }
   ],
   "source": [
    "from sklearn.metrics import mean_absolute_percentage_error\n",
    "for category in dados_teste.category_1.unique():\n",
    "    tt = dados_teste.query(f'category_1 == \"{category}\"')\n",
    "    print('='*30)\n",
    "    print(category)\n",
    "    print('R² =', r2_score(tt['price'], tt['pred']))\n",
    "    print('MAE =', mean_absolute_error(tt['price'], tt['pred']))\n",
    "    print('RMSE =', mean_squared_error(tt['price'], tt['pred'])**0.5)\n",
    "    print('MAPE =', mean_absolute_percentage_error(tt['price'], tt['pred'])**0.5)\n",
    "    print('-'*30)"
   ]
  },
  {
   "cell_type": "code",
   "execution_count": null,
   "metadata": {},
   "outputs": [],
   "source": []
  }
 ],
 "metadata": {
  "kernelspec": {
   "display_name": "Python 3.9.12 ('base')",
   "language": "python",
   "name": "python3"
  },
  "language_info": {
   "codemirror_mode": {
    "name": "ipython",
    "version": 3
   },
   "file_extension": ".py",
   "mimetype": "text/x-python",
   "name": "python",
   "nbconvert_exporter": "python",
   "pygments_lexer": "ipython3",
   "version": "3.9.12"
  },
  "orig_nbformat": 4,
  "vscode": {
   "interpreter": {
    "hash": "7832355663de3739c43a670b9e0e66b306696971f3c515f01e5590b4e36bbdc6"
   }
  }
 },
 "nbformat": 4,
 "nbformat_minor": 2
}
