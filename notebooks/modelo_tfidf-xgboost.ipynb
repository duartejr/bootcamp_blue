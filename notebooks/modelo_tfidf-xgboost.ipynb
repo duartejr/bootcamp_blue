{
 "cells": [
  {
   "cell_type": "markdown",
   "metadata": {},
   "source": [
    "# Modelo: XGBoost com Tf-Idf"
   ]
  },
  {
   "cell_type": "code",
   "execution_count": 1,
   "metadata": {},
   "outputs": [],
   "source": [
    "import pandas as pd\n",
    "import numpy as np\n",
    "from sklearn.feature_extraction.text import TfidfVectorizer\n",
    "from sklearn import metrics\n",
    "from xgboost import XGBRegressor\n",
    "from sklearn.pipeline import Pipeline"
   ]
  },
  {
   "cell_type": "code",
   "execution_count": 2,
   "metadata": {},
   "outputs": [],
   "source": [
    "def calc_metricas(obs, pred):\n",
    "    r2 = metrics.r2_score(obs, pred).round(3)\n",
    "    mape = (100 * metrics.mean_absolute_percentage_error(obs, pred)).round(3)\n",
    "    mae = metrics.mean_absolute_error(obs, pred).round(2)\n",
    "    rmse = (metrics.mean_squared_error(obs, pred)**0.5).round(2)\n",
    "    msle = metrics.mean_squared_log_error(obs, pred).round(3)\n",
    "    \n",
    "    return [r2, mape, mae, rmse, msle]\n",
    "\n",
    "def print_avaliacao(obs, pred):\n",
    "    print('R² = %.3f' % metrics.r2_score(obs, pred))\n",
    "    print('MAPE = %.3f %%' % (100 * metrics.mean_absolute_percentage_error(obs, pred)))\n",
    "    print('MAE = U$S %.2f' % (metrics.mean_absolute_error(obs, pred)))\n",
    "    print('RMSE = U$S %.2f' % metrics.mean_squared_error(obs, pred)**0.5)\n",
    "    print('MSLE = %.3f' % metrics.mean_squared_log_error(obs, pred))\n"
   ]
  },
  {
   "cell_type": "code",
   "execution_count": 3,
   "metadata": {},
   "outputs": [],
   "source": [
    "from nltk.tokenize import word_tokenize\n",
    "from nltk.corpus import stopwords\n",
    "stop_words = set(stopwords.words('english'))\n",
    "\n",
    "\n",
    "def prep_text(text):\n",
    "    try:\n",
    "        tokens = word_tokenize(text)\n",
    "        words = [word.lower() for word in tokens if word.isalpha()]\n",
    "        words = [word for word in words if not word in stop_words]\n",
    "    except:\n",
    "        return None\n",
    "    return ' '.join(words)"
   ]
  },
  {
   "cell_type": "code",
   "execution_count": 4,
   "metadata": {},
   "outputs": [],
   "source": [
    "dados_treino = pd.read_csv('../data/processed/train_data.csv')\n",
    "dados_teste = pd.read_csv('../data/processed/test_data.csv')"
   ]
  },
  {
   "cell_type": "markdown",
   "metadata": {},
   "source": [
    "## Preparação das colunas de texto"
   ]
  },
  {
   "cell_type": "code",
   "execution_count": 7,
   "metadata": {},
   "outputs": [
    {
     "data": {
      "text/plain": [
       "Index(['category_1', 'name', 'item_description', 'price'], dtype='object')"
      ]
     },
     "execution_count": 7,
     "metadata": {},
     "output_type": "execute_result"
    }
   ],
   "source": [
    "dados_treino.columns"
   ]
  },
  {
   "cell_type": "code",
   "execution_count": 8,
   "metadata": {},
   "outputs": [],
   "source": [
    "dados_treino = dados_treino[['category_1', 'name', 'item_description', 'price']]\n",
    "dados_treino.loc[:, 'name'] = dados_treino.apply(lambda x: prep_text(x['name']), axis=1)\n",
    "dados_treino.loc[:, 'item_description'] = dados_treino.apply(lambda x: prep_text(x['item_description']), axis=1)\n",
    "dados_treino['comb_name_description'] = dados_treino['name'] + ' ' + dados_treino['item_description']\n",
    "# dados_treino.dropna(inplace=True)\n",
    "\n",
    "dados_teste = dados_teste[['category_1', 'name', 'item_description', 'price']]\n",
    "dados_teste.loc[:, 'name'] = dados_teste.apply(lambda x: prep_text(x['name']), axis=1)\n",
    "dados_teste.loc[:, 'item_description'] = dados_teste.apply(lambda x: prep_text(x['item_description']), axis=1)\n",
    "dados_teste['comb_name_description'] = dados_teste['name'] + ' ' + dados_teste['item_description']"
   ]
  },
  {
   "cell_type": "markdown",
   "metadata": {},
   "source": [
    "## Apenas names como característica"
   ]
  },
  {
   "cell_type": "code",
   "execution_count": null,
   "metadata": {},
   "outputs": [],
   "source": [
    "dados_treino1 = dados_treino[['category_1', 'name', 'price']]\n",
    "dados_treino1.dropna(inplace=True)\n",
    "\n",
    "dados_teste1 = dados_teste[['category_1', 'name', 'price']]\n",
    "dados_teste1.dropna(inplace=True)"
   ]
  },
  {
   "cell_type": "code",
   "execution_count": 10,
   "metadata": {},
   "outputs": [
    {
     "data": {
      "text/html": [
       "<style>#sk-container-id-1 {color: black;background-color: white;}#sk-container-id-1 pre{padding: 0;}#sk-container-id-1 div.sk-toggleable {background-color: white;}#sk-container-id-1 label.sk-toggleable__label {cursor: pointer;display: block;width: 100%;margin-bottom: 0;padding: 0.3em;box-sizing: border-box;text-align: center;}#sk-container-id-1 label.sk-toggleable__label-arrow:before {content: \"▸\";float: left;margin-right: 0.25em;color: #696969;}#sk-container-id-1 label.sk-toggleable__label-arrow:hover:before {color: black;}#sk-container-id-1 div.sk-estimator:hover label.sk-toggleable__label-arrow:before {color: black;}#sk-container-id-1 div.sk-toggleable__content {max-height: 0;max-width: 0;overflow: hidden;text-align: left;background-color: #f0f8ff;}#sk-container-id-1 div.sk-toggleable__content pre {margin: 0.2em;color: black;border-radius: 0.25em;background-color: #f0f8ff;}#sk-container-id-1 input.sk-toggleable__control:checked~div.sk-toggleable__content {max-height: 200px;max-width: 100%;overflow: auto;}#sk-container-id-1 input.sk-toggleable__control:checked~label.sk-toggleable__label-arrow:before {content: \"▾\";}#sk-container-id-1 div.sk-estimator input.sk-toggleable__control:checked~label.sk-toggleable__label {background-color: #d4ebff;}#sk-container-id-1 div.sk-label input.sk-toggleable__control:checked~label.sk-toggleable__label {background-color: #d4ebff;}#sk-container-id-1 input.sk-hidden--visually {border: 0;clip: rect(1px 1px 1px 1px);clip: rect(1px, 1px, 1px, 1px);height: 1px;margin: -1px;overflow: hidden;padding: 0;position: absolute;width: 1px;}#sk-container-id-1 div.sk-estimator {font-family: monospace;background-color: #f0f8ff;border: 1px dotted black;border-radius: 0.25em;box-sizing: border-box;margin-bottom: 0.5em;}#sk-container-id-1 div.sk-estimator:hover {background-color: #d4ebff;}#sk-container-id-1 div.sk-parallel-item::after {content: \"\";width: 100%;border-bottom: 1px solid gray;flex-grow: 1;}#sk-container-id-1 div.sk-label:hover label.sk-toggleable__label {background-color: #d4ebff;}#sk-container-id-1 div.sk-serial::before {content: \"\";position: absolute;border-left: 1px solid gray;box-sizing: border-box;top: 0;bottom: 0;left: 50%;z-index: 0;}#sk-container-id-1 div.sk-serial {display: flex;flex-direction: column;align-items: center;background-color: white;padding-right: 0.2em;padding-left: 0.2em;position: relative;}#sk-container-id-1 div.sk-item {position: relative;z-index: 1;}#sk-container-id-1 div.sk-parallel {display: flex;align-items: stretch;justify-content: center;background-color: white;position: relative;}#sk-container-id-1 div.sk-item::before, #sk-container-id-1 div.sk-parallel-item::before {content: \"\";position: absolute;border-left: 1px solid gray;box-sizing: border-box;top: 0;bottom: 0;left: 50%;z-index: -1;}#sk-container-id-1 div.sk-parallel-item {display: flex;flex-direction: column;z-index: 1;position: relative;background-color: white;}#sk-container-id-1 div.sk-parallel-item:first-child::after {align-self: flex-end;width: 50%;}#sk-container-id-1 div.sk-parallel-item:last-child::after {align-self: flex-start;width: 50%;}#sk-container-id-1 div.sk-parallel-item:only-child::after {width: 0;}#sk-container-id-1 div.sk-dashed-wrapped {border: 1px dashed gray;margin: 0 0.4em 0.5em 0.4em;box-sizing: border-box;padding-bottom: 0.4em;background-color: white;}#sk-container-id-1 div.sk-label label {font-family: monospace;font-weight: bold;display: inline-block;line-height: 1.2em;}#sk-container-id-1 div.sk-label-container {text-align: center;}#sk-container-id-1 div.sk-container {/* jupyter's `normalize.less` sets `[hidden] { display: none; }` but bootstrap.min.css set `[hidden] { display: none !important; }` so we also need the `!important` here to be able to override the default hidden behavior on the sphinx rendered scikit-learn.org. See: https://github.com/scikit-learn/scikit-learn/issues/21755 */display: inline-block !important;position: relative;}#sk-container-id-1 div.sk-text-repr-fallback {display: none;}</style><div id=\"sk-container-id-1\" class=\"sk-top-container\"><div class=\"sk-text-repr-fallback\"><pre>Pipeline(steps=[(&#x27;tiidf&#x27;,\n",
       "                 TfidfVectorizer(max_df=0.5, min_df=2, ngram_range=(1, 2))),\n",
       "                (&#x27;xgboost&#x27;,\n",
       "                 XGBRegressor(base_score=0.5, booster=&#x27;gbtree&#x27;, callbacks=None,\n",
       "                              colsample_bylevel=1, colsample_bynode=1,\n",
       "                              colsample_bytree=1, early_stopping_rounds=None,\n",
       "                              enable_categorical=False, eval_metric=None,\n",
       "                              gamma=0, gpu_id=-1, grow_policy=&#x27;depthwise&#x27;,\n",
       "                              importance_type=None, interaction_constraints=&#x27;&#x27;,\n",
       "                              learning_rate=0.300000012, max_bin=256,\n",
       "                              max_cat_to_onehot=4, max_delta_step=0,\n",
       "                              max_depth=6, max_leaves=0, min_child_weight=1,\n",
       "                              missing=nan, monotone_constraints=&#x27;()&#x27;,\n",
       "                              n_estimators=100, n_jobs=-1, num_parallel_tree=1,\n",
       "                              predictor=&#x27;auto&#x27;, random_state=101, reg_alpha=0,\n",
       "                              reg_lambda=1, ...))])</pre><b>In a Jupyter environment, please rerun this cell to show the HTML representation or trust the notebook. <br />On GitHub, the HTML representation is unable to render, please try loading this page with nbviewer.org.</b></div><div class=\"sk-container\" hidden><div class=\"sk-item sk-dashed-wrapped\"><div class=\"sk-label-container\"><div class=\"sk-label sk-toggleable\"><input class=\"sk-toggleable__control sk-hidden--visually\" id=\"sk-estimator-id-1\" type=\"checkbox\" ><label for=\"sk-estimator-id-1\" class=\"sk-toggleable__label sk-toggleable__label-arrow\">Pipeline</label><div class=\"sk-toggleable__content\"><pre>Pipeline(steps=[(&#x27;tiidf&#x27;,\n",
       "                 TfidfVectorizer(max_df=0.5, min_df=2, ngram_range=(1, 2))),\n",
       "                (&#x27;xgboost&#x27;,\n",
       "                 XGBRegressor(base_score=0.5, booster=&#x27;gbtree&#x27;, callbacks=None,\n",
       "                              colsample_bylevel=1, colsample_bynode=1,\n",
       "                              colsample_bytree=1, early_stopping_rounds=None,\n",
       "                              enable_categorical=False, eval_metric=None,\n",
       "                              gamma=0, gpu_id=-1, grow_policy=&#x27;depthwise&#x27;,\n",
       "                              importance_type=None, interaction_constraints=&#x27;&#x27;,\n",
       "                              learning_rate=0.300000012, max_bin=256,\n",
       "                              max_cat_to_onehot=4, max_delta_step=0,\n",
       "                              max_depth=6, max_leaves=0, min_child_weight=1,\n",
       "                              missing=nan, monotone_constraints=&#x27;()&#x27;,\n",
       "                              n_estimators=100, n_jobs=-1, num_parallel_tree=1,\n",
       "                              predictor=&#x27;auto&#x27;, random_state=101, reg_alpha=0,\n",
       "                              reg_lambda=1, ...))])</pre></div></div></div><div class=\"sk-serial\"><div class=\"sk-item\"><div class=\"sk-estimator sk-toggleable\"><input class=\"sk-toggleable__control sk-hidden--visually\" id=\"sk-estimator-id-2\" type=\"checkbox\" ><label for=\"sk-estimator-id-2\" class=\"sk-toggleable__label sk-toggleable__label-arrow\">TfidfVectorizer</label><div class=\"sk-toggleable__content\"><pre>TfidfVectorizer(max_df=0.5, min_df=2, ngram_range=(1, 2))</pre></div></div></div><div class=\"sk-item\"><div class=\"sk-estimator sk-toggleable\"><input class=\"sk-toggleable__control sk-hidden--visually\" id=\"sk-estimator-id-3\" type=\"checkbox\" ><label for=\"sk-estimator-id-3\" class=\"sk-toggleable__label sk-toggleable__label-arrow\">XGBRegressor</label><div class=\"sk-toggleable__content\"><pre>XGBRegressor(base_score=0.5, booster=&#x27;gbtree&#x27;, callbacks=None,\n",
       "             colsample_bylevel=1, colsample_bynode=1, colsample_bytree=1,\n",
       "             early_stopping_rounds=None, enable_categorical=False,\n",
       "             eval_metric=None, gamma=0, gpu_id=-1, grow_policy=&#x27;depthwise&#x27;,\n",
       "             importance_type=None, interaction_constraints=&#x27;&#x27;,\n",
       "             learning_rate=0.300000012, max_bin=256, max_cat_to_onehot=4,\n",
       "             max_delta_step=0, max_depth=6, max_leaves=0, min_child_weight=1,\n",
       "             missing=nan, monotone_constraints=&#x27;()&#x27;, n_estimators=100,\n",
       "             n_jobs=-1, num_parallel_tree=1, predictor=&#x27;auto&#x27;, random_state=101,\n",
       "             reg_alpha=0, reg_lambda=1, ...)</pre></div></div></div></div></div></div></div>"
      ],
      "text/plain": [
       "Pipeline(steps=[('tiidf',\n",
       "                 TfidfVectorizer(max_df=0.5, min_df=2, ngram_range=(1, 2))),\n",
       "                ('xgboost',\n",
       "                 XGBRegressor(base_score=0.5, booster='gbtree', callbacks=None,\n",
       "                              colsample_bylevel=1, colsample_bynode=1,\n",
       "                              colsample_bytree=1, early_stopping_rounds=None,\n",
       "                              enable_categorical=False, eval_metric=None,\n",
       "                              gamma=0, gpu_id=-1, grow_policy='depthwise',\n",
       "                              importance_type=None, interaction_constraints='',\n",
       "                              learning_rate=0.300000012, max_bin=256,\n",
       "                              max_cat_to_onehot=4, max_delta_step=0,\n",
       "                              max_depth=6, max_leaves=0, min_child_weight=1,\n",
       "                              missing=nan, monotone_constraints='()',\n",
       "                              n_estimators=100, n_jobs=-1, num_parallel_tree=1,\n",
       "                              predictor='auto', random_state=101, reg_alpha=0,\n",
       "                              reg_lambda=1, ...))])"
      ]
     },
     "execution_count": 10,
     "metadata": {},
     "output_type": "execute_result"
    }
   ],
   "source": [
    "pipe = Pipeline([('tiidf', TfidfVectorizer(min_df = 2, max_df = 0.5, ngram_range = (1, 2))),\n",
    "                    ('xgboost', XGBRegressor(random_state=101, n_jobs=-1))])\n",
    "X_treino = dados_treino1['name']\n",
    "y_treino = dados_treino1['price']\n",
    "pipe.fit(X_treino, y_treino)"
   ]
  },
  {
   "cell_type": "markdown",
   "metadata": {},
   "source": [
    "Tempo de treino: 2m 11.3s"
   ]
  },
  {
   "cell_type": "code",
   "execution_count": null,
   "metadata": {},
   "outputs": [],
   "source": [
    "dados_teste1['pred'] = pipe.predict(dados_teste1['name'])\n",
    "dados_teste1.loc[dados_teste1.pred < 3, 'pred'] = 3"
   ]
  },
  {
   "cell_type": "markdown",
   "metadata": {},
   "source": [
    "Tempo previsão: 11.8s"
   ]
  },
  {
   "cell_type": "markdown",
   "metadata": {},
   "source": [
    "Avaliação geral"
   ]
  },
  {
   "cell_type": "code",
   "execution_count": 12,
   "metadata": {},
   "outputs": [
    {
     "name": "stdout",
     "output_type": "stream",
     "text": [
      "R² = 0.287\n",
      "MAPE = 89.563 %\n",
      "MAE = U$S 15.11\n",
      "RMSE = U$S 32.39\n",
      "MSLE = 0.489\n"
     ]
    }
   ],
   "source": [
    "print_avaliacao(dados_teste1['price'], dados_teste1['pred'])"
   ]
  },
  {
   "cell_type": "markdown",
   "metadata": {},
   "source": [
    "Avaliação por categoria"
   ]
  },
  {
   "cell_type": "code",
   "execution_count": 13,
   "metadata": {},
   "outputs": [
    {
     "data": {
      "text/html": [
       "<div>\n",
       "<style scoped>\n",
       "    .dataframe tbody tr th:only-of-type {\n",
       "        vertical-align: middle;\n",
       "    }\n",
       "\n",
       "    .dataframe tbody tr th {\n",
       "        vertical-align: top;\n",
       "    }\n",
       "\n",
       "    .dataframe thead th {\n",
       "        text-align: right;\n",
       "    }\n",
       "</style>\n",
       "<table border=\"1\" class=\"dataframe\">\n",
       "  <thead>\n",
       "    <tr style=\"text-align: right;\">\n",
       "      <th></th>\n",
       "      <th>Women</th>\n",
       "      <th>Men</th>\n",
       "      <th>Vintage &amp; Collectibles</th>\n",
       "      <th>Electronics</th>\n",
       "      <th>Beauty</th>\n",
       "      <th>Kids</th>\n",
       "      <th>Other</th>\n",
       "      <th>Home</th>\n",
       "      <th>Sports &amp; Outdoors</th>\n",
       "      <th>Handmade</th>\n",
       "      <th>No category</th>\n",
       "    </tr>\n",
       "  </thead>\n",
       "  <tbody>\n",
       "    <tr>\n",
       "      <th>R²</th>\n",
       "      <td>0.293</td>\n",
       "      <td>0.284</td>\n",
       "      <td>0.270</td>\n",
       "      <td>0.367</td>\n",
       "      <td>-0.015</td>\n",
       "      <td>0.117</td>\n",
       "      <td>0.051</td>\n",
       "      <td>0.106</td>\n",
       "      <td>0.117</td>\n",
       "      <td>0.100</td>\n",
       "      <td>0.211</td>\n",
       "    </tr>\n",
       "    <tr>\n",
       "      <th>MAPE</th>\n",
       "      <td>74.113</td>\n",
       "      <td>62.731</td>\n",
       "      <td>122.489</td>\n",
       "      <td>116.574</td>\n",
       "      <td>102.788</td>\n",
       "      <td>100.636</td>\n",
       "      <td>123.012</td>\n",
       "      <td>82.317</td>\n",
       "      <td>86.517</td>\n",
       "      <td>165.960</td>\n",
       "      <td>95.879</td>\n",
       "    </tr>\n",
       "    <tr>\n",
       "      <th>MAE</th>\n",
       "      <td>14.730</td>\n",
       "      <td>17.690</td>\n",
       "      <td>18.230</td>\n",
       "      <td>23.130</td>\n",
       "      <td>12.400</td>\n",
       "      <td>12.860</td>\n",
       "      <td>14.880</td>\n",
       "      <td>13.340</td>\n",
       "      <td>14.840</td>\n",
       "      <td>14.460</td>\n",
       "      <td>14.830</td>\n",
       "    </tr>\n",
       "    <tr>\n",
       "      <th>RMSE</th>\n",
       "      <td>32.890</td>\n",
       "      <td>33.910</td>\n",
       "      <td>43.300</td>\n",
       "      <td>52.340</td>\n",
       "      <td>24.420</td>\n",
       "      <td>20.900</td>\n",
       "      <td>26.720</td>\n",
       "      <td>22.030</td>\n",
       "      <td>27.910</td>\n",
       "      <td>23.790</td>\n",
       "      <td>26.890</td>\n",
       "    </tr>\n",
       "    <tr>\n",
       "      <th>MSLE</th>\n",
       "      <td>0.403</td>\n",
       "      <td>0.402</td>\n",
       "      <td>0.692</td>\n",
       "      <td>0.699</td>\n",
       "      <td>0.530</td>\n",
       "      <td>0.516</td>\n",
       "      <td>0.672</td>\n",
       "      <td>0.445</td>\n",
       "      <td>0.494</td>\n",
       "      <td>0.852</td>\n",
       "      <td>0.534</td>\n",
       "    </tr>\n",
       "  </tbody>\n",
       "</table>\n",
       "</div>"
      ],
      "text/plain": [
       "       Women     Men  Vintage & Collectibles  Electronics   Beauty     Kids  \\\n",
       "R²     0.293   0.284                   0.270        0.367   -0.015    0.117   \n",
       "MAPE  74.113  62.731                 122.489      116.574  102.788  100.636   \n",
       "MAE   14.730  17.690                  18.230       23.130   12.400   12.860   \n",
       "RMSE  32.890  33.910                  43.300       52.340   24.420   20.900   \n",
       "MSLE   0.403   0.402                   0.692        0.699    0.530    0.516   \n",
       "\n",
       "        Other    Home  Sports & Outdoors  Handmade  No category  \n",
       "R²      0.051   0.106              0.117     0.100        0.211  \n",
       "MAPE  123.012  82.317             86.517   165.960       95.879  \n",
       "MAE    14.880  13.340             14.840    14.460       14.830  \n",
       "RMSE   26.720  22.030             27.910    23.790       26.890  \n",
       "MSLE    0.672   0.445              0.494     0.852        0.534  "
      ]
     },
     "execution_count": 13,
     "metadata": {},
     "output_type": "execute_result"
    }
   ],
   "source": [
    "avaliacoes = {}\n",
    "\n",
    "for categoria in dados_teste1.category_1.unique():\n",
    "    dados_cat = dados_teste1.query(f'category_1 == \"{categoria}\"')\n",
    "    avaliacoes[categoria] = calc_metricas(dados_cat['price'], dados_cat['pred'])\n",
    "\n",
    "avaliacoes = pd.DataFrame(avaliacoes, index=['R²', 'MAPE', 'MAE', 'RMSE', 'MSLE'])\n",
    "\n",
    "avaliacoes"
   ]
  },
  {
   "cell_type": "markdown",
   "metadata": {},
   "source": [
    "## Modelo por categoria usando apenas a coluna name"
   ]
  },
  {
   "cell_type": "code",
   "execution_count": 14,
   "metadata": {},
   "outputs": [],
   "source": [
    "modelos = {}\n",
    "\n",
    "for category in dados_treino.category_1.unique():\n",
    "    pipe = Pipeline([('tiidf', TfidfVectorizer(min_df = 2, max_df = 0.5, ngram_range = (1, 2))),\n",
    "                    ('xgboost', XGBRegressor(random_state=101, n_jobs=-1))])\n",
    "    modelos[category] = pipe\n",
    "    X_treino = dados_treino1.query(f'category_1 == \"{category}\"')['name']\n",
    "    y_treino = dados_treino1.query(f'category_1 == \"{category}\"')['price']\n",
    "    # pipe.fit(X_treino, y_treino)\n",
    "    modelos[category].fit(X_treino, y_treino)\n"
   ]
  },
  {
   "cell_type": "markdown",
   "metadata": {},
   "source": [
    "Tempo de treino: 2m 16.2s"
   ]
  },
  {
   "cell_type": "code",
   "execution_count": 15,
   "metadata": {},
   "outputs": [],
   "source": [
    "dados_teste1 = dados_teste1.assign(pred=0)"
   ]
  },
  {
   "cell_type": "code",
   "execution_count": 16,
   "metadata": {},
   "outputs": [],
   "source": [
    "for category in dados_teste1.category_1.unique():\n",
    "    index = dados_teste1.query(f'category_1 == \"{category}\"').index\n",
    "    dados_teste1.loc[index, 'pred'] = modelos[category].predict(dados_teste1.loc[index]['name'])\n",
    "\n",
    "dados_teste1.loc[dados_teste1.pred < 3, 'pred'] = 3"
   ]
  },
  {
   "cell_type": "markdown",
   "metadata": {},
   "source": [
    "Tempo de previsão: 5.7s"
   ]
  },
  {
   "cell_type": "markdown",
   "metadata": {},
   "source": [
    "Avaliação geral:"
   ]
  },
  {
   "cell_type": "code",
   "execution_count": 17,
   "metadata": {},
   "outputs": [
    {
     "name": "stdout",
     "output_type": "stream",
     "text": [
      "R² = 0.341\n",
      "MAPE = 77.257 %\n",
      "MAE = U$S 13.83\n",
      "RMSE = U$S 31.15\n",
      "MSLE = 0.407\n"
     ]
    }
   ],
   "source": [
    "print_avaliacao(dados_teste1['price'], dados_teste1['pred'])"
   ]
  },
  {
   "cell_type": "markdown",
   "metadata": {},
   "source": [
    "Avaliação por categoria principal"
   ]
  },
  {
   "cell_type": "code",
   "execution_count": 18,
   "metadata": {},
   "outputs": [
    {
     "data": {
      "text/html": [
       "<div>\n",
       "<style scoped>\n",
       "    .dataframe tbody tr th:only-of-type {\n",
       "        vertical-align: middle;\n",
       "    }\n",
       "\n",
       "    .dataframe tbody tr th {\n",
       "        vertical-align: top;\n",
       "    }\n",
       "\n",
       "    .dataframe thead th {\n",
       "        text-align: right;\n",
       "    }\n",
       "</style>\n",
       "<table border=\"1\" class=\"dataframe\">\n",
       "  <thead>\n",
       "    <tr style=\"text-align: right;\">\n",
       "      <th></th>\n",
       "      <th>Women</th>\n",
       "      <th>Men</th>\n",
       "      <th>Vintage &amp; Collectibles</th>\n",
       "      <th>Electronics</th>\n",
       "      <th>Beauty</th>\n",
       "      <th>Kids</th>\n",
       "      <th>Other</th>\n",
       "      <th>Home</th>\n",
       "      <th>Sports &amp; Outdoors</th>\n",
       "      <th>Handmade</th>\n",
       "      <th>No category</th>\n",
       "    </tr>\n",
       "  </thead>\n",
       "  <tbody>\n",
       "    <tr>\n",
       "      <th>R²</th>\n",
       "      <td>0.322</td>\n",
       "      <td>0.412</td>\n",
       "      <td>0.223</td>\n",
       "      <td>0.429</td>\n",
       "      <td>0.106</td>\n",
       "      <td>0.288</td>\n",
       "      <td>0.077</td>\n",
       "      <td>0.271</td>\n",
       "      <td>0.321</td>\n",
       "      <td>0.210</td>\n",
       "      <td>-0.031</td>\n",
       "    </tr>\n",
       "    <tr>\n",
       "      <th>MAPE</th>\n",
       "      <td>74.436</td>\n",
       "      <td>71.994</td>\n",
       "      <td>111.351</td>\n",
       "      <td>114.824</td>\n",
       "      <td>67.641</td>\n",
       "      <td>68.771</td>\n",
       "      <td>86.106</td>\n",
       "      <td>66.849</td>\n",
       "      <td>70.999</td>\n",
       "      <td>78.811</td>\n",
       "      <td>90.792</td>\n",
       "    </tr>\n",
       "    <tr>\n",
       "      <th>MAE</th>\n",
       "      <td>14.490</td>\n",
       "      <td>16.950</td>\n",
       "      <td>17.670</td>\n",
       "      <td>22.150</td>\n",
       "      <td>9.600</td>\n",
       "      <td>10.080</td>\n",
       "      <td>12.020</td>\n",
       "      <td>11.440</td>\n",
       "      <td>12.410</td>\n",
       "      <td>9.670</td>\n",
       "      <td>15.190</td>\n",
       "    </tr>\n",
       "    <tr>\n",
       "      <th>RMSE</th>\n",
       "      <td>32.220</td>\n",
       "      <td>30.740</td>\n",
       "      <td>44.690</td>\n",
       "      <td>49.750</td>\n",
       "      <td>22.910</td>\n",
       "      <td>18.760</td>\n",
       "      <td>26.350</td>\n",
       "      <td>19.890</td>\n",
       "      <td>24.470</td>\n",
       "      <td>22.290</td>\n",
       "      <td>30.750</td>\n",
       "    </tr>\n",
       "    <tr>\n",
       "      <th>MSLE</th>\n",
       "      <td>0.391</td>\n",
       "      <td>0.378</td>\n",
       "      <td>0.622</td>\n",
       "      <td>0.641</td>\n",
       "      <td>0.343</td>\n",
       "      <td>0.349</td>\n",
       "      <td>0.464</td>\n",
       "      <td>0.347</td>\n",
       "      <td>0.379</td>\n",
       "      <td>0.395</td>\n",
       "      <td>0.521</td>\n",
       "    </tr>\n",
       "  </tbody>\n",
       "</table>\n",
       "</div>"
      ],
      "text/plain": [
       "       Women     Men  Vintage & Collectibles  Electronics  Beauty    Kids  \\\n",
       "R²     0.322   0.412                   0.223        0.429   0.106   0.288   \n",
       "MAPE  74.436  71.994                 111.351      114.824  67.641  68.771   \n",
       "MAE   14.490  16.950                  17.670       22.150   9.600  10.080   \n",
       "RMSE  32.220  30.740                  44.690       49.750  22.910  18.760   \n",
       "MSLE   0.391   0.378                   0.622        0.641   0.343   0.349   \n",
       "\n",
       "       Other    Home  Sports & Outdoors  Handmade  No category  \n",
       "R²     0.077   0.271              0.321     0.210       -0.031  \n",
       "MAPE  86.106  66.849             70.999    78.811       90.792  \n",
       "MAE   12.020  11.440             12.410     9.670       15.190  \n",
       "RMSE  26.350  19.890             24.470    22.290       30.750  \n",
       "MSLE   0.464   0.347              0.379     0.395        0.521  "
      ]
     },
     "execution_count": 18,
     "metadata": {},
     "output_type": "execute_result"
    }
   ],
   "source": [
    "avaliacoes = {}\n",
    "\n",
    "for categoria in dados_teste1.category_1.unique():\n",
    "    dados_cat = dados_teste1.query(f'category_1 == \"{categoria}\"')\n",
    "    avaliacoes[categoria] = calc_metricas(dados_cat['price'], dados_cat['pred'])\n",
    "\n",
    "avaliacoes = pd.DataFrame(avaliacoes, index=['R²', 'MAPE', 'MAE', 'RMSE', 'MSLE'])\n",
    "\n",
    "avaliacoes"
   ]
  },
  {
   "cell_type": "markdown",
   "metadata": {},
   "source": [
    "## Modelo geral usando coluna item_description"
   ]
  },
  {
   "cell_type": "code",
   "execution_count": null,
   "metadata": {},
   "outputs": [],
   "source": [
    "dados_treino1 = dados_treino[['category_1', 'item_description', 'price']]\n",
    "dados_treino1.dropna(inplace=True)\n",
    "\n",
    "dados_teste1 = dados_teste[['category_1', 'item_description', 'price']]\n",
    "dados_teste1.dropna(inplace=True)"
   ]
  },
  {
   "cell_type": "code",
   "execution_count": 22,
   "metadata": {},
   "outputs": [
    {
     "data": {
      "text/html": [
       "<style>#sk-container-id-2 {color: black;background-color: white;}#sk-container-id-2 pre{padding: 0;}#sk-container-id-2 div.sk-toggleable {background-color: white;}#sk-container-id-2 label.sk-toggleable__label {cursor: pointer;display: block;width: 100%;margin-bottom: 0;padding: 0.3em;box-sizing: border-box;text-align: center;}#sk-container-id-2 label.sk-toggleable__label-arrow:before {content: \"▸\";float: left;margin-right: 0.25em;color: #696969;}#sk-container-id-2 label.sk-toggleable__label-arrow:hover:before {color: black;}#sk-container-id-2 div.sk-estimator:hover label.sk-toggleable__label-arrow:before {color: black;}#sk-container-id-2 div.sk-toggleable__content {max-height: 0;max-width: 0;overflow: hidden;text-align: left;background-color: #f0f8ff;}#sk-container-id-2 div.sk-toggleable__content pre {margin: 0.2em;color: black;border-radius: 0.25em;background-color: #f0f8ff;}#sk-container-id-2 input.sk-toggleable__control:checked~div.sk-toggleable__content {max-height: 200px;max-width: 100%;overflow: auto;}#sk-container-id-2 input.sk-toggleable__control:checked~label.sk-toggleable__label-arrow:before {content: \"▾\";}#sk-container-id-2 div.sk-estimator input.sk-toggleable__control:checked~label.sk-toggleable__label {background-color: #d4ebff;}#sk-container-id-2 div.sk-label input.sk-toggleable__control:checked~label.sk-toggleable__label {background-color: #d4ebff;}#sk-container-id-2 input.sk-hidden--visually {border: 0;clip: rect(1px 1px 1px 1px);clip: rect(1px, 1px, 1px, 1px);height: 1px;margin: -1px;overflow: hidden;padding: 0;position: absolute;width: 1px;}#sk-container-id-2 div.sk-estimator {font-family: monospace;background-color: #f0f8ff;border: 1px dotted black;border-radius: 0.25em;box-sizing: border-box;margin-bottom: 0.5em;}#sk-container-id-2 div.sk-estimator:hover {background-color: #d4ebff;}#sk-container-id-2 div.sk-parallel-item::after {content: \"\";width: 100%;border-bottom: 1px solid gray;flex-grow: 1;}#sk-container-id-2 div.sk-label:hover label.sk-toggleable__label {background-color: #d4ebff;}#sk-container-id-2 div.sk-serial::before {content: \"\";position: absolute;border-left: 1px solid gray;box-sizing: border-box;top: 0;bottom: 0;left: 50%;z-index: 0;}#sk-container-id-2 div.sk-serial {display: flex;flex-direction: column;align-items: center;background-color: white;padding-right: 0.2em;padding-left: 0.2em;position: relative;}#sk-container-id-2 div.sk-item {position: relative;z-index: 1;}#sk-container-id-2 div.sk-parallel {display: flex;align-items: stretch;justify-content: center;background-color: white;position: relative;}#sk-container-id-2 div.sk-item::before, #sk-container-id-2 div.sk-parallel-item::before {content: \"\";position: absolute;border-left: 1px solid gray;box-sizing: border-box;top: 0;bottom: 0;left: 50%;z-index: -1;}#sk-container-id-2 div.sk-parallel-item {display: flex;flex-direction: column;z-index: 1;position: relative;background-color: white;}#sk-container-id-2 div.sk-parallel-item:first-child::after {align-self: flex-end;width: 50%;}#sk-container-id-2 div.sk-parallel-item:last-child::after {align-self: flex-start;width: 50%;}#sk-container-id-2 div.sk-parallel-item:only-child::after {width: 0;}#sk-container-id-2 div.sk-dashed-wrapped {border: 1px dashed gray;margin: 0 0.4em 0.5em 0.4em;box-sizing: border-box;padding-bottom: 0.4em;background-color: white;}#sk-container-id-2 div.sk-label label {font-family: monospace;font-weight: bold;display: inline-block;line-height: 1.2em;}#sk-container-id-2 div.sk-label-container {text-align: center;}#sk-container-id-2 div.sk-container {/* jupyter's `normalize.less` sets `[hidden] { display: none; }` but bootstrap.min.css set `[hidden] { display: none !important; }` so we also need the `!important` here to be able to override the default hidden behavior on the sphinx rendered scikit-learn.org. See: https://github.com/scikit-learn/scikit-learn/issues/21755 */display: inline-block !important;position: relative;}#sk-container-id-2 div.sk-text-repr-fallback {display: none;}</style><div id=\"sk-container-id-2\" class=\"sk-top-container\"><div class=\"sk-text-repr-fallback\"><pre>Pipeline(steps=[(&#x27;tiidf&#x27;,\n",
       "                 TfidfVectorizer(max_df=0.5, min_df=2, ngram_range=(1, 2))),\n",
       "                (&#x27;xgboost&#x27;,\n",
       "                 XGBRegressor(base_score=0.5, booster=&#x27;gbtree&#x27;, callbacks=None,\n",
       "                              colsample_bylevel=1, colsample_bynode=1,\n",
       "                              colsample_bytree=1, early_stopping_rounds=None,\n",
       "                              enable_categorical=False, eval_metric=None,\n",
       "                              gamma=0, gpu_id=-1, grow_policy=&#x27;depthwise&#x27;,\n",
       "                              importance_type=None, interaction_constraints=&#x27;&#x27;,\n",
       "                              learning_rate=0.300000012, max_bin=256,\n",
       "                              max_cat_to_onehot=4, max_delta_step=0,\n",
       "                              max_depth=6, max_leaves=0, min_child_weight=1,\n",
       "                              missing=nan, monotone_constraints=&#x27;()&#x27;,\n",
       "                              n_estimators=100, n_jobs=-1, num_parallel_tree=1,\n",
       "                              predictor=&#x27;auto&#x27;, random_state=101, reg_alpha=0,\n",
       "                              reg_lambda=1, ...))])</pre><b>In a Jupyter environment, please rerun this cell to show the HTML representation or trust the notebook. <br />On GitHub, the HTML representation is unable to render, please try loading this page with nbviewer.org.</b></div><div class=\"sk-container\" hidden><div class=\"sk-item sk-dashed-wrapped\"><div class=\"sk-label-container\"><div class=\"sk-label sk-toggleable\"><input class=\"sk-toggleable__control sk-hidden--visually\" id=\"sk-estimator-id-4\" type=\"checkbox\" ><label for=\"sk-estimator-id-4\" class=\"sk-toggleable__label sk-toggleable__label-arrow\">Pipeline</label><div class=\"sk-toggleable__content\"><pre>Pipeline(steps=[(&#x27;tiidf&#x27;,\n",
       "                 TfidfVectorizer(max_df=0.5, min_df=2, ngram_range=(1, 2))),\n",
       "                (&#x27;xgboost&#x27;,\n",
       "                 XGBRegressor(base_score=0.5, booster=&#x27;gbtree&#x27;, callbacks=None,\n",
       "                              colsample_bylevel=1, colsample_bynode=1,\n",
       "                              colsample_bytree=1, early_stopping_rounds=None,\n",
       "                              enable_categorical=False, eval_metric=None,\n",
       "                              gamma=0, gpu_id=-1, grow_policy=&#x27;depthwise&#x27;,\n",
       "                              importance_type=None, interaction_constraints=&#x27;&#x27;,\n",
       "                              learning_rate=0.300000012, max_bin=256,\n",
       "                              max_cat_to_onehot=4, max_delta_step=0,\n",
       "                              max_depth=6, max_leaves=0, min_child_weight=1,\n",
       "                              missing=nan, monotone_constraints=&#x27;()&#x27;,\n",
       "                              n_estimators=100, n_jobs=-1, num_parallel_tree=1,\n",
       "                              predictor=&#x27;auto&#x27;, random_state=101, reg_alpha=0,\n",
       "                              reg_lambda=1, ...))])</pre></div></div></div><div class=\"sk-serial\"><div class=\"sk-item\"><div class=\"sk-estimator sk-toggleable\"><input class=\"sk-toggleable__control sk-hidden--visually\" id=\"sk-estimator-id-5\" type=\"checkbox\" ><label for=\"sk-estimator-id-5\" class=\"sk-toggleable__label sk-toggleable__label-arrow\">TfidfVectorizer</label><div class=\"sk-toggleable__content\"><pre>TfidfVectorizer(max_df=0.5, min_df=2, ngram_range=(1, 2))</pre></div></div></div><div class=\"sk-item\"><div class=\"sk-estimator sk-toggleable\"><input class=\"sk-toggleable__control sk-hidden--visually\" id=\"sk-estimator-id-6\" type=\"checkbox\" ><label for=\"sk-estimator-id-6\" class=\"sk-toggleable__label sk-toggleable__label-arrow\">XGBRegressor</label><div class=\"sk-toggleable__content\"><pre>XGBRegressor(base_score=0.5, booster=&#x27;gbtree&#x27;, callbacks=None,\n",
       "             colsample_bylevel=1, colsample_bynode=1, colsample_bytree=1,\n",
       "             early_stopping_rounds=None, enable_categorical=False,\n",
       "             eval_metric=None, gamma=0, gpu_id=-1, grow_policy=&#x27;depthwise&#x27;,\n",
       "             importance_type=None, interaction_constraints=&#x27;&#x27;,\n",
       "             learning_rate=0.300000012, max_bin=256, max_cat_to_onehot=4,\n",
       "             max_delta_step=0, max_depth=6, max_leaves=0, min_child_weight=1,\n",
       "             missing=nan, monotone_constraints=&#x27;()&#x27;, n_estimators=100,\n",
       "             n_jobs=-1, num_parallel_tree=1, predictor=&#x27;auto&#x27;, random_state=101,\n",
       "             reg_alpha=0, reg_lambda=1, ...)</pre></div></div></div></div></div></div></div>"
      ],
      "text/plain": [
       "Pipeline(steps=[('tiidf',\n",
       "                 TfidfVectorizer(max_df=0.5, min_df=2, ngram_range=(1, 2))),\n",
       "                ('xgboost',\n",
       "                 XGBRegressor(base_score=0.5, booster='gbtree', callbacks=None,\n",
       "                              colsample_bylevel=1, colsample_bynode=1,\n",
       "                              colsample_bytree=1, early_stopping_rounds=None,\n",
       "                              enable_categorical=False, eval_metric=None,\n",
       "                              gamma=0, gpu_id=-1, grow_policy='depthwise',\n",
       "                              importance_type=None, interaction_constraints='',\n",
       "                              learning_rate=0.300000012, max_bin=256,\n",
       "                              max_cat_to_onehot=4, max_delta_step=0,\n",
       "                              max_depth=6, max_leaves=0, min_child_weight=1,\n",
       "                              missing=nan, monotone_constraints='()',\n",
       "                              n_estimators=100, n_jobs=-1, num_parallel_tree=1,\n",
       "                              predictor='auto', random_state=101, reg_alpha=0,\n",
       "                              reg_lambda=1, ...))])"
      ]
     },
     "execution_count": 22,
     "metadata": {},
     "output_type": "execute_result"
    }
   ],
   "source": [
    "pipe = Pipeline([('tiidf', TfidfVectorizer(min_df = 2, max_df = 0.5, ngram_range = (1, 2))),\n",
    "                 ('xgboost', XGBRegressor(random_state=101, n_jobs=-1))])\n",
    "X_treino = dados_treino1['item_description']\n",
    "y_treino = dados_treino1['price']\n",
    "pipe.fit(X_treino, y_treino)"
   ]
  },
  {
   "cell_type": "markdown",
   "metadata": {},
   "source": [
    "Tempo de treino: 9m 37.8s"
   ]
  },
  {
   "cell_type": "code",
   "execution_count": null,
   "metadata": {},
   "outputs": [],
   "source": [
    "dados_teste1['pred'] = pipe.predict(dados_teste1['item_description'])\n",
    "dados_teste1.loc[dados_teste1.pred < 3, 'pred'] = 3"
   ]
  },
  {
   "cell_type": "markdown",
   "metadata": {},
   "source": [
    "Tempo de previsão: 20.8s"
   ]
  },
  {
   "cell_type": "markdown",
   "metadata": {},
   "source": [
    "Avaliação geral"
   ]
  },
  {
   "cell_type": "code",
   "execution_count": 26,
   "metadata": {},
   "outputs": [
    {
     "name": "stdout",
     "output_type": "stream",
     "text": [
      "R² = 0.254\n",
      "MAPE = 91.421 %\n",
      "MAE = U$S 15.73\n",
      "RMSE = U$S 33.14\n",
      "MSLE = 0.510\n"
     ]
    }
   ],
   "source": [
    "print_avaliacao(dados_teste1['price'], dados_teste1['pred'])"
   ]
  },
  {
   "cell_type": "markdown",
   "metadata": {},
   "source": [
    "Avaliação por categoria principal"
   ]
  },
  {
   "cell_type": "code",
   "execution_count": 27,
   "metadata": {},
   "outputs": [
    {
     "data": {
      "text/html": [
       "<div>\n",
       "<style scoped>\n",
       "    .dataframe tbody tr th:only-of-type {\n",
       "        vertical-align: middle;\n",
       "    }\n",
       "\n",
       "    .dataframe tbody tr th {\n",
       "        vertical-align: top;\n",
       "    }\n",
       "\n",
       "    .dataframe thead th {\n",
       "        text-align: right;\n",
       "    }\n",
       "</style>\n",
       "<table border=\"1\" class=\"dataframe\">\n",
       "  <thead>\n",
       "    <tr style=\"text-align: right;\">\n",
       "      <th></th>\n",
       "      <th>Women</th>\n",
       "      <th>Men</th>\n",
       "      <th>Vintage &amp; Collectibles</th>\n",
       "      <th>Electronics</th>\n",
       "      <th>Beauty</th>\n",
       "      <th>Kids</th>\n",
       "      <th>Other</th>\n",
       "      <th>Home</th>\n",
       "      <th>Sports &amp; Outdoors</th>\n",
       "      <th>Handmade</th>\n",
       "      <th>No category</th>\n",
       "    </tr>\n",
       "  </thead>\n",
       "  <tbody>\n",
       "    <tr>\n",
       "      <th>R²</th>\n",
       "      <td>0.258</td>\n",
       "      <td>0.204</td>\n",
       "      <td>0.214</td>\n",
       "      <td>0.351</td>\n",
       "      <td>-0.017</td>\n",
       "      <td>0.022</td>\n",
       "      <td>0.098</td>\n",
       "      <td>0.048</td>\n",
       "      <td>0.135</td>\n",
       "      <td>0.107</td>\n",
       "      <td>0.036</td>\n",
       "    </tr>\n",
       "    <tr>\n",
       "      <th>MAPE</th>\n",
       "      <td>77.210</td>\n",
       "      <td>67.435</td>\n",
       "      <td>124.147</td>\n",
       "      <td>119.209</td>\n",
       "      <td>103.815</td>\n",
       "      <td>100.666</td>\n",
       "      <td>117.456</td>\n",
       "      <td>83.169</td>\n",
       "      <td>87.665</td>\n",
       "      <td>159.980</td>\n",
       "      <td>94.105</td>\n",
       "    </tr>\n",
       "    <tr>\n",
       "      <th>MAE</th>\n",
       "      <td>15.580</td>\n",
       "      <td>18.700</td>\n",
       "      <td>18.620</td>\n",
       "      <td>23.950</td>\n",
       "      <td>12.840</td>\n",
       "      <td>13.000</td>\n",
       "      <td>14.440</td>\n",
       "      <td>13.780</td>\n",
       "      <td>15.080</td>\n",
       "      <td>14.240</td>\n",
       "      <td>15.320</td>\n",
       "    </tr>\n",
       "    <tr>\n",
       "      <th>RMSE</th>\n",
       "      <td>33.700</td>\n",
       "      <td>35.760</td>\n",
       "      <td>44.960</td>\n",
       "      <td>53.030</td>\n",
       "      <td>24.440</td>\n",
       "      <td>22.000</td>\n",
       "      <td>26.080</td>\n",
       "      <td>22.740</td>\n",
       "      <td>27.630</td>\n",
       "      <td>23.680</td>\n",
       "      <td>29.730</td>\n",
       "    </tr>\n",
       "    <tr>\n",
       "      <th>MSLE</th>\n",
       "      <td>0.439</td>\n",
       "      <td>0.449</td>\n",
       "      <td>0.704</td>\n",
       "      <td>0.715</td>\n",
       "      <td>0.537</td>\n",
       "      <td>0.522</td>\n",
       "      <td>0.639</td>\n",
       "      <td>0.465</td>\n",
       "      <td>0.491</td>\n",
       "      <td>0.822</td>\n",
       "      <td>0.541</td>\n",
       "    </tr>\n",
       "  </tbody>\n",
       "</table>\n",
       "</div>"
      ],
      "text/plain": [
       "       Women     Men  Vintage & Collectibles  Electronics   Beauty     Kids  \\\n",
       "R²     0.258   0.204                   0.214        0.351   -0.017    0.022   \n",
       "MAPE  77.210  67.435                 124.147      119.209  103.815  100.666   \n",
       "MAE   15.580  18.700                  18.620       23.950   12.840   13.000   \n",
       "RMSE  33.700  35.760                  44.960       53.030   24.440   22.000   \n",
       "MSLE   0.439   0.449                   0.704        0.715    0.537    0.522   \n",
       "\n",
       "        Other    Home  Sports & Outdoors  Handmade  No category  \n",
       "R²      0.098   0.048              0.135     0.107        0.036  \n",
       "MAPE  117.456  83.169             87.665   159.980       94.105  \n",
       "MAE    14.440  13.780             15.080    14.240       15.320  \n",
       "RMSE   26.080  22.740             27.630    23.680       29.730  \n",
       "MSLE    0.639   0.465              0.491     0.822        0.541  "
      ]
     },
     "execution_count": 27,
     "metadata": {},
     "output_type": "execute_result"
    }
   ],
   "source": [
    "avaliacoes = {}\n",
    "\n",
    "for categoria in dados_teste1.category_1.unique():\n",
    "    dados_cat = dados_teste1.query(f'category_1 == \"{categoria}\"')\n",
    "    avaliacoes[categoria] = calc_metricas(dados_cat['price'], dados_cat['pred'])\n",
    "\n",
    "avaliacoes = pd.DataFrame(avaliacoes, index=['R²', 'MAPE', 'MAE', 'RMSE', 'MSLE'])\n",
    "\n",
    "avaliacoes"
   ]
  },
  {
   "cell_type": "markdown",
   "metadata": {},
   "source": [
    "## Modelo por categoria usando item_description"
   ]
  },
  {
   "cell_type": "code",
   "execution_count": 28,
   "metadata": {},
   "outputs": [],
   "source": [
    "modelos = {}\n",
    "\n",
    "for category in dados_treino.category_1.unique():\n",
    "    pipe = Pipeline([('tiidf', TfidfVectorizer(min_df = 2, max_df = 0.5, ngram_range = (1, 2))),\n",
    "                    ('xgboost', XGBRegressor(random_state=101, n_jobs=-1))])\n",
    "    modelos[category] = pipe\n",
    "    X_treino = dados_treino1.query(f'category_1 == \"{category}\"')['item_description']\n",
    "    y_treino = dados_treino1.query(f'category_1 == \"{category}\"')['price']\n",
    "    # pipe.fit(X_treino, y_treino)\n",
    "    modelos[category].fit(X_treino, y_treino)\n"
   ]
  },
  {
   "cell_type": "markdown",
   "metadata": {},
   "source": [
    "Tempo de treino: 7m 18.3s"
   ]
  },
  {
   "cell_type": "code",
   "execution_count": 29,
   "metadata": {},
   "outputs": [],
   "source": [
    "dados_teste1 = dados_teste1.assign(pred=0)"
   ]
  },
  {
   "cell_type": "code",
   "execution_count": 30,
   "metadata": {},
   "outputs": [],
   "source": [
    "for category in dados_teste1.category_1.unique():\n",
    "    index = dados_teste1.query(f'category_1 == \"{category}\"').index\n",
    "    dados_teste1.loc[index, 'pred'] = modelos[category].predict(dados_teste1.loc[index]['item_description'])\n",
    "\n",
    "dados_teste1.loc[dados_teste1.pred < 3, 'pred'] = 3"
   ]
  },
  {
   "cell_type": "markdown",
   "metadata": {},
   "source": [
    "Tempo de previsão: 18.8s"
   ]
  },
  {
   "cell_type": "markdown",
   "metadata": {},
   "source": [
    "Avaliação geral"
   ]
  },
  {
   "cell_type": "code",
   "execution_count": 31,
   "metadata": {},
   "outputs": [
    {
     "name": "stdout",
     "output_type": "stream",
     "text": [
      "R² = 0.293\n",
      "MAPE = 82.449 %\n",
      "MAE = U$S 14.79\n",
      "RMSE = U$S 32.26\n",
      "MSLE = 0.452\n"
     ]
    }
   ],
   "source": [
    "print_avaliacao(dados_teste1['price'], dados_teste1['pred'])"
   ]
  },
  {
   "cell_type": "markdown",
   "metadata": {},
   "source": [
    "Avaliação por categoria geral"
   ]
  },
  {
   "cell_type": "code",
   "execution_count": 32,
   "metadata": {},
   "outputs": [
    {
     "data": {
      "text/html": [
       "<div>\n",
       "<style scoped>\n",
       "    .dataframe tbody tr th:only-of-type {\n",
       "        vertical-align: middle;\n",
       "    }\n",
       "\n",
       "    .dataframe tbody tr th {\n",
       "        vertical-align: top;\n",
       "    }\n",
       "\n",
       "    .dataframe thead th {\n",
       "        text-align: right;\n",
       "    }\n",
       "</style>\n",
       "<table border=\"1\" class=\"dataframe\">\n",
       "  <thead>\n",
       "    <tr style=\"text-align: right;\">\n",
       "      <th></th>\n",
       "      <th>Women</th>\n",
       "      <th>Men</th>\n",
       "      <th>Vintage &amp; Collectibles</th>\n",
       "      <th>Electronics</th>\n",
       "      <th>Beauty</th>\n",
       "      <th>Kids</th>\n",
       "      <th>Other</th>\n",
       "      <th>Home</th>\n",
       "      <th>Sports &amp; Outdoors</th>\n",
       "      <th>Handmade</th>\n",
       "      <th>No category</th>\n",
       "    </tr>\n",
       "  </thead>\n",
       "  <tbody>\n",
       "    <tr>\n",
       "      <th>R²</th>\n",
       "      <td>0.263</td>\n",
       "      <td>0.343</td>\n",
       "      <td>0.140</td>\n",
       "      <td>0.405</td>\n",
       "      <td>0.097</td>\n",
       "      <td>0.186</td>\n",
       "      <td>0.187</td>\n",
       "      <td>0.191</td>\n",
       "      <td>0.229</td>\n",
       "      <td>0.182</td>\n",
       "      <td>-0.086</td>\n",
       "    </tr>\n",
       "    <tr>\n",
       "      <th>MAPE</th>\n",
       "      <td>81.633</td>\n",
       "      <td>80.579</td>\n",
       "      <td>113.364</td>\n",
       "      <td>114.074</td>\n",
       "      <td>69.456</td>\n",
       "      <td>74.117</td>\n",
       "      <td>87.382</td>\n",
       "      <td>73.354</td>\n",
       "      <td>75.549</td>\n",
       "      <td>84.407</td>\n",
       "      <td>94.970</td>\n",
       "    </tr>\n",
       "    <tr>\n",
       "      <th>MAE</th>\n",
       "      <td>15.730</td>\n",
       "      <td>18.620</td>\n",
       "      <td>18.390</td>\n",
       "      <td>23.020</td>\n",
       "      <td>9.820</td>\n",
       "      <td>10.800</td>\n",
       "      <td>12.140</td>\n",
       "      <td>12.450</td>\n",
       "      <td>13.350</td>\n",
       "      <td>10.290</td>\n",
       "      <td>16.080</td>\n",
       "    </tr>\n",
       "    <tr>\n",
       "      <th>RMSE</th>\n",
       "      <td>33.600</td>\n",
       "      <td>32.490</td>\n",
       "      <td>47.020</td>\n",
       "      <td>50.760</td>\n",
       "      <td>23.030</td>\n",
       "      <td>20.070</td>\n",
       "      <td>24.760</td>\n",
       "      <td>20.960</td>\n",
       "      <td>26.080</td>\n",
       "      <td>22.650</td>\n",
       "      <td>31.570</td>\n",
       "    </tr>\n",
       "    <tr>\n",
       "      <th>MSLE</th>\n",
       "      <td>0.447</td>\n",
       "      <td>0.452</td>\n",
       "      <td>0.653</td>\n",
       "      <td>0.666</td>\n",
       "      <td>0.361</td>\n",
       "      <td>0.390</td>\n",
       "      <td>0.478</td>\n",
       "      <td>0.394</td>\n",
       "      <td>0.408</td>\n",
       "      <td>0.448</td>\n",
       "      <td>0.564</td>\n",
       "    </tr>\n",
       "  </tbody>\n",
       "</table>\n",
       "</div>"
      ],
      "text/plain": [
       "       Women     Men  Vintage & Collectibles  Electronics  Beauty    Kids  \\\n",
       "R²     0.263   0.343                   0.140        0.405   0.097   0.186   \n",
       "MAPE  81.633  80.579                 113.364      114.074  69.456  74.117   \n",
       "MAE   15.730  18.620                  18.390       23.020   9.820  10.800   \n",
       "RMSE  33.600  32.490                  47.020       50.760  23.030  20.070   \n",
       "MSLE   0.447   0.452                   0.653        0.666   0.361   0.390   \n",
       "\n",
       "       Other    Home  Sports & Outdoors  Handmade  No category  \n",
       "R²     0.187   0.191              0.229     0.182       -0.086  \n",
       "MAPE  87.382  73.354             75.549    84.407       94.970  \n",
       "MAE   12.140  12.450             13.350    10.290       16.080  \n",
       "RMSE  24.760  20.960             26.080    22.650       31.570  \n",
       "MSLE   0.478   0.394              0.408     0.448        0.564  "
      ]
     },
     "execution_count": 32,
     "metadata": {},
     "output_type": "execute_result"
    }
   ],
   "source": [
    "avaliacoes = {}\n",
    "\n",
    "for categoria in dados_teste1.category_1.unique():\n",
    "    dados_cat = dados_teste1.query(f'category_1 == \"{categoria}\"')\n",
    "    avaliacoes[categoria] = calc_metricas(dados_cat['price'], dados_cat['pred'])\n",
    "\n",
    "avaliacoes = pd.DataFrame(avaliacoes, index=['R²', 'MAPE', 'MAE', 'RMSE', 'MSLE'])\n",
    "\n",
    "avaliacoes"
   ]
  },
  {
   "cell_type": "markdown",
   "metadata": {},
   "source": [
    "## Modelo geral usando comb_name_description"
   ]
  },
  {
   "cell_type": "code",
   "execution_count": null,
   "metadata": {},
   "outputs": [],
   "source": [
    "dados_treino1 = dados_treino[['category_1', 'comb_name_description', 'price']]\n",
    "dados_treino1.dropna(inplace=True)\n",
    "\n",
    "dados_teste1 = dados_teste[['category_1', 'comb_name_description', 'price']]\n",
    "dados_teste1.dropna(inplace=True)"
   ]
  },
  {
   "cell_type": "code",
   "execution_count": 34,
   "metadata": {},
   "outputs": [
    {
     "data": {
      "text/html": [
       "<style>#sk-container-id-3 {color: black;background-color: white;}#sk-container-id-3 pre{padding: 0;}#sk-container-id-3 div.sk-toggleable {background-color: white;}#sk-container-id-3 label.sk-toggleable__label {cursor: pointer;display: block;width: 100%;margin-bottom: 0;padding: 0.3em;box-sizing: border-box;text-align: center;}#sk-container-id-3 label.sk-toggleable__label-arrow:before {content: \"▸\";float: left;margin-right: 0.25em;color: #696969;}#sk-container-id-3 label.sk-toggleable__label-arrow:hover:before {color: black;}#sk-container-id-3 div.sk-estimator:hover label.sk-toggleable__label-arrow:before {color: black;}#sk-container-id-3 div.sk-toggleable__content {max-height: 0;max-width: 0;overflow: hidden;text-align: left;background-color: #f0f8ff;}#sk-container-id-3 div.sk-toggleable__content pre {margin: 0.2em;color: black;border-radius: 0.25em;background-color: #f0f8ff;}#sk-container-id-3 input.sk-toggleable__control:checked~div.sk-toggleable__content {max-height: 200px;max-width: 100%;overflow: auto;}#sk-container-id-3 input.sk-toggleable__control:checked~label.sk-toggleable__label-arrow:before {content: \"▾\";}#sk-container-id-3 div.sk-estimator input.sk-toggleable__control:checked~label.sk-toggleable__label {background-color: #d4ebff;}#sk-container-id-3 div.sk-label input.sk-toggleable__control:checked~label.sk-toggleable__label {background-color: #d4ebff;}#sk-container-id-3 input.sk-hidden--visually {border: 0;clip: rect(1px 1px 1px 1px);clip: rect(1px, 1px, 1px, 1px);height: 1px;margin: -1px;overflow: hidden;padding: 0;position: absolute;width: 1px;}#sk-container-id-3 div.sk-estimator {font-family: monospace;background-color: #f0f8ff;border: 1px dotted black;border-radius: 0.25em;box-sizing: border-box;margin-bottom: 0.5em;}#sk-container-id-3 div.sk-estimator:hover {background-color: #d4ebff;}#sk-container-id-3 div.sk-parallel-item::after {content: \"\";width: 100%;border-bottom: 1px solid gray;flex-grow: 1;}#sk-container-id-3 div.sk-label:hover label.sk-toggleable__label {background-color: #d4ebff;}#sk-container-id-3 div.sk-serial::before {content: \"\";position: absolute;border-left: 1px solid gray;box-sizing: border-box;top: 0;bottom: 0;left: 50%;z-index: 0;}#sk-container-id-3 div.sk-serial {display: flex;flex-direction: column;align-items: center;background-color: white;padding-right: 0.2em;padding-left: 0.2em;position: relative;}#sk-container-id-3 div.sk-item {position: relative;z-index: 1;}#sk-container-id-3 div.sk-parallel {display: flex;align-items: stretch;justify-content: center;background-color: white;position: relative;}#sk-container-id-3 div.sk-item::before, #sk-container-id-3 div.sk-parallel-item::before {content: \"\";position: absolute;border-left: 1px solid gray;box-sizing: border-box;top: 0;bottom: 0;left: 50%;z-index: -1;}#sk-container-id-3 div.sk-parallel-item {display: flex;flex-direction: column;z-index: 1;position: relative;background-color: white;}#sk-container-id-3 div.sk-parallel-item:first-child::after {align-self: flex-end;width: 50%;}#sk-container-id-3 div.sk-parallel-item:last-child::after {align-self: flex-start;width: 50%;}#sk-container-id-3 div.sk-parallel-item:only-child::after {width: 0;}#sk-container-id-3 div.sk-dashed-wrapped {border: 1px dashed gray;margin: 0 0.4em 0.5em 0.4em;box-sizing: border-box;padding-bottom: 0.4em;background-color: white;}#sk-container-id-3 div.sk-label label {font-family: monospace;font-weight: bold;display: inline-block;line-height: 1.2em;}#sk-container-id-3 div.sk-label-container {text-align: center;}#sk-container-id-3 div.sk-container {/* jupyter's `normalize.less` sets `[hidden] { display: none; }` but bootstrap.min.css set `[hidden] { display: none !important; }` so we also need the `!important` here to be able to override the default hidden behavior on the sphinx rendered scikit-learn.org. See: https://github.com/scikit-learn/scikit-learn/issues/21755 */display: inline-block !important;position: relative;}#sk-container-id-3 div.sk-text-repr-fallback {display: none;}</style><div id=\"sk-container-id-3\" class=\"sk-top-container\"><div class=\"sk-text-repr-fallback\"><pre>Pipeline(steps=[(&#x27;tiidf&#x27;,\n",
       "                 TfidfVectorizer(max_df=0.5, min_df=2, ngram_range=(1, 2))),\n",
       "                (&#x27;xgboost&#x27;,\n",
       "                 XGBRegressor(base_score=0.5, booster=&#x27;gbtree&#x27;, callbacks=None,\n",
       "                              colsample_bylevel=1, colsample_bynode=1,\n",
       "                              colsample_bytree=1, early_stopping_rounds=None,\n",
       "                              enable_categorical=False, eval_metric=None,\n",
       "                              gamma=0, gpu_id=-1, grow_policy=&#x27;depthwise&#x27;,\n",
       "                              importance_type=None, interaction_constraints=&#x27;&#x27;,\n",
       "                              learning_rate=0.300000012, max_bin=256,\n",
       "                              max_cat_to_onehot=4, max_delta_step=0,\n",
       "                              max_depth=6, max_leaves=0, min_child_weight=1,\n",
       "                              missing=nan, monotone_constraints=&#x27;()&#x27;,\n",
       "                              n_estimators=100, n_jobs=-1, num_parallel_tree=1,\n",
       "                              predictor=&#x27;auto&#x27;, random_state=101, reg_alpha=0,\n",
       "                              reg_lambda=1, ...))])</pre><b>In a Jupyter environment, please rerun this cell to show the HTML representation or trust the notebook. <br />On GitHub, the HTML representation is unable to render, please try loading this page with nbviewer.org.</b></div><div class=\"sk-container\" hidden><div class=\"sk-item sk-dashed-wrapped\"><div class=\"sk-label-container\"><div class=\"sk-label sk-toggleable\"><input class=\"sk-toggleable__control sk-hidden--visually\" id=\"sk-estimator-id-7\" type=\"checkbox\" ><label for=\"sk-estimator-id-7\" class=\"sk-toggleable__label sk-toggleable__label-arrow\">Pipeline</label><div class=\"sk-toggleable__content\"><pre>Pipeline(steps=[(&#x27;tiidf&#x27;,\n",
       "                 TfidfVectorizer(max_df=0.5, min_df=2, ngram_range=(1, 2))),\n",
       "                (&#x27;xgboost&#x27;,\n",
       "                 XGBRegressor(base_score=0.5, booster=&#x27;gbtree&#x27;, callbacks=None,\n",
       "                              colsample_bylevel=1, colsample_bynode=1,\n",
       "                              colsample_bytree=1, early_stopping_rounds=None,\n",
       "                              enable_categorical=False, eval_metric=None,\n",
       "                              gamma=0, gpu_id=-1, grow_policy=&#x27;depthwise&#x27;,\n",
       "                              importance_type=None, interaction_constraints=&#x27;&#x27;,\n",
       "                              learning_rate=0.300000012, max_bin=256,\n",
       "                              max_cat_to_onehot=4, max_delta_step=0,\n",
       "                              max_depth=6, max_leaves=0, min_child_weight=1,\n",
       "                              missing=nan, monotone_constraints=&#x27;()&#x27;,\n",
       "                              n_estimators=100, n_jobs=-1, num_parallel_tree=1,\n",
       "                              predictor=&#x27;auto&#x27;, random_state=101, reg_alpha=0,\n",
       "                              reg_lambda=1, ...))])</pre></div></div></div><div class=\"sk-serial\"><div class=\"sk-item\"><div class=\"sk-estimator sk-toggleable\"><input class=\"sk-toggleable__control sk-hidden--visually\" id=\"sk-estimator-id-8\" type=\"checkbox\" ><label for=\"sk-estimator-id-8\" class=\"sk-toggleable__label sk-toggleable__label-arrow\">TfidfVectorizer</label><div class=\"sk-toggleable__content\"><pre>TfidfVectorizer(max_df=0.5, min_df=2, ngram_range=(1, 2))</pre></div></div></div><div class=\"sk-item\"><div class=\"sk-estimator sk-toggleable\"><input class=\"sk-toggleable__control sk-hidden--visually\" id=\"sk-estimator-id-9\" type=\"checkbox\" ><label for=\"sk-estimator-id-9\" class=\"sk-toggleable__label sk-toggleable__label-arrow\">XGBRegressor</label><div class=\"sk-toggleable__content\"><pre>XGBRegressor(base_score=0.5, booster=&#x27;gbtree&#x27;, callbacks=None,\n",
       "             colsample_bylevel=1, colsample_bynode=1, colsample_bytree=1,\n",
       "             early_stopping_rounds=None, enable_categorical=False,\n",
       "             eval_metric=None, gamma=0, gpu_id=-1, grow_policy=&#x27;depthwise&#x27;,\n",
       "             importance_type=None, interaction_constraints=&#x27;&#x27;,\n",
       "             learning_rate=0.300000012, max_bin=256, max_cat_to_onehot=4,\n",
       "             max_delta_step=0, max_depth=6, max_leaves=0, min_child_weight=1,\n",
       "             missing=nan, monotone_constraints=&#x27;()&#x27;, n_estimators=100,\n",
       "             n_jobs=-1, num_parallel_tree=1, predictor=&#x27;auto&#x27;, random_state=101,\n",
       "             reg_alpha=0, reg_lambda=1, ...)</pre></div></div></div></div></div></div></div>"
      ],
      "text/plain": [
       "Pipeline(steps=[('tiidf',\n",
       "                 TfidfVectorizer(max_df=0.5, min_df=2, ngram_range=(1, 2))),\n",
       "                ('xgboost',\n",
       "                 XGBRegressor(base_score=0.5, booster='gbtree', callbacks=None,\n",
       "                              colsample_bylevel=1, colsample_bynode=1,\n",
       "                              colsample_bytree=1, early_stopping_rounds=None,\n",
       "                              enable_categorical=False, eval_metric=None,\n",
       "                              gamma=0, gpu_id=-1, grow_policy='depthwise',\n",
       "                              importance_type=None, interaction_constraints='',\n",
       "                              learning_rate=0.300000012, max_bin=256,\n",
       "                              max_cat_to_onehot=4, max_delta_step=0,\n",
       "                              max_depth=6, max_leaves=0, min_child_weight=1,\n",
       "                              missing=nan, monotone_constraints='()',\n",
       "                              n_estimators=100, n_jobs=-1, num_parallel_tree=1,\n",
       "                              predictor='auto', random_state=101, reg_alpha=0,\n",
       "                              reg_lambda=1, ...))])"
      ]
     },
     "execution_count": 34,
     "metadata": {},
     "output_type": "execute_result"
    }
   ],
   "source": [
    "pipe = Pipeline([('tiidf', TfidfVectorizer(min_df = 2, max_df = 0.5, ngram_range = (1, 2))),\n",
    "                    ('xgboost', XGBRegressor(random_state=101, n_jobs=-1))])\n",
    "X_treino = dados_treino1['comb_name_description']\n",
    "y_treino = dados_treino1['price']\n",
    "pipe.fit(X_treino, y_treino)"
   ]
  },
  {
   "cell_type": "markdown",
   "metadata": {},
   "source": [
    "Tempo de treino: 10m 49.4s"
   ]
  },
  {
   "cell_type": "code",
   "execution_count": null,
   "metadata": {},
   "outputs": [],
   "source": [
    "dados_teste1['pred'] = pipe.predict(dados_teste1['comb_name_description'])\n",
    "dados_teste1.loc[dados_teste1.pred < 3, 'pred'] = 3"
   ]
  },
  {
   "cell_type": "markdown",
   "metadata": {},
   "source": [
    "Tempo previsão: 21.6s"
   ]
  },
  {
   "cell_type": "markdown",
   "metadata": {},
   "source": [
    "Avaliação geral"
   ]
  },
  {
   "cell_type": "code",
   "execution_count": 36,
   "metadata": {},
   "outputs": [
    {
     "name": "stdout",
     "output_type": "stream",
     "text": [
      "R² = 0.349\n",
      "MAPE = 83.074 %\n",
      "MAE = U$S 14.44\n",
      "RMSE = U$S 30.97\n",
      "MSLE = 0.446\n"
     ]
    }
   ],
   "source": [
    "print_avaliacao(dados_teste1['price'], dados_teste1['pred'])"
   ]
  },
  {
   "cell_type": "markdown",
   "metadata": {},
   "source": [
    "Avaliação por categoria"
   ]
  },
  {
   "cell_type": "code",
   "execution_count": 37,
   "metadata": {},
   "outputs": [
    {
     "data": {
      "text/html": [
       "<div>\n",
       "<style scoped>\n",
       "    .dataframe tbody tr th:only-of-type {\n",
       "        vertical-align: middle;\n",
       "    }\n",
       "\n",
       "    .dataframe tbody tr th {\n",
       "        vertical-align: top;\n",
       "    }\n",
       "\n",
       "    .dataframe thead th {\n",
       "        text-align: right;\n",
       "    }\n",
       "</style>\n",
       "<table border=\"1\" class=\"dataframe\">\n",
       "  <thead>\n",
       "    <tr style=\"text-align: right;\">\n",
       "      <th></th>\n",
       "      <th>Women</th>\n",
       "      <th>Men</th>\n",
       "      <th>Vintage &amp; Collectibles</th>\n",
       "      <th>Electronics</th>\n",
       "      <th>Beauty</th>\n",
       "      <th>Kids</th>\n",
       "      <th>Other</th>\n",
       "      <th>Home</th>\n",
       "      <th>Sports &amp; Outdoors</th>\n",
       "      <th>Handmade</th>\n",
       "      <th>No category</th>\n",
       "    </tr>\n",
       "  </thead>\n",
       "  <tbody>\n",
       "    <tr>\n",
       "      <th>R²</th>\n",
       "      <td>0.362</td>\n",
       "      <td>0.352</td>\n",
       "      <td>0.291</td>\n",
       "      <td>0.437</td>\n",
       "      <td>0.027</td>\n",
       "      <td>0.170</td>\n",
       "      <td>0.078</td>\n",
       "      <td>0.125</td>\n",
       "      <td>0.179</td>\n",
       "      <td>0.184</td>\n",
       "      <td>0.209</td>\n",
       "    </tr>\n",
       "    <tr>\n",
       "      <th>MAPE</th>\n",
       "      <td>69.137</td>\n",
       "      <td>60.549</td>\n",
       "      <td>115.067</td>\n",
       "      <td>109.730</td>\n",
       "      <td>95.221</td>\n",
       "      <td>91.731</td>\n",
       "      <td>107.649</td>\n",
       "      <td>77.379</td>\n",
       "      <td>79.426</td>\n",
       "      <td>147.984</td>\n",
       "      <td>86.672</td>\n",
       "    </tr>\n",
       "    <tr>\n",
       "      <th>MAE</th>\n",
       "      <td>14.090</td>\n",
       "      <td>16.870</td>\n",
       "      <td>17.660</td>\n",
       "      <td>22.100</td>\n",
       "      <td>11.990</td>\n",
       "      <td>12.070</td>\n",
       "      <td>13.740</td>\n",
       "      <td>13.050</td>\n",
       "      <td>14.250</td>\n",
       "      <td>13.300</td>\n",
       "      <td>14.290</td>\n",
       "    </tr>\n",
       "    <tr>\n",
       "      <th>RMSE</th>\n",
       "      <td>31.260</td>\n",
       "      <td>32.250</td>\n",
       "      <td>42.690</td>\n",
       "      <td>49.380</td>\n",
       "      <td>23.910</td>\n",
       "      <td>20.270</td>\n",
       "      <td>26.360</td>\n",
       "      <td>21.800</td>\n",
       "      <td>26.910</td>\n",
       "      <td>22.620</td>\n",
       "      <td>26.940</td>\n",
       "    </tr>\n",
       "    <tr>\n",
       "      <th>MSLE</th>\n",
       "      <td>0.368</td>\n",
       "      <td>0.372</td>\n",
       "      <td>0.647</td>\n",
       "      <td>0.636</td>\n",
       "      <td>0.488</td>\n",
       "      <td>0.465</td>\n",
       "      <td>0.586</td>\n",
       "      <td>0.421</td>\n",
       "      <td>0.447</td>\n",
       "      <td>0.751</td>\n",
       "      <td>0.486</td>\n",
       "    </tr>\n",
       "  </tbody>\n",
       "</table>\n",
       "</div>"
      ],
      "text/plain": [
       "       Women     Men  Vintage & Collectibles  Electronics  Beauty    Kids  \\\n",
       "R²     0.362   0.352                   0.291        0.437   0.027   0.170   \n",
       "MAPE  69.137  60.549                 115.067      109.730  95.221  91.731   \n",
       "MAE   14.090  16.870                  17.660       22.100  11.990  12.070   \n",
       "RMSE  31.260  32.250                  42.690       49.380  23.910  20.270   \n",
       "MSLE   0.368   0.372                   0.647        0.636   0.488   0.465   \n",
       "\n",
       "        Other    Home  Sports & Outdoors  Handmade  No category  \n",
       "R²      0.078   0.125              0.179     0.184        0.209  \n",
       "MAPE  107.649  77.379             79.426   147.984       86.672  \n",
       "MAE    13.740  13.050             14.250    13.300       14.290  \n",
       "RMSE   26.360  21.800             26.910    22.620       26.940  \n",
       "MSLE    0.586   0.421              0.447     0.751        0.486  "
      ]
     },
     "execution_count": 37,
     "metadata": {},
     "output_type": "execute_result"
    }
   ],
   "source": [
    "avaliacoes = {}\n",
    "\n",
    "for categoria in dados_teste1.category_1.unique():\n",
    "    dados_cat = dados_teste1.query(f'category_1 == \"{categoria}\"')\n",
    "    avaliacoes[categoria] = calc_metricas(dados_cat['price'], dados_cat['pred'])\n",
    "\n",
    "avaliacoes = pd.DataFrame(avaliacoes, index=['R²', 'MAPE', 'MAE', 'RMSE', 'MSLE'])\n",
    "\n",
    "avaliacoes"
   ]
  },
  {
   "cell_type": "markdown",
   "metadata": {},
   "source": [
    "## Modelo por categoria usando comb_name_description"
   ]
  },
  {
   "cell_type": "code",
   "execution_count": 38,
   "metadata": {},
   "outputs": [],
   "source": [
    "modelos = {}\n",
    "\n",
    "for category in dados_treino.category_1.unique():\n",
    "    pipe = Pipeline([('tiidf', TfidfVectorizer(min_df = 2, max_df = 0.5, ngram_range = (1, 2))),\n",
    "                    ('xgboost', XGBRegressor(random_state=101, n_jobs=-1))])\n",
    "    modelos[category] = pipe\n",
    "    X_treino = dados_treino1.query(f'category_1 == \"{category}\"')['comb_name_description']\n",
    "    y_treino = dados_treino1.query(f'category_1 == \"{category}\"')['price']\n",
    "    # pipe.fit(X_treino, y_treino)\n",
    "    modelos[category].fit(X_treino, y_treino)\n"
   ]
  },
  {
   "cell_type": "markdown",
   "metadata": {},
   "source": [
    "Tempo de treino: 8m 46.4s"
   ]
  },
  {
   "cell_type": "code",
   "execution_count": 39,
   "metadata": {},
   "outputs": [],
   "source": [
    "dados_teste1 = dados_teste1.assign(pred=0)"
   ]
  },
  {
   "cell_type": "code",
   "execution_count": 40,
   "metadata": {},
   "outputs": [],
   "source": [
    "for category in dados_teste1.category_1.unique():\n",
    "    index = dados_teste1.query(f'category_1 == \"{category}\"').index\n",
    "    dados_teste1.loc[index, 'pred'] = modelos[category].predict(dados_teste1.loc[index]['comb_name_description'])\n",
    "\n",
    "dados_teste1.loc[dados_teste1.pred < 3, 'pred'] = 3"
   ]
  },
  {
   "cell_type": "markdown",
   "metadata": {},
   "source": [
    "Tempo previsão: 25.4s"
   ]
  },
  {
   "cell_type": "markdown",
   "metadata": {},
   "source": [
    "Avaliação geral"
   ]
  },
  {
   "cell_type": "code",
   "execution_count": 41,
   "metadata": {},
   "outputs": [
    {
     "name": "stdout",
     "output_type": "stream",
     "text": [
      "R² = 0.408\n",
      "MAPE = 71.870 %\n",
      "MAE = U$S 13.22\n",
      "RMSE = U$S 29.53\n",
      "MSLE = 0.374\n"
     ]
    }
   ],
   "source": [
    "print_avaliacao(dados_teste1['price'], dados_teste1['pred'])"
   ]
  },
  {
   "cell_type": "markdown",
   "metadata": {},
   "source": [
    "Avaliação por categoria principal"
   ]
  },
  {
   "cell_type": "code",
   "execution_count": 42,
   "metadata": {},
   "outputs": [
    {
     "data": {
      "text/html": [
       "<div>\n",
       "<style scoped>\n",
       "    .dataframe tbody tr th:only-of-type {\n",
       "        vertical-align: middle;\n",
       "    }\n",
       "\n",
       "    .dataframe tbody tr th {\n",
       "        vertical-align: top;\n",
       "    }\n",
       "\n",
       "    .dataframe thead th {\n",
       "        text-align: right;\n",
       "    }\n",
       "</style>\n",
       "<table border=\"1\" class=\"dataframe\">\n",
       "  <thead>\n",
       "    <tr style=\"text-align: right;\">\n",
       "      <th></th>\n",
       "      <th>Women</th>\n",
       "      <th>Men</th>\n",
       "      <th>Vintage &amp; Collectibles</th>\n",
       "      <th>Electronics</th>\n",
       "      <th>Beauty</th>\n",
       "      <th>Kids</th>\n",
       "      <th>Other</th>\n",
       "      <th>Home</th>\n",
       "      <th>Sports &amp; Outdoors</th>\n",
       "      <th>Handmade</th>\n",
       "      <th>No category</th>\n",
       "    </tr>\n",
       "  </thead>\n",
       "  <tbody>\n",
       "    <tr>\n",
       "      <th>R²</th>\n",
       "      <td>0.395</td>\n",
       "      <td>0.454</td>\n",
       "      <td>0.287</td>\n",
       "      <td>0.502</td>\n",
       "      <td>0.162</td>\n",
       "      <td>0.337</td>\n",
       "      <td>0.179</td>\n",
       "      <td>0.314</td>\n",
       "      <td>0.371</td>\n",
       "      <td>0.245</td>\n",
       "      <td>0.084</td>\n",
       "    </tr>\n",
       "    <tr>\n",
       "      <th>MAPE</th>\n",
       "      <td>69.517</td>\n",
       "      <td>66.704</td>\n",
       "      <td>102.619</td>\n",
       "      <td>99.942</td>\n",
       "      <td>63.969</td>\n",
       "      <td>65.201</td>\n",
       "      <td>82.076</td>\n",
       "      <td>64.758</td>\n",
       "      <td>66.225</td>\n",
       "      <td>74.057</td>\n",
       "      <td>86.790</td>\n",
       "    </tr>\n",
       "    <tr>\n",
       "      <th>MAE</th>\n",
       "      <td>13.860</td>\n",
       "      <td>16.060</td>\n",
       "      <td>17.020</td>\n",
       "      <td>20.650</td>\n",
       "      <td>9.200</td>\n",
       "      <td>9.710</td>\n",
       "      <td>11.700</td>\n",
       "      <td>11.230</td>\n",
       "      <td>12.040</td>\n",
       "      <td>9.460</td>\n",
       "      <td>15.020</td>\n",
       "    </tr>\n",
       "    <tr>\n",
       "      <th>RMSE</th>\n",
       "      <td>30.450</td>\n",
       "      <td>29.610</td>\n",
       "      <td>42.810</td>\n",
       "      <td>46.430</td>\n",
       "      <td>22.180</td>\n",
       "      <td>18.110</td>\n",
       "      <td>24.890</td>\n",
       "      <td>19.290</td>\n",
       "      <td>23.570</td>\n",
       "      <td>21.770</td>\n",
       "      <td>28.990</td>\n",
       "    </tr>\n",
       "    <tr>\n",
       "      <th>MSLE</th>\n",
       "      <td>0.358</td>\n",
       "      <td>0.345</td>\n",
       "      <td>0.575</td>\n",
       "      <td>0.561</td>\n",
       "      <td>0.319</td>\n",
       "      <td>0.325</td>\n",
       "      <td>0.438</td>\n",
       "      <td>0.332</td>\n",
       "      <td>0.350</td>\n",
       "      <td>0.376</td>\n",
       "      <td>0.514</td>\n",
       "    </tr>\n",
       "  </tbody>\n",
       "</table>\n",
       "</div>"
      ],
      "text/plain": [
       "       Women     Men  Vintage & Collectibles  Electronics  Beauty    Kids  \\\n",
       "R²     0.395   0.454                   0.287        0.502   0.162   0.337   \n",
       "MAPE  69.517  66.704                 102.619       99.942  63.969  65.201   \n",
       "MAE   13.860  16.060                  17.020       20.650   9.200   9.710   \n",
       "RMSE  30.450  29.610                  42.810       46.430  22.180  18.110   \n",
       "MSLE   0.358   0.345                   0.575        0.561   0.319   0.325   \n",
       "\n",
       "       Other    Home  Sports & Outdoors  Handmade  No category  \n",
       "R²     0.179   0.314              0.371     0.245        0.084  \n",
       "MAPE  82.076  64.758             66.225    74.057       86.790  \n",
       "MAE   11.700  11.230             12.040     9.460       15.020  \n",
       "RMSE  24.890  19.290             23.570    21.770       28.990  \n",
       "MSLE   0.438   0.332              0.350     0.376        0.514  "
      ]
     },
     "execution_count": 42,
     "metadata": {},
     "output_type": "execute_result"
    }
   ],
   "source": [
    "avaliacoes = {}\n",
    "\n",
    "for categoria in dados_teste1.category_1.unique():\n",
    "    dados_cat = dados_teste1.query(f'category_1 == \"{categoria}\"')\n",
    "    avaliacoes[categoria] = calc_metricas(dados_cat['price'], dados_cat['pred'])\n",
    "\n",
    "avaliacoes = pd.DataFrame(avaliacoes, index=['R²', 'MAPE', 'MAE', 'RMSE', 'MSLE'])\n",
    "\n",
    "avaliacoes"
   ]
  },
  {
   "cell_type": "code",
   "execution_count": null,
   "metadata": {},
   "outputs": [],
   "source": []
  }
 ],
 "metadata": {
  "kernelspec": {
   "display_name": "Python 3.9.12 ('base')",
   "language": "python",
   "name": "python3"
  },
  "language_info": {
   "codemirror_mode": {
    "name": "ipython",
    "version": 3
   },
   "file_extension": ".py",
   "mimetype": "text/x-python",
   "name": "python",
   "nbconvert_exporter": "python",
   "pygments_lexer": "ipython3",
   "version": "3.9.12"
  },
  "orig_nbformat": 4,
  "vscode": {
   "interpreter": {
    "hash": "7832355663de3739c43a670b9e0e66b306696971f3c515f01e5590b4e36bbdc6"
   }
  }
 },
 "nbformat": 4,
 "nbformat_minor": 2
}
