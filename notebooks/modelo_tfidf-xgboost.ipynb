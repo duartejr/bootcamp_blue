{
 "cells": [
  {
   "cell_type": "code",
   "execution_count": 1,
   "metadata": {},
   "outputs": [],
   "source": [
    "import pandas as pd\n",
    "import numpy as np\n",
    "from sklearn.feature_extraction.text import TfidfVectorizer\n",
    "from sklearn.preprocessing import LabelEncoder\n",
    "from sklearn.metrics import r2_score, mean_absolute_error, mean_squared_error\n",
    "from sklearn.model_selection import train_test_split\n",
    "from sklearn.preprocessing import MinMaxScaler\n",
    "from xgboost import XGBRegressor\n",
    "from sklearn.pipeline import Pipeline"
   ]
  },
  {
   "cell_type": "code",
   "execution_count": 35,
   "metadata": {},
   "outputs": [],
   "source": [
    "#dados_teste = pd.read_csv('../data/processed/test_data.csv')"
   ]
  },
  {
   "cell_type": "code",
   "execution_count": 29,
   "metadata": {},
   "outputs": [],
   "source": [
    "from nltk.tokenize import word_tokenize\n",
    "from nltk.corpus import stopwords\n",
    "stop_words = set(stopwords.words('english'))\n",
    "\n",
    "\n",
    "def prep_text(text):\n",
    "    try:\n",
    "        tokens = word_tokenize(text)\n",
    "        words = [word.lower() for word in tokens if word.isalpha()]\n",
    "        words = [word for word in words if not word in stop_words]\n",
    "    except:\n",
    "        print(text)\n",
    "        return None\n",
    "    return ' '.join(words)"
   ]
  },
  {
   "cell_type": "code",
   "execution_count": 53,
   "metadata": {},
   "outputs": [
    {
     "data": {
      "text/plain": [
       "Index(['name', 'category_1', 'category_2', 'category_3', 'item_condition_id',\n",
       "       'brand_name', 'price', 'shipping', 'item_description', 'date', 'stock'],\n",
       "      dtype='object')"
      ]
     },
     "execution_count": 53,
     "metadata": {},
     "output_type": "execute_result"
    }
   ],
   "source": [
    "dados_treino = pd.read_csv('../data/processed/train_data.csv')\n",
    "dados_treino.columns"
   ]
  },
  {
   "cell_type": "code",
   "execution_count": 71,
   "metadata": {},
   "outputs": [],
   "source": [
    "dados_treino = pd.read_csv('../data/processed/train_data.csv')\n",
    "dados_treino = dados_treino[['category_1', 'item_description', 'price']]\n",
    "dados_treino.dropna(inplace=True)\n",
    "dados_treino['item_description'] = dados_treino.apply(lambda x: prep_text(x['item_description']), axis=1)\n",
    "#dados_teste = dados_teste[['name', 'price']]"
   ]
  },
  {
   "cell_type": "code",
   "execution_count": 149,
   "metadata": {},
   "outputs": [],
   "source": [
    "modelos = {}\n",
    "\n",
    "for category in dados_treino.category_1.unique():\n",
    "    pipe = Pipeline([('tiidf', TfidfVectorizer(min_df = 2, max_df = 0.5, ngram_range = (1, 2))),\n",
    "                    ('xgboost', XGBRegressor(random_state=101, n_jobs=-1))])\n",
    "    modelos[category] = pipe\n",
    "    X_treino = dados_treino.query(f'category_1 == \"{category}\"')['item_description']\n",
    "    y_treino = dados_treino.query(f'category_1 == \"{category}\"')['price']\n",
    "    # pipe.fit(X_treino, y_treino)\n",
    "    modelos[category].fit(X_treino, y_treino)\n"
   ]
  },
  {
   "cell_type": "code",
   "execution_count": 104,
   "metadata": {},
   "outputs": [],
   "source": [
    "dados_teste = pd.read_csv('../data/processed/test_data.csv')\n",
    "dados_teste = dados_teste[['category_1', 'item_description', 'price']]\n",
    "dados_teste.dropna(inplace=True)\n",
    "dados_teste['item_description'] = dados_teste.apply(lambda x: prep_text(x['item_description']), axis=1)\n",
    "#dados_teste = dados_teste.query('category_1 == \"Electronics\"')\n",
    "# teste_features = tfidf.transform(dados_teste['item_description'])\n",
    "dados_teste = dados_teste.assign(pred=0)"
   ]
  },
  {
   "cell_type": "code",
   "execution_count": 150,
   "metadata": {},
   "outputs": [],
   "source": [
    "for category in dados_teste.category_1.unique():\n",
    "    index = dados_teste.query(f'category_1 == \"{category}\"').index\n",
    "    dados_teste.loc[index, 'pred'] = modelos[category].predict(dados_teste.loc[index]['item_description'])"
   ]
  },
  {
   "cell_type": "code",
   "execution_count": 151,
   "metadata": {},
   "outputs": [
    {
     "name": "stdout",
     "output_type": "stream",
     "text": [
      "R² = 0.2930297131806632\n",
      "MAE = 14.787244064681808\n",
      "RMSE = 32.26328297148539\n"
     ]
    }
   ],
   "source": [
    "from sklearn.metrics import r2_score, mean_absolute_error, mean_squared_error, mean_squared_log_error\n",
    "\n",
    "print('R² =', r2_score(dados_teste['price'], dados_teste['pred']))\n",
    "print('MAE =', mean_absolute_error(dados_teste['price'], dados_teste['pred']))\n",
    "print('RMSE =', mean_squared_error(dados_teste['price'], dados_teste['pred'])**0.5)"
   ]
  },
  {
   "cell_type": "markdown",
   "metadata": {},
   "source": [
    "R² = 0.2873256500595014\n",
    "\n",
    "MAE = 15.112203329937804\n",
    "\n",
    "RMSE = 32.387622596149676\n",
    "\n",
    "MSLE = 1048.9580974306252"
   ]
  },
  {
   "cell_type": "code",
   "execution_count": 152,
   "metadata": {},
   "outputs": [
    {
     "name": "stdout",
     "output_type": "stream",
     "text": [
      "==============================\n",
      "Women\n",
      "R² = 0.26285147035854073\n",
      "MAE = 15.73124475293124\n",
      "RMSE = 33.6001476637003\n",
      "------------------------------\n",
      "==============================\n",
      "Men\n",
      "R² = 0.3427111380125816\n",
      "MAE = 18.62455876240904\n",
      "RMSE = 32.48888111939868\n",
      "------------------------------\n",
      "==============================\n",
      "Vintage & Collectibles\n",
      "R² = 0.14035060179620873\n",
      "MAE = 18.391266892477844\n",
      "RMSE = 47.02453678624211\n",
      "------------------------------\n",
      "==============================\n",
      "Electronics\n",
      "R² = 0.40522023335434554\n",
      "MAE = 23.027521566483163\n",
      "RMSE = 50.75747774768436\n",
      "------------------------------\n",
      "==============================\n",
      "Beauty\n",
      "R² = 0.09692333153455834\n",
      "MAE = 9.82482874245746\n",
      "RMSE = 23.032197644657565\n",
      "------------------------------\n",
      "==============================\n",
      "Kids\n",
      "R² = 0.18605937940758788\n",
      "MAE = 10.798982945945314\n",
      "RMSE = 20.0707243428561\n",
      "------------------------------\n",
      "==============================\n",
      "Other\n",
      "R² = 0.18689746916826\n",
      "MAE = 12.141660281252504\n",
      "RMSE = 24.762056832545852\n",
      "------------------------------\n",
      "==============================\n",
      "Home\n",
      "R² = 0.19085597707073898\n",
      "MAE = 12.445126319198941\n",
      "RMSE = 20.958082377047678\n",
      "------------------------------\n",
      "==============================\n",
      "Sports & Outdoors\n",
      "R² = 0.22921174385090992\n",
      "MAE = 13.35321631667016\n",
      "RMSE = 26.080988267773325\n",
      "------------------------------\n",
      "==============================\n",
      "Handmade\n",
      "R² = 0.18224142555982936\n",
      "MAE = 10.302810382927257\n",
      "RMSE = 22.650944200384252\n",
      "------------------------------\n",
      "==============================\n",
      "No category\n",
      "R² = -0.08647821415938517\n",
      "MAE = 16.080150020109993\n",
      "RMSE = 31.567874543324134\n",
      "------------------------------\n"
     ]
    }
   ],
   "source": [
    "for category in dados_teste.category_1.unique():\n",
    "    tt = dados_teste.query(f'category_1 == \"{category}\"')\n",
    "    print('='*30)\n",
    "    print(category)\n",
    "    print('R² =', r2_score(tt['price'], tt['pred']))\n",
    "    print('MAE =', mean_absolute_error(tt['price'], tt['pred']))\n",
    "    print('RMSE =', mean_squared_error(tt['price'], tt['pred'])**0.5)\n",
    "    print('-'*30)"
   ]
  },
  {
   "cell_type": "code",
   "execution_count": null,
   "metadata": {},
   "outputs": [],
   "source": []
  }
 ],
 "metadata": {
  "kernelspec": {
   "display_name": "Python 3.9.12 ('base')",
   "language": "python",
   "name": "python3"
  },
  "language_info": {
   "codemirror_mode": {
    "name": "ipython",
    "version": 3
   },
   "file_extension": ".py",
   "mimetype": "text/x-python",
   "name": "python",
   "nbconvert_exporter": "python",
   "pygments_lexer": "ipython3",
   "version": "3.9.12"
  },
  "orig_nbformat": 4,
  "vscode": {
   "interpreter": {
    "hash": "7832355663de3739c43a670b9e0e66b306696971f3c515f01e5590b4e36bbdc6"
   }
  }
 },
 "nbformat": 4,
 "nbformat_minor": 2
}
