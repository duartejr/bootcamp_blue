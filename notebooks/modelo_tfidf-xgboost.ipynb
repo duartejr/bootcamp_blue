{
 "cells": [
  {
   "cell_type": "markdown",
   "metadata": {},
   "source": [
    "# Modelo: XGBoost com Tf-Idf"
   ]
  },
  {
   "cell_type": "code",
   "execution_count": 1,
   "metadata": {},
   "outputs": [],
   "source": [
    "import pandas as pd\n",
    "import numpy as np\n",
    "from sklearn.feature_extraction.text import TfidfVectorizer\n",
    "from sklearn import metrics\n",
    "from xgboost import XGBRegressor\n",
    "from sklearn.pipeline import Pipeline"
   ]
  },
  {
   "cell_type": "code",
   "execution_count": 2,
   "metadata": {},
   "outputs": [],
   "source": [
    "def calc_metricas(obs, pred):\n",
    "    r2 = metrics.r2_score(obs, pred).round(3)\n",
    "    mape = (100 * metrics.mean_absolute_percentage_error(obs, pred)).round(3)\n",
    "    mae = metrics.mean_absolute_error(obs, pred).round(2)\n",
    "    rmse = (metrics.mean_squared_error(obs, pred)**0.5).round(2)\n",
    "    msle = metrics.mean_squared_log_error(obs, pred).round(3)\n",
    "    \n",
    "    return [r2, mape, mae, rmse, msle]\n",
    "\n",
    "def print_avaliacao(obs, pred):\n",
    "    print('R² = %.3f' % metrics.r2_score(obs, pred))\n",
    "    print('MAPE = %.3f %%' % (100 * metrics.mean_absolute_percentage_error(obs, pred)))\n",
    "    print('MAE = U$S %.2f' % (metrics.mean_absolute_error(obs, pred)))\n",
    "    print('RMSE = U$S %.2f' % metrics.mean_squared_error(obs, pred)**0.5)\n",
    "    print('MSLE = %.3f' % metrics.mean_squared_log_error(obs, pred))\n"
   ]
  },
  {
   "cell_type": "code",
   "execution_count": 3,
   "metadata": {},
   "outputs": [],
   "source": [
    "from nltk.tokenize import word_tokenize\n",
    "from nltk.corpus import stopwords\n",
    "stop_words = set(stopwords.words('english'))\n",
    "\n",
    "\n",
    "def prep_text(text):\n",
    "    try:\n",
    "        tokens = word_tokenize(text)\n",
    "        words = [word.lower() for word in tokens if word.isalpha()]\n",
    "        words = [word for word in words if not word in stop_words]\n",
    "    except:\n",
    "        return None\n",
    "    return ' '.join(words)"
   ]
  },
  {
   "cell_type": "code",
   "execution_count": 4,
   "metadata": {},
   "outputs": [],
   "source": [
    "dados_treino = pd.read_csv('../data/processed/train_data.csv')\n",
    "dados_teste = pd.read_csv('../data/processed/test_data.csv')"
   ]
  },
  {
   "cell_type": "markdown",
   "metadata": {},
   "source": [
    "## Preparação das colunas de texto"
   ]
  },
  {
   "cell_type": "code",
   "execution_count": 5,
   "metadata": {},
   "outputs": [
    {
     "data": {
      "text/plain": [
       "Index(['name', 'category_1', 'category_2', 'category_3', 'item_condition_id',\n",
       "       'brand_name', 'price', 'shipping', 'item_description', 'date', 'stock'],\n",
       "      dtype='object')"
      ]
     },
     "execution_count": 5,
     "metadata": {},
     "output_type": "execute_result"
    }
   ],
   "source": [
    "dados_treino.columns"
   ]
  },
  {
   "cell_type": "code",
   "execution_count": 6,
   "metadata": {},
   "outputs": [],
   "source": [
    "dados_treino = dados_treino[['category_1', 'name', 'item_description', 'price']]\n",
    "dados_treino.loc[:, 'name'] = dados_treino.apply(lambda x: prep_text(x['name']), axis=1)\n",
    "dados_treino.loc[:, 'item_description'] = dados_treino.apply(lambda x: prep_text(x['item_description']), axis=1)\n",
    "dados_treino['comb_name_description'] = dados_treino['name'] + ' ' + dados_treino['item_description']\n",
    "# dados_treino.dropna(inplace=True)\n",
    "\n",
    "dados_teste = dados_teste[['category_1', 'name', 'item_description', 'price']]\n",
    "dados_teste.loc[:, 'name'] = dados_teste.apply(lambda x: prep_text(x['name']), axis=1)\n",
    "dados_teste.loc[:, 'item_description'] = dados_teste.apply(lambda x: prep_text(x['item_description']), axis=1)\n",
    "dados_teste['comb_name_description'] = dados_teste['name'] + ' ' + dados_teste['item_description']"
   ]
  },
  {
   "cell_type": "markdown",
   "metadata": {},
   "source": [
    "## Apenas names como característica"
   ]
  },
  {
   "cell_type": "code",
   "execution_count": null,
   "metadata": {},
   "outputs": [],
   "source": [
    "dados_treino1 = dados_treino[['category_1', 'name', 'price']]\n",
    "dados_treino1.dropna(inplace=True)\n",
    "\n",
    "dados_teste1 = dados_teste[['category_1', 'name', 'price']]\n",
    "dados_teste1.dropna(inplace=True)"
   ]
  },
  {
   "cell_type": "code",
   "execution_count": 8,
   "metadata": {},
   "outputs": [
    {
     "data": {
      "text/html": [
       "<style>#sk-container-id-1 {color: black;background-color: white;}#sk-container-id-1 pre{padding: 0;}#sk-container-id-1 div.sk-toggleable {background-color: white;}#sk-container-id-1 label.sk-toggleable__label {cursor: pointer;display: block;width: 100%;margin-bottom: 0;padding: 0.3em;box-sizing: border-box;text-align: center;}#sk-container-id-1 label.sk-toggleable__label-arrow:before {content: \"▸\";float: left;margin-right: 0.25em;color: #696969;}#sk-container-id-1 label.sk-toggleable__label-arrow:hover:before {color: black;}#sk-container-id-1 div.sk-estimator:hover label.sk-toggleable__label-arrow:before {color: black;}#sk-container-id-1 div.sk-toggleable__content {max-height: 0;max-width: 0;overflow: hidden;text-align: left;background-color: #f0f8ff;}#sk-container-id-1 div.sk-toggleable__content pre {margin: 0.2em;color: black;border-radius: 0.25em;background-color: #f0f8ff;}#sk-container-id-1 input.sk-toggleable__control:checked~div.sk-toggleable__content {max-height: 200px;max-width: 100%;overflow: auto;}#sk-container-id-1 input.sk-toggleable__control:checked~label.sk-toggleable__label-arrow:before {content: \"▾\";}#sk-container-id-1 div.sk-estimator input.sk-toggleable__control:checked~label.sk-toggleable__label {background-color: #d4ebff;}#sk-container-id-1 div.sk-label input.sk-toggleable__control:checked~label.sk-toggleable__label {background-color: #d4ebff;}#sk-container-id-1 input.sk-hidden--visually {border: 0;clip: rect(1px 1px 1px 1px);clip: rect(1px, 1px, 1px, 1px);height: 1px;margin: -1px;overflow: hidden;padding: 0;position: absolute;width: 1px;}#sk-container-id-1 div.sk-estimator {font-family: monospace;background-color: #f0f8ff;border: 1px dotted black;border-radius: 0.25em;box-sizing: border-box;margin-bottom: 0.5em;}#sk-container-id-1 div.sk-estimator:hover {background-color: #d4ebff;}#sk-container-id-1 div.sk-parallel-item::after {content: \"\";width: 100%;border-bottom: 1px solid gray;flex-grow: 1;}#sk-container-id-1 div.sk-label:hover label.sk-toggleable__label {background-color: #d4ebff;}#sk-container-id-1 div.sk-serial::before {content: \"\";position: absolute;border-left: 1px solid gray;box-sizing: border-box;top: 0;bottom: 0;left: 50%;z-index: 0;}#sk-container-id-1 div.sk-serial {display: flex;flex-direction: column;align-items: center;background-color: white;padding-right: 0.2em;padding-left: 0.2em;position: relative;}#sk-container-id-1 div.sk-item {position: relative;z-index: 1;}#sk-container-id-1 div.sk-parallel {display: flex;align-items: stretch;justify-content: center;background-color: white;position: relative;}#sk-container-id-1 div.sk-item::before, #sk-container-id-1 div.sk-parallel-item::before {content: \"\";position: absolute;border-left: 1px solid gray;box-sizing: border-box;top: 0;bottom: 0;left: 50%;z-index: -1;}#sk-container-id-1 div.sk-parallel-item {display: flex;flex-direction: column;z-index: 1;position: relative;background-color: white;}#sk-container-id-1 div.sk-parallel-item:first-child::after {align-self: flex-end;width: 50%;}#sk-container-id-1 div.sk-parallel-item:last-child::after {align-self: flex-start;width: 50%;}#sk-container-id-1 div.sk-parallel-item:only-child::after {width: 0;}#sk-container-id-1 div.sk-dashed-wrapped {border: 1px dashed gray;margin: 0 0.4em 0.5em 0.4em;box-sizing: border-box;padding-bottom: 0.4em;background-color: white;}#sk-container-id-1 div.sk-label label {font-family: monospace;font-weight: bold;display: inline-block;line-height: 1.2em;}#sk-container-id-1 div.sk-label-container {text-align: center;}#sk-container-id-1 div.sk-container {/* jupyter's `normalize.less` sets `[hidden] { display: none; }` but bootstrap.min.css set `[hidden] { display: none !important; }` so we also need the `!important` here to be able to override the default hidden behavior on the sphinx rendered scikit-learn.org. See: https://github.com/scikit-learn/scikit-learn/issues/21755 */display: inline-block !important;position: relative;}#sk-container-id-1 div.sk-text-repr-fallback {display: none;}</style><div id=\"sk-container-id-1\" class=\"sk-top-container\"><div class=\"sk-text-repr-fallback\"><pre>Pipeline(steps=[(&#x27;tiidf&#x27;,\n",
       "                 TfidfVectorizer(max_df=0.5, min_df=2, ngram_range=(1, 2))),\n",
       "                (&#x27;xgboost&#x27;,\n",
       "                 XGBRegressor(base_score=0.5, booster=&#x27;gbtree&#x27;, callbacks=None,\n",
       "                              colsample_bylevel=1, colsample_bynode=1,\n",
       "                              colsample_bytree=1, early_stopping_rounds=None,\n",
       "                              enable_categorical=False, eval_metric=None,\n",
       "                              gamma=0, gpu_id=-1, grow_policy=&#x27;depthwise&#x27;,\n",
       "                              importance_type=None, interaction_constraints=&#x27;&#x27;,\n",
       "                              learning_rate=0.300000012, max_bin=256,\n",
       "                              max_cat_to_onehot=4, max_delta_step=0,\n",
       "                              max_depth=6, max_leaves=0, min_child_weight=1,\n",
       "                              missing=nan, monotone_constraints=&#x27;()&#x27;,\n",
       "                              n_estimators=100, n_jobs=-1, num_parallel_tree=1,\n",
       "                              predictor=&#x27;auto&#x27;, random_state=101, reg_alpha=0,\n",
       "                              reg_lambda=1, ...))])</pre><b>In a Jupyter environment, please rerun this cell to show the HTML representation or trust the notebook. <br />On GitHub, the HTML representation is unable to render, please try loading this page with nbviewer.org.</b></div><div class=\"sk-container\" hidden><div class=\"sk-item sk-dashed-wrapped\"><div class=\"sk-label-container\"><div class=\"sk-label sk-toggleable\"><input class=\"sk-toggleable__control sk-hidden--visually\" id=\"sk-estimator-id-1\" type=\"checkbox\" ><label for=\"sk-estimator-id-1\" class=\"sk-toggleable__label sk-toggleable__label-arrow\">Pipeline</label><div class=\"sk-toggleable__content\"><pre>Pipeline(steps=[(&#x27;tiidf&#x27;,\n",
       "                 TfidfVectorizer(max_df=0.5, min_df=2, ngram_range=(1, 2))),\n",
       "                (&#x27;xgboost&#x27;,\n",
       "                 XGBRegressor(base_score=0.5, booster=&#x27;gbtree&#x27;, callbacks=None,\n",
       "                              colsample_bylevel=1, colsample_bynode=1,\n",
       "                              colsample_bytree=1, early_stopping_rounds=None,\n",
       "                              enable_categorical=False, eval_metric=None,\n",
       "                              gamma=0, gpu_id=-1, grow_policy=&#x27;depthwise&#x27;,\n",
       "                              importance_type=None, interaction_constraints=&#x27;&#x27;,\n",
       "                              learning_rate=0.300000012, max_bin=256,\n",
       "                              max_cat_to_onehot=4, max_delta_step=0,\n",
       "                              max_depth=6, max_leaves=0, min_child_weight=1,\n",
       "                              missing=nan, monotone_constraints=&#x27;()&#x27;,\n",
       "                              n_estimators=100, n_jobs=-1, num_parallel_tree=1,\n",
       "                              predictor=&#x27;auto&#x27;, random_state=101, reg_alpha=0,\n",
       "                              reg_lambda=1, ...))])</pre></div></div></div><div class=\"sk-serial\"><div class=\"sk-item\"><div class=\"sk-estimator sk-toggleable\"><input class=\"sk-toggleable__control sk-hidden--visually\" id=\"sk-estimator-id-2\" type=\"checkbox\" ><label for=\"sk-estimator-id-2\" class=\"sk-toggleable__label sk-toggleable__label-arrow\">TfidfVectorizer</label><div class=\"sk-toggleable__content\"><pre>TfidfVectorizer(max_df=0.5, min_df=2, ngram_range=(1, 2))</pre></div></div></div><div class=\"sk-item\"><div class=\"sk-estimator sk-toggleable\"><input class=\"sk-toggleable__control sk-hidden--visually\" id=\"sk-estimator-id-3\" type=\"checkbox\" ><label for=\"sk-estimator-id-3\" class=\"sk-toggleable__label sk-toggleable__label-arrow\">XGBRegressor</label><div class=\"sk-toggleable__content\"><pre>XGBRegressor(base_score=0.5, booster=&#x27;gbtree&#x27;, callbacks=None,\n",
       "             colsample_bylevel=1, colsample_bynode=1, colsample_bytree=1,\n",
       "             early_stopping_rounds=None, enable_categorical=False,\n",
       "             eval_metric=None, gamma=0, gpu_id=-1, grow_policy=&#x27;depthwise&#x27;,\n",
       "             importance_type=None, interaction_constraints=&#x27;&#x27;,\n",
       "             learning_rate=0.300000012, max_bin=256, max_cat_to_onehot=4,\n",
       "             max_delta_step=0, max_depth=6, max_leaves=0, min_child_weight=1,\n",
       "             missing=nan, monotone_constraints=&#x27;()&#x27;, n_estimators=100,\n",
       "             n_jobs=-1, num_parallel_tree=1, predictor=&#x27;auto&#x27;, random_state=101,\n",
       "             reg_alpha=0, reg_lambda=1, ...)</pre></div></div></div></div></div></div></div>"
      ],
      "text/plain": [
       "Pipeline(steps=[('tiidf',\n",
       "                 TfidfVectorizer(max_df=0.5, min_df=2, ngram_range=(1, 2))),\n",
       "                ('xgboost',\n",
       "                 XGBRegressor(base_score=0.5, booster='gbtree', callbacks=None,\n",
       "                              colsample_bylevel=1, colsample_bynode=1,\n",
       "                              colsample_bytree=1, early_stopping_rounds=None,\n",
       "                              enable_categorical=False, eval_metric=None,\n",
       "                              gamma=0, gpu_id=-1, grow_policy='depthwise',\n",
       "                              importance_type=None, interaction_constraints='',\n",
       "                              learning_rate=0.300000012, max_bin=256,\n",
       "                              max_cat_to_onehot=4, max_delta_step=0,\n",
       "                              max_depth=6, max_leaves=0, min_child_weight=1,\n",
       "                              missing=nan, monotone_constraints='()',\n",
       "                              n_estimators=100, n_jobs=-1, num_parallel_tree=1,\n",
       "                              predictor='auto', random_state=101, reg_alpha=0,\n",
       "                              reg_lambda=1, ...))])"
      ]
     },
     "execution_count": 8,
     "metadata": {},
     "output_type": "execute_result"
    }
   ],
   "source": [
    "pipe = Pipeline([('tiidf', TfidfVectorizer(min_df = 2, max_df = 0.5, ngram_range = (1, 2))),\n",
    "                    ('xgboost', XGBRegressor(random_state=101, n_jobs=-1))])\n",
    "X_treino = dados_treino1['name']\n",
    "y_treino = np.log(dados_treino1['price'])\n",
    "pipe.fit(X_treino, y_treino)"
   ]
  },
  {
   "cell_type": "markdown",
   "metadata": {},
   "source": [
    "Tempo de treino: 2m 11.3s"
   ]
  },
  {
   "cell_type": "code",
   "execution_count": null,
   "metadata": {},
   "outputs": [],
   "source": [
    "dados_teste1['pred'] = np.exp(pipe.predict(dados_teste1['name']))\n",
    "dados_teste1.loc[dados_teste1.pred < 3, 'pred'] = 3"
   ]
  },
  {
   "cell_type": "markdown",
   "metadata": {},
   "source": [
    "Tempo previsão: 11.8s"
   ]
  },
  {
   "cell_type": "markdown",
   "metadata": {},
   "source": [
    "Avaliação geral"
   ]
  },
  {
   "cell_type": "code",
   "execution_count": 10,
   "metadata": {},
   "outputs": [
    {
     "name": "stdout",
     "output_type": "stream",
     "text": [
      "R² = 0.165\n",
      "MAPE = 54.739 %\n",
      "MAE = U$S 13.45\n",
      "RMSE = U$S 35.05\n",
      "MSLE = 0.372\n"
     ]
    }
   ],
   "source": [
    "print_avaliacao(dados_teste1['price'], dados_teste1['pred'])"
   ]
  },
  {
   "cell_type": "markdown",
   "metadata": {},
   "source": [
    "Avaliação por categoria"
   ]
  },
  {
   "cell_type": "code",
   "execution_count": 11,
   "metadata": {},
   "outputs": [
    {
     "data": {
      "text/html": [
       "<div>\n",
       "<style scoped>\n",
       "    .dataframe tbody tr th:only-of-type {\n",
       "        vertical-align: middle;\n",
       "    }\n",
       "\n",
       "    .dataframe tbody tr th {\n",
       "        vertical-align: top;\n",
       "    }\n",
       "\n",
       "    .dataframe thead th {\n",
       "        text-align: right;\n",
       "    }\n",
       "</style>\n",
       "<table border=\"1\" class=\"dataframe\">\n",
       "  <thead>\n",
       "    <tr style=\"text-align: right;\">\n",
       "      <th></th>\n",
       "      <th>Women</th>\n",
       "      <th>Men</th>\n",
       "      <th>Vintage &amp; Collectibles</th>\n",
       "      <th>Electronics</th>\n",
       "      <th>Beauty</th>\n",
       "      <th>Kids</th>\n",
       "      <th>Other</th>\n",
       "      <th>Home</th>\n",
       "      <th>Sports &amp; Outdoors</th>\n",
       "      <th>Handmade</th>\n",
       "      <th>No category</th>\n",
       "    </tr>\n",
       "  </thead>\n",
       "  <tbody>\n",
       "    <tr>\n",
       "      <th>R²</th>\n",
       "      <td>0.172</td>\n",
       "      <td>0.134</td>\n",
       "      <td>0.153</td>\n",
       "      <td>0.156</td>\n",
       "      <td>0.040</td>\n",
       "      <td>0.135</td>\n",
       "      <td>0.026</td>\n",
       "      <td>0.070</td>\n",
       "      <td>0.053</td>\n",
       "      <td>0.180</td>\n",
       "      <td>0.127</td>\n",
       "    </tr>\n",
       "    <tr>\n",
       "      <th>MAPE</th>\n",
       "      <td>48.092</td>\n",
       "      <td>46.000</td>\n",
       "      <td>74.852</td>\n",
       "      <td>64.582</td>\n",
       "      <td>59.398</td>\n",
       "      <td>59.127</td>\n",
       "      <td>70.826</td>\n",
       "      <td>54.538</td>\n",
       "      <td>53.550</td>\n",
       "      <td>76.903</td>\n",
       "      <td>59.133</td>\n",
       "    </tr>\n",
       "    <tr>\n",
       "      <th>MAE</th>\n",
       "      <td>13.550</td>\n",
       "      <td>17.870</td>\n",
       "      <td>16.100</td>\n",
       "      <td>22.230</td>\n",
       "      <td>9.660</td>\n",
       "      <td>10.040</td>\n",
       "      <td>11.840</td>\n",
       "      <td>11.780</td>\n",
       "      <td>13.350</td>\n",
       "      <td>9.960</td>\n",
       "      <td>13.100</td>\n",
       "    </tr>\n",
       "    <tr>\n",
       "      <th>RMSE</th>\n",
       "      <td>35.610</td>\n",
       "      <td>37.290</td>\n",
       "      <td>46.640</td>\n",
       "      <td>60.480</td>\n",
       "      <td>23.740</td>\n",
       "      <td>20.680</td>\n",
       "      <td>27.070</td>\n",
       "      <td>22.470</td>\n",
       "      <td>28.890</td>\n",
       "      <td>22.720</td>\n",
       "      <td>28.300</td>\n",
       "    </tr>\n",
       "    <tr>\n",
       "      <th>MSLE</th>\n",
       "      <td>0.327</td>\n",
       "      <td>0.413</td>\n",
       "      <td>0.531</td>\n",
       "      <td>0.572</td>\n",
       "      <td>0.344</td>\n",
       "      <td>0.340</td>\n",
       "      <td>0.456</td>\n",
       "      <td>0.358</td>\n",
       "      <td>0.401</td>\n",
       "      <td>0.413</td>\n",
       "      <td>0.409</td>\n",
       "    </tr>\n",
       "  </tbody>\n",
       "</table>\n",
       "</div>"
      ],
      "text/plain": [
       "       Women     Men  Vintage & Collectibles  Electronics  Beauty    Kids  \\\n",
       "R²     0.172   0.134                   0.153        0.156   0.040   0.135   \n",
       "MAPE  48.092  46.000                  74.852       64.582  59.398  59.127   \n",
       "MAE   13.550  17.870                  16.100       22.230   9.660  10.040   \n",
       "RMSE  35.610  37.290                  46.640       60.480  23.740  20.680   \n",
       "MSLE   0.327   0.413                   0.531        0.572   0.344   0.340   \n",
       "\n",
       "       Other    Home  Sports & Outdoors  Handmade  No category  \n",
       "R²     0.026   0.070              0.053     0.180        0.127  \n",
       "MAPE  70.826  54.538             53.550    76.903       59.133  \n",
       "MAE   11.840  11.780             13.350     9.960       13.100  \n",
       "RMSE  27.070  22.470             28.890    22.720       28.300  \n",
       "MSLE   0.456   0.358              0.401     0.413        0.409  "
      ]
     },
     "execution_count": 11,
     "metadata": {},
     "output_type": "execute_result"
    }
   ],
   "source": [
    "avaliacoes = {}\n",
    "\n",
    "for categoria in dados_teste1.category_1.unique():\n",
    "    dados_cat = dados_teste1.query(f'category_1 == \"{categoria}\"')\n",
    "    avaliacoes[categoria] = calc_metricas(dados_cat['price'], dados_cat['pred'])\n",
    "\n",
    "avaliacoes = pd.DataFrame(avaliacoes, index=['R²', 'MAPE', 'MAE', 'RMSE', 'MSLE'])\n",
    "\n",
    "avaliacoes"
   ]
  },
  {
   "cell_type": "markdown",
   "metadata": {},
   "source": [
    "## Modelo por categoria usando apenas a coluna name"
   ]
  },
  {
   "cell_type": "code",
   "execution_count": 12,
   "metadata": {},
   "outputs": [],
   "source": [
    "modelos = {}\n",
    "\n",
    "for category in dados_treino.category_1.unique():\n",
    "    pipe = Pipeline([('tiidf', TfidfVectorizer(min_df = 2, max_df = 0.5, ngram_range = (1, 2))),\n",
    "                    ('xgboost', XGBRegressor(random_state=101, n_jobs=-1))])\n",
    "    modelos[category] = pipe\n",
    "    X_treino = dados_treino1.query(f'category_1 == \"{category}\"')['name']\n",
    "    y_treino = np.log(dados_treino1.query(f'category_1 == \"{category}\"')['price'])\n",
    "    # pipe.fit(X_treino, y_treino)\n",
    "    modelos[category].fit(X_treino, y_treino)\n"
   ]
  },
  {
   "cell_type": "markdown",
   "metadata": {},
   "source": [
    "Tempo de treino: 2m 16.2s"
   ]
  },
  {
   "cell_type": "code",
   "execution_count": 13,
   "metadata": {},
   "outputs": [],
   "source": [
    "dados_teste1 = dados_teste1.assign(pred=0)"
   ]
  },
  {
   "cell_type": "code",
   "execution_count": 14,
   "metadata": {},
   "outputs": [],
   "source": [
    "for category in dados_teste1.category_1.unique():\n",
    "    index = dados_teste1.query(f'category_1 == \"{category}\"').index\n",
    "    dados_teste1.loc[index, 'pred'] = np.exp(modelos[category].predict(dados_teste1.loc[index]['name']))\n",
    "\n",
    "dados_teste1.loc[dados_teste1.pred < 3, 'pred'] = 3"
   ]
  },
  {
   "cell_type": "markdown",
   "metadata": {},
   "source": [
    "Tempo de previsão: 5.7s"
   ]
  },
  {
   "cell_type": "markdown",
   "metadata": {},
   "source": [
    "Avaliação geral:"
   ]
  },
  {
   "cell_type": "code",
   "execution_count": 15,
   "metadata": {},
   "outputs": [
    {
     "name": "stdout",
     "output_type": "stream",
     "text": [
      "R² = 0.269\n",
      "MAPE = 49.182 %\n",
      "MAE = U$S 12.34\n",
      "RMSE = U$S 32.81\n",
      "MSLE = 0.310\n"
     ]
    }
   ],
   "source": [
    "print_avaliacao(dados_teste1['price'], dados_teste1['pred'])"
   ]
  },
  {
   "cell_type": "markdown",
   "metadata": {},
   "source": [
    "Avaliação por categoria principal"
   ]
  },
  {
   "cell_type": "code",
   "execution_count": 16,
   "metadata": {},
   "outputs": [
    {
     "data": {
      "text/html": [
       "<div>\n",
       "<style scoped>\n",
       "    .dataframe tbody tr th:only-of-type {\n",
       "        vertical-align: middle;\n",
       "    }\n",
       "\n",
       "    .dataframe tbody tr th {\n",
       "        vertical-align: top;\n",
       "    }\n",
       "\n",
       "    .dataframe thead th {\n",
       "        text-align: right;\n",
       "    }\n",
       "</style>\n",
       "<table border=\"1\" class=\"dataframe\">\n",
       "  <thead>\n",
       "    <tr style=\"text-align: right;\">\n",
       "      <th></th>\n",
       "      <th>Women</th>\n",
       "      <th>Men</th>\n",
       "      <th>Vintage &amp; Collectibles</th>\n",
       "      <th>Electronics</th>\n",
       "      <th>Beauty</th>\n",
       "      <th>Kids</th>\n",
       "      <th>Other</th>\n",
       "      <th>Home</th>\n",
       "      <th>Sports &amp; Outdoors</th>\n",
       "      <th>Handmade</th>\n",
       "      <th>No category</th>\n",
       "    </tr>\n",
       "  </thead>\n",
       "  <tbody>\n",
       "    <tr>\n",
       "      <th>R²</th>\n",
       "      <td>0.235</td>\n",
       "      <td>0.376</td>\n",
       "      <td>0.232</td>\n",
       "      <td>0.316</td>\n",
       "      <td>0.100</td>\n",
       "      <td>0.214</td>\n",
       "      <td>0.140</td>\n",
       "      <td>0.261</td>\n",
       "      <td>0.291</td>\n",
       "      <td>0.243</td>\n",
       "      <td>0.095</td>\n",
       "    </tr>\n",
       "    <tr>\n",
       "      <th>MAPE</th>\n",
       "      <td>47.635</td>\n",
       "      <td>48.841</td>\n",
       "      <td>60.915</td>\n",
       "      <td>59.441</td>\n",
       "      <td>46.821</td>\n",
       "      <td>47.584</td>\n",
       "      <td>52.567</td>\n",
       "      <td>47.042</td>\n",
       "      <td>47.342</td>\n",
       "      <td>48.913</td>\n",
       "      <td>61.726</td>\n",
       "    </tr>\n",
       "    <tr>\n",
       "      <th>MAE</th>\n",
       "      <td>12.940</td>\n",
       "      <td>15.430</td>\n",
       "      <td>14.990</td>\n",
       "      <td>19.560</td>\n",
       "      <td>8.610</td>\n",
       "      <td>9.120</td>\n",
       "      <td>10.290</td>\n",
       "      <td>10.320</td>\n",
       "      <td>11.300</td>\n",
       "      <td>8.520</td>\n",
       "      <td>13.560</td>\n",
       "    </tr>\n",
       "    <tr>\n",
       "      <th>RMSE</th>\n",
       "      <td>34.240</td>\n",
       "      <td>31.640</td>\n",
       "      <td>44.420</td>\n",
       "      <td>54.440</td>\n",
       "      <td>22.990</td>\n",
       "      <td>19.720</td>\n",
       "      <td>25.440</td>\n",
       "      <td>20.020</td>\n",
       "      <td>25.010</td>\n",
       "      <td>21.820</td>\n",
       "      <td>28.810</td>\n",
       "    </tr>\n",
       "    <tr>\n",
       "      <th>MSLE</th>\n",
       "      <td>0.297</td>\n",
       "      <td>0.298</td>\n",
       "      <td>0.443</td>\n",
       "      <td>0.429</td>\n",
       "      <td>0.275</td>\n",
       "      <td>0.286</td>\n",
       "      <td>0.350</td>\n",
       "      <td>0.282</td>\n",
       "      <td>0.303</td>\n",
       "      <td>0.300</td>\n",
       "      <td>0.440</td>\n",
       "    </tr>\n",
       "  </tbody>\n",
       "</table>\n",
       "</div>"
      ],
      "text/plain": [
       "       Women     Men  Vintage & Collectibles  Electronics  Beauty    Kids  \\\n",
       "R²     0.235   0.376                   0.232        0.316   0.100   0.214   \n",
       "MAPE  47.635  48.841                  60.915       59.441  46.821  47.584   \n",
       "MAE   12.940  15.430                  14.990       19.560   8.610   9.120   \n",
       "RMSE  34.240  31.640                  44.420       54.440  22.990  19.720   \n",
       "MSLE   0.297   0.298                   0.443        0.429   0.275   0.286   \n",
       "\n",
       "       Other    Home  Sports & Outdoors  Handmade  No category  \n",
       "R²     0.140   0.261              0.291     0.243        0.095  \n",
       "MAPE  52.567  47.042             47.342    48.913       61.726  \n",
       "MAE   10.290  10.320             11.300     8.520       13.560  \n",
       "RMSE  25.440  20.020             25.010    21.820       28.810  \n",
       "MSLE   0.350   0.282              0.303     0.300        0.440  "
      ]
     },
     "execution_count": 16,
     "metadata": {},
     "output_type": "execute_result"
    }
   ],
   "source": [
    "avaliacoes = {}\n",
    "\n",
    "for categoria in dados_teste1.category_1.unique():\n",
    "    dados_cat = dados_teste1.query(f'category_1 == \"{categoria}\"')\n",
    "    avaliacoes[categoria] = calc_metricas(dados_cat['price'], dados_cat['pred'])\n",
    "\n",
    "avaliacoes = pd.DataFrame(avaliacoes, index=['R²', 'MAPE', 'MAE', 'RMSE', 'MSLE'])\n",
    "\n",
    "avaliacoes"
   ]
  },
  {
   "cell_type": "markdown",
   "metadata": {},
   "source": [
    "## Modelo geral usando coluna item_description"
   ]
  },
  {
   "cell_type": "code",
   "execution_count": null,
   "metadata": {},
   "outputs": [],
   "source": [
    "dados_treino1 = dados_treino[['category_1', 'item_description', 'price']]\n",
    "dados_treino1.dropna(inplace=True)\n",
    "\n",
    "dados_teste1 = dados_teste[['category_1', 'item_description', 'price']]\n",
    "dados_teste1.dropna(inplace=True)"
   ]
  },
  {
   "cell_type": "code",
   "execution_count": 18,
   "metadata": {},
   "outputs": [
    {
     "data": {
      "text/html": [
       "<style>#sk-container-id-2 {color: black;background-color: white;}#sk-container-id-2 pre{padding: 0;}#sk-container-id-2 div.sk-toggleable {background-color: white;}#sk-container-id-2 label.sk-toggleable__label {cursor: pointer;display: block;width: 100%;margin-bottom: 0;padding: 0.3em;box-sizing: border-box;text-align: center;}#sk-container-id-2 label.sk-toggleable__label-arrow:before {content: \"▸\";float: left;margin-right: 0.25em;color: #696969;}#sk-container-id-2 label.sk-toggleable__label-arrow:hover:before {color: black;}#sk-container-id-2 div.sk-estimator:hover label.sk-toggleable__label-arrow:before {color: black;}#sk-container-id-2 div.sk-toggleable__content {max-height: 0;max-width: 0;overflow: hidden;text-align: left;background-color: #f0f8ff;}#sk-container-id-2 div.sk-toggleable__content pre {margin: 0.2em;color: black;border-radius: 0.25em;background-color: #f0f8ff;}#sk-container-id-2 input.sk-toggleable__control:checked~div.sk-toggleable__content {max-height: 200px;max-width: 100%;overflow: auto;}#sk-container-id-2 input.sk-toggleable__control:checked~label.sk-toggleable__label-arrow:before {content: \"▾\";}#sk-container-id-2 div.sk-estimator input.sk-toggleable__control:checked~label.sk-toggleable__label {background-color: #d4ebff;}#sk-container-id-2 div.sk-label input.sk-toggleable__control:checked~label.sk-toggleable__label {background-color: #d4ebff;}#sk-container-id-2 input.sk-hidden--visually {border: 0;clip: rect(1px 1px 1px 1px);clip: rect(1px, 1px, 1px, 1px);height: 1px;margin: -1px;overflow: hidden;padding: 0;position: absolute;width: 1px;}#sk-container-id-2 div.sk-estimator {font-family: monospace;background-color: #f0f8ff;border: 1px dotted black;border-radius: 0.25em;box-sizing: border-box;margin-bottom: 0.5em;}#sk-container-id-2 div.sk-estimator:hover {background-color: #d4ebff;}#sk-container-id-2 div.sk-parallel-item::after {content: \"\";width: 100%;border-bottom: 1px solid gray;flex-grow: 1;}#sk-container-id-2 div.sk-label:hover label.sk-toggleable__label {background-color: #d4ebff;}#sk-container-id-2 div.sk-serial::before {content: \"\";position: absolute;border-left: 1px solid gray;box-sizing: border-box;top: 0;bottom: 0;left: 50%;z-index: 0;}#sk-container-id-2 div.sk-serial {display: flex;flex-direction: column;align-items: center;background-color: white;padding-right: 0.2em;padding-left: 0.2em;position: relative;}#sk-container-id-2 div.sk-item {position: relative;z-index: 1;}#sk-container-id-2 div.sk-parallel {display: flex;align-items: stretch;justify-content: center;background-color: white;position: relative;}#sk-container-id-2 div.sk-item::before, #sk-container-id-2 div.sk-parallel-item::before {content: \"\";position: absolute;border-left: 1px solid gray;box-sizing: border-box;top: 0;bottom: 0;left: 50%;z-index: -1;}#sk-container-id-2 div.sk-parallel-item {display: flex;flex-direction: column;z-index: 1;position: relative;background-color: white;}#sk-container-id-2 div.sk-parallel-item:first-child::after {align-self: flex-end;width: 50%;}#sk-container-id-2 div.sk-parallel-item:last-child::after {align-self: flex-start;width: 50%;}#sk-container-id-2 div.sk-parallel-item:only-child::after {width: 0;}#sk-container-id-2 div.sk-dashed-wrapped {border: 1px dashed gray;margin: 0 0.4em 0.5em 0.4em;box-sizing: border-box;padding-bottom: 0.4em;background-color: white;}#sk-container-id-2 div.sk-label label {font-family: monospace;font-weight: bold;display: inline-block;line-height: 1.2em;}#sk-container-id-2 div.sk-label-container {text-align: center;}#sk-container-id-2 div.sk-container {/* jupyter's `normalize.less` sets `[hidden] { display: none; }` but bootstrap.min.css set `[hidden] { display: none !important; }` so we also need the `!important` here to be able to override the default hidden behavior on the sphinx rendered scikit-learn.org. See: https://github.com/scikit-learn/scikit-learn/issues/21755 */display: inline-block !important;position: relative;}#sk-container-id-2 div.sk-text-repr-fallback {display: none;}</style><div id=\"sk-container-id-2\" class=\"sk-top-container\"><div class=\"sk-text-repr-fallback\"><pre>Pipeline(steps=[(&#x27;tiidf&#x27;,\n",
       "                 TfidfVectorizer(max_df=0.5, min_df=2, ngram_range=(1, 2))),\n",
       "                (&#x27;xgboost&#x27;,\n",
       "                 XGBRegressor(base_score=0.5, booster=&#x27;gbtree&#x27;, callbacks=None,\n",
       "                              colsample_bylevel=1, colsample_bynode=1,\n",
       "                              colsample_bytree=1, early_stopping_rounds=None,\n",
       "                              enable_categorical=False, eval_metric=None,\n",
       "                              gamma=0, gpu_id=-1, grow_policy=&#x27;depthwise&#x27;,\n",
       "                              importance_type=None, interaction_constraints=&#x27;&#x27;,\n",
       "                              learning_rate=0.300000012, max_bin=256,\n",
       "                              max_cat_to_onehot=4, max_delta_step=0,\n",
       "                              max_depth=6, max_leaves=0, min_child_weight=1,\n",
       "                              missing=nan, monotone_constraints=&#x27;()&#x27;,\n",
       "                              n_estimators=100, n_jobs=-1, num_parallel_tree=1,\n",
       "                              predictor=&#x27;auto&#x27;, random_state=101, reg_alpha=0,\n",
       "                              reg_lambda=1, ...))])</pre><b>In a Jupyter environment, please rerun this cell to show the HTML representation or trust the notebook. <br />On GitHub, the HTML representation is unable to render, please try loading this page with nbviewer.org.</b></div><div class=\"sk-container\" hidden><div class=\"sk-item sk-dashed-wrapped\"><div class=\"sk-label-container\"><div class=\"sk-label sk-toggleable\"><input class=\"sk-toggleable__control sk-hidden--visually\" id=\"sk-estimator-id-4\" type=\"checkbox\" ><label for=\"sk-estimator-id-4\" class=\"sk-toggleable__label sk-toggleable__label-arrow\">Pipeline</label><div class=\"sk-toggleable__content\"><pre>Pipeline(steps=[(&#x27;tiidf&#x27;,\n",
       "                 TfidfVectorizer(max_df=0.5, min_df=2, ngram_range=(1, 2))),\n",
       "                (&#x27;xgboost&#x27;,\n",
       "                 XGBRegressor(base_score=0.5, booster=&#x27;gbtree&#x27;, callbacks=None,\n",
       "                              colsample_bylevel=1, colsample_bynode=1,\n",
       "                              colsample_bytree=1, early_stopping_rounds=None,\n",
       "                              enable_categorical=False, eval_metric=None,\n",
       "                              gamma=0, gpu_id=-1, grow_policy=&#x27;depthwise&#x27;,\n",
       "                              importance_type=None, interaction_constraints=&#x27;&#x27;,\n",
       "                              learning_rate=0.300000012, max_bin=256,\n",
       "                              max_cat_to_onehot=4, max_delta_step=0,\n",
       "                              max_depth=6, max_leaves=0, min_child_weight=1,\n",
       "                              missing=nan, monotone_constraints=&#x27;()&#x27;,\n",
       "                              n_estimators=100, n_jobs=-1, num_parallel_tree=1,\n",
       "                              predictor=&#x27;auto&#x27;, random_state=101, reg_alpha=0,\n",
       "                              reg_lambda=1, ...))])</pre></div></div></div><div class=\"sk-serial\"><div class=\"sk-item\"><div class=\"sk-estimator sk-toggleable\"><input class=\"sk-toggleable__control sk-hidden--visually\" id=\"sk-estimator-id-5\" type=\"checkbox\" ><label for=\"sk-estimator-id-5\" class=\"sk-toggleable__label sk-toggleable__label-arrow\">TfidfVectorizer</label><div class=\"sk-toggleable__content\"><pre>TfidfVectorizer(max_df=0.5, min_df=2, ngram_range=(1, 2))</pre></div></div></div><div class=\"sk-item\"><div class=\"sk-estimator sk-toggleable\"><input class=\"sk-toggleable__control sk-hidden--visually\" id=\"sk-estimator-id-6\" type=\"checkbox\" ><label for=\"sk-estimator-id-6\" class=\"sk-toggleable__label sk-toggleable__label-arrow\">XGBRegressor</label><div class=\"sk-toggleable__content\"><pre>XGBRegressor(base_score=0.5, booster=&#x27;gbtree&#x27;, callbacks=None,\n",
       "             colsample_bylevel=1, colsample_bynode=1, colsample_bytree=1,\n",
       "             early_stopping_rounds=None, enable_categorical=False,\n",
       "             eval_metric=None, gamma=0, gpu_id=-1, grow_policy=&#x27;depthwise&#x27;,\n",
       "             importance_type=None, interaction_constraints=&#x27;&#x27;,\n",
       "             learning_rate=0.300000012, max_bin=256, max_cat_to_onehot=4,\n",
       "             max_delta_step=0, max_depth=6, max_leaves=0, min_child_weight=1,\n",
       "             missing=nan, monotone_constraints=&#x27;()&#x27;, n_estimators=100,\n",
       "             n_jobs=-1, num_parallel_tree=1, predictor=&#x27;auto&#x27;, random_state=101,\n",
       "             reg_alpha=0, reg_lambda=1, ...)</pre></div></div></div></div></div></div></div>"
      ],
      "text/plain": [
       "Pipeline(steps=[('tiidf',\n",
       "                 TfidfVectorizer(max_df=0.5, min_df=2, ngram_range=(1, 2))),\n",
       "                ('xgboost',\n",
       "                 XGBRegressor(base_score=0.5, booster='gbtree', callbacks=None,\n",
       "                              colsample_bylevel=1, colsample_bynode=1,\n",
       "                              colsample_bytree=1, early_stopping_rounds=None,\n",
       "                              enable_categorical=False, eval_metric=None,\n",
       "                              gamma=0, gpu_id=-1, grow_policy='depthwise',\n",
       "                              importance_type=None, interaction_constraints='',\n",
       "                              learning_rate=0.300000012, max_bin=256,\n",
       "                              max_cat_to_onehot=4, max_delta_step=0,\n",
       "                              max_depth=6, max_leaves=0, min_child_weight=1,\n",
       "                              missing=nan, monotone_constraints='()',\n",
       "                              n_estimators=100, n_jobs=-1, num_parallel_tree=1,\n",
       "                              predictor='auto', random_state=101, reg_alpha=0,\n",
       "                              reg_lambda=1, ...))])"
      ]
     },
     "execution_count": 18,
     "metadata": {},
     "output_type": "execute_result"
    }
   ],
   "source": [
    "pipe = Pipeline([('tiidf', TfidfVectorizer(min_df = 2, max_df = 0.5, ngram_range = (1, 2))),\n",
    "                 ('xgboost', XGBRegressor(random_state=101, n_jobs=-1))])\n",
    "X_treino = dados_treino1['item_description']\n",
    "y_treino = np.log(dados_treino1['price'])\n",
    "pipe.fit(X_treino, y_treino)"
   ]
  },
  {
   "cell_type": "markdown",
   "metadata": {},
   "source": [
    "Tempo de treino: 9m 37.8s"
   ]
  },
  {
   "cell_type": "code",
   "execution_count": null,
   "metadata": {},
   "outputs": [],
   "source": [
    "dados_teste1['pred'] = np.exp(pipe.predict(dados_teste1['item_description']))\n",
    "dados_teste1.loc[dados_teste1.pred < 3, 'pred'] = 3"
   ]
  },
  {
   "cell_type": "markdown",
   "metadata": {},
   "source": [
    "Tempo de previsão: 20.8s"
   ]
  },
  {
   "cell_type": "markdown",
   "metadata": {},
   "source": [
    "Avaliação geral"
   ]
  },
  {
   "cell_type": "code",
   "execution_count": 20,
   "metadata": {},
   "outputs": [
    {
     "name": "stdout",
     "output_type": "stream",
     "text": [
      "R² = 0.170\n",
      "MAPE = 57.278 %\n",
      "MAE = U$S 13.86\n",
      "RMSE = U$S 34.96\n",
      "MSLE = 0.398\n"
     ]
    }
   ],
   "source": [
    "print_avaliacao(dados_teste1['price'], dados_teste1['pred'])"
   ]
  },
  {
   "cell_type": "markdown",
   "metadata": {},
   "source": [
    "Avaliação por categoria principal"
   ]
  },
  {
   "cell_type": "code",
   "execution_count": 21,
   "metadata": {},
   "outputs": [
    {
     "data": {
      "text/html": [
       "<div>\n",
       "<style scoped>\n",
       "    .dataframe tbody tr th:only-of-type {\n",
       "        vertical-align: middle;\n",
       "    }\n",
       "\n",
       "    .dataframe tbody tr th {\n",
       "        vertical-align: top;\n",
       "    }\n",
       "\n",
       "    .dataframe thead th {\n",
       "        text-align: right;\n",
       "    }\n",
       "</style>\n",
       "<table border=\"1\" class=\"dataframe\">\n",
       "  <thead>\n",
       "    <tr style=\"text-align: right;\">\n",
       "      <th></th>\n",
       "      <th>Women</th>\n",
       "      <th>Men</th>\n",
       "      <th>Vintage &amp; Collectibles</th>\n",
       "      <th>Electronics</th>\n",
       "      <th>Beauty</th>\n",
       "      <th>Kids</th>\n",
       "      <th>Other</th>\n",
       "      <th>Home</th>\n",
       "      <th>Sports &amp; Outdoors</th>\n",
       "      <th>Handmade</th>\n",
       "      <th>No category</th>\n",
       "    </tr>\n",
       "  </thead>\n",
       "  <tbody>\n",
       "    <tr>\n",
       "      <th>R²</th>\n",
       "      <td>0.173</td>\n",
       "      <td>0.096</td>\n",
       "      <td>0.146</td>\n",
       "      <td>0.189</td>\n",
       "      <td>0.049</td>\n",
       "      <td>0.110</td>\n",
       "      <td>0.047</td>\n",
       "      <td>0.028</td>\n",
       "      <td>0.078</td>\n",
       "      <td>0.183</td>\n",
       "      <td>0.065</td>\n",
       "    </tr>\n",
       "    <tr>\n",
       "      <th>MAPE</th>\n",
       "      <td>51.937</td>\n",
       "      <td>49.030</td>\n",
       "      <td>72.864</td>\n",
       "      <td>68.093</td>\n",
       "      <td>60.032</td>\n",
       "      <td>61.623</td>\n",
       "      <td>69.160</td>\n",
       "      <td>54.419</td>\n",
       "      <td>55.638</td>\n",
       "      <td>78.521</td>\n",
       "      <td>60.266</td>\n",
       "    </tr>\n",
       "    <tr>\n",
       "      <th>MAE</th>\n",
       "      <td>14.350</td>\n",
       "      <td>18.540</td>\n",
       "      <td>15.990</td>\n",
       "      <td>21.800</td>\n",
       "      <td>9.640</td>\n",
       "      <td>10.350</td>\n",
       "      <td>11.680</td>\n",
       "      <td>12.100</td>\n",
       "      <td>13.390</td>\n",
       "      <td>10.070</td>\n",
       "      <td>13.510</td>\n",
       "    </tr>\n",
       "    <tr>\n",
       "      <th>RMSE</th>\n",
       "      <td>35.600</td>\n",
       "      <td>38.100</td>\n",
       "      <td>46.870</td>\n",
       "      <td>59.280</td>\n",
       "      <td>23.630</td>\n",
       "      <td>20.980</td>\n",
       "      <td>26.810</td>\n",
       "      <td>22.980</td>\n",
       "      <td>28.530</td>\n",
       "      <td>22.640</td>\n",
       "      <td>29.280</td>\n",
       "    </tr>\n",
       "    <tr>\n",
       "      <th>MSLE</th>\n",
       "      <td>0.375</td>\n",
       "      <td>0.463</td>\n",
       "      <td>0.524</td>\n",
       "      <td>0.552</td>\n",
       "      <td>0.343</td>\n",
       "      <td>0.360</td>\n",
       "      <td>0.446</td>\n",
       "      <td>0.379</td>\n",
       "      <td>0.403</td>\n",
       "      <td>0.432</td>\n",
       "      <td>0.440</td>\n",
       "    </tr>\n",
       "  </tbody>\n",
       "</table>\n",
       "</div>"
      ],
      "text/plain": [
       "       Women     Men  Vintage & Collectibles  Electronics  Beauty    Kids  \\\n",
       "R²     0.173   0.096                   0.146        0.189   0.049   0.110   \n",
       "MAPE  51.937  49.030                  72.864       68.093  60.032  61.623   \n",
       "MAE   14.350  18.540                  15.990       21.800   9.640  10.350   \n",
       "RMSE  35.600  38.100                  46.870       59.280  23.630  20.980   \n",
       "MSLE   0.375   0.463                   0.524        0.552   0.343   0.360   \n",
       "\n",
       "       Other    Home  Sports & Outdoors  Handmade  No category  \n",
       "R²     0.047   0.028              0.078     0.183        0.065  \n",
       "MAPE  69.160  54.419             55.638    78.521       60.266  \n",
       "MAE   11.680  12.100             13.390    10.070       13.510  \n",
       "RMSE  26.810  22.980             28.530    22.640       29.280  \n",
       "MSLE   0.446   0.379              0.403     0.432        0.440  "
      ]
     },
     "execution_count": 21,
     "metadata": {},
     "output_type": "execute_result"
    }
   ],
   "source": [
    "avaliacoes = {}\n",
    "\n",
    "for categoria in dados_teste1.category_1.unique():\n",
    "    dados_cat = dados_teste1.query(f'category_1 == \"{categoria}\"')\n",
    "    avaliacoes[categoria] = calc_metricas(dados_cat['price'], dados_cat['pred'])\n",
    "\n",
    "avaliacoes = pd.DataFrame(avaliacoes, index=['R²', 'MAPE', 'MAE', 'RMSE', 'MSLE'])\n",
    "\n",
    "avaliacoes"
   ]
  },
  {
   "cell_type": "markdown",
   "metadata": {},
   "source": [
    "## Modelo por categoria usando item_description"
   ]
  },
  {
   "cell_type": "code",
   "execution_count": 22,
   "metadata": {},
   "outputs": [],
   "source": [
    "modelos = {}\n",
    "\n",
    "for category in dados_treino.category_1.unique():\n",
    "    pipe = Pipeline([('tiidf', TfidfVectorizer(min_df = 2, max_df = 0.5, ngram_range = (1, 2))),\n",
    "                    ('xgboost', XGBRegressor(random_state=101, n_jobs=-1))])\n",
    "    modelos[category] = pipe\n",
    "    X_treino = dados_treino1.query(f'category_1 == \"{category}\"')['item_description']\n",
    "    y_treino = np.log(dados_treino1.query(f'category_1 == \"{category}\"')['price'])\n",
    "    # pipe.fit(X_treino, y_treino)\n",
    "    modelos[category].fit(X_treino, y_treino)\n"
   ]
  },
  {
   "cell_type": "markdown",
   "metadata": {},
   "source": [
    "Tempo de treino: 7m 18.3s"
   ]
  },
  {
   "cell_type": "code",
   "execution_count": 23,
   "metadata": {},
   "outputs": [],
   "source": [
    "dados_teste1 = dados_teste1.assign(pred=0)"
   ]
  },
  {
   "cell_type": "code",
   "execution_count": 24,
   "metadata": {},
   "outputs": [],
   "source": [
    "for category in dados_teste1.category_1.unique():\n",
    "    index = dados_teste1.query(f'category_1 == \"{category}\"').index\n",
    "    dados_teste1.loc[index, 'pred'] = np.exp(modelos[category].predict(dados_teste1.loc[index]['item_description']))\n",
    "\n",
    "dados_teste1.loc[dados_teste1.pred < 3, 'pred'] = 3"
   ]
  },
  {
   "cell_type": "markdown",
   "metadata": {},
   "source": [
    "Tempo de previsão: 18.8s"
   ]
  },
  {
   "cell_type": "markdown",
   "metadata": {},
   "source": [
    "Avaliação geral"
   ]
  },
  {
   "cell_type": "code",
   "execution_count": 25,
   "metadata": {},
   "outputs": [
    {
     "name": "stdout",
     "output_type": "stream",
     "text": [
      "R² = 0.236\n",
      "MAPE = 53.190 %\n",
      "MAE = U$S 13.12\n",
      "RMSE = U$S 33.54\n",
      "MSLE = 0.352\n"
     ]
    }
   ],
   "source": [
    "print_avaliacao(dados_teste1['price'], dados_teste1['pred'])"
   ]
  },
  {
   "cell_type": "markdown",
   "metadata": {},
   "source": [
    "Avaliação por categoria geral"
   ]
  },
  {
   "cell_type": "code",
   "execution_count": 26,
   "metadata": {},
   "outputs": [
    {
     "data": {
      "text/html": [
       "<div>\n",
       "<style scoped>\n",
       "    .dataframe tbody tr th:only-of-type {\n",
       "        vertical-align: middle;\n",
       "    }\n",
       "\n",
       "    .dataframe tbody tr th {\n",
       "        vertical-align: top;\n",
       "    }\n",
       "\n",
       "    .dataframe thead th {\n",
       "        text-align: right;\n",
       "    }\n",
       "</style>\n",
       "<table border=\"1\" class=\"dataframe\">\n",
       "  <thead>\n",
       "    <tr style=\"text-align: right;\">\n",
       "      <th></th>\n",
       "      <th>Women</th>\n",
       "      <th>Men</th>\n",
       "      <th>Vintage &amp; Collectibles</th>\n",
       "      <th>Electronics</th>\n",
       "      <th>Beauty</th>\n",
       "      <th>Kids</th>\n",
       "      <th>Other</th>\n",
       "      <th>Home</th>\n",
       "      <th>Sports &amp; Outdoors</th>\n",
       "      <th>Handmade</th>\n",
       "      <th>No category</th>\n",
       "    </tr>\n",
       "  </thead>\n",
       "  <tbody>\n",
       "    <tr>\n",
       "      <th>R²</th>\n",
       "      <td>0.218</td>\n",
       "      <td>0.290</td>\n",
       "      <td>0.157</td>\n",
       "      <td>0.276</td>\n",
       "      <td>0.097</td>\n",
       "      <td>0.158</td>\n",
       "      <td>0.116</td>\n",
       "      <td>0.161</td>\n",
       "      <td>0.269</td>\n",
       "      <td>0.185</td>\n",
       "      <td>0.033</td>\n",
       "    </tr>\n",
       "    <tr>\n",
       "      <th>MAPE</th>\n",
       "      <td>53.294</td>\n",
       "      <td>54.388</td>\n",
       "      <td>62.307</td>\n",
       "      <td>60.902</td>\n",
       "      <td>48.401</td>\n",
       "      <td>50.562</td>\n",
       "      <td>54.224</td>\n",
       "      <td>50.902</td>\n",
       "      <td>52.101</td>\n",
       "      <td>52.143</td>\n",
       "      <td>65.209</td>\n",
       "    </tr>\n",
       "    <tr>\n",
       "      <th>MAE</th>\n",
       "      <td>13.950</td>\n",
       "      <td>16.850</td>\n",
       "      <td>15.620</td>\n",
       "      <td>20.220</td>\n",
       "      <td>8.810</td>\n",
       "      <td>9.590</td>\n",
       "      <td>10.610</td>\n",
       "      <td>11.180</td>\n",
       "      <td>12.180</td>\n",
       "      <td>8.980</td>\n",
       "      <td>14.310</td>\n",
       "    </tr>\n",
       "    <tr>\n",
       "      <th>RMSE</th>\n",
       "      <td>34.600</td>\n",
       "      <td>33.770</td>\n",
       "      <td>46.560</td>\n",
       "      <td>56.000</td>\n",
       "      <td>23.030</td>\n",
       "      <td>20.410</td>\n",
       "      <td>25.820</td>\n",
       "      <td>21.340</td>\n",
       "      <td>25.390</td>\n",
       "      <td>22.610</td>\n",
       "      <td>29.780</td>\n",
       "    </tr>\n",
       "    <tr>\n",
       "      <th>MSLE</th>\n",
       "      <td>0.351</td>\n",
       "      <td>0.364</td>\n",
       "      <td>0.475</td>\n",
       "      <td>0.463</td>\n",
       "      <td>0.293</td>\n",
       "      <td>0.318</td>\n",
       "      <td>0.367</td>\n",
       "      <td>0.324</td>\n",
       "      <td>0.342</td>\n",
       "      <td>0.337</td>\n",
       "      <td>0.479</td>\n",
       "    </tr>\n",
       "  </tbody>\n",
       "</table>\n",
       "</div>"
      ],
      "text/plain": [
       "       Women     Men  Vintage & Collectibles  Electronics  Beauty    Kids  \\\n",
       "R²     0.218   0.290                   0.157        0.276   0.097   0.158   \n",
       "MAPE  53.294  54.388                  62.307       60.902  48.401  50.562   \n",
       "MAE   13.950  16.850                  15.620       20.220   8.810   9.590   \n",
       "RMSE  34.600  33.770                  46.560       56.000  23.030  20.410   \n",
       "MSLE   0.351   0.364                   0.475        0.463   0.293   0.318   \n",
       "\n",
       "       Other    Home  Sports & Outdoors  Handmade  No category  \n",
       "R²     0.116   0.161              0.269     0.185        0.033  \n",
       "MAPE  54.224  50.902             52.101    52.143       65.209  \n",
       "MAE   10.610  11.180             12.180     8.980       14.310  \n",
       "RMSE  25.820  21.340             25.390    22.610       29.780  \n",
       "MSLE   0.367   0.324              0.342     0.337        0.479  "
      ]
     },
     "execution_count": 26,
     "metadata": {},
     "output_type": "execute_result"
    }
   ],
   "source": [
    "avaliacoes = {}\n",
    "\n",
    "for categoria in dados_teste1.category_1.unique():\n",
    "    dados_cat = dados_teste1.query(f'category_1 == \"{categoria}\"')\n",
    "    avaliacoes[categoria] = calc_metricas(dados_cat['price'], dados_cat['pred'])\n",
    "\n",
    "avaliacoes = pd.DataFrame(avaliacoes, index=['R²', 'MAPE', 'MAE', 'RMSE', 'MSLE'])\n",
    "\n",
    "avaliacoes"
   ]
  },
  {
   "cell_type": "markdown",
   "metadata": {},
   "source": [
    "## Modelo geral usando comb_name_description"
   ]
  },
  {
   "cell_type": "code",
   "execution_count": null,
   "metadata": {},
   "outputs": [],
   "source": [
    "dados_treino1 = dados_treino[['category_1', 'comb_name_description', 'price']]\n",
    "dados_treino1.dropna(inplace=True)\n",
    "\n",
    "dados_teste1 = dados_teste[['category_1', 'comb_name_description', 'price']]\n",
    "dados_teste1.dropna(inplace=True)"
   ]
  },
  {
   "cell_type": "code",
   "execution_count": 28,
   "metadata": {},
   "outputs": [
    {
     "data": {
      "text/html": [
       "<style>#sk-container-id-3 {color: black;background-color: white;}#sk-container-id-3 pre{padding: 0;}#sk-container-id-3 div.sk-toggleable {background-color: white;}#sk-container-id-3 label.sk-toggleable__label {cursor: pointer;display: block;width: 100%;margin-bottom: 0;padding: 0.3em;box-sizing: border-box;text-align: center;}#sk-container-id-3 label.sk-toggleable__label-arrow:before {content: \"▸\";float: left;margin-right: 0.25em;color: #696969;}#sk-container-id-3 label.sk-toggleable__label-arrow:hover:before {color: black;}#sk-container-id-3 div.sk-estimator:hover label.sk-toggleable__label-arrow:before {color: black;}#sk-container-id-3 div.sk-toggleable__content {max-height: 0;max-width: 0;overflow: hidden;text-align: left;background-color: #f0f8ff;}#sk-container-id-3 div.sk-toggleable__content pre {margin: 0.2em;color: black;border-radius: 0.25em;background-color: #f0f8ff;}#sk-container-id-3 input.sk-toggleable__control:checked~div.sk-toggleable__content {max-height: 200px;max-width: 100%;overflow: auto;}#sk-container-id-3 input.sk-toggleable__control:checked~label.sk-toggleable__label-arrow:before {content: \"▾\";}#sk-container-id-3 div.sk-estimator input.sk-toggleable__control:checked~label.sk-toggleable__label {background-color: #d4ebff;}#sk-container-id-3 div.sk-label input.sk-toggleable__control:checked~label.sk-toggleable__label {background-color: #d4ebff;}#sk-container-id-3 input.sk-hidden--visually {border: 0;clip: rect(1px 1px 1px 1px);clip: rect(1px, 1px, 1px, 1px);height: 1px;margin: -1px;overflow: hidden;padding: 0;position: absolute;width: 1px;}#sk-container-id-3 div.sk-estimator {font-family: monospace;background-color: #f0f8ff;border: 1px dotted black;border-radius: 0.25em;box-sizing: border-box;margin-bottom: 0.5em;}#sk-container-id-3 div.sk-estimator:hover {background-color: #d4ebff;}#sk-container-id-3 div.sk-parallel-item::after {content: \"\";width: 100%;border-bottom: 1px solid gray;flex-grow: 1;}#sk-container-id-3 div.sk-label:hover label.sk-toggleable__label {background-color: #d4ebff;}#sk-container-id-3 div.sk-serial::before {content: \"\";position: absolute;border-left: 1px solid gray;box-sizing: border-box;top: 0;bottom: 0;left: 50%;z-index: 0;}#sk-container-id-3 div.sk-serial {display: flex;flex-direction: column;align-items: center;background-color: white;padding-right: 0.2em;padding-left: 0.2em;position: relative;}#sk-container-id-3 div.sk-item {position: relative;z-index: 1;}#sk-container-id-3 div.sk-parallel {display: flex;align-items: stretch;justify-content: center;background-color: white;position: relative;}#sk-container-id-3 div.sk-item::before, #sk-container-id-3 div.sk-parallel-item::before {content: \"\";position: absolute;border-left: 1px solid gray;box-sizing: border-box;top: 0;bottom: 0;left: 50%;z-index: -1;}#sk-container-id-3 div.sk-parallel-item {display: flex;flex-direction: column;z-index: 1;position: relative;background-color: white;}#sk-container-id-3 div.sk-parallel-item:first-child::after {align-self: flex-end;width: 50%;}#sk-container-id-3 div.sk-parallel-item:last-child::after {align-self: flex-start;width: 50%;}#sk-container-id-3 div.sk-parallel-item:only-child::after {width: 0;}#sk-container-id-3 div.sk-dashed-wrapped {border: 1px dashed gray;margin: 0 0.4em 0.5em 0.4em;box-sizing: border-box;padding-bottom: 0.4em;background-color: white;}#sk-container-id-3 div.sk-label label {font-family: monospace;font-weight: bold;display: inline-block;line-height: 1.2em;}#sk-container-id-3 div.sk-label-container {text-align: center;}#sk-container-id-3 div.sk-container {/* jupyter's `normalize.less` sets `[hidden] { display: none; }` but bootstrap.min.css set `[hidden] { display: none !important; }` so we also need the `!important` here to be able to override the default hidden behavior on the sphinx rendered scikit-learn.org. See: https://github.com/scikit-learn/scikit-learn/issues/21755 */display: inline-block !important;position: relative;}#sk-container-id-3 div.sk-text-repr-fallback {display: none;}</style><div id=\"sk-container-id-3\" class=\"sk-top-container\"><div class=\"sk-text-repr-fallback\"><pre>Pipeline(steps=[(&#x27;tiidf&#x27;,\n",
       "                 TfidfVectorizer(max_df=0.5, min_df=2, ngram_range=(1, 2))),\n",
       "                (&#x27;xgboost&#x27;,\n",
       "                 XGBRegressor(base_score=0.5, booster=&#x27;gbtree&#x27;, callbacks=None,\n",
       "                              colsample_bylevel=1, colsample_bynode=1,\n",
       "                              colsample_bytree=1, early_stopping_rounds=None,\n",
       "                              enable_categorical=False, eval_metric=None,\n",
       "                              gamma=0, gpu_id=-1, grow_policy=&#x27;depthwise&#x27;,\n",
       "                              importance_type=None, interaction_constraints=&#x27;&#x27;,\n",
       "                              learning_rate=0.300000012, max_bin=256,\n",
       "                              max_cat_to_onehot=4, max_delta_step=0,\n",
       "                              max_depth=6, max_leaves=0, min_child_weight=1,\n",
       "                              missing=nan, monotone_constraints=&#x27;()&#x27;,\n",
       "                              n_estimators=100, n_jobs=-1, num_parallel_tree=1,\n",
       "                              predictor=&#x27;auto&#x27;, random_state=101, reg_alpha=0,\n",
       "                              reg_lambda=1, ...))])</pre><b>In a Jupyter environment, please rerun this cell to show the HTML representation or trust the notebook. <br />On GitHub, the HTML representation is unable to render, please try loading this page with nbviewer.org.</b></div><div class=\"sk-container\" hidden><div class=\"sk-item sk-dashed-wrapped\"><div class=\"sk-label-container\"><div class=\"sk-label sk-toggleable\"><input class=\"sk-toggleable__control sk-hidden--visually\" id=\"sk-estimator-id-7\" type=\"checkbox\" ><label for=\"sk-estimator-id-7\" class=\"sk-toggleable__label sk-toggleable__label-arrow\">Pipeline</label><div class=\"sk-toggleable__content\"><pre>Pipeline(steps=[(&#x27;tiidf&#x27;,\n",
       "                 TfidfVectorizer(max_df=0.5, min_df=2, ngram_range=(1, 2))),\n",
       "                (&#x27;xgboost&#x27;,\n",
       "                 XGBRegressor(base_score=0.5, booster=&#x27;gbtree&#x27;, callbacks=None,\n",
       "                              colsample_bylevel=1, colsample_bynode=1,\n",
       "                              colsample_bytree=1, early_stopping_rounds=None,\n",
       "                              enable_categorical=False, eval_metric=None,\n",
       "                              gamma=0, gpu_id=-1, grow_policy=&#x27;depthwise&#x27;,\n",
       "                              importance_type=None, interaction_constraints=&#x27;&#x27;,\n",
       "                              learning_rate=0.300000012, max_bin=256,\n",
       "                              max_cat_to_onehot=4, max_delta_step=0,\n",
       "                              max_depth=6, max_leaves=0, min_child_weight=1,\n",
       "                              missing=nan, monotone_constraints=&#x27;()&#x27;,\n",
       "                              n_estimators=100, n_jobs=-1, num_parallel_tree=1,\n",
       "                              predictor=&#x27;auto&#x27;, random_state=101, reg_alpha=0,\n",
       "                              reg_lambda=1, ...))])</pre></div></div></div><div class=\"sk-serial\"><div class=\"sk-item\"><div class=\"sk-estimator sk-toggleable\"><input class=\"sk-toggleable__control sk-hidden--visually\" id=\"sk-estimator-id-8\" type=\"checkbox\" ><label for=\"sk-estimator-id-8\" class=\"sk-toggleable__label sk-toggleable__label-arrow\">TfidfVectorizer</label><div class=\"sk-toggleable__content\"><pre>TfidfVectorizer(max_df=0.5, min_df=2, ngram_range=(1, 2))</pre></div></div></div><div class=\"sk-item\"><div class=\"sk-estimator sk-toggleable\"><input class=\"sk-toggleable__control sk-hidden--visually\" id=\"sk-estimator-id-9\" type=\"checkbox\" ><label for=\"sk-estimator-id-9\" class=\"sk-toggleable__label sk-toggleable__label-arrow\">XGBRegressor</label><div class=\"sk-toggleable__content\"><pre>XGBRegressor(base_score=0.5, booster=&#x27;gbtree&#x27;, callbacks=None,\n",
       "             colsample_bylevel=1, colsample_bynode=1, colsample_bytree=1,\n",
       "             early_stopping_rounds=None, enable_categorical=False,\n",
       "             eval_metric=None, gamma=0, gpu_id=-1, grow_policy=&#x27;depthwise&#x27;,\n",
       "             importance_type=None, interaction_constraints=&#x27;&#x27;,\n",
       "             learning_rate=0.300000012, max_bin=256, max_cat_to_onehot=4,\n",
       "             max_delta_step=0, max_depth=6, max_leaves=0, min_child_weight=1,\n",
       "             missing=nan, monotone_constraints=&#x27;()&#x27;, n_estimators=100,\n",
       "             n_jobs=-1, num_parallel_tree=1, predictor=&#x27;auto&#x27;, random_state=101,\n",
       "             reg_alpha=0, reg_lambda=1, ...)</pre></div></div></div></div></div></div></div>"
      ],
      "text/plain": [
       "Pipeline(steps=[('tiidf',\n",
       "                 TfidfVectorizer(max_df=0.5, min_df=2, ngram_range=(1, 2))),\n",
       "                ('xgboost',\n",
       "                 XGBRegressor(base_score=0.5, booster='gbtree', callbacks=None,\n",
       "                              colsample_bylevel=1, colsample_bynode=1,\n",
       "                              colsample_bytree=1, early_stopping_rounds=None,\n",
       "                              enable_categorical=False, eval_metric=None,\n",
       "                              gamma=0, gpu_id=-1, grow_policy='depthwise',\n",
       "                              importance_type=None, interaction_constraints='',\n",
       "                              learning_rate=0.300000012, max_bin=256,\n",
       "                              max_cat_to_onehot=4, max_delta_step=0,\n",
       "                              max_depth=6, max_leaves=0, min_child_weight=1,\n",
       "                              missing=nan, monotone_constraints='()',\n",
       "                              n_estimators=100, n_jobs=-1, num_parallel_tree=1,\n",
       "                              predictor='auto', random_state=101, reg_alpha=0,\n",
       "                              reg_lambda=1, ...))])"
      ]
     },
     "execution_count": 28,
     "metadata": {},
     "output_type": "execute_result"
    }
   ],
   "source": [
    "pipe = Pipeline([('tiidf', TfidfVectorizer(min_df = 2, max_df = 0.5, ngram_range = (1, 2))),\n",
    "                    ('xgboost', XGBRegressor(random_state=101, n_jobs=-1))])\n",
    "X_treino = dados_treino1['comb_name_description']\n",
    "y_treino = np.log(dados_treino1['price'])\n",
    "pipe.fit(X_treino, y_treino)"
   ]
  },
  {
   "cell_type": "markdown",
   "metadata": {},
   "source": [
    "Tempo de treino: 10m 49.4s"
   ]
  },
  {
   "cell_type": "code",
   "execution_count": null,
   "metadata": {},
   "outputs": [],
   "source": [
    "dados_teste1['pred'] = np.exp(pipe.predict(dados_teste1['comb_name_description']))\n",
    "dados_teste1.loc[dados_teste1.pred < 3, 'pred'] = 3"
   ]
  },
  {
   "cell_type": "markdown",
   "metadata": {},
   "source": [
    "Tempo previsão: 21.6s"
   ]
  },
  {
   "cell_type": "markdown",
   "metadata": {},
   "source": [
    "Avaliação geral"
   ]
  },
  {
   "cell_type": "code",
   "execution_count": 30,
   "metadata": {},
   "outputs": [
    {
     "name": "stdout",
     "output_type": "stream",
     "text": [
      "R² = 0.229\n",
      "MAPE = 51.808 %\n",
      "MAE = U$S 12.86\n",
      "RMSE = U$S 33.69\n",
      "MSLE = 0.337\n"
     ]
    }
   ],
   "source": [
    "print_avaliacao(dados_teste1['price'], dados_teste1['pred'])"
   ]
  },
  {
   "cell_type": "markdown",
   "metadata": {},
   "source": [
    "Avaliação por categoria"
   ]
  },
  {
   "cell_type": "code",
   "execution_count": 31,
   "metadata": {},
   "outputs": [
    {
     "data": {
      "text/html": [
       "<div>\n",
       "<style scoped>\n",
       "    .dataframe tbody tr th:only-of-type {\n",
       "        vertical-align: middle;\n",
       "    }\n",
       "\n",
       "    .dataframe tbody tr th {\n",
       "        vertical-align: top;\n",
       "    }\n",
       "\n",
       "    .dataframe thead th {\n",
       "        text-align: right;\n",
       "    }\n",
       "</style>\n",
       "<table border=\"1\" class=\"dataframe\">\n",
       "  <thead>\n",
       "    <tr style=\"text-align: right;\">\n",
       "      <th></th>\n",
       "      <th>Women</th>\n",
       "      <th>Men</th>\n",
       "      <th>Vintage &amp; Collectibles</th>\n",
       "      <th>Electronics</th>\n",
       "      <th>Beauty</th>\n",
       "      <th>Kids</th>\n",
       "      <th>Other</th>\n",
       "      <th>Home</th>\n",
       "      <th>Sports &amp; Outdoors</th>\n",
       "      <th>Handmade</th>\n",
       "      <th>No category</th>\n",
       "    </tr>\n",
       "  </thead>\n",
       "  <tbody>\n",
       "    <tr>\n",
       "      <th>R²</th>\n",
       "      <td>0.264</td>\n",
       "      <td>0.212</td>\n",
       "      <td>0.196</td>\n",
       "      <td>0.188</td>\n",
       "      <td>0.066</td>\n",
       "      <td>0.190</td>\n",
       "      <td>0.059</td>\n",
       "      <td>0.092</td>\n",
       "      <td>0.100</td>\n",
       "      <td>0.231</td>\n",
       "      <td>0.154</td>\n",
       "    </tr>\n",
       "    <tr>\n",
       "      <th>MAPE</th>\n",
       "      <td>46.377</td>\n",
       "      <td>44.691</td>\n",
       "      <td>68.584</td>\n",
       "      <td>61.543</td>\n",
       "      <td>55.121</td>\n",
       "      <td>55.156</td>\n",
       "      <td>63.779</td>\n",
       "      <td>51.797</td>\n",
       "      <td>51.862</td>\n",
       "      <td>67.867</td>\n",
       "      <td>55.190</td>\n",
       "    </tr>\n",
       "    <tr>\n",
       "      <th>MAE</th>\n",
       "      <td>12.950</td>\n",
       "      <td>17.010</td>\n",
       "      <td>15.450</td>\n",
       "      <td>21.010</td>\n",
       "      <td>9.270</td>\n",
       "      <td>9.630</td>\n",
       "      <td>11.340</td>\n",
       "      <td>11.540</td>\n",
       "      <td>13.040</td>\n",
       "      <td>9.360</td>\n",
       "      <td>12.740</td>\n",
       "    </tr>\n",
       "    <tr>\n",
       "      <th>RMSE</th>\n",
       "      <td>33.570</td>\n",
       "      <td>35.560</td>\n",
       "      <td>45.470</td>\n",
       "      <td>59.310</td>\n",
       "      <td>23.420</td>\n",
       "      <td>20.020</td>\n",
       "      <td>26.630</td>\n",
       "      <td>22.200</td>\n",
       "      <td>28.190</td>\n",
       "      <td>21.980</td>\n",
       "      <td>27.860</td>\n",
       "    </tr>\n",
       "    <tr>\n",
       "      <th>MSLE</th>\n",
       "      <td>0.298</td>\n",
       "      <td>0.371</td>\n",
       "      <td>0.482</td>\n",
       "      <td>0.496</td>\n",
       "      <td>0.316</td>\n",
       "      <td>0.312</td>\n",
       "      <td>0.416</td>\n",
       "      <td>0.341</td>\n",
       "      <td>0.379</td>\n",
       "      <td>0.363</td>\n",
       "      <td>0.386</td>\n",
       "    </tr>\n",
       "  </tbody>\n",
       "</table>\n",
       "</div>"
      ],
      "text/plain": [
       "       Women     Men  Vintage & Collectibles  Electronics  Beauty    Kids  \\\n",
       "R²     0.264   0.212                   0.196        0.188   0.066   0.190   \n",
       "MAPE  46.377  44.691                  68.584       61.543  55.121  55.156   \n",
       "MAE   12.950  17.010                  15.450       21.010   9.270   9.630   \n",
       "RMSE  33.570  35.560                  45.470       59.310  23.420  20.020   \n",
       "MSLE   0.298   0.371                   0.482        0.496   0.316   0.312   \n",
       "\n",
       "       Other    Home  Sports & Outdoors  Handmade  No category  \n",
       "R²     0.059   0.092              0.100     0.231        0.154  \n",
       "MAPE  63.779  51.797             51.862    67.867       55.190  \n",
       "MAE   11.340  11.540             13.040     9.360       12.740  \n",
       "RMSE  26.630  22.200             28.190    21.980       27.860  \n",
       "MSLE   0.416   0.341              0.379     0.363        0.386  "
      ]
     },
     "execution_count": 31,
     "metadata": {},
     "output_type": "execute_result"
    }
   ],
   "source": [
    "avaliacoes = {}\n",
    "\n",
    "for categoria in dados_teste1.category_1.unique():\n",
    "    dados_cat = dados_teste1.query(f'category_1 == \"{categoria}\"')\n",
    "    avaliacoes[categoria] = calc_metricas(dados_cat['price'], dados_cat['pred'])\n",
    "\n",
    "avaliacoes = pd.DataFrame(avaliacoes, index=['R²', 'MAPE', 'MAE', 'RMSE', 'MSLE'])\n",
    "\n",
    "avaliacoes"
   ]
  },
  {
   "cell_type": "markdown",
   "metadata": {},
   "source": [
    "## Modelo por categoria usando comb_name_description"
   ]
  },
  {
   "cell_type": "code",
   "execution_count": 32,
   "metadata": {},
   "outputs": [],
   "source": [
    "modelos = {}\n",
    "\n",
    "for category in dados_treino.category_1.unique():\n",
    "    pipe = Pipeline([('tiidf', TfidfVectorizer(min_df = 2, max_df = 0.5, ngram_range = (1, 2))),\n",
    "                    ('xgboost', XGBRegressor(random_state=101, n_jobs=-1))])\n",
    "    modelos[category] = pipe\n",
    "    X_treino = dados_treino1.query(f'category_1 == \"{category}\"')['comb_name_description']\n",
    "    y_treino = np.log(dados_treino1.query(f'category_1 == \"{category}\"')['price'])\n",
    "    # pipe.fit(X_treino, y_treino)\n",
    "    modelos[category].fit(X_treino, y_treino)\n"
   ]
  },
  {
   "cell_type": "markdown",
   "metadata": {},
   "source": [
    "Tempo de treino: 8m 46.4s"
   ]
  },
  {
   "cell_type": "code",
   "execution_count": 33,
   "metadata": {},
   "outputs": [],
   "source": [
    "dados_teste1 = dados_teste1.assign(pred=0)"
   ]
  },
  {
   "cell_type": "code",
   "execution_count": 34,
   "metadata": {},
   "outputs": [],
   "source": [
    "for category in dados_teste1.category_1.unique():\n",
    "    index = dados_teste1.query(f'category_1 == \"{category}\"').index\n",
    "    dados_teste1.loc[index, 'pred'] = np.exp(modelos[category].predict(dados_teste1.loc[index]['comb_name_description']))\n",
    "\n",
    "dados_teste1.loc[dados_teste1.pred < 3, 'pred'] = 3"
   ]
  },
  {
   "cell_type": "markdown",
   "metadata": {},
   "source": [
    "Tempo previsão: 25.4s"
   ]
  },
  {
   "cell_type": "markdown",
   "metadata": {},
   "source": [
    "Avaliação geral"
   ]
  },
  {
   "cell_type": "code",
   "execution_count": 35,
   "metadata": {},
   "outputs": [
    {
     "name": "stdout",
     "output_type": "stream",
     "text": [
      "R² = 0.320\n",
      "MAPE = 46.681 %\n",
      "MAE = U$S 11.85\n",
      "RMSE = U$S 31.64\n",
      "MSLE = 0.283\n"
     ]
    }
   ],
   "source": [
    "print_avaliacao(dados_teste1['price'], dados_teste1['pred'])"
   ]
  },
  {
   "cell_type": "markdown",
   "metadata": {},
   "source": [
    "Avaliação por categoria principal"
   ]
  },
  {
   "cell_type": "code",
   "execution_count": 36,
   "metadata": {},
   "outputs": [
    {
     "data": {
      "text/html": [
       "<div>\n",
       "<style scoped>\n",
       "    .dataframe tbody tr th:only-of-type {\n",
       "        vertical-align: middle;\n",
       "    }\n",
       "\n",
       "    .dataframe tbody tr th {\n",
       "        vertical-align: top;\n",
       "    }\n",
       "\n",
       "    .dataframe thead th {\n",
       "        text-align: right;\n",
       "    }\n",
       "</style>\n",
       "<table border=\"1\" class=\"dataframe\">\n",
       "  <thead>\n",
       "    <tr style=\"text-align: right;\">\n",
       "      <th></th>\n",
       "      <th>Women</th>\n",
       "      <th>Men</th>\n",
       "      <th>Vintage &amp; Collectibles</th>\n",
       "      <th>Electronics</th>\n",
       "      <th>Beauty</th>\n",
       "      <th>Kids</th>\n",
       "      <th>Other</th>\n",
       "      <th>Home</th>\n",
       "      <th>Sports &amp; Outdoors</th>\n",
       "      <th>Handmade</th>\n",
       "      <th>No category</th>\n",
       "    </tr>\n",
       "  </thead>\n",
       "  <tbody>\n",
       "    <tr>\n",
       "      <th>R²</th>\n",
       "      <td>0.324</td>\n",
       "      <td>0.444</td>\n",
       "      <td>0.267</td>\n",
       "      <td>0.302</td>\n",
       "      <td>0.144</td>\n",
       "      <td>0.277</td>\n",
       "      <td>0.165</td>\n",
       "      <td>0.299</td>\n",
       "      <td>0.339</td>\n",
       "      <td>0.238</td>\n",
       "      <td>0.072</td>\n",
       "    </tr>\n",
       "    <tr>\n",
       "      <th>MAPE</th>\n",
       "      <td>45.714</td>\n",
       "      <td>46.247</td>\n",
       "      <td>56.942</td>\n",
       "      <td>54.254</td>\n",
       "      <td>43.903</td>\n",
       "      <td>45.331</td>\n",
       "      <td>49.776</td>\n",
       "      <td>44.999</td>\n",
       "      <td>46.405</td>\n",
       "      <td>46.513</td>\n",
       "      <td>59.973</td>\n",
       "    </tr>\n",
       "    <tr>\n",
       "      <th>MAE</th>\n",
       "      <td>12.380</td>\n",
       "      <td>14.710</td>\n",
       "      <td>14.470</td>\n",
       "      <td>18.830</td>\n",
       "      <td>8.240</td>\n",
       "      <td>8.770</td>\n",
       "      <td>9.990</td>\n",
       "      <td>10.080</td>\n",
       "      <td>11.090</td>\n",
       "      <td>8.340</td>\n",
       "      <td>13.560</td>\n",
       "    </tr>\n",
       "    <tr>\n",
       "      <th>RMSE</th>\n",
       "      <td>32.170</td>\n",
       "      <td>29.890</td>\n",
       "      <td>43.410</td>\n",
       "      <td>54.970</td>\n",
       "      <td>22.430</td>\n",
       "      <td>18.910</td>\n",
       "      <td>25.100</td>\n",
       "      <td>19.510</td>\n",
       "      <td>24.160</td>\n",
       "      <td>21.860</td>\n",
       "      <td>29.170</td>\n",
       "    </tr>\n",
       "    <tr>\n",
       "      <th>MSLE</th>\n",
       "      <td>0.271</td>\n",
       "      <td>0.272</td>\n",
       "      <td>0.406</td>\n",
       "      <td>0.380</td>\n",
       "      <td>0.250</td>\n",
       "      <td>0.263</td>\n",
       "      <td>0.324</td>\n",
       "      <td>0.264</td>\n",
       "      <td>0.288</td>\n",
       "      <td>0.279</td>\n",
       "      <td>0.437</td>\n",
       "    </tr>\n",
       "  </tbody>\n",
       "</table>\n",
       "</div>"
      ],
      "text/plain": [
       "       Women     Men  Vintage & Collectibles  Electronics  Beauty    Kids  \\\n",
       "R²     0.324   0.444                   0.267        0.302   0.144   0.277   \n",
       "MAPE  45.714  46.247                  56.942       54.254  43.903  45.331   \n",
       "MAE   12.380  14.710                  14.470       18.830   8.240   8.770   \n",
       "RMSE  32.170  29.890                  43.410       54.970  22.430  18.910   \n",
       "MSLE   0.271   0.272                   0.406        0.380   0.250   0.263   \n",
       "\n",
       "       Other    Home  Sports & Outdoors  Handmade  No category  \n",
       "R²     0.165   0.299              0.339     0.238        0.072  \n",
       "MAPE  49.776  44.999             46.405    46.513       59.973  \n",
       "MAE    9.990  10.080             11.090     8.340       13.560  \n",
       "RMSE  25.100  19.510             24.160    21.860       29.170  \n",
       "MSLE   0.324   0.264              0.288     0.279        0.437  "
      ]
     },
     "execution_count": 36,
     "metadata": {},
     "output_type": "execute_result"
    }
   ],
   "source": [
    "avaliacoes = {}\n",
    "\n",
    "for categoria in dados_teste1.category_1.unique():\n",
    "    dados_cat = dados_teste1.query(f'category_1 == \"{categoria}\"')\n",
    "    avaliacoes[categoria] = calc_metricas(dados_cat['price'], dados_cat['pred'])\n",
    "\n",
    "avaliacoes = pd.DataFrame(avaliacoes, index=['R²', 'MAPE', 'MAE', 'RMSE', 'MSLE'])\n",
    "\n",
    "avaliacoes"
   ]
  },
  {
   "cell_type": "code",
   "execution_count": null,
   "metadata": {},
   "outputs": [],
   "source": []
  }
 ],
 "metadata": {
  "kernelspec": {
   "display_name": "Python 3.9.12 ('base')",
   "language": "python",
   "name": "python3"
  },
  "language_info": {
   "codemirror_mode": {
    "name": "ipython",
    "version": 3
   },
   "file_extension": ".py",
   "mimetype": "text/x-python",
   "name": "python",
   "nbconvert_exporter": "python",
   "pygments_lexer": "ipython3",
   "version": "3.9.12"
  },
  "orig_nbformat": 4,
  "vscode": {
   "interpreter": {
    "hash": "7832355663de3739c43a670b9e0e66b306696971f3c515f01e5590b4e36bbdc6"
   }
  }
 },
 "nbformat": 4,
 "nbformat_minor": 2
}
