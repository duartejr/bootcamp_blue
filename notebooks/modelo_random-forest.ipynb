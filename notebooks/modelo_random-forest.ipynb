{
 "cells": [
  {
   "cell_type": "markdown",
   "metadata": {},
   "source": [
    "# Modelo: Random Forest"
   ]
  },
  {
   "cell_type": "code",
   "execution_count": 1,
   "metadata": {},
   "outputs": [],
   "source": [
    "import pandas as pd\n",
    "import numpy as np\n",
    "from sklearn.ensemble import RandomForestRegressor\n",
    "from sklearn.preprocessing import LabelEncoder\n",
    "from sklearn import metrics"
   ]
  },
  {
   "cell_type": "code",
   "execution_count": 2,
   "metadata": {},
   "outputs": [],
   "source": [
    "def calc_metricas(obs, pred):\n",
    "    r2 = metrics.r2_score(obs, pred).round(3)\n",
    "    mape = (100 * metrics.mean_absolute_percentage_error(obs, pred)).round(3)\n",
    "    mae = metrics.mean_absolute_error(obs, pred).round(2)\n",
    "    rmse = (metrics.mean_squared_error(obs, pred)**0.5).round(2)\n",
    "    msle = metrics.mean_squared_log_error(obs, pred).round(3)\n",
    "    \n",
    "    return [r2, mape, mae, rmse, msle]\n",
    "\n",
    "def print_avaliacao(obs, pred):\n",
    "    print('R² = %.3f' % metrics.r2_score(obs, pred))\n",
    "    print('MAPE = %.3f %%' % (100 * metrics.mean_absolute_percentage_error(obs, pred)))\n",
    "    print('MAE = U$S %.2f' % (metrics.mean_absolute_error(obs, pred)))\n",
    "    print('RMSE = U$S %.2f' % metrics.mean_squared_error(obs, pred)**0.5)\n",
    "    print('MSLE = %.3f' % metrics.mean_squared_log_error(obs, pred))\n"
   ]
  },
  {
   "cell_type": "code",
   "execution_count": 3,
   "metadata": {},
   "outputs": [],
   "source": [
    "dados_treino = pd.read_csv('../data/processed/train_data.csv')\n",
    "dados_teste = pd.read_csv('../data/processed/test_data.csv')"
   ]
  },
  {
   "cell_type": "code",
   "execution_count": 4,
   "metadata": {},
   "outputs": [],
   "source": [
    "le_cat1 = LabelEncoder()\n",
    "le_cat2 = LabelEncoder()\n",
    "le_cat3 = LabelEncoder()\n",
    "le_brand = LabelEncoder()\n",
    "\n",
    "le_cat1 = le_cat1.fit(dados_treino.category_1)\n",
    "le_cat2 = le_cat2.fit(dados_treino.category_2)\n",
    "le_cat3 = le_cat3.fit(dados_treino.category_3)\n",
    "le_brand = le_brand.fit(dados_treino.brand_name)\n",
    "\n",
    "dados_treino['category_1'] = le_cat1.transform(dados_treino.category_1)\n",
    "dados_treino['category_2'] = le_cat2.transform(dados_treino.category_2)\n",
    "dados_treino['category_3'] = le_cat3.transform(dados_treino.category_3)\n",
    "dados_treino['brand_name'] = le_brand.transform(dados_treino.brand_name)"
   ]
  },
  {
   "cell_type": "code",
   "execution_count": 5,
   "metadata": {},
   "outputs": [],
   "source": [
    "dic_cat1 = dict(zip(le_cat1.classes_, le_cat1.transform(le_cat1.classes_)))\n",
    "dic_cat2 = dict(zip(le_cat2.classes_, le_cat2.transform(le_cat2.classes_)))\n",
    "dic_cat3 = dict(zip(le_cat3.classes_, le_cat3.transform(le_cat3.classes_)))\n",
    "dic_brand = dict(zip(le_brand.classes_, le_brand.transform(le_brand.classes_)))\n"
   ]
  },
  {
   "cell_type": "code",
   "execution_count": 6,
   "metadata": {},
   "outputs": [],
   "source": [
    "dados_teste = pd.read_csv('../data/processed/test_data.csv')\n",
    "dados_teste['category_1'] = dados_teste['category_1'].map(dic_cat1).fillna(-1)\n",
    "dados_teste['category_2'] = dados_teste['category_2'].map(dic_cat2).fillna(-1)\n",
    "dados_teste['category_3'] = dados_teste['category_3'].map(dic_cat3).fillna(-1)\n",
    "dados_teste['brand_name'] = dados_teste['brand_name'].map(dic_brand).fillna(-1)"
   ]
  },
  {
   "cell_type": "markdown",
   "metadata": {},
   "source": [
    "## Modelo geral"
   ]
  },
  {
   "cell_type": "code",
   "execution_count": 7,
   "metadata": {},
   "outputs": [
    {
     "data": {
      "text/html": [
       "<style>#sk-container-id-1 {color: black;background-color: white;}#sk-container-id-1 pre{padding: 0;}#sk-container-id-1 div.sk-toggleable {background-color: white;}#sk-container-id-1 label.sk-toggleable__label {cursor: pointer;display: block;width: 100%;margin-bottom: 0;padding: 0.3em;box-sizing: border-box;text-align: center;}#sk-container-id-1 label.sk-toggleable__label-arrow:before {content: \"▸\";float: left;margin-right: 0.25em;color: #696969;}#sk-container-id-1 label.sk-toggleable__label-arrow:hover:before {color: black;}#sk-container-id-1 div.sk-estimator:hover label.sk-toggleable__label-arrow:before {color: black;}#sk-container-id-1 div.sk-toggleable__content {max-height: 0;max-width: 0;overflow: hidden;text-align: left;background-color: #f0f8ff;}#sk-container-id-1 div.sk-toggleable__content pre {margin: 0.2em;color: black;border-radius: 0.25em;background-color: #f0f8ff;}#sk-container-id-1 input.sk-toggleable__control:checked~div.sk-toggleable__content {max-height: 200px;max-width: 100%;overflow: auto;}#sk-container-id-1 input.sk-toggleable__control:checked~label.sk-toggleable__label-arrow:before {content: \"▾\";}#sk-container-id-1 div.sk-estimator input.sk-toggleable__control:checked~label.sk-toggleable__label {background-color: #d4ebff;}#sk-container-id-1 div.sk-label input.sk-toggleable__control:checked~label.sk-toggleable__label {background-color: #d4ebff;}#sk-container-id-1 input.sk-hidden--visually {border: 0;clip: rect(1px 1px 1px 1px);clip: rect(1px, 1px, 1px, 1px);height: 1px;margin: -1px;overflow: hidden;padding: 0;position: absolute;width: 1px;}#sk-container-id-1 div.sk-estimator {font-family: monospace;background-color: #f0f8ff;border: 1px dotted black;border-radius: 0.25em;box-sizing: border-box;margin-bottom: 0.5em;}#sk-container-id-1 div.sk-estimator:hover {background-color: #d4ebff;}#sk-container-id-1 div.sk-parallel-item::after {content: \"\";width: 100%;border-bottom: 1px solid gray;flex-grow: 1;}#sk-container-id-1 div.sk-label:hover label.sk-toggleable__label {background-color: #d4ebff;}#sk-container-id-1 div.sk-serial::before {content: \"\";position: absolute;border-left: 1px solid gray;box-sizing: border-box;top: 0;bottom: 0;left: 50%;z-index: 0;}#sk-container-id-1 div.sk-serial {display: flex;flex-direction: column;align-items: center;background-color: white;padding-right: 0.2em;padding-left: 0.2em;position: relative;}#sk-container-id-1 div.sk-item {position: relative;z-index: 1;}#sk-container-id-1 div.sk-parallel {display: flex;align-items: stretch;justify-content: center;background-color: white;position: relative;}#sk-container-id-1 div.sk-item::before, #sk-container-id-1 div.sk-parallel-item::before {content: \"\";position: absolute;border-left: 1px solid gray;box-sizing: border-box;top: 0;bottom: 0;left: 50%;z-index: -1;}#sk-container-id-1 div.sk-parallel-item {display: flex;flex-direction: column;z-index: 1;position: relative;background-color: white;}#sk-container-id-1 div.sk-parallel-item:first-child::after {align-self: flex-end;width: 50%;}#sk-container-id-1 div.sk-parallel-item:last-child::after {align-self: flex-start;width: 50%;}#sk-container-id-1 div.sk-parallel-item:only-child::after {width: 0;}#sk-container-id-1 div.sk-dashed-wrapped {border: 1px dashed gray;margin: 0 0.4em 0.5em 0.4em;box-sizing: border-box;padding-bottom: 0.4em;background-color: white;}#sk-container-id-1 div.sk-label label {font-family: monospace;font-weight: bold;display: inline-block;line-height: 1.2em;}#sk-container-id-1 div.sk-label-container {text-align: center;}#sk-container-id-1 div.sk-container {/* jupyter's `normalize.less` sets `[hidden] { display: none; }` but bootstrap.min.css set `[hidden] { display: none !important; }` so we also need the `!important` here to be able to override the default hidden behavior on the sphinx rendered scikit-learn.org. See: https://github.com/scikit-learn/scikit-learn/issues/21755 */display: inline-block !important;position: relative;}#sk-container-id-1 div.sk-text-repr-fallback {display: none;}</style><div id=\"sk-container-id-1\" class=\"sk-top-container\"><div class=\"sk-text-repr-fallback\"><pre>RandomForestRegressor(criterion=&#x27;poisson&#x27;, n_jobs=-1, random_state=101,\n",
       "                      warm_start=True)</pre><b>In a Jupyter environment, please rerun this cell to show the HTML representation or trust the notebook. <br />On GitHub, the HTML representation is unable to render, please try loading this page with nbviewer.org.</b></div><div class=\"sk-container\" hidden><div class=\"sk-item\"><div class=\"sk-estimator sk-toggleable\"><input class=\"sk-toggleable__control sk-hidden--visually\" id=\"sk-estimator-id-1\" type=\"checkbox\" checked><label for=\"sk-estimator-id-1\" class=\"sk-toggleable__label sk-toggleable__label-arrow\">RandomForestRegressor</label><div class=\"sk-toggleable__content\"><pre>RandomForestRegressor(criterion=&#x27;poisson&#x27;, n_jobs=-1, random_state=101,\n",
       "                      warm_start=True)</pre></div></div></div></div></div>"
      ],
      "text/plain": [
       "RandomForestRegressor(criterion='poisson', n_jobs=-1, random_state=101,\n",
       "                      warm_start=True)"
      ]
     },
     "execution_count": 7,
     "metadata": {},
     "output_type": "execute_result"
    }
   ],
   "source": [
    "rfr = RandomForestRegressor(n_jobs=-1, random_state=101, criterion='poisson', warm_start=True)\n",
    "X_treino = dados_treino[['category_1', 'category_2', 'category_3', 'brand_name', 'item_condition_id', 'shipping']]\n",
    "y_treino = dados_treino['price']\n",
    "\n",
    "rfr.fit(X_treino, y_treino)\n"
   ]
  },
  {
   "cell_type": "markdown",
   "metadata": {},
   "source": [
    "Tempo para treinamento: 3m3.1s"
   ]
  },
  {
   "cell_type": "code",
   "execution_count": 8,
   "metadata": {},
   "outputs": [],
   "source": [
    "dados_teste['pred'] = rfr.predict(dados_teste[['category_1', \n",
    "                                                 'category_2', \n",
    "                                                 'category_3', \n",
    "                                                 'brand_name', \n",
    "                                                 'item_condition_id', \n",
    "                                                 'shipping']])\n",
    "dados_teste.loc[dados_teste.pred < 3, 'pred'] = 3"
   ]
  },
  {
   "cell_type": "markdown",
   "metadata": {},
   "source": [
    "Tempo para previsão: 14.4s"
   ]
  },
  {
   "cell_type": "markdown",
   "metadata": {},
   "source": [
    "Avaliação geral"
   ]
  },
  {
   "cell_type": "code",
   "execution_count": 9,
   "metadata": {},
   "outputs": [
    {
     "name": "stdout",
     "output_type": "stream",
     "text": [
      "R² = 0.343\n",
      "MAPE = 65.466 %\n",
      "MAE = U$S 13.15\n",
      "RMSE = U$S 31.09\n",
      "MSLE = 0.348\n"
     ]
    }
   ],
   "source": [
    "print_avaliacao(dados_teste['price'], dados_teste['pred'])"
   ]
  },
  {
   "cell_type": "markdown",
   "metadata": {},
   "source": [
    "Avaliação por categoria"
   ]
  },
  {
   "cell_type": "code",
   "execution_count": 10,
   "metadata": {},
   "outputs": [
    {
     "data": {
      "text/html": [
       "<div>\n",
       "<style scoped>\n",
       "    .dataframe tbody tr th:only-of-type {\n",
       "        vertical-align: middle;\n",
       "    }\n",
       "\n",
       "    .dataframe tbody tr th {\n",
       "        vertical-align: top;\n",
       "    }\n",
       "\n",
       "    .dataframe thead th {\n",
       "        text-align: right;\n",
       "    }\n",
       "</style>\n",
       "<table border=\"1\" class=\"dataframe\">\n",
       "  <thead>\n",
       "    <tr style=\"text-align: right;\">\n",
       "      <th></th>\n",
       "      <th>Women</th>\n",
       "      <th>Men</th>\n",
       "      <th>Vintage &amp; Collectibles</th>\n",
       "      <th>Electronics</th>\n",
       "      <th>Beauty</th>\n",
       "      <th>Kids</th>\n",
       "      <th>Other</th>\n",
       "      <th>Home</th>\n",
       "      <th>Sports &amp; Outdoors</th>\n",
       "      <th>Handmade</th>\n",
       "      <th>No category</th>\n",
       "    </tr>\n",
       "  </thead>\n",
       "  <tbody>\n",
       "    <tr>\n",
       "      <th>R²</th>\n",
       "      <td>0.341</td>\n",
       "      <td>0.461</td>\n",
       "      <td>0.246</td>\n",
       "      <td>0.410</td>\n",
       "      <td>0.072</td>\n",
       "      <td>0.234</td>\n",
       "      <td>0.115</td>\n",
       "      <td>0.169</td>\n",
       "      <td>0.206</td>\n",
       "      <td>0.181</td>\n",
       "      <td>-0.005</td>\n",
       "    </tr>\n",
       "    <tr>\n",
       "      <th>MAPE</th>\n",
       "      <td>57.748</td>\n",
       "      <td>59.186</td>\n",
       "      <td>95.545</td>\n",
       "      <td>90.763</td>\n",
       "      <td>64.931</td>\n",
       "      <td>65.272</td>\n",
       "      <td>81.856</td>\n",
       "      <td>65.610</td>\n",
       "      <td>75.150</td>\n",
       "      <td>72.415</td>\n",
       "      <td>93.258</td>\n",
       "    </tr>\n",
       "    <tr>\n",
       "      <th>MAE</th>\n",
       "      <td>12.970</td>\n",
       "      <td>15.690</td>\n",
       "      <td>17.680</td>\n",
       "      <td>21.300</td>\n",
       "      <td>9.850</td>\n",
       "      <td>10.380</td>\n",
       "      <td>12.220</td>\n",
       "      <td>12.250</td>\n",
       "      <td>13.850</td>\n",
       "      <td>10.180</td>\n",
       "      <td>15.900</td>\n",
       "    </tr>\n",
       "    <tr>\n",
       "      <th>RMSE</th>\n",
       "      <td>31.770</td>\n",
       "      <td>29.420</td>\n",
       "      <td>44.010</td>\n",
       "      <td>50.550</td>\n",
       "      <td>23.340</td>\n",
       "      <td>19.460</td>\n",
       "      <td>25.800</td>\n",
       "      <td>21.240</td>\n",
       "      <td>26.470</td>\n",
       "      <td>22.700</td>\n",
       "      <td>30.360</td>\n",
       "    </tr>\n",
       "    <tr>\n",
       "      <th>MSLE</th>\n",
       "      <td>0.298</td>\n",
       "      <td>0.310</td>\n",
       "      <td>0.552</td>\n",
       "      <td>0.503</td>\n",
       "      <td>0.344</td>\n",
       "      <td>0.342</td>\n",
       "      <td>0.449</td>\n",
       "      <td>0.356</td>\n",
       "      <td>0.419</td>\n",
       "      <td>0.384</td>\n",
       "      <td>0.576</td>\n",
       "    </tr>\n",
       "  </tbody>\n",
       "</table>\n",
       "</div>"
      ],
      "text/plain": [
       "       Women     Men  Vintage & Collectibles  Electronics  Beauty    Kids  \\\n",
       "R²     0.341   0.461                   0.246        0.410   0.072   0.234   \n",
       "MAPE  57.748  59.186                  95.545       90.763  64.931  65.272   \n",
       "MAE   12.970  15.690                  17.680       21.300   9.850  10.380   \n",
       "RMSE  31.770  29.420                  44.010       50.550  23.340  19.460   \n",
       "MSLE   0.298   0.310                   0.552        0.503   0.344   0.342   \n",
       "\n",
       "       Other    Home  Sports & Outdoors  Handmade  No category  \n",
       "R²     0.115   0.169              0.206     0.181       -0.005  \n",
       "MAPE  81.856  65.610             75.150    72.415       93.258  \n",
       "MAE   12.220  12.250             13.850    10.180       15.900  \n",
       "RMSE  25.800  21.240             26.470    22.700       30.360  \n",
       "MSLE   0.449   0.356              0.419     0.384        0.576  "
      ]
     },
     "execution_count": 10,
     "metadata": {},
     "output_type": "execute_result"
    }
   ],
   "source": [
    "avaliacoes = {}\n",
    "\n",
    "for categoria in dados_teste.category_1.unique():\n",
    "    dados_cat = dados_teste.query(f'category_1 == {categoria}')\n",
    "    avaliacoes[categoria] = calc_metricas(dados_cat['price'], dados_cat['pred'])\n",
    "\n",
    "avaliacoes = pd.DataFrame(avaliacoes, index=['R²', 'MAPE', 'MAE', 'RMSE', 'MSLE'])\n",
    "\n",
    "avaliacoes.columns = ['Women', 'Men', 'Vintage & Collectibles', 'Electronics',\n",
    "                      'Beauty', 'Kids', 'Other', 'Home', 'Sports & Outdoors',\n",
    "                      'Handmade', 'No category']\n",
    "\n",
    "avaliacoes"
   ]
  },
  {
   "cell_type": "markdown",
   "metadata": {},
   "source": [
    "## Modelo por categorias"
   ]
  },
  {
   "cell_type": "code",
   "execution_count": 11,
   "metadata": {},
   "outputs": [],
   "source": [
    "modelos = {}\n",
    "\n",
    "for category in dados_treino.category_1.unique():\n",
    "    model = RandomForestRegressor(n_jobs=-1, random_state=101, criterion='poisson', warm_start=True)\n",
    "    modelos[category] = model\n",
    "    X_treino = dados_treino.query(f'category_1 == {category}')[['category_2', 'category_3', 'brand_name', 'item_condition_id', 'shipping']]\n",
    "    y_treino = dados_treino.query(f'category_1 == {category}')['price']\n",
    "    # pipe.fit(X_treino, y_treino)\n",
    "    modelos[category].fit(X_treino, y_treino)"
   ]
  },
  {
   "cell_type": "markdown",
   "metadata": {},
   "source": [
    "Tempo para treino: 1m 14.9s"
   ]
  },
  {
   "cell_type": "code",
   "execution_count": 12,
   "metadata": {},
   "outputs": [],
   "source": [
    "dados_teste = dados_teste.assign(pred=0)\n",
    "for category in dados_teste.category_1.unique():\n",
    "    index = dados_teste.query(f'category_1 == {category}').index\n",
    "    dados_teste.loc[index, 'pred'] = modelos[category].predict(dados_teste.loc[index][['category_2', 'category_3', 'brand_name', 'item_condition_id', 'shipping']])"
   ]
  },
  {
   "cell_type": "markdown",
   "metadata": {},
   "source": [
    "Tempo para previsão: 6.8s"
   ]
  },
  {
   "cell_type": "markdown",
   "metadata": {},
   "source": [
    "Avaliação geral"
   ]
  },
  {
   "cell_type": "code",
   "execution_count": 13,
   "metadata": {},
   "outputs": [
    {
     "name": "stdout",
     "output_type": "stream",
     "text": [
      "R² = 0.341\n",
      "MAPE = 65.428 %\n",
      "MAE = U$S 13.16\n",
      "RMSE = U$S 31.14\n",
      "MSLE = 0.348\n"
     ]
    }
   ],
   "source": [
    "print_avaliacao(dados_teste['price'], dados_teste['pred'])"
   ]
  },
  {
   "cell_type": "markdown",
   "metadata": {},
   "source": [
    "Avaliação por categoria"
   ]
  },
  {
   "cell_type": "code",
   "execution_count": 14,
   "metadata": {},
   "outputs": [
    {
     "data": {
      "text/html": [
       "<div>\n",
       "<style scoped>\n",
       "    .dataframe tbody tr th:only-of-type {\n",
       "        vertical-align: middle;\n",
       "    }\n",
       "\n",
       "    .dataframe tbody tr th {\n",
       "        vertical-align: top;\n",
       "    }\n",
       "\n",
       "    .dataframe thead th {\n",
       "        text-align: right;\n",
       "    }\n",
       "</style>\n",
       "<table border=\"1\" class=\"dataframe\">\n",
       "  <thead>\n",
       "    <tr style=\"text-align: right;\">\n",
       "      <th></th>\n",
       "      <th>Women</th>\n",
       "      <th>Men</th>\n",
       "      <th>Vintage &amp; Collectibles</th>\n",
       "      <th>Electronics</th>\n",
       "      <th>Beauty</th>\n",
       "      <th>Kids</th>\n",
       "      <th>Other</th>\n",
       "      <th>Home</th>\n",
       "      <th>Sports &amp; Outdoors</th>\n",
       "      <th>Handmade</th>\n",
       "      <th>No category</th>\n",
       "    </tr>\n",
       "  </thead>\n",
       "  <tbody>\n",
       "    <tr>\n",
       "      <th>R²</th>\n",
       "      <td>0.337</td>\n",
       "      <td>0.457</td>\n",
       "      <td>0.251</td>\n",
       "      <td>0.410</td>\n",
       "      <td>0.072</td>\n",
       "      <td>0.232</td>\n",
       "      <td>0.113</td>\n",
       "      <td>0.161</td>\n",
       "      <td>0.214</td>\n",
       "      <td>0.189</td>\n",
       "      <td>-0.072</td>\n",
       "    </tr>\n",
       "    <tr>\n",
       "      <th>MAPE</th>\n",
       "      <td>57.764</td>\n",
       "      <td>59.389</td>\n",
       "      <td>95.262</td>\n",
       "      <td>90.495</td>\n",
       "      <td>65.016</td>\n",
       "      <td>65.067</td>\n",
       "      <td>81.335</td>\n",
       "      <td>65.523</td>\n",
       "      <td>75.018</td>\n",
       "      <td>72.207</td>\n",
       "      <td>95.863</td>\n",
       "    </tr>\n",
       "    <tr>\n",
       "      <th>MAE</th>\n",
       "      <td>12.980</td>\n",
       "      <td>15.760</td>\n",
       "      <td>17.680</td>\n",
       "      <td>21.280</td>\n",
       "      <td>9.860</td>\n",
       "      <td>10.380</td>\n",
       "      <td>12.190</td>\n",
       "      <td>12.260</td>\n",
       "      <td>13.810</td>\n",
       "      <td>10.170</td>\n",
       "      <td>16.220</td>\n",
       "    </tr>\n",
       "    <tr>\n",
       "      <th>RMSE</th>\n",
       "      <td>31.860</td>\n",
       "      <td>29.530</td>\n",
       "      <td>43.880</td>\n",
       "      <td>50.570</td>\n",
       "      <td>23.340</td>\n",
       "      <td>19.490</td>\n",
       "      <td>25.840</td>\n",
       "      <td>21.340</td>\n",
       "      <td>26.320</td>\n",
       "      <td>22.590</td>\n",
       "      <td>31.360</td>\n",
       "    </tr>\n",
       "    <tr>\n",
       "      <th>MSLE</th>\n",
       "      <td>0.299</td>\n",
       "      <td>0.312</td>\n",
       "      <td>0.552</td>\n",
       "      <td>0.502</td>\n",
       "      <td>0.344</td>\n",
       "      <td>0.342</td>\n",
       "      <td>0.447</td>\n",
       "      <td>0.357</td>\n",
       "      <td>0.419</td>\n",
       "      <td>0.383</td>\n",
       "      <td>0.592</td>\n",
       "    </tr>\n",
       "  </tbody>\n",
       "</table>\n",
       "</div>"
      ],
      "text/plain": [
       "       Women     Men  Vintage & Collectibles  Electronics  Beauty    Kids  \\\n",
       "R²     0.337   0.457                   0.251        0.410   0.072   0.232   \n",
       "MAPE  57.764  59.389                  95.262       90.495  65.016  65.067   \n",
       "MAE   12.980  15.760                  17.680       21.280   9.860  10.380   \n",
       "RMSE  31.860  29.530                  43.880       50.570  23.340  19.490   \n",
       "MSLE   0.299   0.312                   0.552        0.502   0.344   0.342   \n",
       "\n",
       "       Other    Home  Sports & Outdoors  Handmade  No category  \n",
       "R²     0.113   0.161              0.214     0.189       -0.072  \n",
       "MAPE  81.335  65.523             75.018    72.207       95.863  \n",
       "MAE   12.190  12.260             13.810    10.170       16.220  \n",
       "RMSE  25.840  21.340             26.320    22.590       31.360  \n",
       "MSLE   0.447   0.357              0.419     0.383        0.592  "
      ]
     },
     "execution_count": 14,
     "metadata": {},
     "output_type": "execute_result"
    }
   ],
   "source": [
    "avaliacoes = {}\n",
    "\n",
    "for categoria in dados_teste.category_1.unique():\n",
    "    dados_cat = dados_teste.query(f'category_1 == {categoria}')\n",
    "    avaliacoes[categoria] = calc_metricas(dados_cat['price'], dados_cat['pred'])\n",
    "\n",
    "avaliacoes = pd.DataFrame(avaliacoes, index=['R²', 'MAPE', 'MAE', 'RMSE', 'MSLE'],\n",
    "                          )\n",
    "avaliacoes.columns = ['Women', 'Men', 'Vintage & Collectibles', 'Electronics',\n",
    "                      'Beauty', 'Kids', 'Other', 'Home', 'Sports & Outdoors',\n",
    "                      'Handmade', 'No category']\n",
    "avaliacoes"
   ]
  },
  {
   "cell_type": "code",
   "execution_count": null,
   "metadata": {},
   "outputs": [],
   "source": []
  }
 ],
 "metadata": {
  "kernelspec": {
   "display_name": "Python 3.10.6 64-bit",
   "language": "python",
   "name": "python3"
  },
  "language_info": {
   "codemirror_mode": {
    "name": "ipython",
    "version": 3
   },
   "file_extension": ".py",
   "mimetype": "text/x-python",
   "name": "python",
   "nbconvert_exporter": "python",
   "pygments_lexer": "ipython3",
   "version": "3.10.6"
  },
  "orig_nbformat": 4,
  "vscode": {
   "interpreter": {
    "hash": "e7370f93d1d0cde622a1f8e1c04877d8463912d04d973331ad4851f04de6915a"
   }
  }
 },
 "nbformat": 4,
 "nbformat_minor": 2
}
