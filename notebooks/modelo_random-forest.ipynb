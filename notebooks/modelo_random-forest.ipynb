{
 "cells": [
  {
   "cell_type": "markdown",
   "metadata": {},
   "source": [
    "# Modelo: Random Forest"
   ]
  },
  {
   "cell_type": "code",
   "execution_count": 1,
   "metadata": {},
   "outputs": [],
   "source": [
    "import pandas as pd\n",
    "import numpy as np\n",
    "from sklearn.ensemble import RandomForestRegressor\n",
    "from sklearn.preprocessing import LabelEncoder\n",
    "from sklearn import metrics"
   ]
  },
  {
   "cell_type": "code",
   "execution_count": 2,
   "metadata": {},
   "outputs": [],
   "source": [
    "def calc_metricas(obs, pred):\n",
    "    r2 = metrics.r2_score(obs, pred).round(3)\n",
    "    mape = (100 * metrics.mean_absolute_percentage_error(obs, pred)).round(3)\n",
    "    mae = metrics.mean_absolute_error(obs, pred).round(2)\n",
    "    rmse = (metrics.mean_squared_error(obs, pred)**0.5).round(2)\n",
    "    msle = metrics.mean_squared_log_error(obs, pred).round(3)\n",
    "    \n",
    "    return [r2, mape, mae, rmse, msle]\n",
    "\n",
    "def print_avaliacao(obs, pred):\n",
    "    print('R² = %.3f' % metrics.r2_score(obs, pred))\n",
    "    print('MAPE = %.3f %%' % (100 * metrics.mean_absolute_percentage_error(obs, pred)))\n",
    "    print('MAE = U$S %.2f' % (metrics.mean_absolute_error(obs, pred)))\n",
    "    print('RMSE = U$S %.2f' % metrics.mean_squared_error(obs, pred)**0.5)\n",
    "    print('MSLE = %.3f' % metrics.mean_squared_log_error(obs, pred))\n"
   ]
  },
  {
   "cell_type": "code",
   "execution_count": 3,
   "metadata": {},
   "outputs": [],
   "source": [
    "dados_treino = pd.read_csv('../data/processed/train_data.csv')\n",
    "dados_teste = pd.read_csv('../data/processed/test_data.csv')"
   ]
  },
  {
   "cell_type": "code",
   "execution_count": 4,
   "metadata": {},
   "outputs": [],
   "source": [
    "le_cat1 = LabelEncoder()\n",
    "le_cat2 = LabelEncoder()\n",
    "le_cat3 = LabelEncoder()\n",
    "le_brand = LabelEncoder()\n",
    "\n",
    "le_cat1 = le_cat1.fit(dados_treino.category_1)\n",
    "le_cat2 = le_cat2.fit(dados_treino.category_2)\n",
    "le_cat3 = le_cat3.fit(dados_treino.category_3)\n",
    "le_brand = le_brand.fit(dados_treino.brand_name)\n",
    "\n",
    "dados_treino['category_1'] = le_cat1.transform(dados_treino.category_1)\n",
    "dados_treino['category_2'] = le_cat2.transform(dados_treino.category_2)\n",
    "dados_treino['category_3'] = le_cat3.transform(dados_treino.category_3)\n",
    "dados_treino['brand_name'] = le_brand.transform(dados_treino.brand_name)"
   ]
  },
  {
   "cell_type": "code",
   "execution_count": 5,
   "metadata": {},
   "outputs": [],
   "source": [
    "dic_cat1 = dict(zip(le_cat1.classes_, le_cat1.transform(le_cat1.classes_)))\n",
    "dic_cat2 = dict(zip(le_cat2.classes_, le_cat2.transform(le_cat2.classes_)))\n",
    "dic_cat3 = dict(zip(le_cat3.classes_, le_cat3.transform(le_cat3.classes_)))\n",
    "dic_brand = dict(zip(le_brand.classes_, le_brand.transform(le_brand.classes_)))\n"
   ]
  },
  {
   "cell_type": "code",
   "execution_count": 6,
   "metadata": {},
   "outputs": [],
   "source": [
    "dados_teste = pd.read_csv('../data/processed/test_data.csv')\n",
    "dados_teste['category_1'] = dados_teste['category_1'].map(dic_cat1).fillna(-1)\n",
    "dados_teste['category_2'] = dados_teste['category_2'].map(dic_cat2).fillna(-1)\n",
    "dados_teste['category_3'] = dados_teste['category_3'].map(dic_cat3).fillna(-1)\n",
    "dados_teste['brand_name'] = dados_teste['brand_name'].map(dic_brand).fillna(-1)"
   ]
  },
  {
   "cell_type": "markdown",
   "metadata": {},
   "source": [
    "## Modelo geral"
   ]
  },
  {
   "cell_type": "code",
   "execution_count": 7,
   "metadata": {},
   "outputs": [
    {
     "data": {
      "text/html": [
       "<style>#sk-container-id-1 {color: black;background-color: white;}#sk-container-id-1 pre{padding: 0;}#sk-container-id-1 div.sk-toggleable {background-color: white;}#sk-container-id-1 label.sk-toggleable__label {cursor: pointer;display: block;width: 100%;margin-bottom: 0;padding: 0.3em;box-sizing: border-box;text-align: center;}#sk-container-id-1 label.sk-toggleable__label-arrow:before {content: \"▸\";float: left;margin-right: 0.25em;color: #696969;}#sk-container-id-1 label.sk-toggleable__label-arrow:hover:before {color: black;}#sk-container-id-1 div.sk-estimator:hover label.sk-toggleable__label-arrow:before {color: black;}#sk-container-id-1 div.sk-toggleable__content {max-height: 0;max-width: 0;overflow: hidden;text-align: left;background-color: #f0f8ff;}#sk-container-id-1 div.sk-toggleable__content pre {margin: 0.2em;color: black;border-radius: 0.25em;background-color: #f0f8ff;}#sk-container-id-1 input.sk-toggleable__control:checked~div.sk-toggleable__content {max-height: 200px;max-width: 100%;overflow: auto;}#sk-container-id-1 input.sk-toggleable__control:checked~label.sk-toggleable__label-arrow:before {content: \"▾\";}#sk-container-id-1 div.sk-estimator input.sk-toggleable__control:checked~label.sk-toggleable__label {background-color: #d4ebff;}#sk-container-id-1 div.sk-label input.sk-toggleable__control:checked~label.sk-toggleable__label {background-color: #d4ebff;}#sk-container-id-1 input.sk-hidden--visually {border: 0;clip: rect(1px 1px 1px 1px);clip: rect(1px, 1px, 1px, 1px);height: 1px;margin: -1px;overflow: hidden;padding: 0;position: absolute;width: 1px;}#sk-container-id-1 div.sk-estimator {font-family: monospace;background-color: #f0f8ff;border: 1px dotted black;border-radius: 0.25em;box-sizing: border-box;margin-bottom: 0.5em;}#sk-container-id-1 div.sk-estimator:hover {background-color: #d4ebff;}#sk-container-id-1 div.sk-parallel-item::after {content: \"\";width: 100%;border-bottom: 1px solid gray;flex-grow: 1;}#sk-container-id-1 div.sk-label:hover label.sk-toggleable__label {background-color: #d4ebff;}#sk-container-id-1 div.sk-serial::before {content: \"\";position: absolute;border-left: 1px solid gray;box-sizing: border-box;top: 0;bottom: 0;left: 50%;z-index: 0;}#sk-container-id-1 div.sk-serial {display: flex;flex-direction: column;align-items: center;background-color: white;padding-right: 0.2em;padding-left: 0.2em;position: relative;}#sk-container-id-1 div.sk-item {position: relative;z-index: 1;}#sk-container-id-1 div.sk-parallel {display: flex;align-items: stretch;justify-content: center;background-color: white;position: relative;}#sk-container-id-1 div.sk-item::before, #sk-container-id-1 div.sk-parallel-item::before {content: \"\";position: absolute;border-left: 1px solid gray;box-sizing: border-box;top: 0;bottom: 0;left: 50%;z-index: -1;}#sk-container-id-1 div.sk-parallel-item {display: flex;flex-direction: column;z-index: 1;position: relative;background-color: white;}#sk-container-id-1 div.sk-parallel-item:first-child::after {align-self: flex-end;width: 50%;}#sk-container-id-1 div.sk-parallel-item:last-child::after {align-self: flex-start;width: 50%;}#sk-container-id-1 div.sk-parallel-item:only-child::after {width: 0;}#sk-container-id-1 div.sk-dashed-wrapped {border: 1px dashed gray;margin: 0 0.4em 0.5em 0.4em;box-sizing: border-box;padding-bottom: 0.4em;background-color: white;}#sk-container-id-1 div.sk-label label {font-family: monospace;font-weight: bold;display: inline-block;line-height: 1.2em;}#sk-container-id-1 div.sk-label-container {text-align: center;}#sk-container-id-1 div.sk-container {/* jupyter's `normalize.less` sets `[hidden] { display: none; }` but bootstrap.min.css set `[hidden] { display: none !important; }` so we also need the `!important` here to be able to override the default hidden behavior on the sphinx rendered scikit-learn.org. See: https://github.com/scikit-learn/scikit-learn/issues/21755 */display: inline-block !important;position: relative;}#sk-container-id-1 div.sk-text-repr-fallback {display: none;}</style><div id=\"sk-container-id-1\" class=\"sk-top-container\"><div class=\"sk-text-repr-fallback\"><pre>RandomForestRegressor(criterion=&#x27;poisson&#x27;, n_jobs=-1, random_state=101,\n",
       "                      warm_start=True)</pre><b>In a Jupyter environment, please rerun this cell to show the HTML representation or trust the notebook. <br />On GitHub, the HTML representation is unable to render, please try loading this page with nbviewer.org.</b></div><div class=\"sk-container\" hidden><div class=\"sk-item\"><div class=\"sk-estimator sk-toggleable\"><input class=\"sk-toggleable__control sk-hidden--visually\" id=\"sk-estimator-id-1\" type=\"checkbox\" checked><label for=\"sk-estimator-id-1\" class=\"sk-toggleable__label sk-toggleable__label-arrow\">RandomForestRegressor</label><div class=\"sk-toggleable__content\"><pre>RandomForestRegressor(criterion=&#x27;poisson&#x27;, n_jobs=-1, random_state=101,\n",
       "                      warm_start=True)</pre></div></div></div></div></div>"
      ],
      "text/plain": [
       "RandomForestRegressor(criterion='poisson', n_jobs=-1, random_state=101,\n",
       "                      warm_start=True)"
      ]
     },
     "execution_count": 7,
     "metadata": {},
     "output_type": "execute_result"
    }
   ],
   "source": [
    "rfr = RandomForestRegressor(n_jobs=-1, random_state=101, criterion='poisson', warm_start=True)\n",
    "X_treino = dados_treino[['category_1', 'category_2', 'category_3', 'brand_name', 'item_condition_id', 'shipping']]\n",
    "y_treino = np.log(dados_treino['price'])\n",
    "\n",
    "rfr.fit(X_treino, y_treino)\n"
   ]
  },
  {
   "cell_type": "markdown",
   "metadata": {},
   "source": [
    "Tempo para treinamento: 3m3.1s"
   ]
  },
  {
   "cell_type": "code",
   "execution_count": 8,
   "metadata": {},
   "outputs": [],
   "source": [
    "dados_teste['pred'] = np.exp(rfr.predict(dados_teste[['category_1', \n",
    "                                                 'category_2', \n",
    "                                                 'category_3', \n",
    "                                                 'brand_name', \n",
    "                                                 'item_condition_id', \n",
    "                                                 'shipping']]))\n",
    "dados_teste.loc[dados_teste.pred < 3, 'pred'] = 3"
   ]
  },
  {
   "cell_type": "markdown",
   "metadata": {},
   "source": [
    "Tempo para previsão: 14.4s"
   ]
  },
  {
   "cell_type": "markdown",
   "metadata": {},
   "source": [
    "Avaliação geral"
   ]
  },
  {
   "cell_type": "code",
   "execution_count": 9,
   "metadata": {},
   "outputs": [
    {
     "name": "stdout",
     "output_type": "stream",
     "text": [
      "R² = 0.308\n",
      "MAPE = 48.711 %\n",
      "MAE = U$S 12.18\n",
      "RMSE = U$S 31.91\n",
      "MSLE = 0.306\n"
     ]
    }
   ],
   "source": [
    "print_avaliacao(dados_teste['price'], dados_teste['pred'])"
   ]
  },
  {
   "cell_type": "markdown",
   "metadata": {},
   "source": [
    "Avaliação por categoria"
   ]
  },
  {
   "cell_type": "code",
   "execution_count": 10,
   "metadata": {},
   "outputs": [
    {
     "data": {
      "text/html": [
       "<div>\n",
       "<style scoped>\n",
       "    .dataframe tbody tr th:only-of-type {\n",
       "        vertical-align: middle;\n",
       "    }\n",
       "\n",
       "    .dataframe tbody tr th {\n",
       "        vertical-align: top;\n",
       "    }\n",
       "\n",
       "    .dataframe thead th {\n",
       "        text-align: right;\n",
       "    }\n",
       "</style>\n",
       "<table border=\"1\" class=\"dataframe\">\n",
       "  <thead>\n",
       "    <tr style=\"text-align: right;\">\n",
       "      <th></th>\n",
       "      <th>Women</th>\n",
       "      <th>Men</th>\n",
       "      <th>Vintage &amp; Collectibles</th>\n",
       "      <th>Electronics</th>\n",
       "      <th>Beauty</th>\n",
       "      <th>Kids</th>\n",
       "      <th>Other</th>\n",
       "      <th>Home</th>\n",
       "      <th>Sports &amp; Outdoors</th>\n",
       "      <th>Handmade</th>\n",
       "      <th>No category</th>\n",
       "    </tr>\n",
       "  </thead>\n",
       "  <tbody>\n",
       "    <tr>\n",
       "      <th>R²</th>\n",
       "      <td>0.313</td>\n",
       "      <td>0.430</td>\n",
       "      <td>0.219</td>\n",
       "      <td>0.347</td>\n",
       "      <td>0.054</td>\n",
       "      <td>0.202</td>\n",
       "      <td>0.106</td>\n",
       "      <td>0.145</td>\n",
       "      <td>0.172</td>\n",
       "      <td>0.158</td>\n",
       "      <td>-0.018</td>\n",
       "    </tr>\n",
       "    <tr>\n",
       "      <th>MAPE</th>\n",
       "      <td>44.457</td>\n",
       "      <td>47.156</td>\n",
       "      <td>62.032</td>\n",
       "      <td>61.364</td>\n",
       "      <td>49.247</td>\n",
       "      <td>48.840</td>\n",
       "      <td>55.564</td>\n",
       "      <td>49.847</td>\n",
       "      <td>54.332</td>\n",
       "      <td>50.573</td>\n",
       "      <td>62.988</td>\n",
       "    </tr>\n",
       "    <tr>\n",
       "      <th>MAE</th>\n",
       "      <td>12.140</td>\n",
       "      <td>14.890</td>\n",
       "      <td>15.520</td>\n",
       "      <td>19.670</td>\n",
       "      <td>9.100</td>\n",
       "      <td>9.460</td>\n",
       "      <td>10.850</td>\n",
       "      <td>11.300</td>\n",
       "      <td>12.760</td>\n",
       "      <td>9.090</td>\n",
       "      <td>14.310</td>\n",
       "    </tr>\n",
       "    <tr>\n",
       "      <th>RMSE</th>\n",
       "      <td>32.420</td>\n",
       "      <td>30.240</td>\n",
       "      <td>44.810</td>\n",
       "      <td>53.180</td>\n",
       "      <td>23.570</td>\n",
       "      <td>19.860</td>\n",
       "      <td>25.950</td>\n",
       "      <td>21.540</td>\n",
       "      <td>27.030</td>\n",
       "      <td>23.010</td>\n",
       "      <td>30.550</td>\n",
       "    </tr>\n",
       "    <tr>\n",
       "      <th>MSLE</th>\n",
       "      <td>0.266</td>\n",
       "      <td>0.281</td>\n",
       "      <td>0.462</td>\n",
       "      <td>0.427</td>\n",
       "      <td>0.308</td>\n",
       "      <td>0.301</td>\n",
       "      <td>0.380</td>\n",
       "      <td>0.320</td>\n",
       "      <td>0.372</td>\n",
       "      <td>0.328</td>\n",
       "      <td>0.497</td>\n",
       "    </tr>\n",
       "  </tbody>\n",
       "</table>\n",
       "</div>"
      ],
      "text/plain": [
       "       Women     Men  Vintage & Collectibles  Electronics  Beauty    Kids  \\\n",
       "R²     0.313   0.430                   0.219        0.347   0.054   0.202   \n",
       "MAPE  44.457  47.156                  62.032       61.364  49.247  48.840   \n",
       "MAE   12.140  14.890                  15.520       19.670   9.100   9.460   \n",
       "RMSE  32.420  30.240                  44.810       53.180  23.570  19.860   \n",
       "MSLE   0.266   0.281                   0.462        0.427   0.308   0.301   \n",
       "\n",
       "       Other    Home  Sports & Outdoors  Handmade  No category  \n",
       "R²     0.106   0.145              0.172     0.158       -0.018  \n",
       "MAPE  55.564  49.847             54.332    50.573       62.988  \n",
       "MAE   10.850  11.300             12.760     9.090       14.310  \n",
       "RMSE  25.950  21.540             27.030    23.010       30.550  \n",
       "MSLE   0.380   0.320              0.372     0.328        0.497  "
      ]
     },
     "execution_count": 10,
     "metadata": {},
     "output_type": "execute_result"
    }
   ],
   "source": [
    "avaliacoes = {}\n",
    "\n",
    "for categoria in dados_teste.category_1.unique():\n",
    "    dados_cat = dados_teste.query(f'category_1 == {categoria}')\n",
    "    avaliacoes[categoria] = calc_metricas(dados_cat['price'], dados_cat['pred'])\n",
    "\n",
    "avaliacoes = pd.DataFrame(avaliacoes, index=['R²', 'MAPE', 'MAE', 'RMSE', 'MSLE'])\n",
    "\n",
    "avaliacoes.columns = ['Women', 'Men', 'Vintage & Collectibles', 'Electronics',\n",
    "                      'Beauty', 'Kids', 'Other', 'Home', 'Sports & Outdoors',\n",
    "                      'Handmade', 'No category']\n",
    "\n",
    "avaliacoes"
   ]
  },
  {
   "cell_type": "markdown",
   "metadata": {},
   "source": [
    "## Modelo por categorias"
   ]
  },
  {
   "cell_type": "code",
   "execution_count": 11,
   "metadata": {},
   "outputs": [],
   "source": [
    "modelos = {}\n",
    "\n",
    "for category in dados_treino.category_1.unique():\n",
    "    model = RandomForestRegressor(n_jobs=-1, random_state=101, criterion='poisson', warm_start=True)\n",
    "    modelos[category] = model\n",
    "    X_treino = dados_treino.query(f'category_1 == {category}')[['category_2', 'category_3', 'brand_name', 'item_condition_id', 'shipping']]\n",
    "    y_treino = np.log(dados_treino.query(f'category_1 == {category}')['price'])\n",
    "    # pipe.fit(X_treino, y_treino)\n",
    "    modelos[category].fit(X_treino, y_treino)"
   ]
  },
  {
   "cell_type": "markdown",
   "metadata": {},
   "source": [
    "Tempo para treino: 1m 14.9s"
   ]
  },
  {
   "cell_type": "code",
   "execution_count": 12,
   "metadata": {},
   "outputs": [],
   "source": [
    "dados_teste = dados_teste.assign(pred=0)\n",
    "for category in dados_teste.category_1.unique():\n",
    "    index = dados_teste.query(f'category_1 == {category}').index\n",
    "    dados_teste.loc[index, 'pred'] = np.exp(modelos[category].predict(dados_teste.loc[index][['category_2', \n",
    "                                                                                              'category_3', \n",
    "                                                                                              'brand_name', \n",
    "                                                                                              'item_condition_id',\n",
    "                                                                                              'shipping']]))"
   ]
  },
  {
   "cell_type": "markdown",
   "metadata": {},
   "source": [
    "Tempo para previsão: 6.8s"
   ]
  },
  {
   "cell_type": "markdown",
   "metadata": {},
   "source": [
    "Avaliação geral"
   ]
  },
  {
   "cell_type": "code",
   "execution_count": 13,
   "metadata": {},
   "outputs": [
    {
     "name": "stdout",
     "output_type": "stream",
     "text": [
      "R² = 0.308\n",
      "MAPE = 48.786 %\n",
      "MAE = U$S 12.19\n",
      "RMSE = U$S 31.92\n",
      "MSLE = 0.307\n"
     ]
    }
   ],
   "source": [
    "print_avaliacao(dados_teste['price'], dados_teste['pred'])"
   ]
  },
  {
   "cell_type": "markdown",
   "metadata": {},
   "source": [
    "Avaliação por categoria"
   ]
  },
  {
   "cell_type": "code",
   "execution_count": 14,
   "metadata": {},
   "outputs": [
    {
     "data": {
      "text/html": [
       "<div>\n",
       "<style scoped>\n",
       "    .dataframe tbody tr th:only-of-type {\n",
       "        vertical-align: middle;\n",
       "    }\n",
       "\n",
       "    .dataframe tbody tr th {\n",
       "        vertical-align: top;\n",
       "    }\n",
       "\n",
       "    .dataframe thead th {\n",
       "        text-align: right;\n",
       "    }\n",
       "</style>\n",
       "<table border=\"1\" class=\"dataframe\">\n",
       "  <thead>\n",
       "    <tr style=\"text-align: right;\">\n",
       "      <th></th>\n",
       "      <th>Women</th>\n",
       "      <th>Men</th>\n",
       "      <th>Vintage &amp; Collectibles</th>\n",
       "      <th>Electronics</th>\n",
       "      <th>Beauty</th>\n",
       "      <th>Kids</th>\n",
       "      <th>Other</th>\n",
       "      <th>Home</th>\n",
       "      <th>Sports &amp; Outdoors</th>\n",
       "      <th>Handmade</th>\n",
       "      <th>No category</th>\n",
       "    </tr>\n",
       "  </thead>\n",
       "  <tbody>\n",
       "    <tr>\n",
       "      <th>R²</th>\n",
       "      <td>0.312</td>\n",
       "      <td>0.430</td>\n",
       "      <td>0.217</td>\n",
       "      <td>0.347</td>\n",
       "      <td>0.054</td>\n",
       "      <td>0.203</td>\n",
       "      <td>0.111</td>\n",
       "      <td>0.145</td>\n",
       "      <td>0.177</td>\n",
       "      <td>0.162</td>\n",
       "      <td>-0.029</td>\n",
       "    </tr>\n",
       "    <tr>\n",
       "      <th>MAPE</th>\n",
       "      <td>44.570</td>\n",
       "      <td>47.256</td>\n",
       "      <td>62.280</td>\n",
       "      <td>61.486</td>\n",
       "      <td>49.276</td>\n",
       "      <td>48.765</td>\n",
       "      <td>55.484</td>\n",
       "      <td>49.975</td>\n",
       "      <td>54.299</td>\n",
       "      <td>50.464</td>\n",
       "      <td>63.843</td>\n",
       "    </tr>\n",
       "    <tr>\n",
       "      <th>MAE</th>\n",
       "      <td>12.160</td>\n",
       "      <td>14.910</td>\n",
       "      <td>15.570</td>\n",
       "      <td>19.670</td>\n",
       "      <td>9.100</td>\n",
       "      <td>9.460</td>\n",
       "      <td>10.830</td>\n",
       "      <td>11.320</td>\n",
       "      <td>12.740</td>\n",
       "      <td>9.080</td>\n",
       "      <td>14.410</td>\n",
       "    </tr>\n",
       "    <tr>\n",
       "      <th>RMSE</th>\n",
       "      <td>32.450</td>\n",
       "      <td>30.240</td>\n",
       "      <td>44.850</td>\n",
       "      <td>53.180</td>\n",
       "      <td>23.570</td>\n",
       "      <td>19.850</td>\n",
       "      <td>25.860</td>\n",
       "      <td>21.540</td>\n",
       "      <td>26.940</td>\n",
       "      <td>22.960</td>\n",
       "      <td>30.720</td>\n",
       "    </tr>\n",
       "    <tr>\n",
       "      <th>MSLE</th>\n",
       "      <td>0.268</td>\n",
       "      <td>0.282</td>\n",
       "      <td>0.466</td>\n",
       "      <td>0.428</td>\n",
       "      <td>0.308</td>\n",
       "      <td>0.300</td>\n",
       "      <td>0.379</td>\n",
       "      <td>0.321</td>\n",
       "      <td>0.370</td>\n",
       "      <td>0.328</td>\n",
       "      <td>0.506</td>\n",
       "    </tr>\n",
       "  </tbody>\n",
       "</table>\n",
       "</div>"
      ],
      "text/plain": [
       "       Women     Men  Vintage & Collectibles  Electronics  Beauty    Kids  \\\n",
       "R²     0.312   0.430                   0.217        0.347   0.054   0.203   \n",
       "MAPE  44.570  47.256                  62.280       61.486  49.276  48.765   \n",
       "MAE   12.160  14.910                  15.570       19.670   9.100   9.460   \n",
       "RMSE  32.450  30.240                  44.850       53.180  23.570  19.850   \n",
       "MSLE   0.268   0.282                   0.466        0.428   0.308   0.300   \n",
       "\n",
       "       Other    Home  Sports & Outdoors  Handmade  No category  \n",
       "R²     0.111   0.145              0.177     0.162       -0.029  \n",
       "MAPE  55.484  49.975             54.299    50.464       63.843  \n",
       "MAE   10.830  11.320             12.740     9.080       14.410  \n",
       "RMSE  25.860  21.540             26.940    22.960       30.720  \n",
       "MSLE   0.379   0.321              0.370     0.328        0.506  "
      ]
     },
     "execution_count": 14,
     "metadata": {},
     "output_type": "execute_result"
    }
   ],
   "source": [
    "avaliacoes = {}\n",
    "\n",
    "for categoria in dados_teste.category_1.unique():\n",
    "    dados_cat = dados_teste.query(f'category_1 == {categoria}')\n",
    "    avaliacoes[categoria] = calc_metricas(dados_cat['price'], dados_cat['pred'])\n",
    "\n",
    "avaliacoes = pd.DataFrame(avaliacoes, index=['R²', 'MAPE', 'MAE', 'RMSE', 'MSLE'],\n",
    "                          )\n",
    "avaliacoes.columns = ['Women', 'Men', 'Vintage & Collectibles', 'Electronics',\n",
    "                      'Beauty', 'Kids', 'Other', 'Home', 'Sports & Outdoors',\n",
    "                      'Handmade', 'No category']\n",
    "avaliacoes"
   ]
  },
  {
   "cell_type": "code",
   "execution_count": null,
   "metadata": {},
   "outputs": [],
   "source": []
  }
 ],
 "metadata": {
  "kernelspec": {
   "display_name": "Python 3.10.6 64-bit",
   "language": "python",
   "name": "python3"
  },
  "language_info": {
   "codemirror_mode": {
    "name": "ipython",
    "version": 3
   },
   "file_extension": ".py",
   "mimetype": "text/x-python",
   "name": "python",
   "nbconvert_exporter": "python",
   "pygments_lexer": "ipython3",
   "version": "3.10.6"
  },
  "orig_nbformat": 4,
  "vscode": {
   "interpreter": {
    "hash": "e7370f93d1d0cde622a1f8e1c04877d8463912d04d973331ad4851f04de6915a"
   }
  }
 },
 "nbformat": 4,
 "nbformat_minor": 2
}
