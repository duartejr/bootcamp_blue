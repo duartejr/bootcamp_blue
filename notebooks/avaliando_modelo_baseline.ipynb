{
  "nbformat": 4,
  "nbformat_minor": 0,
  "metadata": {
    "colab": {
      "provenance": [],
      "mount_file_id": "1iLN_CAy5xtqU8y60vDIXYXWfssZoiLgm",
      "authorship_tag": "ABX9TyNUAZLmne9vg5JrpeL5ImVR",
      "include_colab_link": true
    },
    "kernelspec": {
      "name": "python3",
      "display_name": "Python 3"
    },
    "language_info": {
      "name": "python"
    },
    "accelerator": "TPU"
  },
  "cells": [
    {
      "cell_type": "markdown",
      "metadata": {
        "id": "view-in-github",
        "colab_type": "text"
      },
      "source": [
        "<a href=\"https://colab.research.google.com/github/duartejr/bootcamp_blue/blob/Gustavo/notebooks/avaliando_modelo_baseline.ipynb\" target=\"_parent\"><img src=\"https://colab.research.google.com/assets/colab-badge.svg\" alt=\"Open In Colab\"/></a>"
      ]
    },
    {
      "cell_type": "markdown",
      "source": [
        "# Avaliando o Modelo Baseline\n",
        "\n",
        "Neste notebook o dataset já esta separado e, apartir do modlo montado na *sprint 1* será avaliado com as mérticas com r2_score, mae e rmse pra servir de comparação com os outros modelos."
      ],
      "metadata": {
        "id": "p_HVsCUtrSad"
      }
    },
    {
      "cell_type": "code",
      "execution_count": 18,
      "metadata": {
        "id": "h0vezEKLpt9g"
      },
      "outputs": [],
      "source": [
        "#Iportando as blibiotecas\n",
        "import numpy as np\n",
        "import pandas as pd\n",
        "from sklearn.model_selection import train_test_split\n",
        "from sklearn.metrics import r2_score, mean_absolute_error, mean_squared_error"
      ]
    },
    {
      "cell_type": "code",
      "source": [
        "def rmse(y_teste,y_pred):\n",
        "  mse = mean_squared_error(y_teste,y_pred)\n",
        "  rmse = np.sqrt(mse)\n",
        "  return rmse\n",
        "  "
      ],
      "metadata": {
        "id": "vlUbAGQMtOwk"
      },
      "execution_count": 2,
      "outputs": []
    },
    {
      "cell_type": "code",
      "source": [
        "def metricas(y_pred,y_true):\n",
        "  print('R2 Score',r2_score(y_pred,y_true))\n",
        "  print('MAE',mean_absolute_error(y_pred,y_true))\n",
        "  print('RMSE',rmse(y_pred,y_true))"
      ],
      "metadata": {
        "id": "eLhwsOjxKzcl"
      },
      "execution_count": 3,
      "outputs": []
    },
    {
      "cell_type": "code",
      "source": [
        "# Importando os arquivos csv que já foram separados\n",
        "treino = pd.read_csv('/content/drive/MyDrive/Datasets/Cópia de train_data.csv')\n",
        "teste = pd.read_csv('/content/drive/MyDrive/Datasets/Cópia de test_data.csv')"
      ],
      "metadata": {
        "id": "_gPoCuSlqNoK"
      },
      "execution_count": 4,
      "outputs": []
    },
    {
      "cell_type": "code",
      "source": [
        "treino.head()"
      ],
      "metadata": {
        "colab": {
          "base_uri": "https://localhost:8080/",
          "height": 354
        },
        "id": "_ejA2nyEtwbc",
        "outputId": "e7c2c7aa-9d05-4975-e82c-8c1e5f17cc8b"
      },
      "execution_count": 5,
      "outputs": [
        {
          "output_type": "execute_result",
          "data": {
            "text/plain": [
              "                                       name   category_1  \\\n",
              "0              iphone 6s plus defender case  Electronics   \n",
              "1    beautiful rainbow eye iphone plus case  Electronics   \n",
              "2  hold under armour women s t shirt bundle        Women   \n",
              "3                        nike shorts bundle        Women   \n",
              "4               bare mineral eye shadow lot       Beauty   \n",
              "\n",
              "                  category_2             category_3  item_condition_id  \\\n",
              "0  Cell Phones & Accessories  Cases, Covers & Skins                  1   \n",
              "1  Cell Phones & Accessories  Cases, Covers & Skins                  1   \n",
              "2           Athletic Apparel          Shirts & Tops                  2   \n",
              "3           Athletic Apparel                 Shorts                  3   \n",
              "4                     Makeup                   Eyes                  3   \n",
              "\n",
              "     brand_name  price  shipping  \\\n",
              "0      No Brand   10.0         1   \n",
              "1      No Brand    7.0         1   \n",
              "2  Under Armour   20.0         1   \n",
              "3          Nike   18.0         1   \n",
              "4      No Brand   14.0         0   \n",
              "\n",
              "                                    item_description        date  stock  \n",
              "0  protective case for the big iphones 6plus or 6...   15-6-2018      2  \n",
              "1  this soft case is brand new and features a bea...  12-12-2018      1  \n",
              "2  women s under armour t shirts with freedom log...   13-5-2018     11  \n",
              "3                                 no description yet   24-2-2018      4  \n",
              "4  bare mineral eye shadow verity of colors bare ...  29-10-2018     11  "
            ],
            "text/html": [
              "\n",
              "  <div id=\"df-2db3770e-dfd8-4a89-b4ae-faeb108f6b20\">\n",
              "    <div class=\"colab-df-container\">\n",
              "      <div>\n",
              "<style scoped>\n",
              "    .dataframe tbody tr th:only-of-type {\n",
              "        vertical-align: middle;\n",
              "    }\n",
              "\n",
              "    .dataframe tbody tr th {\n",
              "        vertical-align: top;\n",
              "    }\n",
              "\n",
              "    .dataframe thead th {\n",
              "        text-align: right;\n",
              "    }\n",
              "</style>\n",
              "<table border=\"1\" class=\"dataframe\">\n",
              "  <thead>\n",
              "    <tr style=\"text-align: right;\">\n",
              "      <th></th>\n",
              "      <th>name</th>\n",
              "      <th>category_1</th>\n",
              "      <th>category_2</th>\n",
              "      <th>category_3</th>\n",
              "      <th>item_condition_id</th>\n",
              "      <th>brand_name</th>\n",
              "      <th>price</th>\n",
              "      <th>shipping</th>\n",
              "      <th>item_description</th>\n",
              "      <th>date</th>\n",
              "      <th>stock</th>\n",
              "    </tr>\n",
              "  </thead>\n",
              "  <tbody>\n",
              "    <tr>\n",
              "      <th>0</th>\n",
              "      <td>iphone 6s plus defender case</td>\n",
              "      <td>Electronics</td>\n",
              "      <td>Cell Phones &amp; Accessories</td>\n",
              "      <td>Cases, Covers &amp; Skins</td>\n",
              "      <td>1</td>\n",
              "      <td>No Brand</td>\n",
              "      <td>10.0</td>\n",
              "      <td>1</td>\n",
              "      <td>protective case for the big iphones 6plus or 6...</td>\n",
              "      <td>15-6-2018</td>\n",
              "      <td>2</td>\n",
              "    </tr>\n",
              "    <tr>\n",
              "      <th>1</th>\n",
              "      <td>beautiful rainbow eye iphone plus case</td>\n",
              "      <td>Electronics</td>\n",
              "      <td>Cell Phones &amp; Accessories</td>\n",
              "      <td>Cases, Covers &amp; Skins</td>\n",
              "      <td>1</td>\n",
              "      <td>No Brand</td>\n",
              "      <td>7.0</td>\n",
              "      <td>1</td>\n",
              "      <td>this soft case is brand new and features a bea...</td>\n",
              "      <td>12-12-2018</td>\n",
              "      <td>1</td>\n",
              "    </tr>\n",
              "    <tr>\n",
              "      <th>2</th>\n",
              "      <td>hold under armour women s t shirt bundle</td>\n",
              "      <td>Women</td>\n",
              "      <td>Athletic Apparel</td>\n",
              "      <td>Shirts &amp; Tops</td>\n",
              "      <td>2</td>\n",
              "      <td>Under Armour</td>\n",
              "      <td>20.0</td>\n",
              "      <td>1</td>\n",
              "      <td>women s under armour t shirts with freedom log...</td>\n",
              "      <td>13-5-2018</td>\n",
              "      <td>11</td>\n",
              "    </tr>\n",
              "    <tr>\n",
              "      <th>3</th>\n",
              "      <td>nike shorts bundle</td>\n",
              "      <td>Women</td>\n",
              "      <td>Athletic Apparel</td>\n",
              "      <td>Shorts</td>\n",
              "      <td>3</td>\n",
              "      <td>Nike</td>\n",
              "      <td>18.0</td>\n",
              "      <td>1</td>\n",
              "      <td>no description yet</td>\n",
              "      <td>24-2-2018</td>\n",
              "      <td>4</td>\n",
              "    </tr>\n",
              "    <tr>\n",
              "      <th>4</th>\n",
              "      <td>bare mineral eye shadow lot</td>\n",
              "      <td>Beauty</td>\n",
              "      <td>Makeup</td>\n",
              "      <td>Eyes</td>\n",
              "      <td>3</td>\n",
              "      <td>No Brand</td>\n",
              "      <td>14.0</td>\n",
              "      <td>0</td>\n",
              "      <td>bare mineral eye shadow verity of colors bare ...</td>\n",
              "      <td>29-10-2018</td>\n",
              "      <td>11</td>\n",
              "    </tr>\n",
              "  </tbody>\n",
              "</table>\n",
              "</div>\n",
              "      <button class=\"colab-df-convert\" onclick=\"convertToInteractive('df-2db3770e-dfd8-4a89-b4ae-faeb108f6b20')\"\n",
              "              title=\"Convert this dataframe to an interactive table.\"\n",
              "              style=\"display:none;\">\n",
              "        \n",
              "  <svg xmlns=\"http://www.w3.org/2000/svg\" height=\"24px\"viewBox=\"0 0 24 24\"\n",
              "       width=\"24px\">\n",
              "    <path d=\"M0 0h24v24H0V0z\" fill=\"none\"/>\n",
              "    <path d=\"M18.56 5.44l.94 2.06.94-2.06 2.06-.94-2.06-.94-.94-2.06-.94 2.06-2.06.94zm-11 1L8.5 8.5l.94-2.06 2.06-.94-2.06-.94L8.5 2.5l-.94 2.06-2.06.94zm10 10l.94 2.06.94-2.06 2.06-.94-2.06-.94-.94-2.06-.94 2.06-2.06.94z\"/><path d=\"M17.41 7.96l-1.37-1.37c-.4-.4-.92-.59-1.43-.59-.52 0-1.04.2-1.43.59L10.3 9.45l-7.72 7.72c-.78.78-.78 2.05 0 2.83L4 21.41c.39.39.9.59 1.41.59.51 0 1.02-.2 1.41-.59l7.78-7.78 2.81-2.81c.8-.78.8-2.07 0-2.86zM5.41 20L4 18.59l7.72-7.72 1.47 1.35L5.41 20z\"/>\n",
              "  </svg>\n",
              "      </button>\n",
              "      \n",
              "  <style>\n",
              "    .colab-df-container {\n",
              "      display:flex;\n",
              "      flex-wrap:wrap;\n",
              "      gap: 12px;\n",
              "    }\n",
              "\n",
              "    .colab-df-convert {\n",
              "      background-color: #E8F0FE;\n",
              "      border: none;\n",
              "      border-radius: 50%;\n",
              "      cursor: pointer;\n",
              "      display: none;\n",
              "      fill: #1967D2;\n",
              "      height: 32px;\n",
              "      padding: 0 0 0 0;\n",
              "      width: 32px;\n",
              "    }\n",
              "\n",
              "    .colab-df-convert:hover {\n",
              "      background-color: #E2EBFA;\n",
              "      box-shadow: 0px 1px 2px rgba(60, 64, 67, 0.3), 0px 1px 3px 1px rgba(60, 64, 67, 0.15);\n",
              "      fill: #174EA6;\n",
              "    }\n",
              "\n",
              "    [theme=dark] .colab-df-convert {\n",
              "      background-color: #3B4455;\n",
              "      fill: #D2E3FC;\n",
              "    }\n",
              "\n",
              "    [theme=dark] .colab-df-convert:hover {\n",
              "      background-color: #434B5C;\n",
              "      box-shadow: 0px 1px 3px 1px rgba(0, 0, 0, 0.15);\n",
              "      filter: drop-shadow(0px 1px 2px rgba(0, 0, 0, 0.3));\n",
              "      fill: #FFFFFF;\n",
              "    }\n",
              "  </style>\n",
              "\n",
              "      <script>\n",
              "        const buttonEl =\n",
              "          document.querySelector('#df-2db3770e-dfd8-4a89-b4ae-faeb108f6b20 button.colab-df-convert');\n",
              "        buttonEl.style.display =\n",
              "          google.colab.kernel.accessAllowed ? 'block' : 'none';\n",
              "\n",
              "        async function convertToInteractive(key) {\n",
              "          const element = document.querySelector('#df-2db3770e-dfd8-4a89-b4ae-faeb108f6b20');\n",
              "          const dataTable =\n",
              "            await google.colab.kernel.invokeFunction('convertToInteractive',\n",
              "                                                     [key], {});\n",
              "          if (!dataTable) return;\n",
              "\n",
              "          const docLinkHtml = 'Like what you see? Visit the ' +\n",
              "            '<a target=\"_blank\" href=https://colab.research.google.com/notebooks/data_table.ipynb>data table notebook</a>'\n",
              "            + ' to learn more about interactive tables.';\n",
              "          element.innerHTML = '';\n",
              "          dataTable['output_type'] = 'display_data';\n",
              "          await google.colab.output.renderOutput(dataTable, element);\n",
              "          const docLink = document.createElement('div');\n",
              "          docLink.innerHTML = docLinkHtml;\n",
              "          element.appendChild(docLink);\n",
              "        }\n",
              "      </script>\n",
              "    </div>\n",
              "  </div>\n",
              "  "
            ]
          },
          "metadata": {},
          "execution_count": 5
        }
      ]
    },
    {
      "cell_type": "code",
      "source": [
        "teste.head()"
      ],
      "metadata": {
        "colab": {
          "base_uri": "https://localhost:8080/",
          "height": 337
        },
        "id": "purjQbQJtzRY",
        "outputId": "9db6162d-2ff7-45e3-d4a6-e32b968e61cd"
      },
      "execution_count": 6,
      "outputs": [
        {
          "output_type": "execute_result",
          "data": {
            "text/plain": [
              "                                   name category_1      category_2  \\\n",
              "0             women s motorcycle tshirt      Women  Tops & Blouses   \n",
              "1                 alex and ani necklace      Women         Jewelry   \n",
              "2        steve madden red lace up heels      Women           Shoes   \n",
              "3                    men s black tuxedo        Men           Suits   \n",
              "4  red open back mermaid style dress xs      Women         Dresses   \n",
              "\n",
              "    category_3  item_condition_id       brand_name  price  shipping  \\\n",
              "0     T-Shirts                  3  Harley-Davidson    6.0         1   \n",
              "1    Necklaces                  2     ALEX AND ANI   11.0         1   \n",
              "2        Pumps                  2     Steve Madden   36.0         0   \n",
              "3   Two Button                  3         No Brand   54.0         0   \n",
              "4  Full-Length                  1         No Brand  316.0         0   \n",
              "\n",
              "         date  stock                                   item_description  \n",
              "0    9-4-2018      8                                    new in box pack  \n",
              "1   25-1-2018      8  laura mercier matte translucent lightly used g...  \n",
              "2  30-11-2018      9      size large nwot aztec print ultimate leggings  \n",
              "3   30-7-2018      7                      runs smoothly great condition  \n",
              "4   29-7-2018     34  size dark wash denim black skinny jeans excell...  "
            ],
            "text/html": [
              "\n",
              "  <div id=\"df-1cd1d989-1078-46e1-9ecb-e490bc4e8c59\">\n",
              "    <div class=\"colab-df-container\">\n",
              "      <div>\n",
              "<style scoped>\n",
              "    .dataframe tbody tr th:only-of-type {\n",
              "        vertical-align: middle;\n",
              "    }\n",
              "\n",
              "    .dataframe tbody tr th {\n",
              "        vertical-align: top;\n",
              "    }\n",
              "\n",
              "    .dataframe thead th {\n",
              "        text-align: right;\n",
              "    }\n",
              "</style>\n",
              "<table border=\"1\" class=\"dataframe\">\n",
              "  <thead>\n",
              "    <tr style=\"text-align: right;\">\n",
              "      <th></th>\n",
              "      <th>name</th>\n",
              "      <th>category_1</th>\n",
              "      <th>category_2</th>\n",
              "      <th>category_3</th>\n",
              "      <th>item_condition_id</th>\n",
              "      <th>brand_name</th>\n",
              "      <th>price</th>\n",
              "      <th>shipping</th>\n",
              "      <th>date</th>\n",
              "      <th>stock</th>\n",
              "      <th>item_description</th>\n",
              "    </tr>\n",
              "  </thead>\n",
              "  <tbody>\n",
              "    <tr>\n",
              "      <th>0</th>\n",
              "      <td>women s motorcycle tshirt</td>\n",
              "      <td>Women</td>\n",
              "      <td>Tops &amp; Blouses</td>\n",
              "      <td>T-Shirts</td>\n",
              "      <td>3</td>\n",
              "      <td>Harley-Davidson</td>\n",
              "      <td>6.0</td>\n",
              "      <td>1</td>\n",
              "      <td>9-4-2018</td>\n",
              "      <td>8</td>\n",
              "      <td>new in box pack</td>\n",
              "    </tr>\n",
              "    <tr>\n",
              "      <th>1</th>\n",
              "      <td>alex and ani necklace</td>\n",
              "      <td>Women</td>\n",
              "      <td>Jewelry</td>\n",
              "      <td>Necklaces</td>\n",
              "      <td>2</td>\n",
              "      <td>ALEX AND ANI</td>\n",
              "      <td>11.0</td>\n",
              "      <td>1</td>\n",
              "      <td>25-1-2018</td>\n",
              "      <td>8</td>\n",
              "      <td>laura mercier matte translucent lightly used g...</td>\n",
              "    </tr>\n",
              "    <tr>\n",
              "      <th>2</th>\n",
              "      <td>steve madden red lace up heels</td>\n",
              "      <td>Women</td>\n",
              "      <td>Shoes</td>\n",
              "      <td>Pumps</td>\n",
              "      <td>2</td>\n",
              "      <td>Steve Madden</td>\n",
              "      <td>36.0</td>\n",
              "      <td>0</td>\n",
              "      <td>30-11-2018</td>\n",
              "      <td>9</td>\n",
              "      <td>size large nwot aztec print ultimate leggings</td>\n",
              "    </tr>\n",
              "    <tr>\n",
              "      <th>3</th>\n",
              "      <td>men s black tuxedo</td>\n",
              "      <td>Men</td>\n",
              "      <td>Suits</td>\n",
              "      <td>Two Button</td>\n",
              "      <td>3</td>\n",
              "      <td>No Brand</td>\n",
              "      <td>54.0</td>\n",
              "      <td>0</td>\n",
              "      <td>30-7-2018</td>\n",
              "      <td>7</td>\n",
              "      <td>runs smoothly great condition</td>\n",
              "    </tr>\n",
              "    <tr>\n",
              "      <th>4</th>\n",
              "      <td>red open back mermaid style dress xs</td>\n",
              "      <td>Women</td>\n",
              "      <td>Dresses</td>\n",
              "      <td>Full-Length</td>\n",
              "      <td>1</td>\n",
              "      <td>No Brand</td>\n",
              "      <td>316.0</td>\n",
              "      <td>0</td>\n",
              "      <td>29-7-2018</td>\n",
              "      <td>34</td>\n",
              "      <td>size dark wash denim black skinny jeans excell...</td>\n",
              "    </tr>\n",
              "  </tbody>\n",
              "</table>\n",
              "</div>\n",
              "      <button class=\"colab-df-convert\" onclick=\"convertToInteractive('df-1cd1d989-1078-46e1-9ecb-e490bc4e8c59')\"\n",
              "              title=\"Convert this dataframe to an interactive table.\"\n",
              "              style=\"display:none;\">\n",
              "        \n",
              "  <svg xmlns=\"http://www.w3.org/2000/svg\" height=\"24px\"viewBox=\"0 0 24 24\"\n",
              "       width=\"24px\">\n",
              "    <path d=\"M0 0h24v24H0V0z\" fill=\"none\"/>\n",
              "    <path d=\"M18.56 5.44l.94 2.06.94-2.06 2.06-.94-2.06-.94-.94-2.06-.94 2.06-2.06.94zm-11 1L8.5 8.5l.94-2.06 2.06-.94-2.06-.94L8.5 2.5l-.94 2.06-2.06.94zm10 10l.94 2.06.94-2.06 2.06-.94-2.06-.94-.94-2.06-.94 2.06-2.06.94z\"/><path d=\"M17.41 7.96l-1.37-1.37c-.4-.4-.92-.59-1.43-.59-.52 0-1.04.2-1.43.59L10.3 9.45l-7.72 7.72c-.78.78-.78 2.05 0 2.83L4 21.41c.39.39.9.59 1.41.59.51 0 1.02-.2 1.41-.59l7.78-7.78 2.81-2.81c.8-.78.8-2.07 0-2.86zM5.41 20L4 18.59l7.72-7.72 1.47 1.35L5.41 20z\"/>\n",
              "  </svg>\n",
              "      </button>\n",
              "      \n",
              "  <style>\n",
              "    .colab-df-container {\n",
              "      display:flex;\n",
              "      flex-wrap:wrap;\n",
              "      gap: 12px;\n",
              "    }\n",
              "\n",
              "    .colab-df-convert {\n",
              "      background-color: #E8F0FE;\n",
              "      border: none;\n",
              "      border-radius: 50%;\n",
              "      cursor: pointer;\n",
              "      display: none;\n",
              "      fill: #1967D2;\n",
              "      height: 32px;\n",
              "      padding: 0 0 0 0;\n",
              "      width: 32px;\n",
              "    }\n",
              "\n",
              "    .colab-df-convert:hover {\n",
              "      background-color: #E2EBFA;\n",
              "      box-shadow: 0px 1px 2px rgba(60, 64, 67, 0.3), 0px 1px 3px 1px rgba(60, 64, 67, 0.15);\n",
              "      fill: #174EA6;\n",
              "    }\n",
              "\n",
              "    [theme=dark] .colab-df-convert {\n",
              "      background-color: #3B4455;\n",
              "      fill: #D2E3FC;\n",
              "    }\n",
              "\n",
              "    [theme=dark] .colab-df-convert:hover {\n",
              "      background-color: #434B5C;\n",
              "      box-shadow: 0px 1px 3px 1px rgba(0, 0, 0, 0.15);\n",
              "      filter: drop-shadow(0px 1px 2px rgba(0, 0, 0, 0.3));\n",
              "      fill: #FFFFFF;\n",
              "    }\n",
              "  </style>\n",
              "\n",
              "      <script>\n",
              "        const buttonEl =\n",
              "          document.querySelector('#df-1cd1d989-1078-46e1-9ecb-e490bc4e8c59 button.colab-df-convert');\n",
              "        buttonEl.style.display =\n",
              "          google.colab.kernel.accessAllowed ? 'block' : 'none';\n",
              "\n",
              "        async function convertToInteractive(key) {\n",
              "          const element = document.querySelector('#df-1cd1d989-1078-46e1-9ecb-e490bc4e8c59');\n",
              "          const dataTable =\n",
              "            await google.colab.kernel.invokeFunction('convertToInteractive',\n",
              "                                                     [key], {});\n",
              "          if (!dataTable) return;\n",
              "\n",
              "          const docLinkHtml = 'Like what you see? Visit the ' +\n",
              "            '<a target=\"_blank\" href=https://colab.research.google.com/notebooks/data_table.ipynb>data table notebook</a>'\n",
              "            + ' to learn more about interactive tables.';\n",
              "          element.innerHTML = '';\n",
              "          dataTable['output_type'] = 'display_data';\n",
              "          await google.colab.output.renderOutput(dataTable, element);\n",
              "          const docLink = document.createElement('div');\n",
              "          docLink.innerHTML = docLinkHtml;\n",
              "          element.appendChild(docLink);\n",
              "        }\n",
              "      </script>\n",
              "    </div>\n",
              "  </div>\n",
              "  "
            ]
          },
          "metadata": {},
          "execution_count": 6
        }
      ]
    },
    {
      "cell_type": "code",
      "source": [
        "print(treino.shape)\n",
        "print(teste.shape)"
      ],
      "metadata": {
        "colab": {
          "base_uri": "https://localhost:8080/"
        },
        "id": "chpUtzgJ1o2t",
        "outputId": "621d412b-3613-480d-f41b-d9158599516b"
      },
      "execution_count": 7,
      "outputs": [
        {
          "output_type": "stream",
          "name": "stdout",
          "text": [
            "(1037162, 11)\n",
            "(444499, 11)\n"
          ]
        }
      ]
    },
    {
      "cell_type": "code",
      "source": [
        "teste_200 = teste.iloc[:200,:]"
      ],
      "metadata": {
        "id": "c0h5d8hiLpts"
      },
      "execution_count": 8,
      "outputs": []
    },
    {
      "cell_type": "code",
      "source": [
        "# testando para as primeira 200 linhas do dataset\n",
        "y_200_pred = []\n",
        "for i in teste_200.index:\n",
        "  c1 = teste_200[\"category_1\"][i]\n",
        "  c2 = teste_200[\"category_2\"][i]\n",
        "  c3 = teste_200[\"category_3\"][i]\n",
        "  y_200_pred.append(treino.query(f'category_1 == \"{c1}\" & category_2 == \"{c2}\" & category_3 == \"{c3}\"').price.mean())"
      ],
      "metadata": {
        "id": "RwRL7lPTVyMK"
      },
      "execution_count": 9,
      "outputs": []
    },
    {
      "cell_type": "markdown",
      "source": [
        "demorou 21 segundo para carregar."
      ],
      "metadata": {
        "id": "p4ODOafnML4X"
      }
    },
    {
      "cell_type": "code",
      "source": [
        "metricas(teste_200.price,y_200_pred)"
      ],
      "metadata": {
        "colab": {
          "base_uri": "https://localhost:8080/"
        },
        "id": "riWrqHoFMQYH",
        "outputId": "762493d4-ef1e-4bd5-a46b-2862b551a803"
      },
      "execution_count": 10,
      "outputs": [
        {
          "output_type": "stream",
          "name": "stdout",
          "text": [
            "R2 Score 0.1428321587656124\n",
            "MAE 15.449813472393908\n",
            "RMSE 30.029422210509296\n"
          ]
        }
      ]
    },
    {
      "cell_type": "markdown",
      "source": [
        "testando agora com mil produtos"
      ],
      "metadata": {
        "id": "YF5hj59SW3Qe"
      }
    },
    {
      "cell_type": "code",
      "source": [
        "teste_mil = teste.iloc[:1000,:]"
      ],
      "metadata": {
        "id": "44e9jbv5XBt0"
      },
      "execution_count": 11,
      "outputs": []
    },
    {
      "cell_type": "code",
      "source": [
        "y_mil_pred = []\n",
        "for i in teste_mil.index:\n",
        "  c1 = teste_mil[\"category_1\"][i]\n",
        "  c2 = teste_mil[\"category_2\"][i]\n",
        "  c3 = teste_mil[\"category_3\"][i]\n",
        "  y_mil_pred.append(treino.query(f'category_1 == \"{c1}\" & category_2 == \"{c2}\" & category_3 == \"{c3}\"').price.mean())"
      ],
      "metadata": {
        "id": "ce7lDluTXJKt"
      },
      "execution_count": 12,
      "outputs": []
    },
    {
      "cell_type": "markdown",
      "source": [
        "demorou 1 minuto e 49 segundos"
      ],
      "metadata": {
        "id": "Wor7WBgaXxVx"
      }
    },
    {
      "cell_type": "code",
      "source": [
        "metricas(teste_mil.price,y_mil_pred)"
      ],
      "metadata": {
        "colab": {
          "base_uri": "https://localhost:8080/"
        },
        "id": "8a6MrfI9Xm-O",
        "outputId": "3b0f29e8-8a75-45f8-aa56-2c7ac2c36e9d"
      },
      "execution_count": 13,
      "outputs": [
        {
          "output_type": "stream",
          "name": "stdout",
          "text": [
            "R2 Score 0.16560478462729245\n",
            "MAE 15.206935639226613\n",
            "RMSE 27.694889743058596\n"
          ]
        }
      ]
    },
    {
      "cell_type": "code",
      "source": [
        "#teste_50_mil = teste.iloc[:50000,:]\n",
        "\n",
        "#y_50_mil_pred = []\n",
        "#for i in teste_50_mil.index:\n",
        "  #c1 = teste_50_mil[\"category_1\"][i]\n",
        "  #c2 = teste_50_mil[\"category_2\"][i]\n",
        "  #c3 = teste_50_mil[\"category_3\"][i]\n",
        "  #y_50_mil_pred.append(treino.query(f'category_1 == \"{c1}\" & category_2 == \"{c2}\" & category_3 == \"{c3}\"').price.mean())"
      ],
      "metadata": {
        "id": "HJrA3WLjomGw"
      },
      "execution_count": 14,
      "outputs": []
    },
    {
      "cell_type": "markdown",
      "source": [
        "demorou uma hora, 25 minutos e 28 segundos"
      ],
      "metadata": {
        "id": "mDtqoQzIEUHP"
      }
    },
    {
      "cell_type": "markdown",
      "source": [
        "teve problema que nesse dataset teve dois valores nulos e para não perder a comparação substitui os valores por 0"
      ],
      "metadata": {
        "id": "H2CwWBHpKezQ"
      }
    },
    {
      "cell_type": "code",
      "source": [
        "#y_50 = pd.Series(y_50_mil_pred)\n"
      ],
      "metadata": {
        "id": "dMlT2ZUqEasu"
      },
      "execution_count": 15,
      "outputs": []
    },
    {
      "cell_type": "code",
      "source": [
        "#y_50.fillna(0,inplace=True)"
      ],
      "metadata": {
        "id": "uZOMvyyKJ-W4"
      },
      "execution_count": 16,
      "outputs": []
    },
    {
      "cell_type": "code",
      "source": [
        "#metricas(teste_50_mil.price,y_50)"
      ],
      "metadata": {
        "id": "Fr1pze8IKMYj"
      },
      "execution_count": 17,
      "outputs": []
    },
    {
      "cell_type": "markdown",
      "source": [
        "trabalhando com uma amostra de mil linhas estratificada"
      ],
      "metadata": {
        "id": "m0zHno1W-wmm"
      }
    },
    {
      "cell_type": "code",
      "source": [
        "amostra = train_test_split(teste, test_size=1000, random_state=101,\n",
        "                           stratify=teste[['category_1', 'item_condition_id']])[1]"
      ],
      "metadata": {
        "id": "aroWIMs7LQey"
      },
      "execution_count": 19,
      "outputs": []
    },
    {
      "cell_type": "code",
      "source": [
        "amostra_pred = []\n",
        "for i in amostra.index:\n",
        "  c1 = amostra[\"category_1\"][i]\n",
        "  c2 = amostra[\"category_2\"][i]\n",
        "  c3 = amostra[\"category_3\"][i]\n",
        "  amostra_pred.append(treino.query(f'category_1 == \"{c1}\" & category_2 == \"{c2}\" & category_3 == \"{c3}\"').price.mean())"
      ],
      "metadata": {
        "id": "VzB0PJDH_QWm"
      },
      "execution_count": 21,
      "outputs": []
    },
    {
      "cell_type": "markdown",
      "source": [
        "rodou em 1 minuto e 43 segundos"
      ],
      "metadata": {
        "id": "PKzdZF44AHZf"
      }
    },
    {
      "cell_type": "code",
      "source": [
        "metricas(amostra.price,amostra_pred)"
      ],
      "metadata": {
        "colab": {
          "base_uri": "https://localhost:8080/"
        },
        "id": "ze09Evf-AAOs",
        "outputId": "880eec40-3bcd-4d1f-c3c9-b4bc866604b0"
      },
      "execution_count": 22,
      "outputs": [
        {
          "output_type": "stream",
          "name": "stdout",
          "text": [
            "R2 Score 0.28835263409263456\n",
            "MAE 16.047992836587575\n",
            "RMSE 33.02977183703876\n"
          ]
        }
      ]
    }
  ]
}