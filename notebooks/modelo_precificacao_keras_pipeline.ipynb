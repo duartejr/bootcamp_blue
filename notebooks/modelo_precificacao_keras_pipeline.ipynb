{
  "cells": [
    {
      "cell_type": "markdown",
      "metadata": {
        "id": "OkQkyLfWx8DZ"
      },
      "source": [
        "# Projeto 1 - módulo 6"
      ]
    },
    {
      "cell_type": "code",
      "execution_count": 1,
      "metadata": {
        "colab": {
          "base_uri": "https://localhost:8080/"
        },
        "id": "1Mfe-o75ojPP",
        "outputId": "8c5354f0-205b-4642-a4e7-77b4105bc698"
      },
      "outputs": [
        {
          "name": "stdout",
          "output_type": "stream",
          "text": [
            "Mounted at /content/drive\n"
          ]
        }
      ],
      "source": [
        "from google.colab import drive\n",
        "drive.mount('/content/drive')"
      ]
    },
    {
      "cell_type": "markdown",
      "metadata": {
        "id": "Dz7ar2ek1kmV"
      },
      "source": [
        "## Precificação dinâmica - e-commerce"
      ]
    },
    {
      "cell_type": "markdown",
      "metadata": {
        "id": "A5KDmRb_3OFW"
      },
      "source": [
        "### Mercari Price Suggestion Challenge - Kaggle\n",
        "\n",
        "Mercari é um site de revenda de produtos online. Uma dos desafios desse tipo de plataforma é auxiliar o usuário, muitas vezes com pouco conhecimento de vendas, a determinar um preço para os seus produtos de modo a maximizar as chances de venda.\n",
        "\n",
        "### Sobre este projeto\n",
        "\n",
        "O presente projeto tem o objetivo de desenvolver um algoritmo que identifique produtos já vendidos similares e sugira ao usuário um preço ótimo para novos produtos cadastrados.\n"
      ]
    },
    {
      "cell_type": "markdown",
      "metadata": {
        "id": "W74OS4x9B-_Q"
      },
      "source": [
        "### Preparação do ambiente\n",
        "\n",
        "Para este projeto, acesse o link https://www.kaggle.com/competitions/mercari-price-suggestion-challenge/overview \n"
      ]
    },
    {
      "cell_type": "code",
      "execution_count": 1,
      "metadata": {
        "colab": {
          "base_uri": "https://localhost:8080/"
        },
        "id": "nPDvIOK2x6-l",
        "outputId": "2c3fda90-90b3-49a1-a496-2e5c617798a4"
      },
      "outputs": [
        {
          "name": "stderr",
          "output_type": "stream",
          "text": [
            "[nltk_data] Downloading package stopwords to /root/nltk_data...\n",
            "[nltk_data]   Package stopwords is already up-to-date!\n"
          ]
        },
        {
          "name": "stdout",
          "output_type": "stream",
          "text": [
            "Looking in indexes: https://pypi.org/simple, https://us-python.pkg.dev/colab-wheels/public/simple/\n",
            "Requirement already satisfied: tensorflow_addons in /usr/local/lib/python3.7/dist-packages (0.18.0)\n",
            "Requirement already satisfied: typeguard>=2.7 in /usr/local/lib/python3.7/dist-packages (from tensorflow_addons) (2.7.1)\n",
            "Requirement already satisfied: packaging in /usr/local/lib/python3.7/dist-packages (from tensorflow_addons) (21.3)\n",
            "Requirement already satisfied: pyparsing!=3.0.5,>=2.0.2 in /usr/local/lib/python3.7/dist-packages (from packaging->tensorflow_addons) (3.0.9)\n"
          ]
        }
      ],
      "source": [
        "import pandas as pd\n",
        "import numpy as np\n",
        "\n",
        "import nltk\n",
        "from nltk.corpus import stopwords\n",
        "nltk.download('stopwords')\n",
        "from nltk.tokenize import word_tokenize\n",
        "\n",
        "import tensorflow as tf\n",
        "from tensorflow.keras.preprocessing.text import Tokenizer\n",
        "from tensorflow.keras.preprocessing.sequence import pad_sequences\n",
        "from tensorflow.keras import layers\n",
        "from tensorflow.keras.models import Model\n",
        "\n",
        "!pip install tensorflow_addons\n",
        "import tensorflow_addons as tfa\n",
        "from sklearn import metrics\n",
        "\n",
        "from sklearn.pipeline import Pipeline\n",
        "import pickle\n"
      ]
    },
    {
      "cell_type": "code",
      "execution_count": 3,
      "metadata": {
        "id": "NK3DylutMeVe"
      },
      "outputs": [],
      "source": [
        "# função de tokenização e preenchimento de comprimento\n",
        "\n",
        "def text_vectorizer(feature):\n",
        "\n",
        "  # TOKENIZER\n",
        "  tk = Tokenizer()\n",
        "  # FIT ON TRAIN \n",
        "  tk.fit_on_texts(base_train[feature].apply(str))\n",
        "  # TOKENIZES THE TRAIN DATASET\n",
        "  tk_train = tk.texts_to_sequences(base_train[feature].apply(str))\n",
        "  # TOKENIZES THE TEST DATASET\n",
        "  tk_test = tk.texts_to_sequences(base_test[feature].apply(str))\n",
        "    \n",
        "  # COMPUTES THE MAX LENGTH\n",
        "  max_length = base_train[feature].apply(lambda x :len(str(x).split())).max()\n",
        "    \n",
        "  # COMPUTE THE VOCAB SIZE\n",
        "  vocab_size = len(tk.word_index) + 1\n",
        "    \n",
        "  # PADDING THE TRAIN SEQUENCES\n",
        "  train_pad= pad_sequences(tk_train,padding=\"post\",maxlen = max_length)\n",
        "  # PADDING THE TEST SEQUENCES\n",
        "  test_pad = pad_sequences(tk_test,padding = \"post\", maxlen = max_length)\n",
        "    \n",
        "  # RETURN THE TOKENIZER, MAX LENGTH , PADDED TRAIN SEQUENCES , PADDED VALIDATION SEQUENCES \n",
        "  return tk , max_length, vocab_size, train_pad , test_pad"
      ]
    },
    {
      "cell_type": "code",
      "execution_count": 2,
      "metadata": {
        "id": "Qu95X3LmCQ4E"
      },
      "outputs": [],
      "source": [
        "base_train = pd.read_csv ('/content/drive/MyDrive/dados_treino.csv') \n",
        "base_test = pd.read_csv ('/content/drive/MyDrive/dados_teste.csv') \n",
        "base_valid = pd.read_csv ('/content/drive/MyDrive/dados_validacao.csv') "
      ]
    },
    {
      "cell_type": "code",
      "execution_count": 5,
      "metadata": {
        "id": "8HqYKQ4qUs_J"
      },
      "outputs": [],
      "source": [
        "base_train['item_description'] = base_train['item_description'].fillna(\"No description\")\n",
        "base_train['name'] = base_train['name'].fillna(\"No name\")\n",
        "\n",
        "base_test['item_description'] = base_test['item_description'].fillna(\"No description\")\n",
        "base_test['name'] = base_test['name'].fillna(\"No name\")\n",
        "\n",
        "base_valid['item_description'] = base_valid['item_description'].fillna(\"No description\")\n",
        "base_valid['name'] = base_valid['name'].fillna(\"No name\")"
      ]
    },
    {
      "cell_type": "code",
      "execution_count": 6,
      "metadata": {
        "id": "FsIgVcxLqwfc"
      },
      "outputs": [],
      "source": [
        "# rodando a função text_vectorizer para todos os atributos\n",
        "\n",
        "tk_name , max_length_name, vocab_size_name, train_name_pad , test_name_pad = text_vectorizer('name')\n",
        "tk_category_1 , max_length_category_1, vocab_size_category_1, train_category_1_pad , test_category_1_pad = text_vectorizer('category_1')\n",
        "tk_category_2 , max_length_category_2, vocab_size_category_2, train_category_2_pad , test_category_2_pad = text_vectorizer('category_2')\n",
        "tk_category_3 , max_length_category_3, vocab_size_category_3, train_category_3_pad , test_category_3_pad = text_vectorizer('category_3')\n",
        "tk_brand_name , max_length_brand_name, vocab_size_brand_name, train_brand_name_pad , test_brand_name_pad = text_vectorizer('brand_name')\n",
        "tk_item_description , max_length_item_description, vocab_size_item_description, train_item_description_pad , test_item_description_pad = text_vectorizer('item_description')"
      ]
    },
    {
      "cell_type": "code",
      "execution_count": 11,
      "metadata": {
        "id": "HeKwGcrhVyFe"
      },
      "outputs": [],
      "source": [
        "test_shipping = base_test.shipping\n",
        "test_item_cond = base_test.item_condition_id\n",
        "\n",
        "x_test = [test_item_cond,\n",
        "          test_shipping,\n",
        "          test_brand_name_pad,\n",
        "          test_category_1_pad, \n",
        "          test_category_2_pad, \n",
        "          test_category_3_pad, \n",
        "          test_name_pad,\n",
        "          test_item_description_pad]\n",
        "base_test['log_price'] = np.log(base_test['price'])\n",
        "y_test = base_test.log_price"
      ]
    },
    {
      "cell_type": "code",
      "execution_count": 7,
      "metadata": {
        "colab": {
          "base_uri": "https://localhost:8080/"
        },
        "id": "k59jrxvRoy7v",
        "outputId": "567fbe22-03e4-41b0-80a2-b06d0167a924"
      },
      "outputs": [
        {
          "name": "stdout",
          "output_type": "stream",
          "text": [
            "Model: \"model\"\n",
            "__________________________________________________________________________________________________\n",
            " Layer (type)                   Output Shape         Param #     Connected to                     \n",
            "==================================================================================================\n",
            " input_7 (InputLayer)           [(None, 17)]         0           []                               \n",
            "                                                                                                  \n",
            " input_8 (InputLayer)           [(None, 245)]        0           []                               \n",
            "                                                                                                  \n",
            " input_1 (InputLayer)           [(None, 1)]          0           []                               \n",
            "                                                                                                  \n",
            " input_3 (InputLayer)           [(None, 6)]          0           []                               \n",
            "                                                                                                  \n",
            " input_4 (InputLayer)           [(None, 3)]          0           []                               \n",
            "                                                                                                  \n",
            " input_5 (InputLayer)           [(None, 5)]          0           []                               \n",
            "                                                                                                  \n",
            " input_6 (InputLayer)           [(None, 7)]          0           []                               \n",
            "                                                                                                  \n",
            " embedding_5 (Embedding)        (None, 17, 20)       1600080     ['input_7[0][0]']                \n",
            "                                                                                                  \n",
            " embedding_6 (Embedding)        (None, 245, 40)      6473400     ['input_8[0][0]']                \n",
            "                                                                                                  \n",
            " embedding (Embedding)          (None, 1, 10)        60          ['input_1[0][0]']                \n",
            "                                                                                                  \n",
            " input_2 (InputLayer)           [(None, 1)]          0           []                               \n",
            "                                                                                                  \n",
            " embedding_1 (Embedding)        (None, 6, 16)        73552       ['input_3[0][0]']                \n",
            "                                                                                                  \n",
            " embedding_2 (Embedding)        (None, 3, 16)        240         ['input_4[0][0]']                \n",
            "                                                                                                  \n",
            " embedding_3 (Embedding)        (None, 5, 16)        2336        ['input_5[0][0]']                \n",
            "                                                                                                  \n",
            " embedding_4 (Embedding)        (None, 7, 40)        38240       ['input_6[0][0]']                \n",
            "                                                                                                  \n",
            " gru (GRU)                      (None, 17, 64)       16512       ['embedding_5[0][0]']            \n",
            "                                                                                                  \n",
            " gru_1 (GRU)                    (None, 245, 64)      20352       ['embedding_6[0][0]']            \n",
            "                                                                                                  \n",
            " flatten (Flatten)              (None, 10)           0           ['embedding[0][0]']              \n",
            "                                                                                                  \n",
            " dense (Dense)                  (None, 10)           20          ['input_2[0][0]']                \n",
            "                                                                                                  \n",
            " flatten_1 (Flatten)            (None, 96)           0           ['embedding_1[0][0]']            \n",
            "                                                                                                  \n",
            " flatten_2 (Flatten)            (None, 48)           0           ['embedding_2[0][0]']            \n",
            "                                                                                                  \n",
            " flatten_3 (Flatten)            (None, 80)           0           ['embedding_3[0][0]']            \n",
            "                                                                                                  \n",
            " flatten_4 (Flatten)            (None, 280)          0           ['embedding_4[0][0]']            \n",
            "                                                                                                  \n",
            " flatten_5 (Flatten)            (None, 1088)         0           ['gru[0][0]']                    \n",
            "                                                                                                  \n",
            " flatten_6 (Flatten)            (None, 15680)        0           ['gru_1[0][0]']                  \n",
            "                                                                                                  \n",
            " concatenate (Concatenate)      (None, 17292)        0           ['flatten[0][0]',                \n",
            "                                                                  'dense[0][0]',                  \n",
            "                                                                  'flatten_1[0][0]',              \n",
            "                                                                  'flatten_2[0][0]',              \n",
            "                                                                  'flatten_3[0][0]',              \n",
            "                                                                  'flatten_4[0][0]',              \n",
            "                                                                  'flatten_5[0][0]',              \n",
            "                                                                  'flatten_6[0][0]']              \n",
            "                                                                                                  \n",
            " dense_1 (Dense)                (None, 512)          8854016     ['concatenate[0][0]']            \n",
            "                                                                                                  \n",
            " dropout (Dropout)              (None, 512)          0           ['dense_1[0][0]']                \n",
            "                                                                                                  \n",
            " dense_2 (Dense)                (None, 256)          131328      ['dropout[0][0]']                \n",
            "                                                                                                  \n",
            " dropout_1 (Dropout)            (None, 256)          0           ['dense_2[0][0]']                \n",
            "                                                                                                  \n",
            " dense_3 (Dense)                (None, 128)          32896       ['dropout_1[0][0]']              \n",
            "                                                                                                  \n",
            " dropout_2 (Dropout)            (None, 128)          0           ['dense_3[0][0]']                \n",
            "                                                                                                  \n",
            " batch_normalization (BatchNorm  (None, 128)         512         ['dropout_2[0][0]']              \n",
            " alization)                                                                                       \n",
            "                                                                                                  \n",
            " dense_4 (Dense)                (None, 1)            129         ['batch_normalization[0][0]']    \n",
            "                                                                                                  \n",
            "==================================================================================================\n",
            "Total params: 17,243,673\n",
            "Trainable params: 17,243,417\n",
            "Non-trainable params: 256\n",
            "__________________________________________________________________________________________________\n"
          ]
        }
      ],
      "source": [
        "# arquitetura do deep learning\n",
        "\n",
        "tf.keras.backend.clear_session()\n",
        "\n",
        "# ITEM CONDITION ID\n",
        "inp1 = layers.Input(shape=(1)) # INPUT 1 \n",
        "emb1  = layers.Embedding(6, 10, input_length=1)(inp1) # EMBEDDING 1\n",
        "flat1 = layers.Flatten()(emb1) # FLATTEN\n",
        "\n",
        "# SHIPPING \n",
        "inp2 = layers.Input(shape=(1)) # INPUT 2 \n",
        "d2 = layers.Dense(10, activation=\"relu\")(inp2) # DENSE LAYER 2\n",
        "\n",
        "# BRAND NAME\n",
        "inp3 = layers.Input(shape=(6)) # INPUT 3\n",
        "emb3 = layers.Embedding(vocab_size_brand_name, 16, input_length=6)(inp3) # EMBEDDING 3\n",
        "flat3 = layers.Flatten()(emb3) # FLATTEN\n",
        "\n",
        "# CATEGORY_1\n",
        "inp4 = layers.Input(shape=(3)) # INPUT 4\n",
        "emb4 = layers.Embedding(vocab_size_category_1, 16, input_length=3)(inp4) # EMBEDDING 4\n",
        "flat4 = layers.Flatten()(emb4) # FLATTEN \n",
        "\n",
        "# CATEGORY_2\n",
        "inp5= layers.Input(shape=(5)) # INPUT 5\n",
        "emb5 = layers.Embedding(vocab_size_category_2, 16, input_length=5)(inp5) # EMBEDDING 5\n",
        "flat5 = layers.Flatten()(emb5) # FLATTEN\n",
        "\n",
        "# CATEGORY_3\n",
        "inp6= layers.Input(shape=(7)) # INPUT 6 \n",
        "emb6 = layers.Embedding(vocab_size_category_3, 40 ,input_length= 7 )(inp6) # EMBEDDING 6\n",
        "flat6 = layers.Flatten()(emb6) # FLATTEN\n",
        "\n",
        "# NAME\n",
        "inp7= layers.Input(shape=(17)) # INPUT 7\n",
        "emb7 = layers.Embedding(vocab_size_name, 20, input_length=17)(inp7) # EMBEDDING 7\n",
        "lstm7 = layers.GRU(64, return_sequences=True)(emb7) # GRU\n",
        "flat7 = layers.Flatten()(lstm7) # FLATTEN\n",
        "\n",
        "# ITEM DESCRIPTION\n",
        "inp8= layers.Input(shape=(245)) # INPUT 8 \n",
        "emb8 = layers.Embedding(vocab_size_item_description, 40, input_length=207)(inp8) # EMBEDDING 8\n",
        "lstm8 = layers.GRU(64, return_sequences=True)(emb8) # GRU\n",
        "flat8 = layers.Flatten()(lstm8) # FLATTEN\n",
        "\n",
        "# CONCATENAÇÃO\n",
        "concat = layers.Concatenate()([flat1, d2, flat3, flat4, flat5, flat6, flat7, flat8])\n",
        "\n",
        "# DENSE LAYERS\n",
        "dense1 = layers.Dense(512, activation=\"relu\")(concat)\n",
        "\n",
        "# DROPOUT LAYER\n",
        "drop2 = layers.Dropout(0.2)(dense1)\n",
        "\n",
        "# DENSE LAYER\n",
        "dense2 = layers.Dense(256, activation=\"relu\")(drop2)\n",
        "\n",
        "# DROPOUT LAYER\n",
        "drop2 = layers.Dropout(0.3)(dense2)\n",
        "\n",
        "# DENSE LAYER\n",
        "dense3 = layers.Dense(128, activation=\"relu\")(drop2)\n",
        "\n",
        "# DROPOUT LAYER\n",
        "drop2 = layers.Dropout(0.4)(dense3)\n",
        "\n",
        "# BATCHNORM LAYER\n",
        "bn2  = layers.BatchNormalization()(drop2)\n",
        "\n",
        "# DENSE LAYER\n",
        "dense4 = layers.Dense(1, activation=\"linear\")(bn2)\n",
        "\n",
        "# MODEL\n",
        "model =  Model(inputs=[inp1, inp2, inp3, inp4, inp5, inp6, inp7, inp8], outputs=dense4)\n",
        "\n",
        "# SCHEDULE\n",
        "def shedule(epoch,lr):\n",
        "    if epoch<=2:\n",
        "        return lr\n",
        "    else:\n",
        "        return lr*0.1\n",
        "\n",
        "# CALLBACKS\n",
        "lr = tf.keras.callbacks.LearningRateScheduler(shedule, verbose=1)\n",
        "save = tf.keras.callbacks.ModelCheckpoint(\"content/drive/MyDrive/Blue Edtech/notebooks\",\n",
        "                                          monitor=\"val_root_mean_squared_error\",\n",
        "                                          mode=\"min\",\n",
        "                                          save_best_only=True,\n",
        "                                          save_weights_only=True,\n",
        "                                          verbose=1)\n",
        "earlystop = tf.keras.callbacks.EarlyStopping(monitor=\"val_root_mean_squared_error\",\n",
        "                                             min_delta= 0.01, \n",
        "                                             patience=2,\n",
        "                                             mode=\"min\" )\n",
        "\n",
        "model.compile(optimizer=\"adam\",\n",
        "              loss=\"mse\",\n",
        "              metrics=[tf.keras.losses.MeanAbsoluteError(), \n",
        "                       tfa.metrics.r_square.RSquare(),\n",
        "                       tf.keras.metrics.RootMeanSquaredError(), \n",
        "                       tf.keras.metrics.mean_absolute_percentage_error,\n",
        "                       tf.keras.metrics.mean_squared_logarithmic_error ])\n",
        "model.summary()"
      ]
    },
    {
      "cell_type": "code",
      "execution_count": 4,
      "metadata": {
        "id": "nE3NKQh5911I"
      },
      "outputs": [],
      "source": [
        "class PrepData():\n",
        "\n",
        "    def __init__(self,\n",
        "                 features=['brand_name', 'category_1', 'category_2', 'category_3', 'name', 'item_description'],\n",
        "                 max_lengths=[6, 3, 5, 7, 17, 245]):\n",
        "        self.features = features\n",
        "        self.max_lengths = max_lengths\n",
        "        self.tokenizers = {}\n",
        "        for feature in self.features:\n",
        "            self.tokenizers[feature] = Tokenizer()\n",
        "\n",
        "    def fillna(self, X):\n",
        "        X.item_description = X.item_description.fillna(\"No description\")\n",
        "        X.name = X.name.fillna(\"No name\")\n",
        "        return X\n",
        "    \n",
        "    def fit(self, X, y=None):\n",
        "        print('fitting_data')\n",
        "        X = self.fillna(X)\n",
        "\n",
        "        for feature in self.features:\n",
        "            self.tokenizers[feature].fit_on_texts(X[feature].apply(str))\n",
        "        print('data fitted')\n",
        "        return self\n",
        "    \n",
        "    def transform(self, X, y=None):\n",
        "        print('transforming data')\n",
        "        item_condition = X.item_condition_id\n",
        "        shipping = X.shipping\n",
        "        output = [item_condition, shipping]\n",
        "        X = self.fillna(X)\n",
        "\n",
        "        for i, feature in enumerate(self.features):\n",
        "            text_sequence = self.tokenizers[feature].texts_to_sequences(X[feature].apply(str))\n",
        "            pad = pad_sequences(text_sequence, padding='post', maxlen=self.max_lengths[i])\n",
        "            output.append(pad)\n",
        "        \n",
        "        print('data transformed')\n",
        "        \n",
        "        return output"
      ]
    },
    {
      "cell_type": "code",
      "execution_count": 28,
      "metadata": {
        "id": "9RYK3UeITmg8"
      },
      "outputs": [],
      "source": [
        "pipe = Pipeline(steps=[\n",
        "    ('tokenizer', PrepData()),\n",
        "    ('model', model)\n",
        "])"
      ]
    },
    {
      "cell_type": "code",
      "execution_count": 34,
      "metadata": {
        "colab": {
          "base_uri": "https://localhost:8080/"
        },
        "id": "mlMZte5SVOkO",
        "outputId": "1aeaf593-84db-4f9d-b110-6242b9d8150d"
      },
      "outputs": [
        {
          "name": "stdout",
          "output_type": "stream",
          "text": [
            "fitting_data\n",
            "data fitted\n",
            "transforming data\n",
            "data transformed\n",
            "\n",
            "Epoch 1: LearningRateScheduler setting learning rate to 1.0000001111620804e-06.\n",
            "Epoch 1/10\n",
            "911/912 [============================>.] - ETA: 0s - loss: 0.1737 - mean_absolute_error: 0.3149 - r_square: 0.7212 - root_mean_squared_error: 0.4168 - mean_absolute_percentage_error: 11.7696 - mean_squared_logarithmic_error: 0.0120\n",
            "Epoch 1: val_root_mean_squared_error improved from 0.48905 to 0.48636, saving model to content/drive/MyDrive/Blue Edtech/notebooks\n",
            "912/912 [==============================] - 65s 71ms/step - loss: 0.1738 - mean_absolute_error: 0.3150 - r_square: 0.7212 - root_mean_squared_error: 0.4168 - mean_absolute_percentage_error: 11.7704 - mean_squared_logarithmic_error: 0.0120 - val_loss: 0.2365 - val_mean_absolute_error: 0.3669 - val_r_square: 0.6196 - val_root_mean_squared_error: 0.4864 - val_mean_absolute_percentage_error: 13.7028 - val_mean_squared_logarithmic_error: 0.0159 - lr: 1.0000e-06\n",
            "\n",
            "Epoch 2: LearningRateScheduler setting learning rate to 1.0000001111620804e-06.\n",
            "Epoch 2/10\n",
            "911/912 [============================>.] - ETA: 0s - loss: 0.1724 - mean_absolute_error: 0.3138 - r_square: 0.7234 - root_mean_squared_error: 0.4152 - mean_absolute_percentage_error: 11.7280 - mean_squared_logarithmic_error: 0.0119\n",
            "Epoch 2: val_root_mean_squared_error improved from 0.48636 to 0.48546, saving model to content/drive/MyDrive/Blue Edtech/notebooks\n",
            "912/912 [==============================] - 64s 70ms/step - loss: 0.1724 - mean_absolute_error: 0.3138 - r_square: 0.7234 - root_mean_squared_error: 0.4152 - mean_absolute_percentage_error: 11.7275 - mean_squared_logarithmic_error: 0.0119 - val_loss: 0.2357 - val_mean_absolute_error: 0.3662 - val_r_square: 0.6210 - val_root_mean_squared_error: 0.4855 - val_mean_absolute_percentage_error: 13.6683 - val_mean_squared_logarithmic_error: 0.0158 - lr: 1.0000e-06\n",
            "\n",
            "Epoch 3: LearningRateScheduler setting learning rate to 1.0000001111620804e-06.\n",
            "Epoch 3/10\n",
            "911/912 [============================>.] - ETA: 0s - loss: 0.1714 - mean_absolute_error: 0.3132 - r_square: 0.7250 - root_mean_squared_error: 0.4140 - mean_absolute_percentage_error: 11.7122 - mean_squared_logarithmic_error: 0.0118\n",
            "Epoch 3: val_root_mean_squared_error improved from 0.48546 to 0.48477, saving model to content/drive/MyDrive/Blue Edtech/notebooks\n",
            "912/912 [==============================] - 64s 70ms/step - loss: 0.1714 - mean_absolute_error: 0.3132 - r_square: 0.7250 - root_mean_squared_error: 0.4140 - mean_absolute_percentage_error: 11.7122 - mean_squared_logarithmic_error: 0.0118 - val_loss: 0.2350 - val_mean_absolute_error: 0.3660 - val_r_square: 0.6221 - val_root_mean_squared_error: 0.4848 - val_mean_absolute_percentage_error: 13.6885 - val_mean_squared_logarithmic_error: 0.0158 - lr: 1.0000e-06\n"
          ]
        },
        {
          "data": {
            "text/plain": [
              "Pipeline(steps=[('tokenizer', <__main__.PrepData object at 0x7f01f5e50990>),\n",
              "                ('model',\n",
              "                 <keras.engine.functional.Functional object at 0x7f01e743ae50>)])"
            ]
          },
          "execution_count": 34,
          "metadata": {},
          "output_type": "execute_result"
        }
      ],
      "source": [
        "pipe.fit(base_train, \n",
        "         np.log(base_train.price), \n",
        "         model__validation_data=(x_test, y_test),\n",
        "         model__epochs=10,\n",
        "         model__batch_size=1024,\n",
        "         model__callbacks=[save, lr, earlystop])\n"
      ]
    },
    {
      "cell_type": "code",
      "execution_count": 35,
      "metadata": {
        "colab": {
          "base_uri": "https://localhost:8080/"
        },
        "id": "dfXVOecsYv5J",
        "outputId": "008b5629-73cc-4311-f6ce-445efccb61b5"
      },
      "outputs": [
        {
          "name": "stdout",
          "output_type": "stream",
          "text": [
            "transforming data\n",
            "data transformed\n"
          ]
        }
      ],
      "source": [
        "y_pred2 = np.exp(pipe.predict(base_test))\n"
      ]
    },
    {
      "cell_type": "code",
      "execution_count": 7,
      "metadata": {
        "id": "3SixxsqSsj3f"
      },
      "outputs": [],
      "source": [
        "def print_avaliacao(obs, pred):\n",
        "    print('R² = %.3f' % metrics.r2_score(obs, pred))\n",
        "    print('MAPE = %.3f %%' % (100 * metrics.mean_absolute_percentage_error(obs, pred)))\n",
        "    print('MAE = U$S %.2f' % (metrics.mean_absolute_error(obs, pred)))\n",
        "    print('RMSE = U$S %.2f' % metrics.mean_squared_error(obs, pred)**0.5)\n",
        "    print('RMSLE = %.4f' % metrics.mean_squared_log_error(obs, pred,squared=False))"
      ]
    },
    {
      "cell_type": "code",
      "execution_count": 36,
      "metadata": {
        "colab": {
          "base_uri": "https://localhost:8080/"
        },
        "id": "sxGbIKU8tDTi",
        "outputId": "a7b95be8-f38c-4fea-a4ed-4cf6606cd6c2"
      },
      "outputs": [
        {
          "name": "stdout",
          "output_type": "stream",
          "text": [
            "R² = 0.408\n",
            "MAPE = 38.882 %\n",
            "MAE = U$S 10.49\n",
            "RMSE = U$S 29.77\n",
            "RMSLE = 0.4580\n"
          ]
        }
      ],
      "source": [
        "y_pred2 = np.exp(pipe.predict(base_test))\n",
        "\n",
        "print_avaliacao(base_test.price, y_pred2)"
      ]
    },
    {
      "cell_type": "markdown",
      "metadata": {
        "id": "bHDXIuW1VrUV"
      },
      "source": [
        "R² = 0.455\n",
        "MAPE = 39.412 %\n",
        "MAE = U$S 10.20\n",
        "RMSE = U$S 28.58\n",
        "RMSLE = 0.4457"
      ]
    },
    {
      "cell_type": "code",
      "execution_count": null,
      "metadata": {
        "id": "y3FQ7X6cnWTp"
      },
      "outputs": [],
      "source": [
        "rnn = pipe['model']\n",
        "rnn.save('rnn_keras.h5') # salva somente a rnn\n",
        "pipe.steps[1] = ('model', None) # remove modelo da pipeline pq o pickle não funciona com keras\n",
        "\n",
        "with open(f'pipeline.pickle', 'wb') as handle:\n",
        "  pickle.dump(pipe, handle, protocol=pickle.HIGHEST_PROTOCOL)"
      ]
    },
    {
      "cell_type": "code",
      "execution_count": 5,
      "metadata": {
        "id": "YS70JhBQpIR4"
      },
      "outputs": [],
      "source": [
        "from tensorflow import keras\n",
        "\n",
        "# Carrega o rnn\n",
        "modelo_lido = keras.models.load_model('rnn_keras.h5', compile=False)\n",
        "\n",
        "# Carrega a pipeline\n",
        "with open(f'pipeline.pickle', 'rb') as handle:\n",
        "  nova_pipeline = pickle.load(handle)\n",
        "\n",
        "# Adiciona a rnn a nova pipeline\n",
        "nova_pipeline.steps[1] = ('model', modelo_lido)"
      ]
    },
    {
      "cell_type": "code",
      "execution_count": null,
      "metadata": {
        "id": "hoWoEEzNsIqp"
      },
      "outputs": [],
      "source": [
        "y_pred2 = np.exp(nova_pipeline.predict(base_test))"
      ]
    },
    {
      "cell_type": "code",
      "execution_count": 8,
      "metadata": {
        "colab": {
          "base_uri": "https://localhost:8080/"
        },
        "id": "Z0rnED71sMHg",
        "outputId": "7cd0b7c7-4617-4e9d-89ab-dcffa7a149e7"
      },
      "outputs": [
        {
          "name": "stdout",
          "output_type": "stream",
          "text": [
            "R² = 0.408\n",
            "MAPE = 38.882 %\n",
            "MAE = U$S 10.49\n",
            "RMSE = U$S 29.77\n",
            "RMSLE = 0.4580\n"
          ]
        }
      ],
      "source": [
        "print_avaliacao(base_test.price, y_pred2)"
      ]
    },
    {
      "cell_type": "code",
      "execution_count": null,
      "metadata": {
        "id": "FhGeTrZxvxoe"
      },
      "outputs": [],
      "source": []
    }
  ],
  "metadata": {
    "accelerator": "GPU",
    "colab": {
      "collapsed_sections": [],
      "provenance": []
    },
    "kernelspec": {
      "display_name": "Python 3.10.7 64-bit",
      "language": "python",
      "name": "python3"
    },
    "language_info": {
      "codemirror_mode": {
        "name": "ipython",
        "version": 3
      },
      "file_extension": ".py",
      "mimetype": "text/x-python",
      "name": "python",
      "nbconvert_exporter": "python",
      "pygments_lexer": "ipython3",
      "version": "3.10.7"
    },
    "vscode": {
      "interpreter": {
        "hash": "e7370f93d1d0cde622a1f8e1c04877d8463912d04d973331ad4851f04de6915a"
      }
    }
  },
  "nbformat": 4,
  "nbformat_minor": 0
}
